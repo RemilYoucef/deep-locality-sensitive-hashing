{
 "cells": [
  {
   "cell_type": "code",
   "execution_count": 1,
   "id": "3f4e839c-18a0-433d-9a6d-6889194ebae8",
   "metadata": {},
   "outputs": [],
   "source": [
    "import os\n",
    "import sys\n",
    "import numpy as np\n",
    "import pandas as pd\n",
    "import random\n",
    "import matplotlib.pyplot as plt\n",
    "import seaborn as sns\n",
    "import warnings\n",
    "import pickle\n",
    "from tensorflow import keras \n",
    "warnings.filterwarnings(\"ignore\")\n",
    "from sklearn.feature_extraction.text import CountVectorizer\n",
    "from sklearn.model_selection import train_test_split"
   ]
  },
  {
   "cell_type": "code",
   "execution_count": 2,
   "id": "1014d33e-c803-41ce-be12-ab1c3f929253",
   "metadata": {},
   "outputs": [],
   "source": [
    "sys.path.append(os.path.join(os.path.dirname(os.path.dirname(os.getcwd())),'python-packages/'))\n",
    "from deep_hashing_models import *\n",
    "from similarities import *\n",
    "from lsh_search import *"
   ]
  },
  {
   "cell_type": "markdown",
   "id": "627c738c-cd1f-4e1b-ae93-1aa3d25882aa",
   "metadata": {},
   "source": [
    "# 1. Data Preparation"
   ]
  },
  {
   "cell_type": "code",
   "execution_count": 3,
   "id": "e96659a4-eea0-48d9-8977-fecba559b78d",
   "metadata": {},
   "outputs": [],
   "source": [
    "data_repo = os.path.join(os.path.dirname(os.path.dirname(os.path.dirname(os.getcwd()))),'data/')"
   ]
  },
  {
   "cell_type": "code",
   "execution_count": 4,
   "id": "d2874701-b390-405b-9001-822faf31ade5",
   "metadata": {},
   "outputs": [],
   "source": [
    "df_distinct_stacks = pd.read_csv(data_repo + 'frequent_stack_traces.csv', index_col = [0])\n",
    "df_measures = pd.read_csv(data_repo + 'similarity-measures-pairs.csv', index_col = [0])"
   ]
  },
  {
   "cell_type": "code",
   "execution_count": 5,
   "id": "7b4772e1-6603-4344-a277-70d9728c61ea",
   "metadata": {},
   "outputs": [
    {
     "data": {
      "text/plain": [
       "1000"
      ]
     },
     "execution_count": 5,
     "metadata": {},
     "output_type": "execute_result"
    }
   ],
   "source": [
    "n_stacks = df_distinct_stacks.shape[0]\n",
    "n_stacks"
   ]
  },
  {
   "cell_type": "code",
   "execution_count": 6,
   "id": "e515f018-4609-4487-8d87-d707ca6347da",
   "metadata": {},
   "outputs": [],
   "source": [
    "vectorizer_bigram = CountVectorizer(token_pattern = r\"(?u)\\b[a-zA-Z0-9_.]{2,}\\b\", ngram_range=(2, 2))\n",
    "s = df_distinct_stacks['stackTraceCusto'].apply(lambda x : x.replace('\\n',' '))\n",
    "s = s.apply(lambda x : x.replace('$',''))\n",
    "s = s.apply(lambda x : x.replace('/',''))\n",
    "s = s.apply(lambda x : x.replace('<',''))\n",
    "s = s.apply(lambda x : x.replace('>',''))\n",
    "X_bigram = vectorizer_bigram.fit_transform(list(s)).toarray()\n",
    "df_bigram = pd.DataFrame(data = X_bigram, columns = vectorizer_bigram.get_feature_names())"
   ]
  },
  {
   "cell_type": "code",
   "execution_count": 7,
   "id": "50aa90c2-205c-4f47-8230-4da0ea7d618f",
   "metadata": {},
   "outputs": [],
   "source": [
    "X_train, X_validation, Y_train, Y_validation = train_test_split(df_measures.index, df_measures['Cosine-bigram'], test_size = 0.2) "
   ]
  },
  {
   "cell_type": "code",
   "execution_count": 8,
   "id": "9b5ac005-aa8f-47fe-a5cf-ece206be1621",
   "metadata": {},
   "outputs": [],
   "source": [
    "indexes_train_1 = X_train.to_series().apply(lambda x : get_two_indexes(x, df_distinct_stacks.shape[0])[0]).to_list()\n",
    "indexes_train_2 = X_train.to_series().apply(lambda x : get_two_indexes(x, df_distinct_stacks.shape[0])[1]).to_list()\n",
    "indexes_validation_1 = X_validation.to_series().apply(lambda x : get_two_indexes(x, df_distinct_stacks.shape[0])[0]).to_list()\n",
    "indexes_validation_2 = X_validation.to_series().apply(lambda x : get_two_indexes(x, df_distinct_stacks.shape[0])[1]).to_list()"
   ]
  },
  {
   "cell_type": "code",
   "execution_count": 9,
   "id": "ed7fad07-aacc-453c-beba-7b0123b67c82",
   "metadata": {},
   "outputs": [],
   "source": [
    "X_train = dict()\n",
    "X_train['stack_1'] = df_bigram.loc[indexes_train_1].values\n",
    "X_train['stack_2'] = df_bigram.loc[indexes_train_2].values\n",
    "\n",
    "X_validation = dict()\n",
    "X_validation['stack_1'] = df_bigram.loc[indexes_validation_1].values\n",
    "X_validation['stack_2'] = df_bigram.loc[indexes_validation_2].values"
   ]
  },
  {
   "cell_type": "code",
   "execution_count": 10,
   "id": "7a79ade3-db36-4098-9c5a-109ec33a37eb",
   "metadata": {},
   "outputs": [],
   "source": [
    "Y_train = Y_train.values\n",
    "Y_validation = Y_validation.values"
   ]
  },
  {
   "cell_type": "code",
   "execution_count": 11,
   "id": "5f8cc839-bd54-4630-8f35-2a89bb19c00d",
   "metadata": {},
   "outputs": [],
   "source": [
    "assert X_train['stack_1'].shape == X_train['stack_2'].shape\n",
    "assert len(X_train['stack_1']) == len(Y_train)"
   ]
  },
  {
   "cell_type": "markdown",
   "id": "753999cd-6682-4263-b38e-1865140e6708",
   "metadata": {},
   "source": [
    "### Distribution of training data"
   ]
  },
  {
   "cell_type": "code",
   "execution_count": 12,
   "id": "3db6e7b6-ff7f-4089-be9b-af02e34646ed",
   "metadata": {},
   "outputs": [
    {
     "data": {
      "image/png": "[encoded data removed]",
      "text/plain": [
       "<Figure size 720x360 with 1 Axes>"
      ]
     },
     "metadata": {
      "needs_background": "light"
     },
     "output_type": "display_data"
    }
   ],
   "source": [
    "plt.rcParams[\"figure.figsize\"] = [10, 5]\n",
    "plt.hist(Y_train, 20, alpha = 1, density = False)\n",
    "plt.show()"
   ]
  },
  {
   "cell_type": "markdown",
   "id": "3a910820-e364-426d-9cbd-411794637bc8",
   "metadata": {},
   "source": [
    "### Distribution of test data"
   ]
  },
  {
   "cell_type": "code",
   "execution_count": 13,
   "id": "c242807e-a11b-43e2-82a0-aed22cbdefbc",
   "metadata": {},
   "outputs": [
    {
     "data": {
      "image/png": "[encoded data removed]",
      "text/plain": [
       "<Figure size 720x360 with 1 Axes>"
      ]
     },
     "metadata": {
      "needs_background": "light"
     },
     "output_type": "display_data"
    }
   ],
   "source": [
    "plt.rcParams[\"figure.figsize\"] = [10, 5]\n",
    "plt.hist(Y_validation, 20, alpha = 1, density = False)\n",
    "plt.show()"
   ]
  },
  {
   "cell_type": "markdown",
   "id": "19aa15e5-aee6-46ea-9c52-d1fa077b05dc",
   "metadata": {},
   "source": [
    "# 2. Model Design"
   ]
  },
  {
   "cell_type": "code",
   "execution_count": 8,
   "id": "02a2362d-059a-44b7-94f7-24e03680eef0",
   "metadata": {},
   "outputs": [],
   "source": [
    "'Number of hash tables functions' \n",
    "m = 64"
   ]
  },
  {
   "cell_type": "code",
   "execution_count": 9,
   "id": "6ea1ca10-c9ff-4735-ae80-e03691eb16ba",
   "metadata": {},
   "outputs": [],
   "source": [
    "'Number of bits per hash function' \n",
    "b = 8"
   ]
  },
  {
   "cell_type": "code",
   "execution_count": 10,
   "id": "06478197-071f-4395-804f-cbc171aadbd5",
   "metadata": {},
   "outputs": [
    {
     "data": {
      "text/plain": [
       "512"
      ]
     },
     "execution_count": 10,
     "metadata": {},
     "output_type": "execute_result"
    }
   ],
   "source": [
    "'Size hash vector'\n",
    "size_hash_vector = m * b\n",
    "size_hash_vector"
   ]
  },
  {
   "cell_type": "markdown",
   "id": "0d60851f-b05f-4bc6-80f0-ce736180afe0",
   "metadata": {},
   "source": [
    "## 2.1. Feature learning phase"
   ]
  },
  {
   "cell_type": "code",
   "execution_count": 17,
   "id": "d9893ed6-5d0b-41b2-816b-b410e1c07910",
   "metadata": {},
   "outputs": [],
   "source": [
    "x = Sequential()\n",
    "x.add(Dense(2048, input_dim = X_train['stack_1'].shape[1], activation = 'tanh'))\n",
    "x.add(Dense(1024, activation = 'tanh'))\n",
    "x.add(Dense(size_hash_vector, activation = 'tanh'))\n",
    "shared_model = x"
   ]
  },
  {
   "cell_type": "markdown",
   "id": "279ba874-5ea0-4a94-83a1-f7f7c9ca8e0e",
   "metadata": {},
   "source": [
    "## 2.2. Siamese Model "
   ]
  },
  {
   "cell_type": "code",
   "execution_count": 18,
   "id": "d1d8a570-b1a8-489c-8312-e78dca471a63",
   "metadata": {
    "tags": []
   },
   "outputs": [
    {
     "name": "stdout",
     "output_type": "stream",
     "text": [
      "Model: \"model\"\n",
      "__________________________________________________________________________________________________\n",
      "Layer (type)                    Output Shape         Param #     Connected to                     \n",
      "==================================================================================================\n",
      "input_1 (InputLayer)            [(None, 3027)]       0                                            \n",
      "__________________________________________________________________________________________________\n",
      "input_2 (InputLayer)            [(None, 3027)]       0                                            \n",
      "__________________________________________________________________________________________________\n",
      "sequential (Sequential)         (None, 512)          8824320     input_1[0][0]                    \n",
      "                                                                 input_2[0][0]                    \n",
      "                                                                 input_1[0][0]                    \n",
      "                                                                 input_2[0][0]                    \n",
      "__________________________________________________________________________________________________\n",
      "manh_dist (ManhDist)            (None, 1)            0           sequential[0][0]                 \n",
      "                                                                 sequential[1][0]                 \n",
      "__________________________________________________________________________________________________\n",
      "abs_vect (AbsVect)              (None, 512)          0           sequential[2][0]                 \n",
      "__________________________________________________________________________________________________\n",
      "abs_vect_1 (AbsVect)            (None, 512)          0           sequential[3][0]                 \n",
      "==================================================================================================\n",
      "Total params: 8,824,320\n",
      "Trainable params: 8,824,320\n",
      "Non-trainable params: 0\n",
      "__________________________________________________________________________________________________\n",
      "None\n",
      "Model: \"sequential\"\n",
      "_________________________________________________________________\n",
      "Layer (type)                 Output Shape              Param #   \n",
      "=================================================================\n",
      "dense (Dense)                (None, 2048)              6201344   \n",
      "_________________________________________________________________\n",
      "dense_1 (Dense)              (None, 1024)              2098176   \n",
      "_________________________________________________________________\n",
      "dense_2 (Dense)              (None, 512)               524800    \n",
      "=================================================================\n",
      "Total params: 8,824,320\n",
      "Trainable params: 8,824,320\n",
      "Non-trainable params: 0\n",
      "_________________________________________________________________\n",
      "None\n"
     ]
    }
   ],
   "source": [
    "input_shape = (X_train['stack_1'].shape[1],)\n",
    "model = siamese_model_baseline(shared_model, input_shape, is_sparse = True, print_summary = True)"
   ]
  },
  {
   "cell_type": "markdown",
   "id": "0bb438cf-7efb-4603-aab4-1364b187938f",
   "metadata": {},
   "source": [
    "## 2.3. Model training "
   ]
  },
  {
   "cell_type": "code",
   "execution_count": 19,
   "id": "3c6beca4-2caa-4c8c-8ca9-c3dfaedffbdc",
   "metadata": {},
   "outputs": [
    {
     "name": "stdout",
     "output_type": "stream",
     "text": [
      "Epoch 1/20\n",
      "781/781 [==============================] - 19s 23ms/step - loss: -0.2421 - manh_dist_loss: 0.0084 - abs_vect_loss: -0.9938 - abs_vect_1_loss: -0.9940 - manh_dist_rmse: 0.0919 - manh_dist_mae: 0.0661 - val_loss: -0.2448 - val_manh_dist_loss: 0.0065 - val_abs_vect_loss: -0.9985 - val_abs_vect_1_loss: -0.9986 - val_manh_dist_rmse: 0.0806 - val_manh_dist_mae: 0.0617\n",
      "Epoch 2/20\n",
      "781/781 [==============================] - 16s 21ms/step - loss: -0.2451 - manh_dist_loss: 0.0062 - abs_vect_loss: -0.9990 - abs_vect_1_loss: -0.9989 - manh_dist_rmse: 0.0790 - manh_dist_mae: 0.0608 - val_loss: -0.2451 - val_manh_dist_loss: 0.0062 - val_abs_vect_loss: -0.9992 - val_abs_vect_1_loss: -0.9991 - val_manh_dist_rmse: 0.0790 - val_manh_dist_mae: 0.0608\n",
      "Epoch 3/20\n",
      "781/781 [==============================] - 17s 22ms/step - loss: -0.2453 - manh_dist_loss: 0.0060 - abs_vect_loss: -0.9992 - abs_vect_1_loss: -0.9992 - manh_dist_rmse: 0.0773 - manh_dist_mae: 0.0600 - val_loss: -0.2453 - val_manh_dist_loss: 0.0060 - val_abs_vect_loss: -0.9993 - val_abs_vect_1_loss: -0.9992 - val_manh_dist_rmse: 0.0775 - val_manh_dist_mae: 0.0600\n",
      "Epoch 4/20\n",
      "781/781 [==============================] - 17s 22ms/step - loss: -0.2455 - manh_dist_loss: 0.0058 - abs_vect_loss: -0.9993 - abs_vect_1_loss: -0.9993 - manh_dist_rmse: 0.0759 - manh_dist_mae: 0.0592 - val_loss: -0.2455 - val_manh_dist_loss: 0.0058 - val_abs_vect_loss: -0.9994 - val_abs_vect_1_loss: -0.9994 - val_manh_dist_rmse: 0.0763 - val_manh_dist_mae: 0.0595\n",
      "Epoch 5/20\n",
      "781/781 [==============================] - 18s 23ms/step - loss: -0.2457 - manh_dist_loss: 0.0055 - abs_vect_loss: -0.9994 - abs_vect_1_loss: -0.9993 - manh_dist_rmse: 0.0744 - manh_dist_mae: 0.0584 - val_loss: -0.2457 - val_manh_dist_loss: 0.0056 - val_abs_vect_loss: -0.9994 - val_abs_vect_1_loss: -0.9994 - val_manh_dist_rmse: 0.0747 - val_manh_dist_mae: 0.0585\n",
      "Epoch 6/20\n",
      "781/781 [==============================] - 17s 22ms/step - loss: -0.2458 - manh_dist_loss: 0.0054 - abs_vect_loss: -0.9995 - abs_vect_1_loss: -0.9994 - manh_dist_rmse: 0.0732 - manh_dist_mae: 0.0577 - val_loss: -0.2458 - val_manh_dist_loss: 0.0054 - val_abs_vect_loss: -0.9994 - val_abs_vect_1_loss: -0.9992 - val_manh_dist_rmse: 0.0736 - val_manh_dist_mae: 0.0579\n",
      "Epoch 7/20\n",
      "781/781 [==============================] - 17s 22ms/step - loss: -0.2460 - manh_dist_loss: 0.0052 - abs_vect_loss: -0.9995 - abs_vect_1_loss: -0.9994 - manh_dist_rmse: 0.0722 - manh_dist_mae: 0.0571 - val_loss: -0.2459 - val_manh_dist_loss: 0.0053 - val_abs_vect_loss: -0.9995 - val_abs_vect_1_loss: -0.9994 - val_manh_dist_rmse: 0.0725 - val_manh_dist_mae: 0.0573\n",
      "Epoch 8/20\n",
      "781/781 [==============================] - 17s 21ms/step - loss: -0.2461 - manh_dist_loss: 0.0051 - abs_vect_loss: -0.9996 - abs_vect_1_loss: -0.9995 - manh_dist_rmse: 0.0714 - manh_dist_mae: 0.0567 - val_loss: -0.2460 - val_manh_dist_loss: 0.0052 - val_abs_vect_loss: -0.9996 - val_abs_vect_1_loss: -0.9996 - val_manh_dist_rmse: 0.0722 - val_manh_dist_mae: 0.0572\n",
      "Epoch 9/20\n",
      "781/781 [==============================] - 17s 21ms/step - loss: -0.2461 - manh_dist_loss: 0.0050 - abs_vect_loss: -0.9996 - abs_vect_1_loss: -0.9995 - manh_dist_rmse: 0.0708 - manh_dist_mae: 0.0564 - val_loss: -0.2461 - val_manh_dist_loss: 0.0051 - val_abs_vect_loss: -0.9996 - val_abs_vect_1_loss: -0.9995 - val_manh_dist_rmse: 0.0714 - val_manh_dist_mae: 0.0566\n",
      "Epoch 10/20\n",
      "781/781 [==============================] - 17s 21ms/step - loss: -0.2462 - manh_dist_loss: 0.0049 - abs_vect_loss: -0.9996 - abs_vect_1_loss: -0.9995 - manh_dist_rmse: 0.0701 - manh_dist_mae: 0.0560 - val_loss: -0.2461 - val_manh_dist_loss: 0.0050 - val_abs_vect_loss: -0.9996 - val_abs_vect_1_loss: -0.9995 - val_manh_dist_rmse: 0.0709 - val_manh_dist_mae: 0.0564\n",
      "Epoch 11/20\n",
      "781/781 [==============================] - 17s 21ms/step - loss: -0.2463 - manh_dist_loss: 0.0049 - abs_vect_loss: -0.9996 - abs_vect_1_loss: -0.9996 - manh_dist_rmse: 0.0697 - manh_dist_mae: 0.0558 - val_loss: -0.2462 - val_manh_dist_loss: 0.0050 - val_abs_vect_loss: -0.9996 - val_abs_vect_1_loss: -0.9996 - val_manh_dist_rmse: 0.0705 - val_manh_dist_mae: 0.0563\n",
      "Epoch 12/20\n",
      "781/781 [==============================] - 17s 21ms/step - loss: -0.2463 - manh_dist_loss: 0.0048 - abs_vect_loss: -0.9996 - abs_vect_1_loss: -0.9996 - manh_dist_rmse: 0.0693 - manh_dist_mae: 0.0555 - val_loss: -0.2462 - val_manh_dist_loss: 0.0049 - val_abs_vect_loss: -0.9995 - val_abs_vect_1_loss: -0.9995 - val_manh_dist_rmse: 0.0699 - val_manh_dist_mae: 0.0558\n",
      "Epoch 13/20\n",
      "781/781 [==============================] - 17s 21ms/step - loss: -0.2463 - manh_dist_loss: 0.0047 - abs_vect_loss: -0.9996 - abs_vect_1_loss: -0.9996 - manh_dist_rmse: 0.0689 - manh_dist_mae: 0.0553 - val_loss: -0.2462 - val_manh_dist_loss: 0.0049 - val_abs_vect_loss: -0.9996 - val_abs_vect_1_loss: -0.9996 - val_manh_dist_rmse: 0.0698 - val_manh_dist_mae: 0.0558\n",
      "Epoch 14/20\n",
      "781/781 [==============================] - 16s 21ms/step - loss: -0.2464 - manh_dist_loss: 0.0047 - abs_vect_loss: -0.9996 - abs_vect_1_loss: -0.9996 - manh_dist_rmse: 0.0686 - manh_dist_mae: 0.0551 - val_loss: -0.2463 - val_manh_dist_loss: 0.0048 - val_abs_vect_loss: -0.9996 - val_abs_vect_1_loss: -0.9995 - val_manh_dist_rmse: 0.0695 - val_manh_dist_mae: 0.0555\n",
      "Epoch 15/20\n",
      "781/781 [==============================] - 16s 21ms/step - loss: -0.2464 - manh_dist_loss: 0.0047 - abs_vect_loss: -0.9996 - abs_vect_1_loss: -0.9996 - manh_dist_rmse: 0.0683 - manh_dist_mae: 0.0549 - val_loss: -0.2463 - val_manh_dist_loss: 0.0048 - val_abs_vect_loss: -0.9997 - val_abs_vect_1_loss: -0.9996 - val_manh_dist_rmse: 0.0693 - val_manh_dist_mae: 0.0554\n",
      "Epoch 16/20\n",
      "781/781 [==============================] - 16s 21ms/step - loss: -0.2464 - manh_dist_loss: 0.0046 - abs_vect_loss: -0.9996 - abs_vect_1_loss: -0.9996 - manh_dist_rmse: 0.0681 - manh_dist_mae: 0.0547 - val_loss: -0.2463 - val_manh_dist_loss: 0.0048 - val_abs_vect_loss: -0.9997 - val_abs_vect_1_loss: -0.9995 - val_manh_dist_rmse: 0.0690 - val_manh_dist_mae: 0.0552\n",
      "Epoch 17/20\n",
      "781/781 [==============================] - 16s 21ms/step - loss: -0.2464 - manh_dist_loss: 0.0046 - abs_vect_loss: -0.9996 - abs_vect_1_loss: -0.9996 - manh_dist_rmse: 0.0679 - manh_dist_mae: 0.0546 - val_loss: -0.2463 - val_manh_dist_loss: 0.0048 - val_abs_vect_loss: -0.9996 - val_abs_vect_1_loss: -0.9996 - val_manh_dist_rmse: 0.0690 - val_manh_dist_mae: 0.0552\n",
      "Epoch 18/20\n",
      "781/781 [==============================] - 16s 21ms/step - loss: -0.2465 - manh_dist_loss: 0.0046 - abs_vect_loss: -0.9996 - abs_vect_1_loss: -0.9996 - manh_dist_rmse: 0.0677 - manh_dist_mae: 0.0545 - val_loss: -0.2464 - val_manh_dist_loss: 0.0047 - val_abs_vect_loss: -0.9996 - val_abs_vect_1_loss: -0.9996 - val_manh_dist_rmse: 0.0687 - val_manh_dist_mae: 0.0551\n",
      "Epoch 19/20\n",
      "781/781 [==============================] - 16s 21ms/step - loss: -0.2465 - manh_dist_loss: 0.0046 - abs_vect_loss: -0.9996 - abs_vect_1_loss: -0.9996 - manh_dist_rmse: 0.0675 - manh_dist_mae: 0.0544 - val_loss: -0.2464 - val_manh_dist_loss: 0.0047 - val_abs_vect_loss: -0.9995 - val_abs_vect_1_loss: -0.9994 - val_manh_dist_rmse: 0.0685 - val_manh_dist_mae: 0.0549\n",
      "Epoch 20/20\n",
      "781/781 [==============================] - 16s 21ms/step - loss: -0.2465 - manh_dist_loss: 0.0045 - abs_vect_loss: -0.9996 - abs_vect_1_loss: -0.9996 - manh_dist_rmse: 0.0674 - manh_dist_mae: 0.0543 - val_loss: -0.2464 - val_manh_dist_loss: 0.0047 - val_abs_vect_loss: -0.9996 - val_abs_vect_1_loss: -0.9997 - val_manh_dist_rmse: 0.0687 - val_manh_dist_mae: 0.0551\n"
     ]
    }
   ],
   "source": [
    "siamese_model = train_siamese_model_baseline(model, X_train, X_validation, Y_train, Y_validation, size_hash_vector, batch_size = 512, epochs = 20)"
   ]
  },
  {
   "cell_type": "markdown",
   "id": "8de2153c-d75d-41be-848b-d503f6c36239",
   "metadata": {},
   "source": [
    "# 3. Model Evaluation"
   ]
  },
  {
   "cell_type": "code",
   "execution_count": 20,
   "id": "70c8adc8-2869-4868-b036-a328d003da67",
   "metadata": {},
   "outputs": [
    {
     "data": {
      "text/plain": [
       "[<tensorflow.python.keras.engine.input_layer.InputLayer at 0x7fd2730b9f10>,\n",
       " <tensorflow.python.keras.engine.input_layer.InputLayer at 0x7fd2730da9d0>,\n",
       " <tensorflow.python.keras.engine.sequential.Sequential at 0x7fd2730cdf90>,\n",
       " <deep_hashing_models.ManhDist at 0x7fd2730dab50>,\n",
       " <deep_hashing_models.AbsVect at 0x7fd272feb250>,\n",
       " <deep_hashing_models.AbsVect at 0x7fccb879e0d0>]"
      ]
     },
     "execution_count": 20,
     "metadata": {},
     "output_type": "execute_result"
    }
   ],
   "source": [
    "model.layers"
   ]
  },
  {
   "cell_type": "markdown",
   "id": "6e08e438-f7db-4ffd-a703-c050649eed80",
   "metadata": {},
   "source": [
    "## 3.1. Loss functions"
   ]
  },
  {
   "cell_type": "markdown",
   "id": "2ba523e6-4b29-4979-9739-3840a9d279e5",
   "metadata": {},
   "source": [
    "#### 3.1.1. MSE of $\\mathcal{L}_{CNNH+LSH}$"
   ]
  },
  {
   "cell_type": "code",
   "execution_count": 21,
   "id": "78fa1d12-53e0-4b18-bd6d-b49e0ac5a173",
   "metadata": {},
   "outputs": [
    {
     "data": {
      "text/plain": [
       "<matplotlib.legend.Legend at 0x7fccb84620d0>"
      ]
     },
     "execution_count": 21,
     "metadata": {},
     "output_type": "execute_result"
    },
    {
     "data": {
      "image/png": "[encoded data removed]",
      "text/plain": [
       "<Figure size 576x360 with 1 Axes>"
      ]
     },
     "metadata": {
      "needs_background": "light"
     },
     "output_type": "display_data"
    }
   ],
   "source": [
    "plt.rcParams[\"figure.figsize\"] = (8,5)\n",
    "plt.plot(siamese_model.history['loss'], linewidth = 2)\n",
    "plt.plot(siamese_model.history['val_loss'], linewidth = 2)\n",
    "plt.title('Cosine-bigram (CNNH+LSH)', fontsize = 20)\n",
    "plt.ylabel('MSE (Model)', fontsize = 12)\n",
    "plt.xlabel('Epochs', fontsize = 12)\n",
    "plt.ticklabel_format(style='', scilimits=(0,0))\n",
    "plt.legend(['Train', 'Validation'], loc='upper right', fontsize=15)"
   ]
  },
  {
   "cell_type": "markdown",
   "id": "05afb4e6-9037-456a-9663-060eb611c0b8",
   "metadata": {},
   "source": [
    "#### 3.1.2. RMSE of LSH preserving loss"
   ]
  },
  {
   "cell_type": "code",
   "execution_count": 22,
   "id": "9cd1cda5-36b1-41ab-8dc3-2ebfe56fd4d9",
   "metadata": {},
   "outputs": [
    {
     "data": {
      "text/plain": [
       "<matplotlib.legend.Legend at 0x7fccb83ae0d0>"
      ]
     },
     "execution_count": 22,
     "metadata": {},
     "output_type": "execute_result"
    },
    {
     "data": {
      "image/png": "[encoded data removed]",
      "text/plain": [
       "<Figure size 576x360 with 1 Axes>"
      ]
     },
     "metadata": {
      "needs_background": "light"
     },
     "output_type": "display_data"
    }
   ],
   "source": [
    "plt.rcParams[\"figure.figsize\"] = (8,5)\n",
    "plt.plot(siamese_model.history[model.layers[3].name + '_rmse'], linewidth = 2)\n",
    "plt.plot(siamese_model.history['val_' + model.layers[3].name + '_rmse'], linewidth = 2)\n",
    "plt.title('Cosine-bigram (CNNH+LSH)', fontsize = 20)\n",
    "plt.ylabel('RMSE (LSH-preserving)', fontsize = 12)\n",
    "plt.xlabel('Epochs', fontsize = 12)\n",
    "plt.ticklabel_format(style='', scilimits=(0,0))\n",
    "plt.legend(['Train', 'Validation'], loc='upper right', fontsize=15)"
   ]
  },
  {
   "cell_type": "markdown",
   "id": "ac94472b-7465-4ab0-99dd-c042b4a32572",
   "metadata": {},
   "source": [
    "#### 3.1.3. MAE of LSH preserving loss"
   ]
  },
  {
   "cell_type": "code",
   "execution_count": 23,
   "id": "c4c8e448-e36f-4a8d-8d5f-a5da5c4d5019",
   "metadata": {},
   "outputs": [
    {
     "data": {
      "text/plain": [
       "<matplotlib.legend.Legend at 0x7fccb82cac90>"
      ]
     },
     "execution_count": 23,
     "metadata": {},
     "output_type": "execute_result"
    },
    {
     "data": {
      "image/png": "[encoded data removed]",
      "text/plain": [
       "<Figure size 576x360 with 1 Axes>"
      ]
     },
     "metadata": {
      "needs_background": "light"
     },
     "output_type": "display_data"
    }
   ],
   "source": [
    "plt.rcParams[\"figure.figsize\"] = (8,5)\n",
    "plt.plot(siamese_model.history[model.layers[3].name + '_mae'], linewidth = 2)\n",
    "plt.plot(siamese_model.history['val_' + model.layers[3].name + '_mae'], linewidth = 2)\n",
    "plt.title('Cosine-bigram (CNNH+LSH)', fontsize = 20)\n",
    "plt.ylabel('MAE (LSH-preserving)', fontsize = 12)\n",
    "plt.xlabel('Epochs', fontsize = 12)\n",
    "plt.ticklabel_format(style='', scilimits=(0,0))\n",
    "plt.legend(['Train', 'Validation'], loc='upper right', fontsize=15)"
   ]
  },
  {
   "cell_type": "markdown",
   "id": "f8f7f1d0-62b0-4612-ab39-9c38fad06a4c",
   "metadata": {},
   "source": [
    "## 3.2. Model Predictions"
   ]
  },
  {
   "cell_type": "code",
   "execution_count": 24,
   "id": "1f089e9c-7bbd-40fb-90f3-3e4c7a2798d2",
   "metadata": {},
   "outputs": [],
   "source": [
    "predictions = predict(model, X_validation)"
   ]
  },
  {
   "cell_type": "markdown",
   "id": "19834dba-ff8b-45fa-aead-ac2e6d099273",
   "metadata": {},
   "source": [
    "### 3.2.1. Examples"
   ]
  },
  {
   "cell_type": "code",
   "execution_count": 25,
   "id": "eade347d-6ee3-4fa3-ba1a-c5298f94c96e",
   "metadata": {},
   "outputs": [
    {
     "data": {
      "text/plain": [
       "array([0.188, 0.053, 0.407, 0.057, 0.117, 0.11 , 0.225, 0.126, 0.159,\n",
       "       0.074, 0.067, 0.036, 0.084, 0.356, 0.042, 0.122, 0.156, 0.05 ,\n",
       "       0.148, 0.073, 0.238, 0.015, 0.098, 0.057, 0.032, 0.08 , 0.497,\n",
       "       0.885, 0.051, 0.241, 0.022, 0.592, 0.286, 0.062, 0.146, 0.038,\n",
       "       0.023, 0.028, 0.176, 0.203, 0.053, 0.06 , 0.192, 0.938, 0.151,\n",
       "       0.154, 0.024, 0.204, 0.085, 0.517], dtype=float32)"
      ]
     },
     "execution_count": 25,
     "metadata": {},
     "output_type": "execute_result"
    }
   ],
   "source": [
    "np.around(predictions[0][:50],3) "
   ]
  },
  {
   "cell_type": "code",
   "execution_count": 26,
   "id": "8f18d2a7-c115-4a7c-9492-facb302c578b",
   "metadata": {},
   "outputs": [
    {
     "data": {
      "text/plain": [
       "array([0.207, 0.   , 0.429, 0.   , 0.   , 0.113, 0.134, 0.136, 0.194,\n",
       "       0.186, 0.   , 0.   , 0.   , 0.379, 0.   , 0.   , 0.183, 0.   ,\n",
       "       0.   , 0.045, 0.276, 0.   , 0.   , 0.   , 0.   , 0.114, 0.566,\n",
       "       0.741, 0.   , 0.338, 0.   , 0.629, 0.389, 0.   , 0.178, 0.   ,\n",
       "       0.   , 0.   , 0.207, 0.215, 0.   , 0.   , 0.169, 0.867, 0.115,\n",
       "       0.   , 0.   , 0.234, 0.   , 0.501])"
      ]
     },
     "execution_count": 26,
     "metadata": {},
     "output_type": "execute_result"
    }
   ],
   "source": [
    "np.around(Y_validation[:50],3) "
   ]
  },
  {
   "cell_type": "markdown",
   "id": "98409488-ca93-4cd3-b71c-547fa4baa6ef",
   "metadata": {},
   "source": [
    "### 3.2.2. Spearman $\\rho$ and Kendall $\\tau$ correlation"
   ]
  },
  {
   "cell_type": "code",
   "execution_count": 27,
   "id": "01573553-5d50-49eb-aa52-c480c0de67f0",
   "metadata": {},
   "outputs": [
    {
     "data": {
      "image/png": "[encoded data removed]",
      "text/plain": [
       "<Figure size 288x288 with 1 Axes>"
      ]
     },
     "metadata": {
      "needs_background": "light"
     },
     "output_type": "display_data"
    }
   ],
   "source": [
    "plt.rcParams[\"figure.figsize\"] = (4,4)\n",
    "plt.scatter(Y_validation, predictions[0], alpha = 0.5, marker = 'x', c = '#227093')\n",
    "plt.title('Cosine-bigram (CNNH+LSH)', fontsize = 16)\n",
    "plt.xlabel(\"Cosine-bigram similarity values\", fontsize = 12)\n",
    "plt.ylabel(\"Collision probability\", fontsize = 12)\n",
    "plt.savefig('Results/Baseline/Cosine-bigram-correlation', bbox_inches='tight')\n",
    "plt.show()"
   ]
  },
  {
   "cell_type": "code",
   "execution_count": 28,
   "id": "f80a43e7-b4b5-4956-9b3d-6a1457a6ee92",
   "metadata": {},
   "outputs": [
    {
     "data": {
      "text/plain": [
       "0.8040735997172324"
      ]
     },
     "execution_count": 28,
     "metadata": {},
     "output_type": "execute_result"
    }
   ],
   "source": [
    "rho, p_value = spearman_rho(predictions, Y_validation)\n",
    "rho"
   ]
  },
  {
   "cell_type": "code",
   "execution_count": 29,
   "id": "33fc1f59-7dc1-46b4-9d29-73b87b11c5a5",
   "metadata": {},
   "outputs": [
    {
     "data": {
      "text/plain": [
       "0.6738341762150275"
      ]
     },
     "execution_count": 29,
     "metadata": {},
     "output_type": "execute_result"
    }
   ],
   "source": [
    "tau, p_value = kendall_tau(predictions, Y_validation)\n",
    "tau"
   ]
  },
  {
   "cell_type": "markdown",
   "id": "895fc952-6e22-451a-abd2-86de43e87328",
   "metadata": {},
   "source": [
    "## 3.3. Approximate Hamming Evaluation"
   ]
  },
  {
   "cell_type": "code",
   "execution_count": 30,
   "id": "6b9edd91-5e15-4aa8-8a05-4985b8623897",
   "metadata": {},
   "outputs": [
    {
     "data": {
      "text/plain": [
       "<tensorflow.python.keras.engine.sequential.Sequential at 0x7fd2730cdf90>"
      ]
     },
     "execution_count": 30,
     "metadata": {},
     "output_type": "execute_result"
    }
   ],
   "source": [
    "output_layer = 2\n",
    "model.layers[output_layer]"
   ]
  },
  {
   "cell_type": "code",
   "execution_count": 31,
   "id": "acaf1823-ca3b-4d6c-9a71-a6c9acf5e1f5",
   "metadata": {},
   "outputs": [],
   "source": [
    "intermediate_model = intermediate_model_trained(shared_model, output_layer)"
   ]
  },
  {
   "cell_type": "code",
   "execution_count": 32,
   "id": "65d36caa-a208-4095-93eb-9522c8f72717",
   "metadata": {},
   "outputs": [
    {
     "name": "stdout",
     "output_type": "stream",
     "text": [
      "WARNING:tensorflow:Compiled the loaded model, but the compiled metrics have yet to be built. `model.compile_metrics` will be empty until you train or evaluate the model.\n",
      "INFO:tensorflow:Assets written to: Models/model-baseline.model/assets\n"
     ]
    }
   ],
   "source": [
    "intermediate_model.save('Models/model-baseline.model')"
   ]
  },
  {
   "cell_type": "code",
   "execution_count": 11,
   "id": "69700249-f347-4949-be04-d9ff8f058288",
   "metadata": {},
   "outputs": [
    {
     "name": "stdout",
     "output_type": "stream",
     "text": [
      "WARNING:tensorflow:No training configuration found in save file, so the model was *not* compiled. Compile it manually.\n"
     ]
    }
   ],
   "source": [
    "intermediate_model = keras.models.load_model('Models/model-baseline.model')"
   ]
  },
  {
   "cell_type": "markdown",
   "id": "b4d1758f-ff99-49fc-b85c-4fe66560da40",
   "metadata": {},
   "source": [
    "### 3.3.1. Example of a hash vector provided by the model (in the last epoch)"
   ]
  },
  {
   "cell_type": "code",
   "execution_count": 12,
   "id": "ec686420-c52a-4925-852f-939cfe007904",
   "metadata": {},
   "outputs": [
    {
     "data": {
      "text/plain": [
       "array([ 0.9941905 , -0.99954706, -1.        ,  0.9981142 , -0.9999994 ,\n",
       "       -0.98405176, -0.92241424, -1.        , -0.9999286 ,  1.        ,\n",
       "        0.99999964, -0.9999995 , -0.9999863 , -1.        , -1.        ,\n",
       "       -0.9998287 ,  1.        , -0.9850254 ,  0.9999532 , -1.        ,\n",
       "       -0.9999963 ,  0.99527884,  1.        ,  0.99996245,  0.9997481 ,\n",
       "       -0.9835287 , -1.        , -0.9988626 ,  1.        , -0.9999995 ,\n",
       "       -0.99999964,  0.9999986 ], dtype=float32)"
      ]
     },
     "execution_count": 12,
     "metadata": {},
     "output_type": "execute_result"
    }
   ],
   "source": [
    "intermediate_model.predict(df_bigram.iloc[[10]])[0][:32]"
   ]
  },
  {
   "cell_type": "markdown",
   "id": "4ec939b1-4814-49cd-80ff-ee2bad747358",
   "metadata": {},
   "source": [
    "### 3.3.2. Average value of the absolute hash values"
   ]
  },
  {
   "cell_type": "code",
   "execution_count": 13,
   "id": "f54a9180-f4a4-4e0c-94ed-e36df291b072",
   "metadata": {},
   "outputs": [],
   "source": [
    "hash_vectors = intermediate_model.predict(df_bigram)"
   ]
  },
  {
   "cell_type": "code",
   "execution_count": 14,
   "id": "0fd308c0-f913-4d55-b45b-01f976a62e0b",
   "metadata": {},
   "outputs": [
    {
     "data": {
      "text/plain": [
       "0.9912267"
      ]
     },
     "execution_count": 14,
     "metadata": {},
     "output_type": "execute_result"
    }
   ],
   "source": [
    "np.mean(np.abs(hash_vectors))"
   ]
  },
  {
   "cell_type": "markdown",
   "id": "2ca2d6a3-75da-472a-99bb-b25ece9df8a7",
   "metadata": {},
   "source": [
    "### 3.3.3. Ratio of binary values from hash vectors provided by the model"
   ]
  },
  {
   "cell_type": "code",
   "execution_count": 15,
   "id": "5bb9bdd7-c931-4db2-8a89-b20c7fb92d9e",
   "metadata": {},
   "outputs": [
    {
     "data": {
      "text/plain": [
       "0.22725"
      ]
     },
     "execution_count": 15,
     "metadata": {},
     "output_type": "execute_result"
    }
   ],
   "source": [
    "hash_vectors[(hash_vectors == 1) | (hash_vectors == -1)].size / hash_vectors.size"
   ]
  },
  {
   "cell_type": "markdown",
   "id": "5a606dc1-dd06-4376-9f33-1254286c701d",
   "metadata": {},
   "source": [
    "### 3.3.4. Comparison between approximate hamming and real hamming"
   ]
  },
  {
   "cell_type": "code",
   "execution_count": 38,
   "id": "03dd89e8-82d7-47c2-8c33-a0652d3ec536",
   "metadata": {},
   "outputs": [],
   "source": [
    "df_hamming = compare_hamming(X_validation, intermediate_model, b, size_hash_vector)"
   ]
  },
  {
   "cell_type": "code",
   "execution_count": 39,
   "id": "3fdc0913-64e8-4b05-a1fd-75f20c1a418a",
   "metadata": {},
   "outputs": [
    {
     "data": {
      "image/png": "[encoded data removed]",
      "text/plain": [
       "<Figure size 288x288 with 1 Axes>"
      ]
     },
     "metadata": {
      "needs_background": "light"
     },
     "output_type": "display_data"
    }
   ],
   "source": [
    "plt.rcParams[\"figure.figsize\"] = (4,4)\n",
    "plt.scatter(predictions[0], df_hamming['hamming'], alpha = 0.5, marker = 'x', c = '#b33939')\n",
    "plt.xlabel(\"Approximate Hamming Similariy\", fontsize = 12)\n",
    "plt.ylabel(\"Hamming Similarity\", fontsize = 12)\n",
    "plt.title('Cosine-bigram (CNNH+LSH)', fontsize = 16)\n",
    "plt.savefig('Results/Baseline/Cosine-bigram-hamming-comparison', bbox_inches='tight')\n",
    "plt.show()"
   ]
  },
  {
   "cell_type": "markdown",
   "id": "b030832c-7872-45da-8698-a0bbf16fe3cb",
   "metadata": {},
   "source": [
    "# 4. Locality Sensitive Hashing"
   ]
  },
  {
   "cell_type": "code",
   "execution_count": 16,
   "id": "2aacdd9c-73d0-4257-af38-1768e9f4aa05",
   "metadata": {},
   "outputs": [],
   "source": [
    "hash_vectors_hamming = convert_to_hamming(hash_vectors)"
   ]
  },
  {
   "cell_type": "code",
   "execution_count": 18,
   "id": "f3bb826f-5e0d-4d6e-8356-d1f3315d6ebd",
   "metadata": {},
   "outputs": [
    {
     "data": {
      "text/plain": [
       "[(1, 64), (2, 32), (4, 16), (8, 8), (16, 4), (32, 2), (64, 1)]"
      ]
     },
     "execution_count": 18,
     "metadata": {},
     "output_type": "execute_result"
    }
   ],
   "source": [
    "params = lsh_hyperparams(m)\n",
    "'(K,L)'\n",
    "params "
   ]
  },
  {
   "cell_type": "markdown",
   "id": "b2cb60ba-44ee-4fee-854d-b2bcd66a0be4",
   "metadata": {},
   "source": [
    "## 4.1. Choose the best combination (L, K)\n"
   ]
  },
  {
   "cell_type": "code",
   "execution_count": 42,
   "id": "1aeac3ba-cb08-4e8a-913b-1dbd0529c782",
   "metadata": {},
   "outputs": [
    {
     "data": {
      "text/plain": [
       "<matplotlib.legend.Legend at 0x7fccb86a2fd0>"
      ]
     },
     "execution_count": 42,
     "metadata": {},
     "output_type": "execute_result"
    },
    {
     "data": {
      "image/png": "[encoded data removed]",
      "text/plain": [
       "<Figure size 648x360 with 1 Axes>"
      ]
     },
     "metadata": {
      "needs_background": "light"
     },
     "output_type": "display_data"
    }
   ],
   "source": [
    "plt.rcParams[\"figure.figsize\"] = [9, 5]\n",
    "x = np.linspace(0, 1, 100)\n",
    "for param in params:\n",
    "    y = 1 - (1 - (x)**param[1])**param[0]\n",
    "    plt.plot(x, y, label = 'L = %d, r = %d' %param)\n",
    "plt.xlabel(\"similarity values\", fontsize = 12)\n",
    "plt.ylabel(\"hash probability in at least 1 bucket\", fontsize = 12)\n",
    "plt.title('Probability-similarity relation', fontsize = 18)\n",
    "plt.legend()"
   ]
  },
  {
   "cell_type": "code",
   "execution_count": 43,
   "id": "06b7f958-6f44-44dd-9a8b-2cf92d2c8c62",
   "metadata": {},
   "outputs": [],
   "source": [
    "df_probLSH = mean_prob_hashing_smallest_elt(n_stacks, params, hash_vectors_hamming, b, df_measures, 'Cosine-bigram', trace = False)"
   ]
  },
  {
   "cell_type": "code",
   "execution_count": 44,
   "id": "f5942f20-20c8-4df4-9b65-7a62cf73558f",
   "metadata": {},
   "outputs": [
    {
     "data": {
      "image/png": "[encoded data removed]",
      "text/plain": [
       "<Figure size 432x288 with 1 Axes>"
      ]
     },
     "metadata": {
      "needs_background": "light"
     },
     "output_type": "display_data"
    }
   ],
   "source": [
    "f, ax = plt.subplots(figsize=(6, 4))\n",
    "ax = sns.boxplot(data = df_probLSH, palette=\"Set3\")\n",
    "plt.xlabel(\"Hyperparameters of LSH (L,K)\", fontsize = 12)\n",
    "plt.ylabel(\"Prob hashing smallest elt in buckets\", fontsize = 12)\n",
    "plt.title('Cosine-bigram (CNNH+LSH) [Relation Prob-Sim]', fontsize = 16)\n",
    "plt.savefig('Results/Baseline/Cosine-bigram-Relation-Prob-Sim', bbox_inches='tight')\n",
    "plt.show()"
   ]
  },
  {
   "cell_type": "code",
   "execution_count": 45,
   "id": "9316b59a-6d22-489a-abfb-893e6e7d45a1",
   "metadata": {},
   "outputs": [
    {
     "data": {
      "text/plain": [
       "(8, 8)"
      ]
     },
     "execution_count": 45,
     "metadata": {},
     "output_type": "execute_result"
    }
   ],
   "source": [
    "'Exemple, L = K = 8'\n",
    "L, K = params[3]\n",
    "L, K"
   ]
  },
  {
   "cell_type": "code",
   "execution_count": 46,
   "id": "907cec1c-86df-4db5-b5c0-627379841a4d",
   "metadata": {},
   "outputs": [
    {
     "data": {
      "text/plain": [
       "0.33824644655442937"
      ]
     },
     "execution_count": 46,
     "metadata": {},
     "output_type": "execute_result"
    }
   ],
   "source": [
    "df_probLSH.mean()['(4, 16)']"
   ]
  },
  {
   "cell_type": "code",
   "execution_count": 47,
   "id": "944eda14-5c69-4d49-b682-3c57ad9fe47f",
   "metadata": {},
   "outputs": [
    {
     "data": {
      "text/plain": [
       "0.347698879666668"
      ]
     },
     "execution_count": 47,
     "metadata": {},
     "output_type": "execute_result"
    }
   ],
   "source": [
    "df_probLSH.median()['(4, 16)']"
   ]
  },
  {
   "cell_type": "markdown",
   "id": "6ebdb37a-a88b-46f1-8a22-1c0f872f6cd6",
   "metadata": {},
   "source": [
    "## 4.2. Build hash tables with binary hash vectors w.r.t $K$ and $L$"
   ]
  },
  {
   "cell_type": "code",
   "execution_count": 48,
   "id": "fb84b5ab-519b-4dd1-bb5e-5ced695bf3a4",
   "metadata": {},
   "outputs": [],
   "source": [
    "hash_tables = create_hash_tables(L, K, b, hash_vectors_hamming)"
   ]
  },
  {
   "cell_type": "code",
   "execution_count": 49,
   "id": "b8ed4c9f-cf0f-4137-8a32-3d839f64c86e",
   "metadata": {},
   "outputs": [],
   "source": [
    "with open('Hash-Tables/hash_tables_baseline.pkl', 'wb') as f:\n",
    "    pickle.dump(hash_tables, f)"
   ]
  },
  {
   "cell_type": "markdown",
   "id": "70f264b8-e59e-4995-b416-f8966cfc4d8f",
   "metadata": {},
   "source": [
    "## 4.3. Search for approximate nearest neighbors (this procedure need to be explained in the paper) "
   ]
  },
  {
   "cell_type": "code",
   "execution_count": 50,
   "id": "46bdb33d-c680-4242-919e-cd2dfd73e353",
   "metadata": {},
   "outputs": [
    {
     "data": {
      "text/plain": [
       "986"
      ]
     },
     "execution_count": 50,
     "metadata": {},
     "output_type": "execute_result"
    }
   ],
   "source": [
    "'pointer to the stack trace'\n",
    "index = random.randint(0,n_stacks)\n",
    "index"
   ]
  },
  {
   "cell_type": "code",
   "execution_count": 51,
   "id": "ce6258ad-9458-4e9b-867a-d3b4fc675966",
   "metadata": {},
   "outputs": [
    {
     "data": {
      "text/plain": [
       "{308, 870, 986}"
      ]
     },
     "execution_count": 51,
     "metadata": {},
     "output_type": "execute_result"
    }
   ],
   "source": [
    "set_near_duplicates = near_duplicates(L, K, b, index, hash_vectors_hamming, hash_tables)\n",
    "set_near_duplicates"
   ]
  },
  {
   "cell_type": "code",
   "execution_count": 52,
   "id": "d3c836e7-fc34-47cd-9889-f76db2bc71a2",
   "metadata": {},
   "outputs": [],
   "source": [
    "list_near_duplicate_pairs = near_duplicate_pairs(index, set_near_duplicates, n_stacks)\n",
    "n_duplicate_pairs = len(list_near_duplicate_pairs)"
   ]
  },
  {
   "cell_type": "code",
   "execution_count": 53,
   "id": "561cd65b-4aa5-4f8c-b4a2-423baa352721",
   "metadata": {},
   "outputs": [
    {
     "data": {
      "text/plain": [
       "491230    0.952381\n",
       "261091    0.744387\n",
       "Name: Cosine-bigram, dtype: float64"
      ]
     },
     "execution_count": 53,
     "metadata": {},
     "output_type": "execute_result"
    }
   ],
   "source": [
    "near_duplicates_sim = df_measures['Cosine-bigram'][list_near_duplicate_pairs].sort_values(ascending = False)\n",
    "near_duplicates_sim"
   ]
  },
  {
   "cell_type": "code",
   "execution_count": 54,
   "id": "6510bce7-6663-4db3-8455-0b846720c6f1",
   "metadata": {
    "tags": []
   },
   "outputs": [
    {
     "data": {
      "text/plain": [
       "{308, 870}"
      ]
     },
     "execution_count": 54,
     "metadata": {},
     "output_type": "execute_result"
    }
   ],
   "source": [
    "set_real_nns, real_nns_sim = real_nns(index, df_measures, 'Cosine-bigram', n_stacks, n_duplicate_pairs)\n",
    "set_real_nns"
   ]
  },
  {
   "cell_type": "code",
   "execution_count": 55,
   "id": "0c2d9881-6df4-463f-9dd1-7d02a9fd1347",
   "metadata": {},
   "outputs": [
    {
     "data": {
      "text/plain": [
       "491230    0.952381\n",
       "261091    0.744387\n",
       "dtype: float64"
      ]
     },
     "execution_count": 55,
     "metadata": {},
     "output_type": "execute_result"
    }
   ],
   "source": [
    "real_nns_sim[:n_duplicate_pairs]"
   ]
  },
  {
   "cell_type": "markdown",
   "id": "78b9f9fc-d7c0-46a0-afc0-9d6295866fbf",
   "metadata": {},
   "source": [
    "## 4.4. Metrics"
   ]
  },
  {
   "cell_type": "markdown",
   "id": "afd58871-f8ad-400a-bcc4-335221388b4c",
   "metadata": {},
   "source": [
    "### 4.4.1. Ratio of finding the $k$ real nearest neighbor with the Least $L$ (Recal rate at $k$ first positions)"
   ]
  },
  {
   "cell_type": "code",
   "execution_count": 56,
   "id": "11514265-e84c-4f88-bd7a-b41e9f4ce8ed",
   "metadata": {},
   "outputs": [
    {
     "data": {
      "text/plain": [
       "0.761"
      ]
     },
     "execution_count": 56,
     "metadata": {},
     "output_type": "execute_result"
    }
   ],
   "source": [
    "'All params'\n",
    "k_first_positions = 1\n",
    "recal_rate(n_stacks, params, hash_vectors_hamming, b, df_measures, k_first_positions, 'Cosine-bigram')"
   ]
  },
  {
   "cell_type": "code",
   "execution_count": 57,
   "id": "92bc121e-7e28-48ba-b9a4-c66ebc610bf5",
   "metadata": {},
   "outputs": [
    {
     "data": {
      "text/plain": [
       "0.9056122448979592"
      ]
     },
     "execution_count": 57,
     "metadata": {},
     "output_type": "execute_result"
    }
   ],
   "source": [
    "'Best param'\n",
    "k_first_positions = 1\n",
    "recal_rate_one_param(n_stacks, params[3], hash_vectors_hamming, b, df_measures, k_first_positions, 'Cosine-bigram')"
   ]
  },
  {
   "cell_type": "markdown",
   "id": "5a3cd969-cb8f-4c45-bbb1-13717ce0f321",
   "metadata": {},
   "source": [
    "-----------------------------------------------------------------"
   ]
  },
  {
   "cell_type": "code",
   "execution_count": 58,
   "id": "36dc56b0-9354-43c9-b42d-c77c878291d7",
   "metadata": {},
   "outputs": [
    {
     "data": {
      "text/plain": [
       "0.776666666666667"
      ]
     },
     "execution_count": 58,
     "metadata": {},
     "output_type": "execute_result"
    }
   ],
   "source": [
    "'All params'\n",
    "k_first_positions = 3\n",
    "recal_rate(n_stacks, params, hash_vectors_hamming, b, df_measures, k_first_positions, 'Cosine-bigram')"
   ]
  },
  {
   "cell_type": "code",
   "execution_count": 59,
   "id": "e8fef90e-3dcf-42fe-ad7f-e33f73eff4fe",
   "metadata": {},
   "outputs": [
    {
     "data": {
      "text/plain": [
       "0.9130675526024361"
      ]
     },
     "execution_count": 59,
     "metadata": {},
     "output_type": "execute_result"
    }
   ],
   "source": [
    "'Best param'\n",
    "k_first_positions = 3\n",
    "recal_rate_one_param(n_stacks, params[3], hash_vectors_hamming, b, df_measures, k_first_positions, 'Cosine-bigram')"
   ]
  },
  {
   "cell_type": "markdown",
   "id": "936a4e3c-3d4e-457d-bc8f-3488076a55c6",
   "metadata": {},
   "source": [
    "-----------------------------------------------------------------"
   ]
  },
  {
   "cell_type": "code",
   "execution_count": 60,
   "id": "03343cce-b8fa-4353-80d4-bd56fa2ec809",
   "metadata": {},
   "outputs": [
    {
     "data": {
      "text/plain": [
       "0.7920000000000004"
      ]
     },
     "execution_count": 60,
     "metadata": {},
     "output_type": "execute_result"
    }
   ],
   "source": [
    "'All params'\n",
    "k_first_positions = 5\n",
    "recal_rate(n_stacks, params, hash_vectors_hamming, b, df_measures, k_first_positions, 'Cosine-bigram')"
   ]
  },
  {
   "cell_type": "code",
   "execution_count": 61,
   "id": "5cff951e-a903-4729-ab28-3e232f554fb3",
   "metadata": {},
   "outputs": [
    {
     "data": {
      "text/plain": [
       "0.9102615694164994"
      ]
     },
     "execution_count": 61,
     "metadata": {},
     "output_type": "execute_result"
    }
   ],
   "source": [
    "'Best param'\n",
    "k_first_positions = 5\n",
    "recal_rate_one_param(n_stacks, params[3], hash_vectors_hamming, b, df_measures, k_first_positions, 'Cosine-bigram')"
   ]
  },
  {
   "cell_type": "markdown",
   "id": "fdc20355-d0fa-40ff-b7b0-63b70fa0c691",
   "metadata": {},
   "source": [
    "### 4.4.2. Accuracy of finding the real nearest neighbors (Generalized MRR)"
   ]
  },
  {
   "cell_type": "markdown",
   "id": "331b8c3a-a410-4389-bce9-69d0583b6f8a",
   "metadata": {},
   "source": [
    "$ \\frac{1}{|\\mathcal{R}_i|} \\sum_{s' \\in \\mathcal{R}_i} \\frac{\\text{rank}(s',\\mathcal{R}_i)}{\\text{rank}(s',NNs(s_i))} $"
   ]
  },
  {
   "cell_type": "code",
   "execution_count": 62,
   "id": "cf196055-9efb-4c91-852e-fe4544a2d43d",
   "metadata": {
    "collapsed": true,
    "jupyter": {
     "outputs_hidden": true
    },
    "tags": []
   },
   "outputs": [
    {
     "name": "stdout",
     "output_type": "stream",
     "text": [
      "(1, 64)\n",
      "0\n",
      "100\n",
      "200\n",
      "300\n",
      "400\n",
      "500\n",
      "600\n",
      "700\n",
      "800\n",
      "900\n",
      "-----------------------------\n",
      "(2, 32)\n",
      "0\n",
      "100\n",
      "200\n",
      "300\n",
      "400\n",
      "500\n",
      "600\n",
      "700\n",
      "800\n",
      "900\n",
      "-----------------------------\n",
      "(4, 16)\n",
      "0\n",
      "100\n",
      "200\n",
      "300\n",
      "400\n",
      "500\n",
      "600\n",
      "700\n",
      "800\n",
      "900\n",
      "-----------------------------\n",
      "(8, 8)\n",
      "0\n",
      "100\n",
      "200\n",
      "300\n",
      "400\n",
      "500\n",
      "600\n",
      "700\n",
      "800\n",
      "900\n",
      "-----------------------------\n",
      "(16, 4)\n",
      "0\n",
      "100\n",
      "200\n",
      "300\n",
      "400\n",
      "500\n",
      "600\n",
      "700\n",
      "800\n",
      "900\n",
      "-----------------------------\n",
      "(32, 2)\n",
      "0\n",
      "100\n",
      "200\n",
      "300\n",
      "400\n",
      "500\n",
      "600\n",
      "700\n",
      "800\n",
      "900\n",
      "-----------------------------\n",
      "(64, 1)\n",
      "0\n",
      "100\n",
      "200\n",
      "300\n",
      "400\n",
      "500\n",
      "600\n",
      "700\n",
      "800\n",
      "900\n",
      "-----------------------------\n"
     ]
    },
    {
     "data": {
      "text/plain": [
       "(1, 64)    0.973700\n",
       "(2, 32)    0.958416\n",
       "(4, 16)    0.930792\n",
       "(8, 8)     0.891662\n",
       "(16, 4)    0.799934\n",
       "(32, 2)    0.808960\n",
       "(64, 1)    0.964678\n",
       "dtype: float64"
      ]
     },
     "execution_count": 62,
     "metadata": {},
     "output_type": "execute_result"
    }
   ],
   "source": [
    "df_knns = mean_generalized_mrr(n_stacks, params, hash_vectors_hamming, b, df_measures ,'Cosine-bigram', trace = True)\n",
    "df_knns.mean(skipna = True, axis = 0)"
   ]
  },
  {
   "cell_type": "code",
   "execution_count": 63,
   "id": "805fd7c5-c106-46dd-bb52-4e9d4338eafd",
   "metadata": {},
   "outputs": [
    {
     "data": {
      "text/plain": [
       "0.930792245547159"
      ]
     },
     "execution_count": 63,
     "metadata": {},
     "output_type": "execute_result"
    }
   ],
   "source": [
    "df_knns.mean(skipna = True, axis = 0)['(4, 16)']"
   ]
  },
  {
   "cell_type": "markdown",
   "id": "bef17eb1-26d1-4f20-b686-4a649eac2ecf",
   "metadata": {},
   "source": [
    "### 4.4.3. Recall w.r.t. LSH"
   ]
  },
  {
   "cell_type": "code",
   "execution_count": 19,
   "id": "a5e53441-b3c7-4e38-98e9-4d6e8bb318f0",
   "metadata": {},
   "outputs": [
    {
     "data": {
      "text/plain": [
       "(1, 64)    1.000000\n",
       "(2, 32)    0.773874\n",
       "(4, 16)    0.732012\n",
       "(8, 8)     0.722141\n",
       "(16, 4)    0.501456\n",
       "(32, 2)    0.478230\n",
       "(64, 1)    0.831953\n",
       "dtype: float64"
      ]
     },
     "execution_count": 19,
     "metadata": {},
     "output_type": "execute_result"
    }
   ],
   "source": [
    "df_recall = recall_all(n_stacks, params, hash_vectors_hamming, b, df_measures ,'Cosine-bigram', trace = False)\n",
    "df_recall.mean(skipna = True)"
   ]
  },
  {
   "cell_type": "code",
   "execution_count": 20,
   "id": "15e626fc-7d35-4d9f-9e91-0ecd80e44306",
   "metadata": {},
   "outputs": [
    {
     "data": {
      "image/png": "[encoded data removed]",
      "text/plain": [
       "<Figure size 324x288 with 1 Axes>"
      ]
     },
     "metadata": {
      "needs_background": "light"
     },
     "output_type": "display_data"
    }
   ],
   "source": [
    "f, ax = plt.subplots(figsize=(4.5, 4))\n",
    "ax = sns.boxplot(data = df_recall, palette=\"Set3\")\n",
    "plt.xlabel(\"Hyperparameters of LSH (L,K)\", fontsize = 13)\n",
    "plt.ylabel(\"Recall w.r.t. LSH guarantees\", fontsize = 13)\n",
    "plt.title('Cosine-bigram (CNNH+LSH)', fontsize = 16)\n",
    "plt.savefig('Results/Baseline/Recall-LSH', bbox_inches='tight')\n",
    "plt.show()"
   ]
  },
  {
   "cell_type": "markdown",
   "id": "9295b95e-b178-4016-ab35-c190801af9fb",
   "metadata": {},
   "source": [
    "### 4.4.4. Precison w.r.t. LSH"
   ]
  },
  {
   "cell_type": "code",
   "execution_count": 21,
   "id": "0711fd0d-5f71-4a0c-8ff6-2eb94a85f90d",
   "metadata": {},
   "outputs": [
    {
     "data": {
      "text/plain": [
       "(1, 64)    0.011064\n",
       "(2, 32)    0.163592\n",
       "(4, 16)    0.365181\n",
       "(8, 8)     0.739329\n",
       "(16, 4)    0.834693\n",
       "(32, 2)    0.867229\n",
       "(64, 1)    0.713446\n",
       "dtype: float64"
      ]
     },
     "execution_count": 21,
     "metadata": {},
     "output_type": "execute_result"
    }
   ],
   "source": [
    "df_precision = precision_all(n_stacks, params, hash_vectors_hamming, b, df_measures ,'Cosine-bigram', trace = False)\n",
    "df_precision.mean(skipna = True, axis = 0)"
   ]
  },
  {
   "cell_type": "code",
   "execution_count": 22,
   "id": "df73d51c-91b5-45cc-899e-358ef675fbc4",
   "metadata": {},
   "outputs": [
    {
     "data": {
      "image/png": "[encoded data removed]",
      "text/plain": [
       "<Figure size 324x288 with 1 Axes>"
      ]
     },
     "metadata": {
      "needs_background": "light"
     },
     "output_type": "display_data"
    }
   ],
   "source": [
    "f, ax = plt.subplots(figsize=(4.5, 4))\n",
    "ax = sns.boxplot(data = df_precision, palette=\"Set3\")\n",
    "plt.xlabel(\"Hyperparameters of LSH (L,K)\", fontsize = 13)\n",
    "plt.ylabel(\"Precision w.r.t. LSH guarantees\", fontsize = 13)\n",
    "plt.title('Cosine-bigram (CNNH+LSH)', fontsize = 16)\n",
    "plt.savefig('Results/Baseline/precision-LSH', bbox_inches='tight')\n",
    "plt.show()"
   ]
  },
  {
   "cell_type": "markdown",
   "id": "7beb1ad5-9701-4bcc-9919-88e7f07443f8",
   "metadata": {},
   "source": [
    "### 4.4.5. Fscore w.r.t. LSH"
   ]
  },
  {
   "cell_type": "code",
   "execution_count": 23,
   "id": "8f0104a0-4633-4493-a93e-0f883c01f323",
   "metadata": {},
   "outputs": [
    {
     "data": {
      "text/plain": [
       "(1, 64)    0.014972\n",
       "(2, 32)    0.173668\n",
       "(4, 16)    0.353844\n",
       "(8, 8)     0.657847\n",
       "(16, 4)    0.571780\n",
       "(32, 2)    0.582756\n",
       "(64, 1)    0.728125\n",
       "dtype: float64"
      ]
     },
     "execution_count": 23,
     "metadata": {},
     "output_type": "execute_result"
    }
   ],
   "source": [
    "df_score_all = fscore_all(df_precision, df_recall)\n",
    "df_score_all.mean(skipna = True)"
   ]
  },
  {
   "cell_type": "code",
   "execution_count": 24,
   "id": "dbbdd43c-59e1-4ed4-a845-96a0bc165c85",
   "metadata": {},
   "outputs": [
    {
     "data": {
      "image/png": "[encoded data removed]",
      "text/plain": [
       "<Figure size 324x288 with 1 Axes>"
      ]
     },
     "metadata": {
      "needs_background": "light"
     },
     "output_type": "display_data"
    }
   ],
   "source": [
    "f, ax = plt.subplots(figsize=(4.5, 4))\n",
    "ax = sns.boxplot(data = df_score_all, palette=\"Set3\")\n",
    "plt.xlabel(\"Hyperparameters of LSH (L,K)\", fontsize = 13)\n",
    "plt.ylabel(\"F1-score w.r.t. LSH guarantees\", fontsize = 13)\n",
    "plt.title('Cosine-bigram (CNNH+LSH)', fontsize = 16)\n",
    "plt.savefig('Results/Baseline/fscore-LSH', bbox_inches='tight')\n",
    "plt.show()"
   ]
  }
 ],
 "metadata": {
  "kernelspec": {
   "display_name": "split-sd4x",
   "language": "python",
   "name": "split-sd4x"
  },
  "language_info": {
   "codemirror_mode": {
    "name": "ipython",
    "version": 3
   },
   "file_extension": ".py",
   "mimetype": "text/x-python",
   "name": "python",
   "nbconvert_exporter": "python",
   "pygments_lexer": "ipython3",
   "version": "3.7.10"
  }
 },
 "nbformat": 4,
 "nbformat_minor": 5
}
