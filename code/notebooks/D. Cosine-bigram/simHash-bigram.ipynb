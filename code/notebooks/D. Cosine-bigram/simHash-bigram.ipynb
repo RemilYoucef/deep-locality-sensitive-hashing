{
 "cells": [
  {
   "cell_type": "code",
   "execution_count": 1,
   "id": "7f099611-8612-48e9-ad41-5b9ab4c05186",
   "metadata": {},
   "outputs": [],
   "source": [
    "import os\n",
    "import sys\n",
    "import numpy as np\n",
    "import pandas as pd\n",
    "import random\n",
    "import matplotlib.pyplot as plt\n",
    "import seaborn as sns\n",
    "import warnings\n",
    "import pickle\n",
    "from tensorflow import keras \n",
    "warnings.filterwarnings(\"ignore\")\n",
    "from sklearn.feature_extraction.text import CountVectorizer"
   ]
  },
  {
   "cell_type": "code",
   "execution_count": 2,
   "id": "2e225f57-0f30-4c35-aac1-b1170feea20e",
   "metadata": {},
   "outputs": [],
   "source": [
    "sys.path.append(os.path.join(os.path.dirname(os.path.dirname(os.getcwd())),'python-packages/'))\n",
    "from deep_hashing_models import *\n",
    "from similarities import *\n",
    "from lsh_search import *"
   ]
  },
  {
   "cell_type": "markdown",
   "id": "5fd425d9-d073-40ed-aac9-9a30b698ace0",
   "metadata": {},
   "source": [
    "# 1. Data Preparation"
   ]
  },
  {
   "cell_type": "code",
   "execution_count": 3,
   "id": "fc3c3000-383d-4370-ab88-72258c46c13d",
   "metadata": {},
   "outputs": [
    {
     "data": {
      "text/plain": [
       "1000"
      ]
     },
     "execution_count": 3,
     "metadata": {},
     "output_type": "execute_result"
    }
   ],
   "source": [
    "data_repo = os.path.join(os.path.dirname(os.path.dirname(os.path.dirname(os.getcwd()))),'data/')\n",
    "df_distinct_stacks = pd.read_csv(data_repo + 'frequent_stack_traces.csv', index_col = [0])\n",
    "df_measures = pd.read_csv(data_repo + 'similarity-measures-pairs.csv', index_col = [0])\n",
    "n_stacks = df_distinct_stacks.shape[0]\n",
    "n_stacks"
   ]
  },
  {
   "cell_type": "code",
   "execution_count": 4,
   "id": "4b1e04e4-d77a-43f7-b528-288fd18739c4",
   "metadata": {},
   "outputs": [],
   "source": [
    "vectorizer_bigram = CountVectorizer(token_pattern = r\"(?u)\\b[a-zA-Z0-9_.]{2,}\\b\", ngram_range=(2, 2))\n",
    "s = df_distinct_stacks['stackTraceCusto'].apply(lambda x : x.replace('\\n',' '))\n",
    "s = s.apply(lambda x : x.replace('$',''))\n",
    "s = s.apply(lambda x : x.replace('/',''))\n",
    "s = s.apply(lambda x : x.replace('<',''))\n",
    "s = s.apply(lambda x : x.replace('>',''))\n",
    "X_bigram = vectorizer_bigram.fit_transform(list(s)).toarray()\n",
    "df_bigram = pd.DataFrame(data = X_bigram, columns = vectorizer_bigram.get_feature_names())"
   ]
  },
  {
   "cell_type": "markdown",
   "id": "9b48dab8-4494-4535-955b-022d893af914",
   "metadata": {},
   "source": [
    "# 2. SimHash"
   ]
  },
  {
   "cell_type": "code",
   "execution_count": 5,
   "id": "44e7cbc0-1edb-4d45-b902-440beff6d67f",
   "metadata": {},
   "outputs": [
    {
     "name": "stdout",
     "output_type": "stream",
     "text": [
      "CPU times: user 3.4 s, sys: 0 ns, total: 3.4 s\n",
      "Wall time: 3.43 s\n"
     ]
    },
    {
     "data": {
      "text/plain": [
       "array([[1, 1, 0, ..., 1, 0, 1],\n",
       "       [1, 0, 0, ..., 1, 0, 1],\n",
       "       [1, 0, 1, ..., 0, 1, 1],\n",
       "       ...,\n",
       "       [0, 1, 0, ..., 1, 1, 0],\n",
       "       [0, 1, 0, ..., 0, 1, 1],\n",
       "       [0, 1, 1, ..., 1, 0, 0]])"
      ]
     },
     "execution_count": 5,
     "metadata": {},
     "output_type": "execute_result"
    }
   ],
   "source": [
    "%%time\n",
    "embeddings = simhash(df_bigram)\n",
    "embeddings"
   ]
  },
  {
   "cell_type": "markdown",
   "id": "4c555eec-ea99-4261-aa88-6e93dee00a4f",
   "metadata": {},
   "source": [
    "# 3. Locality Sensitive Hashing"
   ]
  },
  {
   "cell_type": "code",
   "execution_count": 6,
   "id": "e4b215fc-b157-49c8-9885-5fd14bfbce88",
   "metadata": {
    "tags": []
   },
   "outputs": [],
   "source": [
    "size_vector = 8\n",
    "max_permutation = int(embeddings.shape[1] / size_vector)\n",
    "\n",
    "l = list(np.arange(max_permutation))\n",
    "combinations = list(itertools.combinations(l, 3))\n",
    "hash_tables = create_hash_tables_simhash(combinations, embeddings, size_vector)"
   ]
  },
  {
   "cell_type": "code",
   "execution_count": 7,
   "id": "8ea9f28d-d978-479f-b166-3816293d04bd",
   "metadata": {
    "tags": []
   },
   "outputs": [
    {
     "data": {
      "text/plain": [
       "{29, 59, 83, 109, 142, 178, 234, 251, 394, 411, 609, 726, 813}"
      ]
     },
     "execution_count": 7,
     "metadata": {},
     "output_type": "execute_result"
    }
   ],
   "source": [
    "index = 178\n",
    "set_near_duplicates = near_duplicates_simhash(index, combinations, embeddings, size_vector, hash_tables)\n",
    "set_near_duplicates"
   ]
  },
  {
   "cell_type": "code",
   "execution_count": 8,
   "id": "39048be4-38c7-4400-94dd-3191a5acb6a0",
   "metadata": {},
   "outputs": [],
   "source": [
    "list_near_duplicate_pairs = near_duplicate_pairs(index, set_near_duplicates, n_stacks)\n",
    "n_duplicate_pairs = len(list_near_duplicate_pairs)"
   ]
  },
  {
   "cell_type": "code",
   "execution_count": 9,
   "id": "c4d65226-01f7-4bfd-86e2-8886c8a25efe",
   "metadata": {},
   "outputs": [
    {
     "data": {
      "text/plain": [
       "162301    0.928571\n",
       "103073    0.857143\n",
       "79608     0.857143\n",
       "28713     0.857143\n",
       "162703    0.815374\n",
       "57348     0.785714\n",
       "162124    0.785714\n",
       "162284    0.785714\n",
       "131882    0.785714\n",
       "162616    0.785714\n",
       "162141    0.785714\n",
       "162499    0.714286\n",
       "Name: Cosine-bigram, dtype: float64"
      ]
     },
     "execution_count": 9,
     "metadata": {},
     "output_type": "execute_result"
    }
   ],
   "source": [
    "near_duplicates_sim = df_measures['Cosine-bigram'][list_near_duplicate_pairs].sort_values(ascending = False)\n",
    "near_duplicates_sim"
   ]
  },
  {
   "cell_type": "code",
   "execution_count": 10,
   "id": "285b7a45-3f5e-4721-8660-dda41eb6ccf6",
   "metadata": {},
   "outputs": [
    {
     "data": {
      "text/plain": [
       "{29, 59, 83, 109, 114, 251, 326, 357, 394, 411, 813, 997}"
      ]
     },
     "execution_count": 10,
     "metadata": {},
     "output_type": "execute_result"
    }
   ],
   "source": [
    "set_real_nns, real_nns_sim = real_nns(index, df_measures, 'Cosine-bigram', n_stacks, n_duplicate_pairs)\n",
    "set_real_nns"
   ]
  },
  {
   "cell_type": "code",
   "execution_count": 11,
   "id": "2c642541-fd3a-4743-9370-b28ac91c3c42",
   "metadata": {},
   "outputs": [
    {
     "data": {
      "text/plain": [
       "162301    0.928571\n",
       "79608     0.857143\n",
       "28713     0.857143\n",
       "103073    0.857143\n",
       "107508    0.815374\n",
       "162887    0.815374\n",
       "162703    0.815374\n",
       "162216    0.815374\n",
       "162247    0.785714\n",
       "162141    0.785714\n",
       "162284    0.785714\n",
       "57348     0.785714\n",
       "dtype: float64"
      ]
     },
     "execution_count": 11,
     "metadata": {},
     "output_type": "execute_result"
    }
   ],
   "source": [
    "real_nns_sim[:n_duplicate_pairs]"
   ]
  },
  {
   "cell_type": "markdown",
   "id": "8bf79627-cbaa-4576-8284-e656ab607daf",
   "metadata": {},
   "source": [
    "# 4. Metrics (SimHash)"
   ]
  },
  {
   "cell_type": "code",
   "execution_count": null,
   "id": "ca6c3f59-dbfc-4f1e-bd4b-559a4b49bd06",
   "metadata": {
    "tags": []
   },
   "outputs": [],
   "source": [
    "df_probLSH = mean_prob_hashing_smallest_elt_simhash(n_stacks, max_permutation, embeddings, size_vector, df_measures, 'Cosine-bigram', trace = False)\n",
    "\n",
    "f, ax = plt.subplots(figsize=(6, 4))\n",
    "ax = sns.boxplot(data = df_probLSH, palette=\"Set3\")\n",
    "plt.xlabel(\"permutations\", fontsize = 12)\n",
    "plt.ylabel(\"Prob hashing smallest elt in buckets\", fontsize = 12)\n",
    "plt.title('Cosine-bigram (SimHash) [Relation Prob-Sim]', fontsize = 16)\n",
    "plt.show()"
   ]
  },
  {
   "cell_type": "markdown",
   "id": "e9c70226-58ad-4cd7-9ba4-ac5872d5d641",
   "metadata": {},
   "source": [
    "## 4.1. Ratio of finding the $k$ real nearest neighbor with the Least $L$ (Recal rate at $k$ first positions)"
   ]
  },
  {
   "cell_type": "code",
   "execution_count": 29,
   "id": "02da718f-bcf8-4d6e-9f64-61b4d2589267",
   "metadata": {},
   "outputs": [
    {
     "data": {
      "text/plain": [
       "0.58"
      ]
     },
     "execution_count": 29,
     "metadata": {},
     "output_type": "execute_result"
    }
   ],
   "source": [
    "'All params'\n",
    "k_first_positions = 1\n",
    "recal_rate_simhash(n_stacks, max_permutation, embeddings, size_vector, df_measures, 'Cosine-bigram', k_first_positions)"
   ]
  },
  {
   "cell_type": "code",
   "execution_count": null,
   "id": "64f67bf1-49f7-4469-b6df-f482a717eb94",
   "metadata": {},
   "outputs": [],
   "source": [
    "'Best param'\n",
    "k_first_positions = 1\n",
    "recal_rate_one_param_simhash (n_stacks, 4, embeddings, size_vector, df_measures, 'Cosine-bigram', k_first_positions)"
   ]
  },
  {
   "cell_type": "markdown",
   "id": "994c5669-d433-45e7-a2cc-ec468535e016",
   "metadata": {},
   "source": [
    "-----------------------------------------------------------------"
   ]
  },
  {
   "cell_type": "code",
   "execution_count": 30,
   "id": "1964b4ec-a296-4b9c-b865-c9a63197ac4b",
   "metadata": {},
   "outputs": [
    {
     "data": {
      "text/plain": [
       "0.5923333333333337"
      ]
     },
     "execution_count": 30,
     "metadata": {},
     "output_type": "execute_result"
    }
   ],
   "source": [
    "'All params'\n",
    "k_first_positions = 3\n",
    "recal_rate_simhash(n_stacks, max_permutation, embeddings, size_vector, df_measures, 'Cosine-bigram', k_first_positions)"
   ]
  },
  {
   "cell_type": "code",
   "execution_count": null,
   "id": "40632ceb-3bfa-48c2-a001-88a01466c4b4",
   "metadata": {},
   "outputs": [],
   "source": [
    "'Best param'\n",
    "k_first_positions = 3\n",
    "recal_rate_one_param_simhash (n_stacks, 4, embeddings, size_vector, df_measures, 'Cosine-bigram', k_first_positions)"
   ]
  },
  {
   "cell_type": "markdown",
   "id": "b46cee13-4836-4ac3-aee8-722584a563b0",
   "metadata": {},
   "source": [
    "-----------------------------------------------------------------"
   ]
  },
  {
   "cell_type": "code",
   "execution_count": 31,
   "id": "68a63491-2bf0-4bad-b6d5-f8d5f2675d0d",
   "metadata": {},
   "outputs": [
    {
     "data": {
      "text/plain": [
       "0.5791999999999998"
      ]
     },
     "execution_count": 31,
     "metadata": {},
     "output_type": "execute_result"
    }
   ],
   "source": [
    "'All params'\n",
    "k_first_positions = 5\n",
    "recal_rate_simhash(n_stacks, max_permutation, embeddings, size_vector, df_measures, 'Cosine-bigram', k_first_positions)"
   ]
  },
  {
   "cell_type": "code",
   "execution_count": null,
   "id": "d13a711f-fd18-44c7-8fd4-3e9705f8eceb",
   "metadata": {},
   "outputs": [],
   "source": [
    "'Best param'\n",
    "k_first_positions = 5\n",
    "recal_rate_one_param_simhash (n_stacks, 4, embeddings, size_vector, df_measures, 'Cosine-bigram', k_first_positions)"
   ]
  },
  {
   "cell_type": "markdown",
   "id": "4da28cdb-31b3-426b-b6f5-c6a7527964e4",
   "metadata": {},
   "source": [
    "## 4.2. Generalized MRR"
   ]
  },
  {
   "cell_type": "code",
   "execution_count": 32,
   "id": "b4ed65fa-385c-4e26-80a2-c8c599f8230f",
   "metadata": {},
   "outputs": [
    {
     "data": {
      "text/plain": [
       "0.7953222010124372"
      ]
     },
     "execution_count": 32,
     "metadata": {},
     "output_type": "execute_result"
    }
   ],
   "source": [
    "df_knns = mean_generalized_mrr_simhash (n_stacks, max_permutation, embeddings, size_vector, df_measures, 'Cosine-bigram', trace = False)\n",
    "df_knns.mean(skipna = True, axis = 0).mean()"
   ]
  },
  {
   "cell_type": "markdown",
   "id": "1d044850-3ec8-432f-9325-d71e4464732f",
   "metadata": {},
   "source": [
    "## 4.3. Recall w.r.t. LSH"
   ]
  },
  {
   "cell_type": "code",
   "execution_count": 12,
   "id": "4427b8d4-f748-4b60-b70d-2624fdbfbc59",
   "metadata": {},
   "outputs": [
    {
     "data": {
      "text/plain": [
       "8    1.000000\n",
       "7    0.075163\n",
       "6    0.121683\n",
       "5    0.228993\n",
       "4    0.279796\n",
       "3    0.411388\n",
       "2    0.596769\n",
       "1    0.802953\n",
       "dtype: float64"
      ]
     },
     "execution_count": 12,
     "metadata": {},
     "output_type": "execute_result"
    }
   ],
   "source": [
    "df_recall = recall_all_simhash(n_stacks, max_permutation, embeddings, size_vector, df_measures , 'Cosine-bigram', trace = False)\n",
    "df_recall.mean(skipna = True)"
   ]
  },
  {
   "cell_type": "code",
   "execution_count": 13,
   "id": "f45eed6f-6327-4c1c-8cfe-ba85d5166992",
   "metadata": {},
   "outputs": [
    {
     "data": {
      "image/png": "[encoded data removed]",
      "text/plain": [
       "<Figure size 324x288 with 1 Axes>"
      ]
     },
     "metadata": {
      "needs_background": "light"
     },
     "output_type": "display_data"
    }
   ],
   "source": [
    "f, ax = plt.subplots(figsize=(4.5, 4))\n",
    "ax = sns.boxplot(data = df_recall, palette=\"Set3\")\n",
    "plt.xlabel(\"Hyperparameters of LSH (L,K)\", fontsize = 12)\n",
    "plt.ylabel(\"Recall w.r.t. LSH guaranteess\", fontsize = 12)\n",
    "plt.title('Cosine-bigram (SimHash)', fontsize = 16)\n",
    "plt.savefig('Results/SimHash/Recall-LSH', bbox_inches='tight')\n",
    "plt.show()"
   ]
  },
  {
   "cell_type": "markdown",
   "id": "563fc5bc-0bef-42dc-be68-be7c2ff33d13",
   "metadata": {},
   "source": [
    "## 4.4. Precision w.r.t. LSH"
   ]
  },
  {
   "cell_type": "code",
   "execution_count": 14,
   "id": "212548c8-b340-48cf-8fc7-2ca073a57c6f",
   "metadata": {},
   "outputs": [
    {
     "data": {
      "text/plain": [
       "8    0.857143\n",
       "7    0.588235\n",
       "6    0.714461\n",
       "5    0.640698\n",
       "4    0.788235\n",
       "3    0.663029\n",
       "2    0.389879\n",
       "1    0.132097\n",
       "dtype: float64"
      ]
     },
     "execution_count": 14,
     "metadata": {},
     "output_type": "execute_result"
    }
   ],
   "source": [
    "df_precision = precision_all_simhash(n_stacks, max_permutation, embeddings, size_vector, df_measures , 'Cosine-bigram', trace = False)\n",
    "df_precision.mean(skipna = True, axis = 0)"
   ]
  },
  {
   "cell_type": "code",
   "execution_count": 15,
   "id": "4f9f6221-f193-49b3-b0c0-d226882da0d8",
   "metadata": {},
   "outputs": [
    {
     "data": {
      "image/png": "[encoded data removed]",
      "text/plain": [
       "<Figure size 324x288 with 1 Axes>"
      ]
     },
     "metadata": {
      "needs_background": "light"
     },
     "output_type": "display_data"
    }
   ],
   "source": [
    "f, ax = plt.subplots(figsize=(4.5, 4))\n",
    "ax = sns.boxplot(data = df_precision, palette=\"Set3\")\n",
    "plt.xlabel(\"Hyperparameters of LSH (L,K)\", fontsize = 12)\n",
    "plt.ylabel(\"Precision w.r.t. LSH guarantees\", fontsize = 12)\n",
    "plt.title('Cosine-bigram (SimHash)', fontsize = 16)\n",
    "plt.savefig('Results/SimHash/precision-LSH', bbox_inches='tight')\n",
    "plt.show()"
   ]
  },
  {
   "cell_type": "markdown",
   "id": "86a6e3b8-1919-4a2a-93be-bb4258002929",
   "metadata": {},
   "source": [
    "## 4.5. Fscore w.r.t. LSH"
   ]
  },
  {
   "cell_type": "code",
   "execution_count": 18,
   "id": "ae795045-bd20-4c2a-ac0c-b3c6435f32c4",
   "metadata": {},
   "outputs": [
    {
     "data": {
      "text/plain": [
       "8    0.857143\n",
       "7    0.078616\n",
       "6    0.123254\n",
       "5    0.216271\n",
       "4    0.284087\n",
       "3    0.379141\n",
       "2    0.355070\n",
       "1    0.187000\n",
       "dtype: float64"
      ]
     },
     "execution_count": 18,
     "metadata": {},
     "output_type": "execute_result"
    }
   ],
   "source": [
    "df_score_all = fscore_all(df_precision, df_recall)\n",
    "df_score_all.mean(skipna = True)"
   ]
  },
  {
   "cell_type": "code",
   "execution_count": 17,
   "id": "56206069-8f8c-4484-aafd-3a09b5849804",
   "metadata": {},
   "outputs": [
    {
     "data": {
      "image/png": "[encoded data removed]",
      "text/plain": [
       "<Figure size 324x288 with 1 Axes>"
      ]
     },
     "metadata": {
      "needs_background": "light"
     },
     "output_type": "display_data"
    }
   ],
   "source": [
    "f, ax = plt.subplots(figsize=(4.5, 4))\n",
    "ax = sns.boxplot(data = df_score_all, palette=\"Set3\")\n",
    "plt.xlabel(\"Hyperparameters of LSH (L,K)\", fontsize = 12)\n",
    "plt.ylabel(\"F1-score w.r.t. LSH guarantees\", fontsize = 12)\n",
    "plt.title('Cosine-bigram (SimHash)', fontsize = 16)\n",
    "plt.savefig('Results/SimHash/fscore-LSH', bbox_inches='tight')\n",
    "plt.show()"
   ]
  }
 ],
 "metadata": {
  "kernelspec": {
   "display_name": "split-sd4x",
   "language": "python",
   "name": "split-sd4x"
  },
  "language_info": {
   "codemirror_mode": {
    "name": "ipython",
    "version": 3
   },
   "file_extension": ".py",
   "mimetype": "text/x-python",
   "name": "python",
   "nbconvert_exporter": "python",
   "pygments_lexer": "ipython3",
   "version": "3.7.10"
  }
 },
 "nbformat": 4,
 "nbformat_minor": 5
}
