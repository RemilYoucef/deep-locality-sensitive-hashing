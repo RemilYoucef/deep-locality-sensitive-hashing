{
 "cells": [
  {
   "cell_type": "code",
   "execution_count": 1,
   "id": "bb7e69c2-b065-46fa-b6eb-7ea56ae43f35",
   "metadata": {},
   "outputs": [],
   "source": [
    "import os\n",
    "import sys\n",
    "import numpy as np\n",
    "import pandas as pd\n",
    "import random\n",
    "import matplotlib.pyplot as plt\n",
    "import seaborn as sns\n",
    "import warnings\n",
    "import pickle\n",
    "from tensorflow import keras \n",
    "warnings.filterwarnings(\"ignore\")\n",
    "from sklearn.feature_extraction.text import CountVectorizer\n",
    "from sklearn.model_selection import train_test_split"
   ]
  },
  {
   "cell_type": "code",
   "execution_count": 2,
   "id": "1014d33e-c803-41ce-be12-ab1c3f929253",
   "metadata": {},
   "outputs": [],
   "source": [
    "sys.path.append(os.path.join(os.path.dirname(os.path.dirname(os.getcwd())),'python-packages/'))\n",
    "from deep_hashing_models import *\n",
    "from similarities import *\n",
    "from lsh_search import *"
   ]
  },
  {
   "cell_type": "markdown",
   "id": "627c738c-cd1f-4e1b-ae93-1aa3d25882aa",
   "metadata": {},
   "source": [
    "# 1. Data Preparation"
   ]
  },
  {
   "cell_type": "code",
   "execution_count": 3,
   "id": "e96659a4-eea0-48d9-8977-fecba559b78d",
   "metadata": {},
   "outputs": [],
   "source": [
    "data_repo = os.path.join(os.path.dirname(os.path.dirname(os.path.dirname(os.getcwd()))),'data/')"
   ]
  },
  {
   "cell_type": "code",
   "execution_count": 4,
   "id": "d2874701-b390-405b-9001-822faf31ade5",
   "metadata": {},
   "outputs": [],
   "source": [
    "df_distinct_stacks = pd.read_csv(data_repo + 'frequent_stack_traces.csv', index_col = [0])\n",
    "df_measures = pd.read_csv(data_repo + 'similarity-measures-pairs.csv', index_col = [0])"
   ]
  },
  {
   "cell_type": "code",
   "execution_count": 5,
   "id": "7b4772e1-6603-4344-a277-70d9728c61ea",
   "metadata": {},
   "outputs": [
    {
     "data": {
      "text/plain": [
       "1000"
      ]
     },
     "execution_count": 5,
     "metadata": {},
     "output_type": "execute_result"
    }
   ],
   "source": [
    "n_stacks = df_distinct_stacks.shape[0]\n",
    "n_stacks"
   ]
  },
  {
   "cell_type": "code",
   "execution_count": 6,
   "id": "e515f018-4609-4487-8d87-d707ca6347da",
   "metadata": {},
   "outputs": [],
   "source": [
    "vectorizer_bag_of_frames = CountVectorizer(token_pattern = r\"(?u)\\b[a-zA-Z0-9_.]{2,}\\b\")\n",
    "s = df_distinct_stacks['stackTraceCusto'].apply(lambda x : x.replace('\\n',' '))\n",
    "s = s.apply(lambda x : x.replace('$',''))\n",
    "s = s.apply(lambda x : x.replace('/',''))\n",
    "s = s.apply(lambda x : x.replace('<',''))\n",
    "s = s.apply(lambda x : x.replace('>',''))\n",
    "X_bag_of_frames = vectorizer_bag_of_frames.fit_transform(list(s)).toarray()\n",
    "df_bag_of_frames = pd.DataFrame(data = X_bag_of_frames, columns = vectorizer_bag_of_frames.get_feature_names())"
   ]
  },
  {
   "cell_type": "code",
   "execution_count": 7,
   "id": "50aa90c2-205c-4f47-8230-4da0ea7d618f",
   "metadata": {},
   "outputs": [],
   "source": [
    "X_train, X_validation, Y_train, Y_validation = train_test_split(df_measures.index, df_measures['PDM'], test_size = 0.2) "
   ]
  },
  {
   "cell_type": "code",
   "execution_count": 8,
   "id": "9b5ac005-aa8f-47fe-a5cf-ece206be1621",
   "metadata": {},
   "outputs": [],
   "source": [
    "indexes_train_1 = X_train.to_series().apply(lambda x : get_two_indexes(x, df_distinct_stacks.shape[0])[0]).to_list()\n",
    "indexes_train_2 = X_train.to_series().apply(lambda x : get_two_indexes(x, df_distinct_stacks.shape[0])[1]).to_list()\n",
    "indexes_validation_1 = X_validation.to_series().apply(lambda x : get_two_indexes(x, df_distinct_stacks.shape[0])[0]).to_list()\n",
    "indexes_validation_2 = X_validation.to_series().apply(lambda x : get_two_indexes(x, df_distinct_stacks.shape[0])[1]).to_list()"
   ]
  },
  {
   "cell_type": "code",
   "execution_count": 9,
   "id": "ed7fad07-aacc-453c-beba-7b0123b67c82",
   "metadata": {},
   "outputs": [],
   "source": [
    "X_train = dict()\n",
    "X_train['stack_1'] = df_bag_of_frames.loc[indexes_train_1].values\n",
    "X_train['stack_2'] = df_bag_of_frames.loc[indexes_train_2].values\n",
    "\n",
    "X_validation = dict()\n",
    "X_validation['stack_1'] = df_bag_of_frames.loc[indexes_validation_1].values\n",
    "X_validation['stack_2'] = df_bag_of_frames.loc[indexes_validation_2].values"
   ]
  },
  {
   "cell_type": "code",
   "execution_count": 10,
   "id": "7a79ade3-db36-4098-9c5a-109ec33a37eb",
   "metadata": {},
   "outputs": [],
   "source": [
    "Y_train = Y_train.values\n",
    "Y_validation = Y_validation.values"
   ]
  },
  {
   "cell_type": "code",
   "execution_count": 11,
   "id": "5f8cc839-bd54-4630-8f35-2a89bb19c00d",
   "metadata": {},
   "outputs": [],
   "source": [
    "assert X_train['stack_1'].shape == X_train['stack_2'].shape\n",
    "assert len(X_train['stack_1']) == len(Y_train)"
   ]
  },
  {
   "cell_type": "markdown",
   "id": "753999cd-6682-4263-b38e-1865140e6708",
   "metadata": {},
   "source": [
    "### Distribution of training data"
   ]
  },
  {
   "cell_type": "code",
   "execution_count": 12,
   "id": "3db6e7b6-ff7f-4089-be9b-af02e34646ed",
   "metadata": {},
   "outputs": [
    {
     "data": {
      "image/png": "[encoded data removed]",
      "text/plain": [
       "<Figure size 720x360 with 1 Axes>"
      ]
     },
     "metadata": {
      "needs_background": "light"
     },
     "output_type": "display_data"
    }
   ],
   "source": [
    "plt.rcParams[\"figure.figsize\"] = [10, 5]\n",
    "plt.hist(Y_train, 20, alpha = 1, density = False)\n",
    "plt.show()"
   ]
  },
  {
   "cell_type": "markdown",
   "id": "3a910820-e364-426d-9cbd-411794637bc8",
   "metadata": {},
   "source": [
    "### Distribution of test data"
   ]
  },
  {
   "cell_type": "code",
   "execution_count": 13,
   "id": "c242807e-a11b-43e2-82a0-aed22cbdefbc",
   "metadata": {},
   "outputs": [
    {
     "data": {
      "image/png": "[encoded data removed]",
      "text/plain": [
       "<Figure size 720x360 with 1 Axes>"
      ]
     },
     "metadata": {
      "needs_background": "light"
     },
     "output_type": "display_data"
    }
   ],
   "source": [
    "plt.rcParams[\"figure.figsize\"] = [10, 5]\n",
    "plt.hist(Y_validation, 20, alpha = 1, density = False)\n",
    "plt.show()"
   ]
  },
  {
   "cell_type": "markdown",
   "id": "19aa15e5-aee6-46ea-9c52-d1fa077b05dc",
   "metadata": {},
   "source": [
    "# 2. Model Design"
   ]
  },
  {
   "cell_type": "code",
   "execution_count": 14,
   "id": "02a2362d-059a-44b7-94f7-24e03680eef0",
   "metadata": {},
   "outputs": [],
   "source": [
    "'Number of hash tables functions' \n",
    "m = 64"
   ]
  },
  {
   "cell_type": "code",
   "execution_count": 15,
   "id": "6ea1ca10-c9ff-4735-ae80-e03691eb16ba",
   "metadata": {},
   "outputs": [],
   "source": [
    "'Number of bits per hash function' \n",
    "b = 8"
   ]
  },
  {
   "cell_type": "code",
   "execution_count": 16,
   "id": "06478197-071f-4395-804f-cbc171aadbd5",
   "metadata": {},
   "outputs": [
    {
     "data": {
      "text/plain": [
       "512"
      ]
     },
     "execution_count": 16,
     "metadata": {},
     "output_type": "execute_result"
    }
   ],
   "source": [
    "'Size hash vector'\n",
    "size_hash_vector = m * b\n",
    "size_hash_vector"
   ]
  },
  {
   "cell_type": "markdown",
   "id": "0d60851f-b05f-4bc6-80f0-ce736180afe0",
   "metadata": {},
   "source": [
    "## 2.1. Feature learning phase"
   ]
  },
  {
   "cell_type": "code",
   "execution_count": 17,
   "id": "d9893ed6-5d0b-41b2-816b-b410e1c07910",
   "metadata": {},
   "outputs": [],
   "source": [
    "x = Sequential()\n",
    "x.add(Dense(2048, input_dim = X_train['stack_1'].shape[1], activation = 'tanh'))\n",
    "x.add(Dense(1024, activation = 'tanh'))\n",
    "x.add(Dense(size_hash_vector, activation = 'tanh'))\n",
    "shared_model = x"
   ]
  },
  {
   "cell_type": "markdown",
   "id": "279ba874-5ea0-4a94-83a1-f7f7c9ca8e0e",
   "metadata": {},
   "source": [
    "## 2.2. Siamese Model "
   ]
  },
  {
   "cell_type": "code",
   "execution_count": 18,
   "id": "d1d8a570-b1a8-489c-8312-e78dca471a63",
   "metadata": {
    "tags": []
   },
   "outputs": [],
   "source": [
    "input_shape = (X_train['stack_1'].shape[1],)\n",
    "model = siamese_model(shared_model, input_shape, b, m, is_sparse = True, print_summary = False)"
   ]
  },
  {
   "cell_type": "markdown",
   "id": "0bb438cf-7efb-4603-aab4-1364b187938f",
   "metadata": {},
   "source": [
    "## 2.3. Model training "
   ]
  },
  {
   "cell_type": "code",
   "execution_count": 19,
   "id": "3c6beca4-2caa-4c8c-8ca9-c3dfaedffbdc",
   "metadata": {},
   "outputs": [
    {
     "name": "stdout",
     "output_type": "stream",
     "text": [
      "Epoch 1/20\n",
      "781/781 [==============================] - 38s 37ms/step - loss: 0.0044 - ham_dist_loss: 0.0044 - prod_vec_loss: 0.0112 - prod_vec_1_loss: 0.0110 - sum_vec_loss: 2.3498e-04 - sum_vec_1_loss: 2.3145e-04 - ham_dist_rmse: 0.0660 - ham_dist_mae: 0.0244 - val_loss: 7.7374e-04 - val_ham_dist_loss: 7.3454e-04 - val_prod_vec_loss: 0.0026 - val_prod_vec_1_loss: 0.0026 - val_sum_vec_loss: 1.2829e-04 - val_sum_vec_1_loss: 1.3391e-04 - val_ham_dist_rmse: 0.0271 - val_ham_dist_mae: 0.0131\n",
      "Epoch 2/20\n",
      "781/781 [==============================] - 26s 34ms/step - loss: 5.9661e-04 - ham_dist_loss: 5.6921e-04 - prod_vec_loss: 0.0019 - prod_vec_1_loss: 0.0019 - sum_vec_loss: 1.1839e-04 - sum_vec_1_loss: 1.1738e-04 - ham_dist_rmse: 0.0239 - ham_dist_mae: 0.0114 - val_loss: 5.1563e-04 - val_ham_dist_loss: 4.9716e-04 - val_prod_vec_loss: 0.0015 - val_prod_vec_1_loss: 0.0015 - val_sum_vec_loss: 1.1274e-04 - val_sum_vec_1_loss: 1.1015e-04 - val_ham_dist_rmse: 0.0223 - val_ham_dist_mae: 0.0103\n",
      "Epoch 3/20\n",
      "781/781 [==============================] - 25s 32ms/step - loss: 4.1338e-04 - ham_dist_loss: 3.9963e-04 - prod_vec_loss: 0.0011 - prod_vec_1_loss: 0.0011 - sum_vec_loss: 1.0147e-04 - sum_vec_1_loss: 9.6102e-05 - ham_dist_rmse: 0.0200 - ham_dist_mae: 0.0094 - val_loss: 4.3148e-04 - val_ham_dist_loss: 4.2360e-04 - val_prod_vec_loss: 9.9108e-04 - val_prod_vec_1_loss: 9.8861e-04 - val_sum_vec_loss: 1.0915e-04 - val_sum_vec_1_loss: 1.0982e-04 - val_ham_dist_rmse: 0.0206 - val_ham_dist_mae: 0.0095\n",
      "Epoch 4/20\n",
      "781/781 [==============================] - 24s 30ms/step - loss: 3.3211e-04 - ham_dist_loss: 3.2473e-04 - prod_vec_loss: 7.8460e-04 - prod_vec_1_loss: 8.0008e-04 - sum_vec_loss: 9.5396e-05 - sum_vec_1_loss: 9.0933e-05 - ham_dist_rmse: 0.0180 - ham_dist_mae: 0.0085 - val_loss: 3.5229e-04 - val_ham_dist_loss: 3.4939e-04 - val_prod_vec_loss: 6.9975e-04 - val_prod_vec_1_loss: 7.0530e-04 - val_sum_vec_loss: 8.8224e-05 - val_sum_vec_1_loss: 9.0012e-05 - val_ham_dist_rmse: 0.0187 - val_ham_dist_mae: 0.0085\n",
      "Epoch 5/20\n",
      "781/781 [==============================] - 24s 30ms/step - loss: 2.8417e-04 - ham_dist_loss: 2.8077e-04 - prod_vec_loss: 5.7374e-04 - prod_vec_1_loss: 5.8726e-04 - sum_vec_loss: 9.4666e-05 - sum_vec_1_loss: 8.5230e-05 - ham_dist_rmse: 0.0168 - ham_dist_mae: 0.0078 - val_loss: 3.1420e-04 - val_ham_dist_loss: 3.1532e-04 - val_prod_vec_loss: 4.9909e-04 - val_prod_vec_1_loss: 5.1393e-04 - val_sum_vec_loss: 9.5309e-05 - val_sum_vec_1_loss: 8.1532e-05 - val_ham_dist_rmse: 0.0178 - val_ham_dist_mae: 0.0079\n",
      "Epoch 6/20\n",
      "781/781 [==============================] - 30s 39ms/step - loss: 2.5613e-04 - ham_dist_loss: 2.5583e-04 - prod_vec_loss: 4.3439e-04 - prod_vec_1_loss: 4.4736e-04 - sum_vec_loss: 8.3490e-05 - sum_vec_1_loss: 7.7293e-05 - ham_dist_rmse: 0.0160 - ham_dist_mae: 0.0075 - val_loss: 2.8647e-04 - val_ham_dist_loss: 2.8879e-04 - val_prod_vec_loss: 4.0327e-04 - val_prod_vec_1_loss: 4.3090e-04 - val_sum_vec_loss: 9.2772e-05 - val_sum_vec_1_loss: 7.9492e-05 - val_ham_dist_rmse: 0.0170 - val_ham_dist_mae: 0.0077\n",
      "Epoch 7/20\n",
      "781/781 [==============================] - 26s 33ms/step - loss: 2.3659e-04 - ham_dist_loss: 2.3770e-04 - prod_vec_loss: 3.4851e-04 - prod_vec_1_loss: 3.6766e-04 - sum_vec_loss: 8.6089e-05 - sum_vec_1_loss: 7.7732e-05 - ham_dist_rmse: 0.0154 - ham_dist_mae: 0.0072 - val_loss: 2.6219e-04 - val_ham_dist_loss: 2.6582e-04 - val_prod_vec_loss: 3.2845e-04 - val_prod_vec_1_loss: 3.4301e-04 - val_sum_vec_loss: 8.6052e-05 - val_sum_vec_1_loss: 7.3355e-05 - val_ham_dist_rmse: 0.0163 - val_ham_dist_mae: 0.0073\n",
      "Epoch 8/20\n",
      "781/781 [==============================] - 24s 31ms/step - loss: 2.2089e-04 - ham_dist_loss: 2.2307e-04 - prod_vec_loss: 2.8822e-04 - prod_vec_1_loss: 3.0449e-04 - sum_vec_loss: 8.4634e-05 - sum_vec_1_loss: 7.5438e-05 - ham_dist_rmse: 0.0149 - ham_dist_mae: 0.0070 - val_loss: 2.6277e-04 - val_ham_dist_loss: 2.6733e-04 - val_prod_vec_loss: 2.8930e-04 - val_prod_vec_1_loss: 3.0620e-04 - val_sum_vec_loss: 9.5785e-05 - val_sum_vec_1_loss: 8.6553e-05 - val_ham_dist_rmse: 0.0164 - val_ham_dist_mae: 0.0074\n",
      "Epoch 9/20\n",
      "781/781 [==============================] - 24s 31ms/step - loss: 2.1222e-04 - ham_dist_loss: 2.1500e-04 - prod_vec_loss: 2.5091e-04 - prod_vec_1_loss: 2.6913e-04 - sum_vec_loss: 8.5406e-05 - sum_vec_1_loss: 7.6660e-05 - ham_dist_rmse: 0.0147 - ham_dist_mae: 0.0069 - val_loss: 2.4532e-04 - val_ham_dist_loss: 2.5064e-04 - val_prod_vec_loss: 2.3358e-04 - val_prod_vec_1_loss: 2.5771e-04 - val_sum_vec_loss: 9.0299e-05 - val_sum_vec_1_loss: 8.0278e-05 - val_ham_dist_rmse: 0.0158 - val_ham_dist_mae: 0.0072\n",
      "Epoch 10/20\n",
      "781/781 [==============================] - 24s 30ms/step - loss: 1.9768e-04 - ham_dist_loss: 2.0106e-04 - prod_vec_loss: 2.0436e-04 - prod_vec_1_loss: 2.2647e-04 - sum_vec_loss: 8.4394e-05 - sum_vec_1_loss: 7.2614e-05 - ham_dist_rmse: 0.0142 - ham_dist_mae: 0.0067 - val_loss: 2.1961e-04 - val_ham_dist_loss: 2.2457e-04 - val_prod_vec_loss: 1.9193e-04 - val_prod_vec_1_loss: 2.1737e-04 - val_sum_vec_loss: 9.0923e-05 - val_sum_vec_1_loss: 8.0635e-05 - val_ham_dist_rmse: 0.0150 - val_ham_dist_mae: 0.0068\n",
      "Epoch 11/20\n",
      "781/781 [==============================] - 24s 31ms/step - loss: 1.8908e-04 - ham_dist_loss: 1.9308e-04 - prod_vec_loss: 1.6982e-04 - prod_vec_1_loss: 1.8724e-04 - sum_vec_loss: 8.4087e-05 - sum_vec_1_loss: 7.5659e-05 - ham_dist_rmse: 0.0139 - ham_dist_mae: 0.0065 - val_loss: 2.2414e-04 - val_ham_dist_loss: 2.3032e-04 - val_prod_vec_loss: 1.7216e-04 - val_prod_vec_1_loss: 1.9630e-04 - val_sum_vec_loss: 8.2526e-05 - val_sum_vec_1_loss: 7.5160e-05 - val_ham_dist_rmse: 0.0152 - val_ham_dist_mae: 0.0069\n",
      "Epoch 12/20\n",
      "781/781 [==============================] - 24s 31ms/step - loss: 1.8212e-04 - ham_dist_loss: 1.8632e-04 - prod_vec_loss: 1.4946e-04 - prod_vec_1_loss: 1.6670e-04 - sum_vec_loss: 8.3880e-05 - sum_vec_1_loss: 7.6633e-05 - ham_dist_rmse: 0.0136 - ham_dist_mae: 0.0064 - val_loss: 2.1713e-04 - val_ham_dist_loss: 2.2280e-04 - val_prod_vec_loss: 1.6718e-04 - val_prod_vec_1_loss: 1.8494e-04 - val_sum_vec_loss: 9.4498e-05 - val_sum_vec_1_loss: 8.1277e-05 - val_ham_dist_rmse: 0.0149 - val_ham_dist_mae: 0.0067\n",
      "Epoch 13/20\n",
      "781/781 [==============================] - 24s 30ms/step - loss: 1.7596e-04 - ham_dist_loss: 1.8040e-04 - prod_vec_loss: 1.3464e-04 - prod_vec_1_loss: 1.5236e-04 - sum_vec_loss: 7.8898e-05 - sum_vec_1_loss: 7.1488e-05 - ham_dist_rmse: 0.0134 - ham_dist_mae: 0.0063 - val_loss: 1.9695e-04 - val_ham_dist_loss: 2.0319e-04 - val_prod_vec_loss: 1.2135e-04 - val_prod_vec_1_loss: 1.3873e-04 - val_sum_vec_loss: 8.0370e-05 - val_sum_vec_1_loss: 7.2713e-05 - val_ham_dist_rmse: 0.0143 - val_ham_dist_mae: 0.0064\n",
      "Epoch 14/20\n",
      "781/781 [==============================] - 24s 30ms/step - loss: 1.6633e-04 - ham_dist_loss: 1.7102e-04 - prod_vec_loss: 1.1637e-04 - prod_vec_1_loss: 1.3118e-04 - sum_vec_loss: 7.1434e-05 - sum_vec_1_loss: 6.4935e-05 - ham_dist_rmse: 0.0131 - ham_dist_mae: 0.0061 - val_loss: 1.9537e-04 - val_ham_dist_loss: 2.0187e-04 - val_prod_vec_loss: 1.1694e-04 - val_prod_vec_1_loss: 1.3380e-04 - val_sum_vec_loss: 7.2176e-05 - val_sum_vec_1_loss: 6.8900e-05 - val_ham_dist_rmse: 0.0142 - val_ham_dist_mae: 0.0064\n",
      "Epoch 15/20\n",
      "781/781 [==============================] - 25s 32ms/step - loss: 1.5863e-04 - ham_dist_loss: 1.6341e-04 - prod_vec_loss: 9.9419e-05 - prod_vec_1_loss: 1.1336e-04 - sum_vec_loss: 7.0083e-05 - sum_vec_1_loss: 6.4795e-05 - ham_dist_rmse: 0.0128 - ham_dist_mae: 0.0060 - val_loss: 1.8518e-04 - val_ham_dist_loss: 1.9182e-04 - val_prod_vec_loss: 9.4112e-05 - val_prod_vec_1_loss: 1.0673e-04 - val_sum_vec_loss: 7.1403e-05 - val_sum_vec_1_loss: 6.9675e-05 - val_ham_dist_rmse: 0.0138 - val_ham_dist_mae: 0.0063\n",
      "Epoch 16/20\n",
      "781/781 [==============================] - 24s 31ms/step - loss: 1.5173e-04 - ham_dist_loss: 1.5666e-04 - prod_vec_loss: 8.8044e-05 - prod_vec_1_loss: 1.0088e-04 - sum_vec_loss: 6.3093e-05 - sum_vec_1_loss: 5.9459e-05 - ham_dist_rmse: 0.0125 - ham_dist_mae: 0.0059 - val_loss: 1.7406e-04 - val_ham_dist_loss: 1.8068e-04 - val_prod_vec_loss: 8.2117e-05 - val_prod_vec_1_loss: 9.7904e-05 - val_sum_vec_loss: 6.3019e-05 - val_sum_vec_1_loss: 5.6334e-05 - val_ham_dist_rmse: 0.0134 - val_ham_dist_mae: 0.0061\n",
      "Epoch 17/20\n",
      "781/781 [==============================] - 22s 29ms/step - loss: 1.4508e-04 - ham_dist_loss: 1.5018e-04 - prod_vec_loss: 7.1919e-05 - prod_vec_1_loss: 8.4647e-05 - sum_vec_loss: 6.1913e-05 - sum_vec_1_loss: 5.5645e-05 - ham_dist_rmse: 0.0123 - ham_dist_mae: 0.0058 - val_loss: 1.7181e-04 - val_ham_dist_loss: 1.7859e-04 - val_prod_vec_loss: 7.6158e-05 - val_prod_vec_1_loss: 8.8054e-05 - val_sum_vec_loss: 6.1870e-05 - val_sum_vec_1_loss: 5.4314e-05 - val_ham_dist_rmse: 0.0134 - val_ham_dist_mae: 0.0061\n",
      "Epoch 18/20\n",
      "781/781 [==============================] - 23s 30ms/step - loss: 1.4167e-04 - ham_dist_loss: 1.4678e-04 - prod_vec_loss: 6.4934e-05 - prod_vec_1_loss: 7.6055e-05 - sum_vec_loss: 6.3022e-05 - sum_vec_1_loss: 5.6295e-05 - ham_dist_rmse: 0.0121 - ham_dist_mae: 0.0057 - val_loss: 1.7160e-04 - val_ham_dist_loss: 1.7838e-04 - val_prod_vec_loss: 7.0678e-05 - val_prod_vec_1_loss: 7.9699e-05 - val_sum_vec_loss: 6.4690e-05 - val_sum_vec_1_loss: 6.4431e-05 - val_ham_dist_rmse: 0.0134 - val_ham_dist_mae: 0.0060\n",
      "Epoch 19/20\n",
      "781/781 [==============================] - 25s 32ms/step - loss: 1.4038e-04 - ham_dist_loss: 1.4538e-04 - prod_vec_loss: 6.2792e-05 - prod_vec_1_loss: 7.2825e-05 - sum_vec_loss: 6.5568e-05 - sum_vec_1_loss: 5.9849e-05 - ham_dist_rmse: 0.0121 - ham_dist_mae: 0.0057 - val_loss: 1.6161e-04 - val_ham_dist_loss: 1.6821e-04 - val_prod_vec_loss: 5.5597e-05 - val_prod_vec_1_loss: 6.6300e-05 - val_sum_vec_loss: 6.9295e-05 - val_sum_vec_1_loss: 5.9188e-05 - val_ham_dist_rmse: 0.0130 - val_ham_dist_mae: 0.0058\n",
      "Epoch 20/20\n",
      "781/781 [==============================] - 28s 35ms/step - loss: 1.3585e-04 - ham_dist_loss: 1.4091e-04 - prod_vec_loss: 5.2148e-05 - prod_vec_1_loss: 6.2531e-05 - sum_vec_loss: 6.5524e-05 - sum_vec_1_loss: 5.9627e-05 - ham_dist_rmse: 0.0119 - ham_dist_mae: 0.0056 - val_loss: 1.6108e-04 - val_ham_dist_loss: 1.6787e-04 - val_prod_vec_loss: 4.7528e-05 - val_prod_vec_1_loss: 5.9385e-05 - val_sum_vec_loss: 6.9503e-05 - val_sum_vec_1_loss: 6.0180e-05 - val_ham_dist_rmse: 0.0130 - val_ham_dist_mae: 0.0058\n"
     ]
    }
   ],
   "source": [
    "siamese_model = train_siamese_model(model, X_train, X_validation, Y_train, Y_validation, batch_size = 512, epochs = 20)"
   ]
  },
  {
   "cell_type": "markdown",
   "id": "8de2153c-d75d-41be-848b-d503f6c36239",
   "metadata": {},
   "source": [
    "# 3. Model Evaluation"
   ]
  },
  {
   "cell_type": "code",
   "execution_count": 20,
   "id": "70c8adc8-2869-4868-b036-a328d003da67",
   "metadata": {},
   "outputs": [
    {
     "data": {
      "text/plain": [
       "[<tensorflow.python.keras.engine.input_layer.InputLayer at 0x7f4b2b6d7310>,\n",
       " <tensorflow.python.keras.engine.input_layer.InputLayer at 0x7f4b2bc39950>,\n",
       " <tensorflow.python.keras.engine.sequential.Sequential at 0x7f4b2bc78790>,\n",
       " <deep_hashing_models.HamDist at 0x7f4b2b6e08d0>,\n",
       " <deep_hashing_models.ProdVec at 0x7f4b2b6daf90>,\n",
       " <deep_hashing_models.ProdVec at 0x7f4b2b4ec590>,\n",
       " <deep_hashing_models.SumVec at 0x7f46f0228e10>,\n",
       " <deep_hashing_models.SumVec at 0x7f4b2b69ba10>]"
      ]
     },
     "execution_count": 20,
     "metadata": {},
     "output_type": "execute_result"
    }
   ],
   "source": [
    "model.layers"
   ]
  },
  {
   "cell_type": "markdown",
   "id": "6e08e438-f7db-4ffd-a703-c050649eed80",
   "metadata": {},
   "source": [
    "## 3.1. Loss functions"
   ]
  },
  {
   "cell_type": "markdown",
   "id": "2ba523e6-4b29-4979-9739-3840a9d279e5",
   "metadata": {},
   "source": [
    "#### 3.1.1. MSE of $\\mathcal{L}_{DeepLSH}$"
   ]
  },
  {
   "cell_type": "code",
   "execution_count": 21,
   "id": "78fa1d12-53e0-4b18-bd6d-b49e0ac5a173",
   "metadata": {},
   "outputs": [
    {
     "data": {
      "text/plain": [
       "<matplotlib.legend.Legend at 0x7f4b2b5aab50>"
      ]
     },
     "execution_count": 21,
     "metadata": {},
     "output_type": "execute_result"
    },
    {
     "data": {
      "image/png": "[encoded data removed]",
      "text/plain": [
       "<Figure size 324x288 with 1 Axes>"
      ]
     },
     "metadata": {
      "needs_background": "light"
     },
     "output_type": "display_data"
    }
   ],
   "source": [
    "plt.rcParams[\"figure.figsize\"] = (4.5,4)\n",
    "plt.plot(siamese_model.history['loss'], linewidth = 2.5)\n",
    "plt.plot(siamese_model.history['val_loss'], linewidth = 2.5)\n",
    "plt.title('PDM (DeepLSH)', fontsize = 18)\n",
    "plt.ylabel('Mean Squared Error', fontsize = 13)\n",
    "plt.xlabel('Epochs', fontsize = 13)\n",
    "plt.xticks(fontsize= 12)\n",
    "plt.yticks(fontsize= 12)\n",
    "plt.ticklabel_format(axis = 'y', style='', scilimits=(0,0))\n",
    "plt.savefig('Results/DeepLSH/loss-MSE.png', bbox_inches='tight')\n",
    "plt.legend(['Train', 'Validation'], loc='upper right', fontsize=15)"
   ]
  },
  {
   "cell_type": "markdown",
   "id": "05afb4e6-9037-456a-9663-060eb611c0b8",
   "metadata": {},
   "source": [
    "#### 3.1.2. RMSE of LSH preserving loss"
   ]
  },
  {
   "cell_type": "code",
   "execution_count": 22,
   "id": "9cd1cda5-36b1-41ab-8dc3-2ebfe56fd4d9",
   "metadata": {},
   "outputs": [
    {
     "data": {
      "text/plain": [
       "<matplotlib.legend.Legend at 0x7f42341b71d0>"
      ]
     },
     "execution_count": 22,
     "metadata": {},
     "output_type": "execute_result"
    },
    {
     "data": {
      "image/png": "[encoded data removed]",
      "text/plain": [
       "<Figure size 576x360 with 1 Axes>"
      ]
     },
     "metadata": {
      "needs_background": "light"
     },
     "output_type": "display_data"
    }
   ],
   "source": [
    "plt.rcParams[\"figure.figsize\"] = (8,5)\n",
    "plt.plot(siamese_model.history[model.layers[3].name + '_rmse'], linewidth = 2)\n",
    "plt.plot(siamese_model.history['val_' + model.layers[3].name + '_rmse'], linewidth = 2)\n",
    "plt.title('PDM (DeepLSH)', fontsize = 20)\n",
    "plt.ylabel('RMSE (LSH-preserving)', fontsize = 12)\n",
    "plt.xlabel('Epochs', fontsize = 12)\n",
    "plt.ticklabel_format(style='', scilimits=(0,0))\n",
    "plt.legend(['Train', 'Validation'], loc='upper right', fontsize=15)"
   ]
  },
  {
   "cell_type": "markdown",
   "id": "ac94472b-7465-4ab0-99dd-c042b4a32572",
   "metadata": {},
   "source": [
    "#### 3.1.3. MAE of LSH preserving loss"
   ]
  },
  {
   "cell_type": "code",
   "execution_count": 23,
   "id": "c4c8e448-e36f-4a8d-8d5f-a5da5c4d5019",
   "metadata": {},
   "outputs": [
    {
     "data": {
      "text/plain": [
       "<matplotlib.legend.Legend at 0x7f4234148bd0>"
      ]
     },
     "execution_count": 23,
     "metadata": {},
     "output_type": "execute_result"
    },
    {
     "data": {
      "image/png": "[encoded data removed]",
      "text/plain": [
       "<Figure size 576x360 with 1 Axes>"
      ]
     },
     "metadata": {
      "needs_background": "light"
     },
     "output_type": "display_data"
    }
   ],
   "source": [
    "plt.rcParams[\"figure.figsize\"] = (8,5)\n",
    "plt.plot(siamese_model.history[model.layers[3].name + '_mae'], linewidth = 2)\n",
    "plt.plot(siamese_model.history['val_' + model.layers[3].name + '_mae'], linewidth = 2)\n",
    "plt.title('PDM (DeepLSH)', fontsize = 20)\n",
    "plt.ylabel('MAE (LSH-preserving)', fontsize = 12)\n",
    "plt.xlabel('Epochs', fontsize = 12)\n",
    "plt.ticklabel_format(style='', scilimits=(0,0))\n",
    "plt.legend(['Train', 'Validation'], loc='upper right', fontsize=15)"
   ]
  },
  {
   "cell_type": "markdown",
   "id": "f8f7f1d0-62b0-4612-ab39-9c38fad06a4c",
   "metadata": {},
   "source": [
    "## 3.2. Model Predictions"
   ]
  },
  {
   "cell_type": "code",
   "execution_count": 24,
   "id": "1f089e9c-7bbd-40fb-90f3-3e4c7a2798d2",
   "metadata": {},
   "outputs": [],
   "source": [
    "predictions = predict(model, X_validation)"
   ]
  },
  {
   "cell_type": "markdown",
   "id": "19834dba-ff8b-45fa-aead-ac2e6d099273",
   "metadata": {},
   "source": [
    "### 3.2.1. Examples"
   ]
  },
  {
   "cell_type": "code",
   "execution_count": 25,
   "id": "eade347d-6ee3-4fa3-ba1a-c5298f94c96e",
   "metadata": {},
   "outputs": [
    {
     "data": {
      "text/plain": [
       "array([0.   , 0.187, 0.124, 0.001, 0.016, 0.187, 0.   , 0.219, 0.074,\n",
       "       0.   , 0.   , 0.25 , 0.   , 0.094, 0.016, 0.906, 0.08 , 0.096,\n",
       "       0.172, 0.   , 0.125, 0.   , 0.   , 0.   , 0.   , 0.125, 0.031,\n",
       "       0.031, 0.078, 0.   , 0.   , 0.266, 0.109, 0.   , 0.   , 0.   ,\n",
       "       0.111, 0.171, 0.   , 0.171, 0.   , 0.   , 0.063, 0.312, 0.156,\n",
       "       0.   , 0.   , 0.   , 0.   , 0.031], dtype=float32)"
      ]
     },
     "execution_count": 25,
     "metadata": {},
     "output_type": "execute_result"
    }
   ],
   "source": [
    "np.around(predictions[0][:50],3) "
   ]
  },
  {
   "cell_type": "code",
   "execution_count": 26,
   "id": "8f18d2a7-c115-4a7c-9492-facb302c578b",
   "metadata": {},
   "outputs": [
    {
     "data": {
      "text/plain": [
       "array([0.   , 0.167, 0.119, 0.   , 0.025, 0.149, 0.   , 0.216, 0.067,\n",
       "       0.   , 0.   , 0.248, 0.   , 0.098, 0.01 , 0.913, 0.07 , 0.115,\n",
       "       0.175, 0.   , 0.142, 0.   , 0.   , 0.   , 0.   , 0.119, 0.025,\n",
       "       0.041, 0.072, 0.   , 0.   , 0.264, 0.106, 0.   , 0.   , 0.   ,\n",
       "       0.125, 0.183, 0.   , 0.161, 0.   , 0.   , 0.054, 0.31 , 0.136,\n",
       "       0.   , 0.   , 0.   , 0.   , 0.   ])"
      ]
     },
     "execution_count": 26,
     "metadata": {},
     "output_type": "execute_result"
    }
   ],
   "source": [
    "np.around(Y_validation[:50],3) "
   ]
  },
  {
   "cell_type": "markdown",
   "id": "98409488-ca93-4cd3-b71c-547fa4baa6ef",
   "metadata": {},
   "source": [
    "### 3.2.2. Spearman $\\rho$ and Kendall $\\tau$ correlation"
   ]
  },
  {
   "cell_type": "code",
   "execution_count": 27,
   "id": "01573553-5d50-49eb-aa52-c480c0de67f0",
   "metadata": {},
   "outputs": [
    {
     "data": {
      "image/png": "[encoded data removed]",
      "text/plain": [
       "<Figure size 288x288 with 1 Axes>"
      ]
     },
     "metadata": {
      "needs_background": "light"
     },
     "output_type": "display_data"
    }
   ],
   "source": [
    "plt.rcParams[\"figure.figsize\"] = (4,4)\n",
    "plt.scatter(Y_validation, predictions[0], alpha = 0.5, marker = 'x', c = '#227093')\n",
    "plt.title('PDM (DeepLSH)', fontsize = 16)\n",
    "plt.xlabel(\"PDM similarity values\", fontsize = 12)\n",
    "plt.ylabel(\"Collision probability\", fontsize = 12)\n",
    "plt.savefig('Results/DeepLSH/PDM-correlation.png', bbox_inches='tight')\n",
    "plt.show()"
   ]
  },
  {
   "cell_type": "code",
   "execution_count": 28,
   "id": "f80a43e7-b4b5-4956-9b3d-6a1457a6ee92",
   "metadata": {},
   "outputs": [
    {
     "data": {
      "text/plain": [
       "0.9208965642772211"
      ]
     },
     "execution_count": 28,
     "metadata": {},
     "output_type": "execute_result"
    }
   ],
   "source": [
    "rho, p_value = spearman_rho(predictions, Y_validation)\n",
    "rho"
   ]
  },
  {
   "cell_type": "code",
   "execution_count": 29,
   "id": "7f6dc861-28aa-4f3d-b0fb-7f5caf453280",
   "metadata": {},
   "outputs": [
    {
     "data": {
      "text/plain": [
       "0.8500901338505086"
      ]
     },
     "execution_count": 29,
     "metadata": {},
     "output_type": "execute_result"
    }
   ],
   "source": [
    "tau, p_value = kendall_tau(predictions, Y_validation)\n",
    "tau"
   ]
  },
  {
   "cell_type": "markdown",
   "id": "895fc952-6e22-451a-abd2-86de43e87328",
   "metadata": {},
   "source": [
    "## 3.3. Approximate Hamming Evaluation"
   ]
  },
  {
   "cell_type": "code",
   "execution_count": 30,
   "id": "6b9edd91-5e15-4aa8-8a05-4985b8623897",
   "metadata": {},
   "outputs": [
    {
     "data": {
      "text/plain": [
       "<tensorflow.python.keras.engine.sequential.Sequential at 0x7f4b2bc78790>"
      ]
     },
     "execution_count": 30,
     "metadata": {},
     "output_type": "execute_result"
    }
   ],
   "source": [
    "output_layer = 2\n",
    "model.layers[output_layer]"
   ]
  },
  {
   "cell_type": "code",
   "execution_count": 31,
   "id": "acaf1823-ca3b-4d6c-9a71-a6c9acf5e1f5",
   "metadata": {},
   "outputs": [],
   "source": [
    "intermediate_model = intermediate_model_trained(shared_model, output_layer)"
   ]
  },
  {
   "cell_type": "code",
   "execution_count": 32,
   "id": "af463035-c96a-4c73-b86b-88d4008062f4",
   "metadata": {},
   "outputs": [
    {
     "name": "stdout",
     "output_type": "stream",
     "text": [
      "WARNING:tensorflow:Compiled the loaded model, but the compiled metrics have yet to be built. `model.compile_metrics` will be empty until you train or evaluate the model.\n",
      "INFO:tensorflow:Assets written to: Models/model-deep-lsh.model/assets\n"
     ]
    }
   ],
   "source": [
    "intermediate_model.save('Models/model-deep-lsh.model')"
   ]
  },
  {
   "cell_type": "code",
   "execution_count": 33,
   "id": "e1d76839-294e-46e9-9318-89ef7ee93f72",
   "metadata": {},
   "outputs": [],
   "source": [
    "#intermediate_model = keras.models.load_model('Models/model-deep-lsh.model')"
   ]
  },
  {
   "cell_type": "markdown",
   "id": "b4d1758f-ff99-49fc-b85c-4fe66560da40",
   "metadata": {},
   "source": [
    "### 3.3.1. Example of a hash vector provided by the model (in the last epoch)"
   ]
  },
  {
   "cell_type": "code",
   "execution_count": 34,
   "id": "ec686420-c52a-4925-852f-939cfe007904",
   "metadata": {
    "tags": []
   },
   "outputs": [
    {
     "data": {
      "text/plain": [
       "array([ 1.        , -1.        , -1.        ,  1.        , -0.9999814 ,\n",
       "       -1.        ,  0.99998987,  1.        ,  1.        ,  1.        ,\n",
       "        1.        ,  1.        , -1.        ,  1.        , -1.        ,\n",
       "        1.        , -1.        , -1.        , -1.        ,  1.        ,\n",
       "        1.        , -0.9999408 , -1.        , -1.        ,  1.        ,\n",
       "        1.        ,  1.        , -1.        ,  1.        , -1.        ,\n",
       "        1.        , -0.9999625 , -1.        ,  1.        ,  1.        ,\n",
       "       -1.        ,  1.        , -0.9997838 ,  1.        ,  1.        ,\n",
       "       -1.        ,  1.        ,  1.        , -1.        , -1.        ,\n",
       "       -1.        , -1.        , -1.        , -1.        ,  1.        ,\n",
       "       -1.        , -1.        ,  1.        , -1.        ,  1.        ,\n",
       "        1.        ,  1.        ,  1.        ,  1.        , -1.        ,\n",
       "        1.        , -1.        ,  1.        , -0.9999977 ], dtype=float32)"
      ]
     },
     "execution_count": 34,
     "metadata": {},
     "output_type": "execute_result"
    }
   ],
   "source": [
    "'First 64 bits'\n",
    "intermediate_model.predict(df_bag_of_frames.iloc[[10]])[0][:64]"
   ]
  },
  {
   "cell_type": "markdown",
   "id": "4ec939b1-4814-49cd-80ff-ee2bad747358",
   "metadata": {},
   "source": [
    "### 3.3.2. Average value of the absolute hash values"
   ]
  },
  {
   "cell_type": "code",
   "execution_count": 35,
   "id": "f54a9180-f4a4-4e0c-94ed-e36df291b072",
   "metadata": {},
   "outputs": [],
   "source": [
    "hash_vectors = intermediate_model.predict(df_bag_of_frames)"
   ]
  },
  {
   "cell_type": "code",
   "execution_count": 36,
   "id": "b5607102-bb85-46a9-9551-045f437edfcf",
   "metadata": {
    "tags": []
   },
   "outputs": [
    {
     "data": {
      "text/plain": [
       "array([[-1.       , -1.       , -1.       , ..., -1.       ,  1.       ,\n",
       "        -1.       ],\n",
       "       [-1.       , -1.       , -1.       , ..., -1.       ,  1.       ,\n",
       "        -1.       ],\n",
       "       [ 1.       , -1.       , -1.       , ..., -1.       ,  1.       ,\n",
       "        -1.       ],\n",
       "       ...,\n",
       "       [ 1.       ,  1.       , -1.       , ...,  1.       , -1.       ,\n",
       "         1.       ],\n",
       "       [ 1.       , -1.       , -1.       , ..., -1.       ,  1.       ,\n",
       "         1.       ],\n",
       "       [-1.       ,  1.       ,  0.9992112, ...,  1.       , -1.       ,\n",
       "         1.       ]], dtype=float32)"
      ]
     },
     "execution_count": 36,
     "metadata": {},
     "output_type": "execute_result"
    }
   ],
   "source": [
    "hash_vectors"
   ]
  },
  {
   "cell_type": "code",
   "execution_count": 37,
   "id": "0fd308c0-f913-4d55-b45b-01f976a62e0b",
   "metadata": {},
   "outputs": [
    {
     "data": {
      "text/plain": [
       "0.9951342"
      ]
     },
     "execution_count": 37,
     "metadata": {},
     "output_type": "execute_result"
    }
   ],
   "source": [
    "np.mean(np.abs(hash_vectors))"
   ]
  },
  {
   "cell_type": "markdown",
   "id": "2ca2d6a3-75da-472a-99bb-b25ece9df8a7",
   "metadata": {},
   "source": [
    "### 3.3.3. Ratio of binary values from hash vectors provided by the model"
   ]
  },
  {
   "cell_type": "code",
   "execution_count": 38,
   "id": "5bb9bdd7-c931-4db2-8a89-b20c7fb92d9e",
   "metadata": {},
   "outputs": [
    {
     "data": {
      "text/plain": [
       "0.82277734375"
      ]
     },
     "execution_count": 38,
     "metadata": {},
     "output_type": "execute_result"
    }
   ],
   "source": [
    "hash_vectors[(hash_vectors == 1) | (hash_vectors == -1)].size / hash_vectors.size"
   ]
  },
  {
   "cell_type": "markdown",
   "id": "5a606dc1-dd06-4376-9f33-1254286c701d",
   "metadata": {},
   "source": [
    "### 3.3.4. Comparison between approximate hamming and real hamming"
   ]
  },
  {
   "cell_type": "code",
   "execution_count": 39,
   "id": "03dd89e8-82d7-47c2-8c33-a0652d3ec536",
   "metadata": {},
   "outputs": [],
   "source": [
    "df_hamming = compare_hamming(X_validation, intermediate_model, b, size_hash_vector)"
   ]
  },
  {
   "cell_type": "code",
   "execution_count": 40,
   "id": "3fdc0913-64e8-4b05-a1fd-75f20c1a418a",
   "metadata": {},
   "outputs": [
    {
     "data": {
      "image/png": "[encoded data removed]",
      "text/plain": [
       "<Figure size 288x288 with 1 Axes>"
      ]
     },
     "metadata": {
      "needs_background": "light"
     },
     "output_type": "display_data"
    }
   ],
   "source": [
    "plt.rcParams[\"figure.figsize\"] = (4,4)\n",
    "plt.scatter(predictions[0], df_hamming['hamming'], alpha = 0.5, marker = 'x', c = '#b33939')\n",
    "plt.xlabel(\"Approximate Hamming Similariy\", fontsize = 12)\n",
    "plt.ylabel(\"Hamming Similarity\", fontsize = 12)\n",
    "plt.title('PDM (DeepLSH)', fontsize = 16)\n",
    "plt.savefig('Results/DeepLSH/PDM-hamming-comparison', bbox_inches='tight')\n",
    "plt.show()"
   ]
  },
  {
   "cell_type": "markdown",
   "id": "b030832c-7872-45da-8698-a0bbf16fe3cb",
   "metadata": {},
   "source": [
    "# 4. Locality Sensitive Hashing"
   ]
  },
  {
   "cell_type": "code",
   "execution_count": 41,
   "id": "2aacdd9c-73d0-4257-af38-1768e9f4aa05",
   "metadata": {},
   "outputs": [],
   "source": [
    "hash_vectors_hamming = convert_to_hamming(hash_vectors)"
   ]
  },
  {
   "cell_type": "code",
   "execution_count": 42,
   "id": "f3bb826f-5e0d-4d6e-8356-d1f3315d6ebd",
   "metadata": {},
   "outputs": [
    {
     "data": {
      "text/plain": [
       "[(1, 64), (2, 32), (4, 16), (8, 8), (16, 4), (32, 2), (64, 1)]"
      ]
     },
     "execution_count": 42,
     "metadata": {},
     "output_type": "execute_result"
    }
   ],
   "source": [
    "params = lsh_hyperparams(m)\n",
    "'(K,L)'\n",
    "params "
   ]
  },
  {
   "cell_type": "markdown",
   "id": "cabab99d-9820-4b91-a6ed-6f2b3b38b0b9",
   "metadata": {},
   "source": [
    "## 4.1. Choose the best combination (L, K)"
   ]
  },
  {
   "cell_type": "code",
   "execution_count": 43,
   "id": "1aeac3ba-cb08-4e8a-913b-1dbd0529c782",
   "metadata": {},
   "outputs": [
    {
     "data": {
      "text/plain": [
       "<matplotlib.legend.Legend at 0x7f4233e6bad0>"
      ]
     },
     "execution_count": 43,
     "metadata": {},
     "output_type": "execute_result"
    },
    {
     "data": {
      "image/png": "[encoded data removed]",
      "text/plain": [
       "<Figure size 648x360 with 1 Axes>"
      ]
     },
     "metadata": {
      "needs_background": "light"
     },
     "output_type": "display_data"
    }
   ],
   "source": [
    "plt.rcParams[\"figure.figsize\"] = [9, 5]\n",
    "x = np.linspace(0, 1, 100)\n",
    "for param in params:\n",
    "    y = 1 - (1 - (x)**param[1])**param[0]\n",
    "    plt.plot(x, y, label = 'L = %d, r = %d' %param)\n",
    "plt.xlabel(\"similarity values\", fontsize = 12)\n",
    "plt.ylabel(\"hash probability in at least 1 bucket\", fontsize = 12)\n",
    "plt.title('Probability-similarity relation', fontsize = 18)\n",
    "plt.legend()"
   ]
  },
  {
   "cell_type": "code",
   "execution_count": 44,
   "id": "b931100a-06bb-4748-80a8-e09f31905b2a",
   "metadata": {},
   "outputs": [],
   "source": [
    "df_probLSH = mean_prob_hashing_smallest_elt(n_stacks, params, hash_vectors_hamming, b, df_measures, 'PDM', trace = False)"
   ]
  },
  {
   "cell_type": "code",
   "execution_count": 45,
   "id": "98685548-ab7a-4bb4-a39c-61f448d1c42b",
   "metadata": {},
   "outputs": [
    {
     "data": {
      "image/png": "[encoded data removed]",
      "text/plain": [
       "<Figure size 432x288 with 1 Axes>"
      ]
     },
     "metadata": {
      "needs_background": "light"
     },
     "output_type": "display_data"
    }
   ],
   "source": [
    "f, ax = plt.subplots(figsize=(6, 4))\n",
    "ax = sns.boxplot(data = df_probLSH, palette=\"Set3\")\n",
    "plt.xlabel(\"Hyperparameters of LSH (L,K)\", fontsize = 12)\n",
    "plt.ylabel(\"Prob hashing smallest elt in buckets\", fontsize = 12)\n",
    "plt.title('PDM (DeepLSH) [Relation Prob-Sim]', fontsize = 16)\n",
    "plt.savefig('Results/DeepLSH/PDM-Relation-Prob-Sim', bbox_inches='tight')\n",
    "plt.show()"
   ]
  },
  {
   "cell_type": "code",
   "execution_count": 46,
   "id": "0e85f833-8a8c-4fe7-803d-52c4a8d78194",
   "metadata": {},
   "outputs": [
    {
     "data": {
      "text/plain": [
       "(8, 8)"
      ]
     },
     "execution_count": 46,
     "metadata": {},
     "output_type": "execute_result"
    }
   ],
   "source": [
    "'L = K = 8'\n",
    "L, K = params[3]\n",
    "L, K"
   ]
  },
  {
   "cell_type": "markdown",
   "id": "dc0d84af-ec41-43dc-b1cd-73e92cd96894",
   "metadata": {},
   "source": [
    "### 4.1.1. Mean and Median probability for all stack traces for a the best combination of $K$ and $L$"
   ]
  },
  {
   "cell_type": "code",
   "execution_count": 47,
   "id": "3a414e49-3f64-4aa0-b2aa-c7d12490eb15",
   "metadata": {},
   "outputs": [
    {
     "data": {
      "text/plain": [
       "0.6195524390932932"
      ]
     },
     "execution_count": 47,
     "metadata": {},
     "output_type": "execute_result"
    }
   ],
   "source": [
    "df_probLSH.mean()['(8, 8)']"
   ]
  },
  {
   "cell_type": "code",
   "execution_count": 48,
   "id": "4381a53d-2b3b-438b-afb7-b91389db8a45",
   "metadata": {},
   "outputs": [
    {
     "data": {
      "text/plain": [
       "0.6461246665498239"
      ]
     },
     "execution_count": 48,
     "metadata": {},
     "output_type": "execute_result"
    }
   ],
   "source": [
    "df_probLSH.median()['(8, 8)']"
   ]
  },
  {
   "cell_type": "markdown",
   "id": "6ebdb37a-a88b-46f1-8a22-1c0f872f6cd6",
   "metadata": {},
   "source": [
    "## 4.2. Build hash tables with binary hash vectors w.r.t $K$ and $L$"
   ]
  },
  {
   "cell_type": "code",
   "execution_count": 49,
   "id": "fb84b5ab-519b-4dd1-bb5e-5ced695bf3a4",
   "metadata": {},
   "outputs": [],
   "source": [
    "hash_tables = create_hash_tables(L, K, b, hash_vectors_hamming)"
   ]
  },
  {
   "cell_type": "code",
   "execution_count": 50,
   "id": "990e3198-6b1b-44a3-bac0-a5f66a91e4eb",
   "metadata": {},
   "outputs": [],
   "source": [
    "with open('Hash-Tables/hash_tables_deeplsh.pkl', 'wb') as f:\n",
    "    pickle.dump(hash_tables, f)"
   ]
  },
  {
   "cell_type": "markdown",
   "id": "70f264b8-e59e-4995-b416-f8966cfc4d8f",
   "metadata": {},
   "source": [
    "## 4.3. Search for approximate nearest neighbors (this procedure need to be explained in the paper) "
   ]
  },
  {
   "cell_type": "code",
   "execution_count": 51,
   "id": "46bdb33d-c680-4242-919e-cd2dfd73e353",
   "metadata": {},
   "outputs": [
    {
     "data": {
      "text/plain": [
       "929"
      ]
     },
     "execution_count": 51,
     "metadata": {},
     "output_type": "execute_result"
    }
   ],
   "source": [
    "'pointer to the stack trace'\n",
    "index = random.randint(0,n_stacks)\n",
    "index"
   ]
  },
  {
   "cell_type": "code",
   "execution_count": 52,
   "id": "ce6258ad-9458-4e9b-867a-d3b4fc675966",
   "metadata": {},
   "outputs": [
    {
     "data": {
      "text/plain": [
       "{214, 285, 369, 404, 465, 490, 573, 635, 705, 929}"
      ]
     },
     "execution_count": 52,
     "metadata": {},
     "output_type": "execute_result"
    }
   ],
   "source": [
    "set_near_duplicates = near_duplicates(L, K, b, index, hash_vectors_hamming, hash_tables)\n",
    "set_near_duplicates"
   ]
  },
  {
   "cell_type": "code",
   "execution_count": 53,
   "id": "d3c836e7-fc34-47cd-9889-f76db2bc71a2",
   "metadata": {},
   "outputs": [],
   "source": [
    "list_near_duplicate_pairs = near_duplicate_pairs(index, set_near_duplicates, n_stacks)\n",
    "n_duplicate_pairs = len(list_near_duplicate_pairs)"
   ]
  },
  {
   "cell_type": "code",
   "execution_count": 54,
   "id": "561cd65b-4aa5-4f8c-b4a2-423baa352721",
   "metadata": {},
   "outputs": [
    {
     "data": {
      "text/plain": [
       "370143    0.940514\n",
       "357118    0.940514\n",
       "433363    0.940514\n",
       "301294    0.940514\n",
       "244888    0.940514\n",
       "456358    0.939113\n",
       "408904    0.854711\n",
       "191709    0.847499\n",
       "322714    0.733305\n",
       "Name: PDM, dtype: float64"
      ]
     },
     "execution_count": 54,
     "metadata": {},
     "output_type": "execute_result"
    }
   ],
   "source": [
    "near_duplicates_sim = df_measures['PDM'][list_near_duplicate_pairs].sort_values(ascending = False)\n",
    "near_duplicates_sim"
   ]
  },
  {
   "cell_type": "code",
   "execution_count": 55,
   "id": "6510bce7-6663-4db3-8455-0b846720c6f1",
   "metadata": {
    "tags": []
   },
   "outputs": [
    {
     "data": {
      "text/plain": [
       "{214, 285, 369, 465, 490, 573, 635, 705, 790}"
      ]
     },
     "execution_count": 55,
     "metadata": {},
     "output_type": "execute_result"
    }
   ],
   "source": [
    "set_real_nns, real_nns_sim = real_nns(index, df_measures, 'PDM', n_stacks, n_duplicate_pairs)\n",
    "set_real_nns"
   ]
  },
  {
   "cell_type": "code",
   "execution_count": 56,
   "id": "0c2d9881-6df4-463f-9dd1-7d02a9fd1347",
   "metadata": {},
   "outputs": [
    {
     "data": {
      "text/plain": [
       "433363    0.940514\n",
       "357118    0.940514\n",
       "370143    0.940514\n",
       "244888    0.940514\n",
       "301294    0.940514\n",
       "456358    0.939113\n",
       "408904    0.854711\n",
       "191709    0.847499\n",
       "477693    0.820531\n",
       "dtype: float64"
      ]
     },
     "execution_count": 56,
     "metadata": {},
     "output_type": "execute_result"
    }
   ],
   "source": [
    "real_nns_sim[:n_duplicate_pairs]"
   ]
  },
  {
   "cell_type": "markdown",
   "id": "47aa72d7-020e-4a46-9f1c-f95ea57c3a2b",
   "metadata": {},
   "source": [
    "## 4.4. Metrics"
   ]
  },
  {
   "cell_type": "markdown",
   "id": "108a4d18-597e-4a51-9f51-940a80fd0be8",
   "metadata": {},
   "source": [
    "### 4.4.1. Ratio of finding the $k$ real nearest neighbor with the Least $L$ (Recal rate at $k$ first positions)"
   ]
  },
  {
   "cell_type": "code",
   "execution_count": 57,
   "id": "55ad1f38-83e2-4e55-8483-c7971ede8ec2",
   "metadata": {},
   "outputs": [
    {
     "data": {
      "text/plain": [
       "0.844"
      ]
     },
     "execution_count": 57,
     "metadata": {},
     "output_type": "execute_result"
    }
   ],
   "source": [
    "'All params'\n",
    "k_first_positions = 1\n",
    "recal_rate(n_stacks, params, hash_vectors_hamming, b, df_measures, k_first_positions, 'PDM')"
   ]
  },
  {
   "cell_type": "code",
   "execution_count": 58,
   "id": "7424b84d-1066-4e2c-a6ec-4c67d448440c",
   "metadata": {},
   "outputs": [
    {
     "data": {
      "text/plain": [
       "0.9706227967097533"
      ]
     },
     "execution_count": 58,
     "metadata": {},
     "output_type": "execute_result"
    }
   ],
   "source": [
    "'Best param'\n",
    "k_first_positions = 1\n",
    "recal_rate_one_param(n_stacks, params[3], hash_vectors_hamming, b, df_measures, k_first_positions, 'PDM')"
   ]
  },
  {
   "cell_type": "markdown",
   "id": "b20f2315-986c-4bc2-89dc-9dd1757a8c78",
   "metadata": {},
   "source": [
    "-----------------------------------------------------------------"
   ]
  },
  {
   "cell_type": "code",
   "execution_count": 59,
   "id": "aa6e30e1-37f9-45cc-8356-2df3ce14f4c1",
   "metadata": {},
   "outputs": [
    {
     "data": {
      "text/plain": [
       "0.8803333333333319"
      ]
     },
     "execution_count": 59,
     "metadata": {},
     "output_type": "execute_result"
    }
   ],
   "source": [
    "'All params'\n",
    "k_first_positions = 3\n",
    "recal_rate(n_stacks, params, hash_vectors_hamming, b, df_measures, k_first_positions, 'PDM')"
   ]
  },
  {
   "cell_type": "code",
   "execution_count": 60,
   "id": "d85c52a9-2948-44cd-94d8-62c40b7b8b8c",
   "metadata": {},
   "outputs": [
    {
     "data": {
      "text/plain": [
       "0.9575936883629188"
      ]
     },
     "execution_count": 60,
     "metadata": {},
     "output_type": "execute_result"
    }
   ],
   "source": [
    "'Best param'\n",
    "k_first_positions = 3\n",
    "recal_rate_one_param(n_stacks, params[3], hash_vectors_hamming, b, df_measures, k_first_positions, 'PDM')"
   ]
  },
  {
   "cell_type": "markdown",
   "id": "de7a74bc-5737-406e-b30e-d09834d1d6c5",
   "metadata": {},
   "source": [
    "-----------------------------------------------------------------"
   ]
  },
  {
   "cell_type": "code",
   "execution_count": 61,
   "id": "f3c6cd88-f248-41f1-8eac-74f36dcbd2cc",
   "metadata": {},
   "outputs": [
    {
     "data": {
      "text/plain": [
       "0.9013999999999993"
      ]
     },
     "execution_count": 61,
     "metadata": {},
     "output_type": "execute_result"
    }
   ],
   "source": [
    "'All params'\n",
    "k_first_positions = 5\n",
    "recal_rate(n_stacks, params, hash_vectors_hamming, b, df_measures, k_first_positions, 'PDM')"
   ]
  },
  {
   "cell_type": "code",
   "execution_count": 62,
   "id": "cd421b6d-9527-41f4-80c4-bd20572a75b9",
   "metadata": {},
   "outputs": [
    {
     "data": {
      "text/plain": [
       "0.9591549295774657"
      ]
     },
     "execution_count": 62,
     "metadata": {},
     "output_type": "execute_result"
    }
   ],
   "source": [
    "'Best param'\n",
    "k_first_positions = 5\n",
    "recal_rate_one_param(n_stacks, params[3], hash_vectors_hamming, b, df_measures, k_first_positions, 'PDM')"
   ]
  },
  {
   "cell_type": "markdown",
   "id": "78b9f9fc-d7c0-46a0-afc0-9d6295866fbf",
   "metadata": {},
   "source": [
    "### 4.4.2. Generalized MRR"
   ]
  },
  {
   "cell_type": "markdown",
   "id": "81af2e1e-b878-4f18-95b7-4b4d35b5cb3f",
   "metadata": {},
   "source": [
    "$ \\frac{1}{|\\mathcal{R}_i|} \\sum_{s' \\in \\mathcal{R}_i} \\frac{\\text{rank}(s',\\mathcal{R}_i)}{\\text{rank}(s',NNs(s_i))}$"
   ]
  },
  {
   "cell_type": "code",
   "execution_count": 63,
   "id": "8d572df0-2963-4794-b603-a642a1c3422f",
   "metadata": {
    "tags": []
   },
   "outputs": [
    {
     "data": {
      "text/plain": [
       "0.9473684210526316"
      ]
     },
     "execution_count": 63,
     "metadata": {},
     "output_type": "execute_result"
    }
   ],
   "source": [
    "generalized_mrr(near_duplicates_sim, real_nns_sim)"
   ]
  },
  {
   "cell_type": "code",
   "execution_count": 64,
   "id": "20822989-304f-4ebf-b661-355b72deb819",
   "metadata": {
    "tags": []
   },
   "outputs": [
    {
     "data": {
      "text/plain": [
       "(1, 64)    0.933209\n",
       "(2, 32)    0.955316\n",
       "(4, 16)    0.945024\n",
       "(8, 8)     0.949710\n",
       "(16, 4)    0.927965\n",
       "(32, 2)    0.915085\n",
       "(64, 1)    0.997925\n",
       "dtype: float64"
      ]
     },
     "execution_count": 64,
     "metadata": {},
     "output_type": "execute_result"
    }
   ],
   "source": [
    "df_knns = mean_generalized_mrr(n_stacks, params, hash_vectors_hamming, b, df_measures ,'PDM', trace = False)\n",
    "df_knns.mean(skipna = True, axis = 0)"
   ]
  },
  {
   "cell_type": "code",
   "execution_count": 65,
   "id": "0ea32e74-81b4-4e0b-b8b5-00ff69c7fd57",
   "metadata": {},
   "outputs": [
    {
     "data": {
      "image/png": "[encoded data removed]",
      "text/plain": [
       "<Figure size 324x288 with 1 Axes>"
      ]
     },
     "metadata": {
      "needs_background": "light"
     },
     "output_type": "display_data"
    }
   ],
   "source": [
    "f, ax = plt.subplots(figsize=(4.5, 4))\n",
    "ax = sns.boxplot(data = df_knns, palette=\"Set3\")\n",
    "plt.xlabel(\"Hyperparameters of LSH (L,K)\", fontsize = 12)\n",
    "plt.ylabel(\"Generalized MRR\", fontsize = 12)\n",
    "plt.title('PDM (DeepLSH)', fontsize = 16)\n",
    "plt.savefig('Results/DeepLSH/Generalized-MRR', bbox_inches='tight')\n",
    "plt.show()"
   ]
  },
  {
   "cell_type": "markdown",
   "id": "1c7817c3-30dc-42ec-b7bf-14bcde81ec5e",
   "metadata": {},
   "source": [
    "### 4.4.3. Recall w.r.t. LSH"
   ]
  },
  {
   "cell_type": "code",
   "execution_count": 66,
   "id": "8272583c-c749-4d5d-b9e5-ee4eb82c656a",
   "metadata": {},
   "outputs": [
    {
     "data": {
      "text/plain": [
       "(1, 64)    0.925926\n",
       "(2, 32)    0.822040\n",
       "(4, 16)    0.868199\n",
       "(8, 8)     0.875447\n",
       "(16, 4)    0.863524\n",
       "(32, 2)    0.783236\n",
       "(64, 1)    0.984927\n",
       "dtype: float64"
      ]
     },
     "execution_count": 66,
     "metadata": {},
     "output_type": "execute_result"
    }
   ],
   "source": [
    "df_recall = recall_all(n_stacks, params, hash_vectors_hamming, b, df_measures ,'PDM', trace = False)\n",
    "df_recall.mean(skipna = True)"
   ]
  },
  {
   "cell_type": "code",
   "execution_count": 67,
   "id": "2a117127-bf85-446b-867f-d26ddf216ab0",
   "metadata": {},
   "outputs": [
    {
     "data": {
      "image/png": "[encoded data removed]",
      "text/plain": [
       "<Figure size 324x288 with 1 Axes>"
      ]
     },
     "metadata": {
      "needs_background": "light"
     },
     "output_type": "display_data"
    }
   ],
   "source": [
    "f, ax = plt.subplots(figsize=(4.5, 4))\n",
    "ax = sns.boxplot(data = df_recall, palette=\"Set3\")\n",
    "plt.xlabel(\"Hyperparameters of LSH (L,K)\", fontsize = 13)\n",
    "plt.ylabel(\"Recall w.r.t. LSH guarantees\", fontsize = 13)\n",
    "plt.title('PDM (DeepLSH)', fontsize = 16)\n",
    "plt.savefig('Results/DeepLSH/Recall-LSH', bbox_inches='tight')\n",
    "plt.show()"
   ]
  },
  {
   "cell_type": "markdown",
   "id": "45a52656-d698-4feb-8ed1-43e9f4a4838c",
   "metadata": {},
   "source": [
    "### 4.4.4. Precison w.r.t. LSH"
   ]
  },
  {
   "cell_type": "code",
   "execution_count": 68,
   "id": "cf751aee-c0bd-4721-aec5-a8aef9bee6cd",
   "metadata": {},
   "outputs": [
    {
     "data": {
      "text/plain": [
       "(1, 64)    0.096220\n",
       "(2, 32)    0.307143\n",
       "(4, 16)    0.750159\n",
       "(8, 8)     0.838518\n",
       "(16, 4)    0.845510\n",
       "(32, 2)    0.837909\n",
       "(64, 1)    0.921058\n",
       "dtype: float64"
      ]
     },
     "execution_count": 68,
     "metadata": {},
     "output_type": "execute_result"
    }
   ],
   "source": [
    "df_precision = precision_all(n_stacks, params, hash_vectors_hamming, b, df_measures ,'PDM', trace = False)\n",
    "df_precision.mean(skipna = True, axis = 0)"
   ]
  },
  {
   "cell_type": "code",
   "execution_count": 69,
   "id": "ff77a3c2-8e54-48d1-a4c9-3df8865c62db",
   "metadata": {},
   "outputs": [
    {
     "data": {
      "image/png": "[encoded data removed]",
      "text/plain": [
       "<Figure size 324x288 with 1 Axes>"
      ]
     },
     "metadata": {
      "needs_background": "light"
     },
     "output_type": "display_data"
    }
   ],
   "source": [
    "f, ax = plt.subplots(figsize=(4.5, 4))\n",
    "ax = sns.boxplot(data = df_precision, palette=\"Set3\")\n",
    "plt.xlabel(\"Hyperparameters of LSH (L,K)\", fontsize = 13)\n",
    "plt.ylabel(\"Precision w.r.t. LSH guarantees\", fontsize = 13)\n",
    "plt.title('PDM (DeepLSH)', fontsize = 16)\n",
    "plt.savefig('Results/DeepLSH/precision-LSH', bbox_inches='tight')\n",
    "plt.show()"
   ]
  },
  {
   "cell_type": "markdown",
   "id": "016e583e-d90e-43d1-b3e0-b7667b5da046",
   "metadata": {},
   "source": [
    "### 4.4.5. Fscore w.r.t. LSH"
   ]
  },
  {
   "cell_type": "code",
   "execution_count": 70,
   "id": "94e8a0bd-c78d-4c30-86f2-ad9b167ec9c4",
   "metadata": {},
   "outputs": [
    {
     "data": {
      "text/plain": [
       "(1, 64)    0.103401\n",
       "(2, 32)    0.307547\n",
       "(4, 16)    0.726344\n",
       "(8, 8)     0.811011\n",
       "(16, 4)    0.825461\n",
       "(32, 2)    0.786825\n",
       "(64, 1)    0.942723\n",
       "dtype: float64"
      ]
     },
     "execution_count": 70,
     "metadata": {},
     "output_type": "execute_result"
    }
   ],
   "source": [
    "df_score_all = fscore_all(df_precision, df_recall)\n",
    "df_score_all.mean(skipna = True)"
   ]
  },
  {
   "cell_type": "code",
   "execution_count": 71,
   "id": "4766a7f9-40f3-44ac-afa6-d94500f75d0c",
   "metadata": {},
   "outputs": [
    {
     "data": {
      "image/png": "[encoded data removed]",
      "text/plain": [
       "<Figure size 324x288 with 1 Axes>"
      ]
     },
     "metadata": {
      "needs_background": "light"
     },
     "output_type": "display_data"
    }
   ],
   "source": [
    "f, ax = plt.subplots(figsize=(4.5, 4))\n",
    "ax = sns.boxplot(data = df_score_all, palette=\"Set3\")\n",
    "plt.xlabel(\"Hyperparameters of LSH (L,K)\", fontsize = 13)\n",
    "plt.ylabel(\"F1-score w.r.t. LSH guarantees\", fontsize = 13)\n",
    "plt.title('PDM (DeepLSH)', fontsize = 16)\n",
    "plt.savefig('Results/DeepLSH/fscore-LSH', bbox_inches='tight')\n",
    "plt.show()"
   ]
  }
 ],
 "metadata": {
  "kernelspec": {
   "display_name": "split-sd4x",
   "language": "python",
   "name": "split-sd4x"
  },
  "language_info": {
   "codemirror_mode": {
    "name": "ipython",
    "version": 3
   },
   "file_extension": ".py",
   "mimetype": "text/x-python",
   "name": "python",
   "nbconvert_exporter": "python",
   "pygments_lexer": "ipython3",
   "version": "3.7.10"
  }
 },
 "nbformat": 4,
 "nbformat_minor": 5
}
