{
 "cells": [
  {
   "cell_type": "code",
   "execution_count": 1,
   "id": "7f099611-8612-48e9-ad41-5b9ab4c05186",
   "metadata": {},
   "outputs": [],
   "source": [
    "import os\n",
    "import sys\n",
    "import numpy as np\n",
    "import pandas as pd\n",
    "import random\n",
    "import matplotlib.pyplot as plt\n",
    "import seaborn as sns\n",
    "import warnings\n",
    "import pickle\n",
    "from tensorflow import keras \n",
    "warnings.filterwarnings(\"ignore\")\n",
    "from sklearn.feature_extraction.text import CountVectorizer\n",
    "from sklearn.model_selection import train_test_split"
   ]
  },
  {
   "cell_type": "code",
   "execution_count": 2,
   "id": "2e225f57-0f30-4c35-aac1-b1170feea20e",
   "metadata": {},
   "outputs": [],
   "source": [
    "sys.path.append(os.path.join(os.path.dirname(os.path.dirname(os.getcwd())),'python-packages/'))\n",
    "from deep_hashing_models import *\n",
    "from similarities import *\n",
    "from lsh_search import *"
   ]
  },
  {
   "cell_type": "markdown",
   "id": "5fd425d9-d073-40ed-aac9-9a30b698ace0",
   "metadata": {},
   "source": [
    "# 1. Data Preparation (Shingling)"
   ]
  },
  {
   "cell_type": "code",
   "execution_count": 3,
   "id": "fc3c3000-383d-4370-ab88-72258c46c13d",
   "metadata": {},
   "outputs": [
    {
     "data": {
      "text/plain": [
       "1000"
      ]
     },
     "execution_count": 3,
     "metadata": {},
     "output_type": "execute_result"
    }
   ],
   "source": [
    "data_repo = os.path.join(os.path.dirname(os.path.dirname(os.path.dirname(os.getcwd()))),'data/')\n",
    "df_distinct_stacks = pd.read_csv(data_repo + 'frequent_stack_traces.csv', index_col = [0])\n",
    "df_measures = pd.read_csv(data_repo + 'similarity-measures-pairs.csv', index_col = [0])\n",
    "n_stacks = df_distinct_stacks.shape[0]\n",
    "n_stacks"
   ]
  },
  {
   "cell_type": "code",
   "execution_count": 4,
   "id": "4b1e04e4-d77a-43f7-b528-288fd18739c4",
   "metadata": {},
   "outputs": [
    {
     "data": {
      "text/plain": [
       "(1000, 2244)"
      ]
     },
     "execution_count": 4,
     "metadata": {},
     "output_type": "execute_result"
    }
   ],
   "source": [
    "vectorizer_bag_of_frames = CountVectorizer(token_pattern = r\"(?u)\\b[a-zA-Z0-9_.]{2,}\\b\")\n",
    "s = df_distinct_stacks['stackTraceCusto'].apply(lambda x : x.replace('\\n',' '))\n",
    "s = s.apply(lambda x : x.replace('$',''))\n",
    "s = s.apply(lambda x : x.replace('/',''))\n",
    "s = s.apply(lambda x : x.replace('<',''))\n",
    "s = s.apply(lambda x : x.replace('>',''))\n",
    "X_bag_of_frames = vectorizer_bag_of_frames.fit_transform(list(s)).toarray()\n",
    "df_bag_of_frames = pd.DataFrame(data = X_bag_of_frames, columns = vectorizer_bag_of_frames.get_feature_names())\n",
    "df_bag_of_frames.shape"
   ]
  },
  {
   "cell_type": "code",
   "execution_count": 5,
   "id": "69b3ee9c-176d-41e7-ae9c-c86b1e9e2b78",
   "metadata": {
    "tags": []
   },
   "outputs": [
    {
     "data": {
      "text/html": [
       "<div>\n",
       "<style scoped>\n",
       "    .dataframe tbody tr th:only-of-type {\n",
       "        vertical-align: middle;\n",
       "    }\n",
       "\n",
       "    .dataframe tbody tr th {\n",
       "        vertical-align: top;\n",
       "    }\n",
       "\n",
       "    .dataframe thead th {\n",
       "        text-align: right;\n",
       "    }\n",
       "</style>\n",
       "<table border=\"1\" class=\"dataframe\">\n",
       "  <thead>\n",
       "    <tr style=\"text-align: right;\">\n",
       "      <th></th>\n",
       "      <th>aiguillageetiquette_raffin.getimprimantedest</th>\n",
       "      <th>aiguillageetiquettecasier.findimpr</th>\n",
       "      <th>aiguillageetiquettecasier.getimprimantedest</th>\n",
       "      <th>avrilfnspenbembal.closecurrentpalette</th>\n",
       "      <th>avrilfnspenbembal.quitprepprep</th>\n",
       "      <th>com.mycompany.achats.edi.modele.regleenvoicde__jvst5b2_1a6a.getrenvoimodif</th>\n",
       "      <th>com.mycompany.achats.services.commande.impl.commandeserviceimpl.load</th>\n",
       "      <th>com.mycompany.achats.services.commande.impl.commandeserviceimplenhancerbycglib69294e2f.cglibload047</th>\n",
       "      <th>com.mycompany.achats.services.commande.impl.commandeserviceimplenhancerbycglib69294e2f.cglibload048</th>\n",
       "      <th>com.mycompany.achats.services.commande.impl.commandeserviceimplenhancerbycglib69294e2f.load</th>\n",
       "      <th>...</th>\n",
       "      <th>sun.reflect.generatedmethodaccessor5281.invoke</th>\n",
       "      <th>sun.reflect.generatedmethodaccessor575096.invoke</th>\n",
       "      <th>sun.reflect.generatedmethodaccessor6410.invoke</th>\n",
       "      <th>sun.reflect.generatedmethodaccessor80608.invoke</th>\n",
       "      <th>sun.reflect.generatedmethodaccessor80619.invoke</th>\n",
       "      <th>sun.reflect.generatedmethodaccessor844599.invoke</th>\n",
       "      <th>sun.reflect.generatedmethodaccessor853912.invoke</th>\n",
       "      <th>sun.reflect.generatedmethodaccessor93404.invoke</th>\n",
       "      <th>sun.reflect.nativemethodaccessorimpl.invoke</th>\n",
       "      <th>sun.reflect.nativemethodaccessorimpl.invoke0</th>\n",
       "    </tr>\n",
       "  </thead>\n",
       "  <tbody>\n",
       "    <tr>\n",
       "      <th>0</th>\n",
       "      <td>0</td>\n",
       "      <td>0</td>\n",
       "      <td>0</td>\n",
       "      <td>0</td>\n",
       "      <td>0</td>\n",
       "      <td>0</td>\n",
       "      <td>0</td>\n",
       "      <td>0</td>\n",
       "      <td>0</td>\n",
       "      <td>0</td>\n",
       "      <td>...</td>\n",
       "      <td>0</td>\n",
       "      <td>0</td>\n",
       "      <td>0</td>\n",
       "      <td>0</td>\n",
       "      <td>0</td>\n",
       "      <td>0</td>\n",
       "      <td>0</td>\n",
       "      <td>0</td>\n",
       "      <td>0</td>\n",
       "      <td>0</td>\n",
       "    </tr>\n",
       "    <tr>\n",
       "      <th>1</th>\n",
       "      <td>0</td>\n",
       "      <td>0</td>\n",
       "      <td>0</td>\n",
       "      <td>0</td>\n",
       "      <td>0</td>\n",
       "      <td>0</td>\n",
       "      <td>0</td>\n",
       "      <td>0</td>\n",
       "      <td>0</td>\n",
       "      <td>0</td>\n",
       "      <td>...</td>\n",
       "      <td>0</td>\n",
       "      <td>0</td>\n",
       "      <td>0</td>\n",
       "      <td>0</td>\n",
       "      <td>0</td>\n",
       "      <td>0</td>\n",
       "      <td>0</td>\n",
       "      <td>0</td>\n",
       "      <td>0</td>\n",
       "      <td>0</td>\n",
       "    </tr>\n",
       "    <tr>\n",
       "      <th>2</th>\n",
       "      <td>0</td>\n",
       "      <td>0</td>\n",
       "      <td>0</td>\n",
       "      <td>0</td>\n",
       "      <td>0</td>\n",
       "      <td>0</td>\n",
       "      <td>0</td>\n",
       "      <td>0</td>\n",
       "      <td>0</td>\n",
       "      <td>0</td>\n",
       "      <td>...</td>\n",
       "      <td>0</td>\n",
       "      <td>0</td>\n",
       "      <td>0</td>\n",
       "      <td>0</td>\n",
       "      <td>0</td>\n",
       "      <td>0</td>\n",
       "      <td>0</td>\n",
       "      <td>0</td>\n",
       "      <td>0</td>\n",
       "      <td>0</td>\n",
       "    </tr>\n",
       "    <tr>\n",
       "      <th>3</th>\n",
       "      <td>0</td>\n",
       "      <td>0</td>\n",
       "      <td>0</td>\n",
       "      <td>0</td>\n",
       "      <td>0</td>\n",
       "      <td>0</td>\n",
       "      <td>0</td>\n",
       "      <td>0</td>\n",
       "      <td>0</td>\n",
       "      <td>0</td>\n",
       "      <td>...</td>\n",
       "      <td>0</td>\n",
       "      <td>0</td>\n",
       "      <td>0</td>\n",
       "      <td>0</td>\n",
       "      <td>0</td>\n",
       "      <td>0</td>\n",
       "      <td>0</td>\n",
       "      <td>0</td>\n",
       "      <td>0</td>\n",
       "      <td>0</td>\n",
       "    </tr>\n",
       "    <tr>\n",
       "      <th>4</th>\n",
       "      <td>0</td>\n",
       "      <td>0</td>\n",
       "      <td>0</td>\n",
       "      <td>0</td>\n",
       "      <td>0</td>\n",
       "      <td>0</td>\n",
       "      <td>0</td>\n",
       "      <td>0</td>\n",
       "      <td>0</td>\n",
       "      <td>0</td>\n",
       "      <td>...</td>\n",
       "      <td>0</td>\n",
       "      <td>0</td>\n",
       "      <td>0</td>\n",
       "      <td>0</td>\n",
       "      <td>0</td>\n",
       "      <td>0</td>\n",
       "      <td>0</td>\n",
       "      <td>0</td>\n",
       "      <td>0</td>\n",
       "      <td>0</td>\n",
       "    </tr>\n",
       "    <tr>\n",
       "      <th>...</th>\n",
       "      <td>...</td>\n",
       "      <td>...</td>\n",
       "      <td>...</td>\n",
       "      <td>...</td>\n",
       "      <td>...</td>\n",
       "      <td>...</td>\n",
       "      <td>...</td>\n",
       "      <td>...</td>\n",
       "      <td>...</td>\n",
       "      <td>...</td>\n",
       "      <td>...</td>\n",
       "      <td>...</td>\n",
       "      <td>...</td>\n",
       "      <td>...</td>\n",
       "      <td>...</td>\n",
       "      <td>...</td>\n",
       "      <td>...</td>\n",
       "      <td>...</td>\n",
       "      <td>...</td>\n",
       "      <td>...</td>\n",
       "      <td>...</td>\n",
       "    </tr>\n",
       "    <tr>\n",
       "      <th>995</th>\n",
       "      <td>0</td>\n",
       "      <td>0</td>\n",
       "      <td>0</td>\n",
       "      <td>0</td>\n",
       "      <td>0</td>\n",
       "      <td>0</td>\n",
       "      <td>0</td>\n",
       "      <td>0</td>\n",
       "      <td>0</td>\n",
       "      <td>0</td>\n",
       "      <td>...</td>\n",
       "      <td>0</td>\n",
       "      <td>1</td>\n",
       "      <td>0</td>\n",
       "      <td>0</td>\n",
       "      <td>0</td>\n",
       "      <td>0</td>\n",
       "      <td>0</td>\n",
       "      <td>0</td>\n",
       "      <td>0</td>\n",
       "      <td>0</td>\n",
       "    </tr>\n",
       "    <tr>\n",
       "      <th>996</th>\n",
       "      <td>0</td>\n",
       "      <td>0</td>\n",
       "      <td>0</td>\n",
       "      <td>0</td>\n",
       "      <td>0</td>\n",
       "      <td>0</td>\n",
       "      <td>0</td>\n",
       "      <td>0</td>\n",
       "      <td>0</td>\n",
       "      <td>0</td>\n",
       "      <td>...</td>\n",
       "      <td>0</td>\n",
       "      <td>0</td>\n",
       "      <td>0</td>\n",
       "      <td>0</td>\n",
       "      <td>0</td>\n",
       "      <td>0</td>\n",
       "      <td>0</td>\n",
       "      <td>0</td>\n",
       "      <td>0</td>\n",
       "      <td>0</td>\n",
       "    </tr>\n",
       "    <tr>\n",
       "      <th>997</th>\n",
       "      <td>0</td>\n",
       "      <td>0</td>\n",
       "      <td>0</td>\n",
       "      <td>0</td>\n",
       "      <td>0</td>\n",
       "      <td>0</td>\n",
       "      <td>0</td>\n",
       "      <td>0</td>\n",
       "      <td>0</td>\n",
       "      <td>0</td>\n",
       "      <td>...</td>\n",
       "      <td>0</td>\n",
       "      <td>0</td>\n",
       "      <td>0</td>\n",
       "      <td>0</td>\n",
       "      <td>0</td>\n",
       "      <td>0</td>\n",
       "      <td>0</td>\n",
       "      <td>0</td>\n",
       "      <td>0</td>\n",
       "      <td>0</td>\n",
       "    </tr>\n",
       "    <tr>\n",
       "      <th>998</th>\n",
       "      <td>0</td>\n",
       "      <td>0</td>\n",
       "      <td>0</td>\n",
       "      <td>0</td>\n",
       "      <td>0</td>\n",
       "      <td>0</td>\n",
       "      <td>0</td>\n",
       "      <td>0</td>\n",
       "      <td>0</td>\n",
       "      <td>0</td>\n",
       "      <td>...</td>\n",
       "      <td>0</td>\n",
       "      <td>0</td>\n",
       "      <td>0</td>\n",
       "      <td>0</td>\n",
       "      <td>0</td>\n",
       "      <td>0</td>\n",
       "      <td>0</td>\n",
       "      <td>0</td>\n",
       "      <td>0</td>\n",
       "      <td>0</td>\n",
       "    </tr>\n",
       "    <tr>\n",
       "      <th>999</th>\n",
       "      <td>0</td>\n",
       "      <td>0</td>\n",
       "      <td>0</td>\n",
       "      <td>0</td>\n",
       "      <td>0</td>\n",
       "      <td>0</td>\n",
       "      <td>0</td>\n",
       "      <td>0</td>\n",
       "      <td>0</td>\n",
       "      <td>0</td>\n",
       "      <td>...</td>\n",
       "      <td>0</td>\n",
       "      <td>0</td>\n",
       "      <td>0</td>\n",
       "      <td>0</td>\n",
       "      <td>0</td>\n",
       "      <td>0</td>\n",
       "      <td>0</td>\n",
       "      <td>0</td>\n",
       "      <td>1</td>\n",
       "      <td>1</td>\n",
       "    </tr>\n",
       "  </tbody>\n",
       "</table>\n",
       "<p>1000 rows × 2244 columns</p>\n",
       "</div>"
      ],
      "text/plain": [
       "     aiguillageetiquette_raffin.getimprimantedest  \\\n",
       "0                                               0   \n",
       "1                                               0   \n",
       "2                                               0   \n",
       "3                                               0   \n",
       "4                                               0   \n",
       "..                                            ...   \n",
       "995                                             0   \n",
       "996                                             0   \n",
       "997                                             0   \n",
       "998                                             0   \n",
       "999                                             0   \n",
       "\n",
       "     aiguillageetiquettecasier.findimpr  \\\n",
       "0                                     0   \n",
       "1                                     0   \n",
       "2                                     0   \n",
       "3                                     0   \n",
       "4                                     0   \n",
       "..                                  ...   \n",
       "995                                   0   \n",
       "996                                   0   \n",
       "997                                   0   \n",
       "998                                   0   \n",
       "999                                   0   \n",
       "\n",
       "     aiguillageetiquettecasier.getimprimantedest  \\\n",
       "0                                              0   \n",
       "1                                              0   \n",
       "2                                              0   \n",
       "3                                              0   \n",
       "4                                              0   \n",
       "..                                           ...   \n",
       "995                                            0   \n",
       "996                                            0   \n",
       "997                                            0   \n",
       "998                                            0   \n",
       "999                                            0   \n",
       "\n",
       "     avrilfnspenbembal.closecurrentpalette  avrilfnspenbembal.quitprepprep  \\\n",
       "0                                        0                               0   \n",
       "1                                        0                               0   \n",
       "2                                        0                               0   \n",
       "3                                        0                               0   \n",
       "4                                        0                               0   \n",
       "..                                     ...                             ...   \n",
       "995                                      0                               0   \n",
       "996                                      0                               0   \n",
       "997                                      0                               0   \n",
       "998                                      0                               0   \n",
       "999                                      0                               0   \n",
       "\n",
       "     com.mycompany.achats.edi.modele.regleenvoicde__jvst5b2_1a6a.getrenvoimodif  \\\n",
       "0                                                    0                            \n",
       "1                                                    0                            \n",
       "2                                                    0                            \n",
       "3                                                    0                            \n",
       "4                                                    0                            \n",
       "..                                                 ...                            \n",
       "995                                                  0                            \n",
       "996                                                  0                            \n",
       "997                                                  0                            \n",
       "998                                                  0                            \n",
       "999                                                  0                            \n",
       "\n",
       "     com.mycompany.achats.services.commande.impl.commandeserviceimpl.load  \\\n",
       "0                                                    0                      \n",
       "1                                                    0                      \n",
       "2                                                    0                      \n",
       "3                                                    0                      \n",
       "4                                                    0                      \n",
       "..                                                 ...                      \n",
       "995                                                  0                      \n",
       "996                                                  0                      \n",
       "997                                                  0                      \n",
       "998                                                  0                      \n",
       "999                                                  0                      \n",
       "\n",
       "     com.mycompany.achats.services.commande.impl.commandeserviceimplenhancerbycglib69294e2f.cglibload047  \\\n",
       "0                                                    0                                                     \n",
       "1                                                    0                                                     \n",
       "2                                                    0                                                     \n",
       "3                                                    0                                                     \n",
       "4                                                    0                                                     \n",
       "..                                                 ...                                                     \n",
       "995                                                  0                                                     \n",
       "996                                                  0                                                     \n",
       "997                                                  0                                                     \n",
       "998                                                  0                                                     \n",
       "999                                                  0                                                     \n",
       "\n",
       "     com.mycompany.achats.services.commande.impl.commandeserviceimplenhancerbycglib69294e2f.cglibload048  \\\n",
       "0                                                    0                                                     \n",
       "1                                                    0                                                     \n",
       "2                                                    0                                                     \n",
       "3                                                    0                                                     \n",
       "4                                                    0                                                     \n",
       "..                                                 ...                                                     \n",
       "995                                                  0                                                     \n",
       "996                                                  0                                                     \n",
       "997                                                  0                                                     \n",
       "998                                                  0                                                     \n",
       "999                                                  0                                                     \n",
       "\n",
       "     com.mycompany.achats.services.commande.impl.commandeserviceimplenhancerbycglib69294e2f.load  \\\n",
       "0                                                    0                                             \n",
       "1                                                    0                                             \n",
       "2                                                    0                                             \n",
       "3                                                    0                                             \n",
       "4                                                    0                                             \n",
       "..                                                 ...                                             \n",
       "995                                                  0                                             \n",
       "996                                                  0                                             \n",
       "997                                                  0                                             \n",
       "998                                                  0                                             \n",
       "999                                                  0                                             \n",
       "\n",
       "     ...  sun.reflect.generatedmethodaccessor5281.invoke  \\\n",
       "0    ...                                               0   \n",
       "1    ...                                               0   \n",
       "2    ...                                               0   \n",
       "3    ...                                               0   \n",
       "4    ...                                               0   \n",
       "..   ...                                             ...   \n",
       "995  ...                                               0   \n",
       "996  ...                                               0   \n",
       "997  ...                                               0   \n",
       "998  ...                                               0   \n",
       "999  ...                                               0   \n",
       "\n",
       "     sun.reflect.generatedmethodaccessor575096.invoke  \\\n",
       "0                                                   0   \n",
       "1                                                   0   \n",
       "2                                                   0   \n",
       "3                                                   0   \n",
       "4                                                   0   \n",
       "..                                                ...   \n",
       "995                                                 1   \n",
       "996                                                 0   \n",
       "997                                                 0   \n",
       "998                                                 0   \n",
       "999                                                 0   \n",
       "\n",
       "     sun.reflect.generatedmethodaccessor6410.invoke  \\\n",
       "0                                                 0   \n",
       "1                                                 0   \n",
       "2                                                 0   \n",
       "3                                                 0   \n",
       "4                                                 0   \n",
       "..                                              ...   \n",
       "995                                               0   \n",
       "996                                               0   \n",
       "997                                               0   \n",
       "998                                               0   \n",
       "999                                               0   \n",
       "\n",
       "     sun.reflect.generatedmethodaccessor80608.invoke  \\\n",
       "0                                                  0   \n",
       "1                                                  0   \n",
       "2                                                  0   \n",
       "3                                                  0   \n",
       "4                                                  0   \n",
       "..                                               ...   \n",
       "995                                                0   \n",
       "996                                                0   \n",
       "997                                                0   \n",
       "998                                                0   \n",
       "999                                                0   \n",
       "\n",
       "     sun.reflect.generatedmethodaccessor80619.invoke  \\\n",
       "0                                                  0   \n",
       "1                                                  0   \n",
       "2                                                  0   \n",
       "3                                                  0   \n",
       "4                                                  0   \n",
       "..                                               ...   \n",
       "995                                                0   \n",
       "996                                                0   \n",
       "997                                                0   \n",
       "998                                                0   \n",
       "999                                                0   \n",
       "\n",
       "     sun.reflect.generatedmethodaccessor844599.invoke  \\\n",
       "0                                                   0   \n",
       "1                                                   0   \n",
       "2                                                   0   \n",
       "3                                                   0   \n",
       "4                                                   0   \n",
       "..                                                ...   \n",
       "995                                                 0   \n",
       "996                                                 0   \n",
       "997                                                 0   \n",
       "998                                                 0   \n",
       "999                                                 0   \n",
       "\n",
       "     sun.reflect.generatedmethodaccessor853912.invoke  \\\n",
       "0                                                   0   \n",
       "1                                                   0   \n",
       "2                                                   0   \n",
       "3                                                   0   \n",
       "4                                                   0   \n",
       "..                                                ...   \n",
       "995                                                 0   \n",
       "996                                                 0   \n",
       "997                                                 0   \n",
       "998                                                 0   \n",
       "999                                                 0   \n",
       "\n",
       "     sun.reflect.generatedmethodaccessor93404.invoke  \\\n",
       "0                                                  0   \n",
       "1                                                  0   \n",
       "2                                                  0   \n",
       "3                                                  0   \n",
       "4                                                  0   \n",
       "..                                               ...   \n",
       "995                                                0   \n",
       "996                                                0   \n",
       "997                                                0   \n",
       "998                                                0   \n",
       "999                                                0   \n",
       "\n",
       "     sun.reflect.nativemethodaccessorimpl.invoke  \\\n",
       "0                                              0   \n",
       "1                                              0   \n",
       "2                                              0   \n",
       "3                                              0   \n",
       "4                                              0   \n",
       "..                                           ...   \n",
       "995                                            0   \n",
       "996                                            0   \n",
       "997                                            0   \n",
       "998                                            0   \n",
       "999                                            1   \n",
       "\n",
       "     sun.reflect.nativemethodaccessorimpl.invoke0  \n",
       "0                                               0  \n",
       "1                                               0  \n",
       "2                                               0  \n",
       "3                                               0  \n",
       "4                                               0  \n",
       "..                                            ...  \n",
       "995                                             0  \n",
       "996                                             0  \n",
       "997                                             0  \n",
       "998                                             0  \n",
       "999                                             1  \n",
       "\n",
       "[1000 rows x 2244 columns]"
      ]
     },
     "execution_count": 5,
     "metadata": {},
     "output_type": "execute_result"
    }
   ],
   "source": [
    "df_bag_of_frames"
   ]
  },
  {
   "cell_type": "markdown",
   "id": "9b48dab8-4494-4535-955b-022d893af914",
   "metadata": {},
   "source": [
    "# 2. MinHash"
   ]
  },
  {
   "cell_type": "code",
   "execution_count": 6,
   "id": "7a8804e3-873f-4a5c-9dd1-4d9f85a3ba41",
   "metadata": {},
   "outputs": [],
   "source": [
    "nb_permutations = 64\n",
    "size_vector = 16\n",
    "embeddings = min_hash (nb_permutations, size_vector, df_bag_of_frames)"
   ]
  },
  {
   "cell_type": "markdown",
   "id": "4c555eec-ea99-4261-aa88-6e93dee00a4f",
   "metadata": {},
   "source": [
    "# 3. Locality Sensitive Hashing"
   ]
  },
  {
   "cell_type": "code",
   "execution_count": 7,
   "id": "e65f2ca5-6278-4c58-a282-c64275c9c4e8",
   "metadata": {},
   "outputs": [
    {
     "data": {
      "text/plain": [
       "[(1, 64), (2, 32), (4, 16), (8, 8), (16, 4), (32, 2), (64, 1)]"
      ]
     },
     "execution_count": 7,
     "metadata": {},
     "output_type": "execute_result"
    }
   ],
   "source": [
    "params = lsh_hyperparams(nb_permutations)\n",
    "'(K,L)'\n",
    "params "
   ]
  },
  {
   "cell_type": "code",
   "execution_count": 8,
   "id": "1516d483-0468-4bdb-8082-4727162eaf8e",
   "metadata": {},
   "outputs": [
    {
     "data": {
      "text/plain": [
       "<matplotlib.legend.Legend at 0x7f39582c94d0>"
      ]
     },
     "execution_count": 8,
     "metadata": {},
     "output_type": "execute_result"
    },
    {
     "data": {
      "image/png": "[encoded data removed]",
      "text/plain": [
       "<Figure size 648x360 with 1 Axes>"
      ]
     },
     "metadata": {
      "needs_background": "light"
     },
     "output_type": "display_data"
    }
   ],
   "source": [
    "plt.rcParams[\"figure.figsize\"] = [9, 5]\n",
    "x = np.linspace(0, 1, 100)\n",
    "for param in params:\n",
    "    y = 1 - (1 - (x)**param[1])**param[0]\n",
    "    plt.plot(x, y, label = 'L = %d, r = %d' %param)\n",
    "plt.xlabel(\"similarity values\", fontsize = 12)\n",
    "plt.ylabel(\"hash probability in at least 1 bucket\", fontsize = 12)\n",
    "plt.title('Probability-similarity relation', fontsize = 18)\n",
    "plt.legend()"
   ]
  },
  {
   "cell_type": "code",
   "execution_count": 9,
   "id": "be139894-42da-4684-b2f7-7a921a98fda6",
   "metadata": {},
   "outputs": [],
   "source": [
    "df_probLSH = mean_prob_hashing_smallest_elt(n_stacks, params, embeddings, size_vector, df_measures, 'Jaccard', trace = False)"
   ]
  },
  {
   "cell_type": "code",
   "execution_count": 10,
   "id": "51056b88-f2f9-49c7-9193-57d57c07f657",
   "metadata": {},
   "outputs": [
    {
     "data": {
      "image/png": "[encoded data removed]",
      "text/plain": [
       "<Figure size 432x288 with 1 Axes>"
      ]
     },
     "metadata": {
      "needs_background": "light"
     },
     "output_type": "display_data"
    }
   ],
   "source": [
    "f, ax = plt.subplots(figsize=(6, 4))\n",
    "ax = sns.boxplot(data = df_probLSH, palette=\"Set3\")\n",
    "plt.xlabel(\"Hyperparameters of LSH (L,K)\", fontsize = 12)\n",
    "plt.ylabel(\"Prob hashing smallest elt in buckets\", fontsize = 12)\n",
    "plt.title('Jaccard (MinHash) [Relation Prob-Sim]', fontsize = 16)\n",
    "plt.savefig('Results/MinHash/Jaccard-Relation-Prob-Sim', bbox_inches='tight')\n",
    "plt.show()"
   ]
  },
  {
   "cell_type": "code",
   "execution_count": 11,
   "id": "fd37d8db-a045-411f-a727-7118f3b822df",
   "metadata": {},
   "outputs": [
    {
     "data": {
      "text/plain": [
       "(8, 8)"
      ]
     },
     "execution_count": 11,
     "metadata": {},
     "output_type": "execute_result"
    }
   ],
   "source": [
    "'L = K = 8'\n",
    "L, K = params[3]\n",
    "L, K"
   ]
  },
  {
   "cell_type": "code",
   "execution_count": 12,
   "id": "73f3fcf4-e350-493b-803a-bd1155955d35",
   "metadata": {},
   "outputs": [],
   "source": [
    "hash_tables = create_hash_tables(L, K, size_vector, embeddings)"
   ]
  },
  {
   "cell_type": "code",
   "execution_count": 13,
   "id": "12da0e94-b2d9-4752-b195-45e668987793",
   "metadata": {},
   "outputs": [],
   "source": [
    "'pointer to the stack trace'\n",
    "index = random.randint(0,n_stacks)\n",
    "index = 866"
   ]
  },
  {
   "cell_type": "code",
   "execution_count": 14,
   "id": "286f549a-7c50-4439-9a0f-12e7cd94c4d8",
   "metadata": {
    "tags": []
   },
   "outputs": [
    {
     "data": {
      "text/plain": [
       "{587, 675, 866}"
      ]
     },
     "execution_count": 14,
     "metadata": {},
     "output_type": "execute_result"
    }
   ],
   "source": [
    "set_near_duplicates = near_duplicates(L, K, size_vector, 866, embeddings, hash_tables)\n",
    "set_near_duplicates"
   ]
  },
  {
   "cell_type": "code",
   "execution_count": 15,
   "id": "7b36f949-d916-4efb-bd12-f348c36ad1f4",
   "metadata": {},
   "outputs": [],
   "source": [
    "list_near_duplicate_pairs = near_duplicate_pairs(index, set_near_duplicates, n_stacks)\n",
    "n_duplicate_pairs = len(list_near_duplicate_pairs)"
   ]
  },
  {
   "cell_type": "code",
   "execution_count": 16,
   "id": "70c939e8-5e7d-4106-aab9-3c942eddc6ca",
   "metadata": {},
   "outputs": [
    {
     "data": {
      "text/plain": [
       "447040    0.954545\n",
       "414700    0.869565\n",
       "Name: Jaccard, dtype: float64"
      ]
     },
     "execution_count": 16,
     "metadata": {},
     "output_type": "execute_result"
    }
   ],
   "source": [
    "near_duplicates_sim = df_measures['Jaccard'][list_near_duplicate_pairs].sort_values(ascending = False)\n",
    "near_duplicates_sim"
   ]
  },
  {
   "cell_type": "code",
   "execution_count": 17,
   "id": "72f9c315-b5f6-4b5a-813b-1b60b3e6518a",
   "metadata": {},
   "outputs": [
    {
     "data": {
      "text/plain": [
       "{587, 675}"
      ]
     },
     "execution_count": 17,
     "metadata": {},
     "output_type": "execute_result"
    }
   ],
   "source": [
    "set_real_nns, real_nns_sim = real_nns(index, df_measures, 'Jaccard', n_stacks, n_duplicate_pairs)\n",
    "set_real_nns"
   ]
  },
  {
   "cell_type": "code",
   "execution_count": 18,
   "id": "8aaf00cb-a7ad-49b3-b8bf-ffedab63a5bf",
   "metadata": {},
   "outputs": [
    {
     "data": {
      "text/plain": [
       "447040    0.954545\n",
       "414700    0.869565\n",
       "dtype: float64"
      ]
     },
     "execution_count": 18,
     "metadata": {},
     "output_type": "execute_result"
    }
   ],
   "source": [
    "real_nns_sim[:n_duplicate_pairs]"
   ]
  },
  {
   "cell_type": "markdown",
   "id": "8bf79627-cbaa-4576-8284-e656ab607daf",
   "metadata": {},
   "source": [
    "# 4. Metrics (MinHash)"
   ]
  },
  {
   "cell_type": "markdown",
   "id": "e9c70226-58ad-4cd7-9ba4-ac5872d5d641",
   "metadata": {},
   "source": [
    "## 4.1. Ratio of finding the $k$ real nearest neighbor with the Least $L$ (Recal rate at $k$ first positions)"
   ]
  },
  {
   "cell_type": "code",
   "execution_count": 19,
   "id": "02da718f-bcf8-4d6e-9f64-61b4d2589267",
   "metadata": {},
   "outputs": [
    {
     "data": {
      "text/plain": [
       "0.903"
      ]
     },
     "execution_count": 19,
     "metadata": {},
     "output_type": "execute_result"
    }
   ],
   "source": [
    "'All params'\n",
    "k_first_positions = 1\n",
    "recal_rate(n_stacks, params, embeddings, size_vector, df_measures, k_first_positions, 'Jaccard')"
   ]
  },
  {
   "cell_type": "code",
   "execution_count": null,
   "id": "64f67bf1-49f7-4469-b6df-f482a717eb94",
   "metadata": {},
   "outputs": [],
   "source": [
    "'Best param'\n",
    "k_first_positions = 1\n",
    "recal_rate_one_param(n_stacks, params[3], embeddings, size_vector, df_measures, k_first_positions, 'Jaccard')"
   ]
  },
  {
   "cell_type": "markdown",
   "id": "994c5669-d433-45e7-a2cc-ec468535e016",
   "metadata": {},
   "source": [
    "-----------------------------------------------------------------"
   ]
  },
  {
   "cell_type": "code",
   "execution_count": 20,
   "id": "1964b4ec-a296-4b9c-b865-c9a63197ac4b",
   "metadata": {},
   "outputs": [
    {
     "data": {
      "text/plain": [
       "0.9223333333333318"
      ]
     },
     "execution_count": 20,
     "metadata": {},
     "output_type": "execute_result"
    }
   ],
   "source": [
    "'All params'\n",
    "k_first_positions = 3\n",
    "recal_rate(n_stacks, params, embeddings, size_vector, df_measures, k_first_positions, 'Jaccard')"
   ]
  },
  {
   "cell_type": "code",
   "execution_count": null,
   "id": "40632ceb-3bfa-48c2-a001-88a01466c4b4",
   "metadata": {},
   "outputs": [],
   "source": [
    "'Best param'\n",
    "k_first_positions = 3\n",
    "recal_rate_one_param(n_stacks, params[3], embeddings, size_vector, df_measures, k_first_positions, 'Jaccard')"
   ]
  },
  {
   "cell_type": "markdown",
   "id": "b46cee13-4836-4ac3-aee8-722584a563b0",
   "metadata": {},
   "source": [
    "-----------------------------------------------------------------"
   ]
  },
  {
   "cell_type": "code",
   "execution_count": 21,
   "id": "68a63491-2bf0-4bad-b6d5-f8d5f2675d0d",
   "metadata": {},
   "outputs": [
    {
     "data": {
      "text/plain": [
       "0.9231999999999994"
      ]
     },
     "execution_count": 21,
     "metadata": {},
     "output_type": "execute_result"
    }
   ],
   "source": [
    "'All params'\n",
    "k_first_positions = 5\n",
    "recal_rate(n_stacks, params, embeddings, size_vector, df_measures, k_first_positions, 'Jaccard')"
   ]
  },
  {
   "cell_type": "code",
   "execution_count": null,
   "id": "d13a711f-fd18-44c7-8fd4-3e9705f8eceb",
   "metadata": {},
   "outputs": [],
   "source": [
    "'Best param'\n",
    "k_first_positions = 5\n",
    "recal_rate_one_param(n_stacks, params[3], embeddings, size_vector, df_measures, k_first_positions, 'Jaccard')"
   ]
  },
  {
   "cell_type": "markdown",
   "id": "4da28cdb-31b3-426b-b6f5-c6a7527964e4",
   "metadata": {},
   "source": [
    "## 4.2. Generalized MRR"
   ]
  },
  {
   "cell_type": "code",
   "execution_count": 22,
   "id": "33b1fe19-71c4-4e32-a422-6da1459b7fbb",
   "metadata": {},
   "outputs": [
    {
     "data": {
      "text/plain": [
       "(1, 64)    1.000000\n",
       "(2, 32)    0.992936\n",
       "(4, 16)    0.951731\n",
       "(8, 8)     0.951682\n",
       "(16, 4)    0.858465\n",
       "(32, 2)    0.926114\n",
       "(64, 1)    0.999348\n",
       "dtype: float64"
      ]
     },
     "execution_count": 22,
     "metadata": {},
     "output_type": "execute_result"
    }
   ],
   "source": [
    "df_knns = mean_generalized_mrr(n_stacks, params, embeddings, size_vector, df_measures ,'Jaccard', trace = False)\n",
    "df_knns.mean(skipna = True, axis = 0)"
   ]
  },
  {
   "cell_type": "code",
   "execution_count": 23,
   "id": "b4ed65fa-385c-4e26-80a2-c8c599f8230f",
   "metadata": {},
   "outputs": [
    {
     "data": {
      "text/plain": [
       "0.9543251818596197"
      ]
     },
     "execution_count": 23,
     "metadata": {},
     "output_type": "execute_result"
    }
   ],
   "source": [
    "df_knns.mean(skipna = True, axis = 0).mean()"
   ]
  },
  {
   "cell_type": "code",
   "execution_count": 24,
   "id": "63fbfa7d-120c-4302-802d-5fb1b53386fc",
   "metadata": {},
   "outputs": [
    {
     "data": {
      "image/png": "[encoded data removed]",
      "text/plain": [
       "<Figure size 324x288 with 1 Axes>"
      ]
     },
     "metadata": {
      "needs_background": "light"
     },
     "output_type": "display_data"
    }
   ],
   "source": [
    "f, ax = plt.subplots(figsize=(4.5, 4))\n",
    "ax = sns.boxplot(data = df_knns, palette=\"Set3\")\n",
    "plt.xlabel(\"Hyperparameters of LSH (L,K)\", fontsize = 12)\n",
    "plt.ylabel(\"Generalized MRR\", fontsize = 12)\n",
    "plt.title('Jaccard (MinHash)', fontsize = 16)\n",
    "plt.savefig('Results/MinHash/Generalized-MRR', bbox_inches='tight')\n",
    "plt.show()"
   ]
  },
  {
   "cell_type": "markdown",
   "id": "af16db3d-b846-4712-a4d1-85592850b2c0",
   "metadata": {},
   "source": [
    "## 4.3. Recall w.r.t. LSH"
   ]
  },
  {
   "cell_type": "code",
   "execution_count": 19,
   "id": "7277410f-d1ae-468f-aa36-980026be3fec",
   "metadata": {
    "tags": []
   },
   "outputs": [
    {
     "name": "stdout",
     "output_type": "stream",
     "text": [
      "(1, 64)\n",
      "0\n",
      "100\n",
      "200\n",
      "300\n",
      "400\n",
      "500\n",
      "600\n",
      "700\n",
      "800\n",
      "900\n",
      "-----------------------------\n",
      "(2, 32)\n",
      "0\n",
      "100\n",
      "200\n",
      "300\n",
      "400\n",
      "500\n",
      "600\n",
      "700\n",
      "800\n",
      "900\n",
      "-----------------------------\n",
      "(4, 16)\n",
      "0\n",
      "100\n",
      "200\n",
      "300\n",
      "400\n",
      "500\n",
      "600\n",
      "700\n",
      "800\n",
      "900\n",
      "-----------------------------\n",
      "(8, 8)\n",
      "0\n",
      "100\n",
      "200\n",
      "300\n",
      "400\n",
      "500\n",
      "600\n",
      "700\n",
      "800\n",
      "900\n",
      "-----------------------------\n",
      "(16, 4)\n",
      "0\n",
      "100\n",
      "200\n",
      "300\n",
      "400\n",
      "500\n",
      "600\n",
      "700\n",
      "800\n",
      "900\n",
      "-----------------------------\n",
      "(32, 2)\n",
      "0\n",
      "100\n",
      "200\n",
      "300\n",
      "400\n",
      "500\n",
      "600\n",
      "700\n",
      "800\n",
      "900\n",
      "-----------------------------\n",
      "(64, 1)\n",
      "0\n",
      "100\n",
      "200\n",
      "300\n",
      "400\n",
      "500\n",
      "600\n",
      "700\n",
      "800\n",
      "900\n",
      "-----------------------------\n"
     ]
    },
    {
     "data": {
      "text/plain": [
       "(1, 64)    1.000000\n",
       "(2, 32)    1.000000\n",
       "(4, 16)    0.654683\n",
       "(8, 8)     0.825126\n",
       "(16, 4)    0.796194\n",
       "(32, 2)    0.803715\n",
       "(64, 1)    0.974904\n",
       "dtype: float64"
      ]
     },
     "execution_count": 19,
     "metadata": {},
     "output_type": "execute_result"
    }
   ],
   "source": [
    "df_recall = recall_all(n_stacks, params, embeddings, size_vector, df_measures ,'Jaccard', trace = True)\n",
    "df_recall.mean(skipna = True)"
   ]
  },
  {
   "cell_type": "code",
   "execution_count": 26,
   "id": "eea38235-cf70-4f2e-937a-25876aea4b6c",
   "metadata": {},
   "outputs": [
    {
     "data": {
      "text/plain": [
       "0.887905832229017"
      ]
     },
     "execution_count": 26,
     "metadata": {},
     "output_type": "execute_result"
    }
   ],
   "source": [
    "df_recall.mean(skipna = True, axis = 0).mean()"
   ]
  },
  {
   "cell_type": "code",
   "execution_count": 20,
   "id": "d51edcd2-06dc-4504-a307-8913783bf63a",
   "metadata": {},
   "outputs": [
    {
     "data": {
      "image/png": "[encoded data removed]",
      "text/plain": [
       "<Figure size 324x288 with 1 Axes>"
      ]
     },
     "metadata": {
      "needs_background": "light"
     },
     "output_type": "display_data"
    }
   ],
   "source": [
    "f, ax = plt.subplots(figsize=(4.5, 4))\n",
    "ax = sns.boxplot(data = df_recall, palette=\"Set3\")\n",
    "plt.xlabel(\"Hyperparameters of LSH (L,K)\", fontsize = 12)\n",
    "plt.ylabel(\"Recall w.r.t. LSH guaranteess\", fontsize = 12)\n",
    "plt.title('Jaccard (MinHash)', fontsize = 16)\n",
    "plt.savefig('Results/MinHash/Recall-LSH', bbox_inches='tight')\n",
    "plt.show()"
   ]
  },
  {
   "cell_type": "markdown",
   "id": "693195ba-332c-4344-898c-8239403c7130",
   "metadata": {},
   "source": [
    "## 4.4. Precision w.r.t. LSH"
   ]
  },
  {
   "cell_type": "code",
   "execution_count": 21,
   "id": "605377aa-bdd2-4a05-8bc8-651729460203",
   "metadata": {
    "tags": []
   },
   "outputs": [
    {
     "name": "stdout",
     "output_type": "stream",
     "text": [
      "(1, 64)\n",
      "0\n",
      "100\n",
      "200\n",
      "300\n",
      "400\n",
      "500\n",
      "600\n",
      "700\n",
      "800\n",
      "900\n",
      "-----------------------------\n",
      "(2, 32)\n",
      "0\n",
      "100\n",
      "200\n",
      "300\n",
      "400\n",
      "500\n",
      "600\n",
      "700\n",
      "800\n",
      "900\n",
      "-----------------------------\n",
      "(4, 16)\n",
      "0\n",
      "100\n",
      "200\n",
      "300\n",
      "400\n",
      "500\n",
      "600\n",
      "700\n",
      "800\n",
      "900\n",
      "-----------------------------\n",
      "(8, 8)\n",
      "0\n",
      "100\n",
      "200\n",
      "300\n",
      "400\n",
      "500\n",
      "600\n",
      "700\n",
      "800\n",
      "900\n",
      "-----------------------------\n",
      "(16, 4)\n",
      "0\n",
      "100\n",
      "200\n",
      "300\n",
      "400\n",
      "500\n",
      "600\n",
      "700\n",
      "800\n",
      "900\n",
      "-----------------------------\n",
      "(32, 2)\n",
      "0\n",
      "100\n",
      "200\n",
      "300\n",
      "400\n",
      "500\n",
      "600\n",
      "700\n",
      "800\n",
      "900\n",
      "-----------------------------\n",
      "(64, 1)\n",
      "0\n",
      "100\n",
      "200\n",
      "300\n",
      "400\n",
      "500\n",
      "600\n",
      "700\n",
      "800\n",
      "900\n",
      "-----------------------------\n"
     ]
    },
    {
     "data": {
      "text/plain": [
       "(1, 64)    0.836364\n",
       "(2, 32)    0.265823\n",
       "(4, 16)    0.470020\n",
       "(8, 8)     0.806101\n",
       "(16, 4)    0.635814\n",
       "(32, 2)    0.762312\n",
       "(64, 1)    1.000000\n",
       "dtype: float64"
      ]
     },
     "execution_count": 21,
     "metadata": {},
     "output_type": "execute_result"
    }
   ],
   "source": [
    "df_precision = precision_all(n_stacks, params, embeddings, size_vector, df_measures ,'Jaccard', trace = True)\n",
    "df_precision.mean(skipna = True, axis = 0)"
   ]
  },
  {
   "cell_type": "code",
   "execution_count": 22,
   "id": "c1e74bab-7f60-4ba4-9e83-4f51c242d312",
   "metadata": {},
   "outputs": [
    {
     "data": {
      "image/png": "[encoded data removed]",
      "text/plain": [
       "<Figure size 324x288 with 1 Axes>"
      ]
     },
     "metadata": {
      "needs_background": "light"
     },
     "output_type": "display_data"
    }
   ],
   "source": [
    "f, ax = plt.subplots(figsize=(4.5, 4))\n",
    "ax = sns.boxplot(data = df_precision, palette=\"Set3\")\n",
    "plt.xlabel(\"Hyperparameters of LSH (L,K)\", fontsize = 12)\n",
    "plt.ylabel(\"Precision w.r.t. LSH guarantees\", fontsize = 12)\n",
    "plt.title('Jaccard (MinHash)', fontsize = 16)\n",
    "plt.savefig('Results/MinHash/precision-LSH', bbox_inches='tight')\n",
    "plt.show()"
   ]
  },
  {
   "cell_type": "markdown",
   "id": "2aa0cc52-619e-444e-a441-a30f3e87d367",
   "metadata": {},
   "source": [
    "## 4.5. Fscore w.r.t. LSH"
   ]
  },
  {
   "cell_type": "code",
   "execution_count": 23,
   "id": "1e766e5d-2f35-44c9-9357-f9e341ad112b",
   "metadata": {
    "tags": []
   },
   "outputs": [
    {
     "data": {
      "text/plain": [
       "(1, 64)    0.836364\n",
       "(2, 32)    0.274262\n",
       "(4, 16)    0.396739\n",
       "(8, 8)     0.750172\n",
       "(16, 4)    0.633331\n",
       "(32, 2)    0.747800\n",
       "(64, 1)    0.986050\n",
       "dtype: float64"
      ]
     },
     "execution_count": 23,
     "metadata": {},
     "output_type": "execute_result"
    }
   ],
   "source": [
    "df_score_all = fscore_all(df_precision, df_recall)\n",
    "df_score_all.mean(skipna = True)"
   ]
  },
  {
   "cell_type": "code",
   "execution_count": 24,
   "id": "c630138d-f4f9-42ff-ab3e-fbb50be5e749",
   "metadata": {},
   "outputs": [
    {
     "data": {
      "image/png": "[encoded data removed]",
      "text/plain": [
       "<Figure size 324x288 with 1 Axes>"
      ]
     },
     "metadata": {
      "needs_background": "light"
     },
     "output_type": "display_data"
    }
   ],
   "source": [
    "f, ax = plt.subplots(figsize=(4.5, 4))\n",
    "ax = sns.boxplot(data = df_score_all, palette=\"Set3\")\n",
    "plt.xlabel(\"Hyperparameters of LSH (L,K)\", fontsize = 12)\n",
    "plt.ylabel(\"F1-score w.r.t. LSH guarantees\", fontsize = 12)\n",
    "plt.title('Jaccard (MinHash)', fontsize = 16)\n",
    "plt.savefig('Results/MinHash/fscore-LSH', bbox_inches='tight')\n",
    "plt.show()"
   ]
  }
 ],
 "metadata": {
  "kernelspec": {
   "display_name": "split-sd4x",
   "language": "python",
   "name": "split-sd4x"
  },
  "language_info": {
   "codemirror_mode": {
    "name": "ipython",
    "version": 3
   },
   "file_extension": ".py",
   "mimetype": "text/x-python",
   "name": "python",
   "nbconvert_exporter": "python",
   "pygments_lexer": "ipython3",
   "version": "3.7.10"
  }
 },
 "nbformat": 4,
 "nbformat_minor": 5
}
