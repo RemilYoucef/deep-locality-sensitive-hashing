{
 "cells": [
  {
   "cell_type": "code",
   "execution_count": 1,
   "id": "7f099611-8612-48e9-ad41-5b9ab4c05186",
   "metadata": {},
   "outputs": [],
   "source": [
    "import os\n",
    "import sys\n",
    "import numpy as np\n",
    "import pandas as pd\n",
    "import random\n",
    "import matplotlib.pyplot as plt\n",
    "import seaborn as sns\n",
    "import warnings\n",
    "import pickle\n",
    "from tensorflow import keras \n",
    "warnings.filterwarnings(\"ignore\")\n",
    "from sklearn.feature_extraction.text import CountVectorizer\n",
    "from sklearn.model_selection import train_test_split"
   ]
  },
  {
   "cell_type": "code",
   "execution_count": 2,
   "id": "2e225f57-0f30-4c35-aac1-b1170feea20e",
   "metadata": {},
   "outputs": [],
   "source": [
    "sys.path.append(os.path.join(os.path.dirname(os.path.dirname(os.getcwd())),'python-packages/'))\n",
    "from deep_hashing_models import *\n",
    "from similarities import *\n",
    "from lsh_search import *"
   ]
  },
  {
   "cell_type": "markdown",
   "id": "5fd425d9-d073-40ed-aac9-9a30b698ace0",
   "metadata": {},
   "source": [
    "# 1. Data Preparation (Shingling)"
   ]
  },
  {
   "cell_type": "code",
   "execution_count": 3,
   "id": "fc3c3000-383d-4370-ab88-72258c46c13d",
   "metadata": {},
   "outputs": [
    {
     "data": {
      "text/plain": [
       "1000"
      ]
     },
     "execution_count": 3,
     "metadata": {},
     "output_type": "execute_result"
    }
   ],
   "source": [
    "data_repo = os.path.join(os.path.dirname(os.path.dirname(os.path.dirname(os.getcwd()))),'data/')\n",
    "df_distinct_stacks = pd.read_csv(data_repo + 'frequent_stack_traces.csv', index_col = [0])\n",
    "df_measures = pd.read_csv(data_repo + 'similarity-measures-pairs.csv', index_col = [0])\n",
    "n_stacks = df_distinct_stacks.shape[0]\n",
    "n_stacks"
   ]
  },
  {
   "cell_type": "code",
   "execution_count": 4,
   "id": "4b1e04e4-d77a-43f7-b528-288fd18739c4",
   "metadata": {},
   "outputs": [],
   "source": [
    "vectorizer_bigram = CountVectorizer(token_pattern = r\"(?u)\\b[a-zA-Z0-9_.]{2,}\\b\", ngram_range=(2, 2))\n",
    "s = df_distinct_stacks['stackTraceCusto'].apply(lambda x : x.replace('\\n',' '))\n",
    "s = s.apply(lambda x : x.replace('$',''))\n",
    "s = s.apply(lambda x : x.replace('/',''))\n",
    "s = s.apply(lambda x : x.replace('<',''))\n",
    "s = s.apply(lambda x : x.replace('>',''))\n",
    "X_bigram = vectorizer_bigram.fit_transform(list(s)).toarray()\n",
    "df_bigram = pd.DataFrame(data = X_bigram, columns = vectorizer_bigram.get_feature_names())"
   ]
  },
  {
   "cell_type": "code",
   "execution_count": 5,
   "id": "69b3ee9c-176d-41e7-ae9c-c86b1e9e2b78",
   "metadata": {
    "tags": []
   },
   "outputs": [
    {
     "data": {
      "text/html": [
       "<div>\n",
       "<style scoped>\n",
       "    .dataframe tbody tr th:only-of-type {\n",
       "        vertical-align: middle;\n",
       "    }\n",
       "\n",
       "    .dataframe tbody tr th {\n",
       "        vertical-align: top;\n",
       "    }\n",
       "\n",
       "    .dataframe thead th {\n",
       "        text-align: right;\n",
       "    }\n",
       "</style>\n",
       "<table border=\"1\" class=\"dataframe\">\n",
       "  <thead>\n",
       "    <tr style=\"text-align: right;\">\n",
       "      <th></th>\n",
       "      <th>aiguillageetiquette_raffin.getimprimantedest com.mycompany.superviseur.client.modules.postpreparation.prepprep.console.etiqcolis.hashfnautomate.getautomatetouseprogaiguillage</th>\n",
       "      <th>aiguillageetiquettecasier.findimpr aiguillageetiquettecasier.getimprimantedest</th>\n",
       "      <th>aiguillageetiquettecasier.getimprimantedest com.mycompany.superviseur.client.modules.postpreparation.prepprep.console.etiqcolis.hashfnautomate.getautomatetouseprogaiguillage</th>\n",
       "      <th>avrilfnspenbembal.closecurrentpalette avrilfnspenbembal.quitprepprep</th>\n",
       "      <th>avrilfnspenbembal.quitprepprep com.mycompany.superviseur.client.modules.postpreparation.prepprep.console.fnmanager.quitprepprep</th>\n",
       "      <th>com.mycompany.achats.edi.modele.regleenvoicde__jvst5b2_1a6a.getrenvoimodif com.mycompany.achats.services.commande.impl.commandeserviceimpl.load</th>\n",
       "      <th>com.mycompany.achats.services.commande.impl.commandeserviceimpl.load com.mycompany.achats.services.commande.impl.commandeserviceimplenhancerbycglib69294e2f.cglibload047</th>\n",
       "      <th>com.mycompany.achats.services.commande.impl.commandeserviceimpl.load com.mycompany.achats.services.commande.impl.commandeserviceimplenhancerbycglib69294e2f.cglibload048</th>\n",
       "      <th>com.mycompany.achats.services.commande.impl.commandeserviceimplenhancerbycglib69294e2f.cglibload047 com.mycompany.achats.services.commande.impl.commandeserviceimplenhancerbycglib69294e2ffastclassbycglib86c9e3d0.invoke</th>\n",
       "      <th>com.mycompany.achats.services.commande.impl.commandeserviceimplenhancerbycglib69294e2f.cglibload048 com.mycompany.achats.services.commande.impl.commandeserviceimplenhancerbycglib69294e2ffastclassbycglib86c9e3d0.invoke</th>\n",
       "      <th>...</th>\n",
       "      <th>sun.reflect.generatedmethodaccessor5281.invoke sun.reflect.delegatingmethodaccessorimpl.invoke</th>\n",
       "      <th>sun.reflect.generatedmethodaccessor575096.invoke sun.reflect.delegatingmethodaccessorimpl.invoke</th>\n",
       "      <th>sun.reflect.generatedmethodaccessor6410.invoke sun.reflect.delegatingmethodaccessorimpl.invoke</th>\n",
       "      <th>sun.reflect.generatedmethodaccessor80608.invoke sun.reflect.delegatingmethodaccessorimpl.invoke</th>\n",
       "      <th>sun.reflect.generatedmethodaccessor80619.invoke sun.reflect.delegatingmethodaccessorimpl.invoke</th>\n",
       "      <th>sun.reflect.generatedmethodaccessor844599.invoke sun.reflect.delegatingmethodaccessorimpl.invoke</th>\n",
       "      <th>sun.reflect.generatedmethodaccessor853912.invoke sun.reflect.delegatingmethodaccessorimpl.invoke</th>\n",
       "      <th>sun.reflect.generatedmethodaccessor93404.invoke sun.reflect.delegatingmethodaccessorimpl.invoke</th>\n",
       "      <th>sun.reflect.nativemethodaccessorimpl.invoke sun.reflect.delegatingmethodaccessorimpl.invoke</th>\n",
       "      <th>sun.reflect.nativemethodaccessorimpl.invoke0 sun.reflect.nativemethodaccessorimpl.invoke</th>\n",
       "    </tr>\n",
       "  </thead>\n",
       "  <tbody>\n",
       "    <tr>\n",
       "      <th>0</th>\n",
       "      <td>0</td>\n",
       "      <td>0</td>\n",
       "      <td>0</td>\n",
       "      <td>0</td>\n",
       "      <td>0</td>\n",
       "      <td>0</td>\n",
       "      <td>0</td>\n",
       "      <td>0</td>\n",
       "      <td>0</td>\n",
       "      <td>0</td>\n",
       "      <td>...</td>\n",
       "      <td>0</td>\n",
       "      <td>0</td>\n",
       "      <td>0</td>\n",
       "      <td>0</td>\n",
       "      <td>0</td>\n",
       "      <td>0</td>\n",
       "      <td>0</td>\n",
       "      <td>0</td>\n",
       "      <td>0</td>\n",
       "      <td>0</td>\n",
       "    </tr>\n",
       "    <tr>\n",
       "      <th>1</th>\n",
       "      <td>0</td>\n",
       "      <td>0</td>\n",
       "      <td>0</td>\n",
       "      <td>0</td>\n",
       "      <td>0</td>\n",
       "      <td>0</td>\n",
       "      <td>0</td>\n",
       "      <td>0</td>\n",
       "      <td>0</td>\n",
       "      <td>0</td>\n",
       "      <td>...</td>\n",
       "      <td>0</td>\n",
       "      <td>0</td>\n",
       "      <td>0</td>\n",
       "      <td>0</td>\n",
       "      <td>0</td>\n",
       "      <td>0</td>\n",
       "      <td>0</td>\n",
       "      <td>0</td>\n",
       "      <td>0</td>\n",
       "      <td>0</td>\n",
       "    </tr>\n",
       "    <tr>\n",
       "      <th>2</th>\n",
       "      <td>0</td>\n",
       "      <td>0</td>\n",
       "      <td>0</td>\n",
       "      <td>0</td>\n",
       "      <td>0</td>\n",
       "      <td>0</td>\n",
       "      <td>0</td>\n",
       "      <td>0</td>\n",
       "      <td>0</td>\n",
       "      <td>0</td>\n",
       "      <td>...</td>\n",
       "      <td>0</td>\n",
       "      <td>0</td>\n",
       "      <td>0</td>\n",
       "      <td>0</td>\n",
       "      <td>0</td>\n",
       "      <td>0</td>\n",
       "      <td>0</td>\n",
       "      <td>0</td>\n",
       "      <td>0</td>\n",
       "      <td>0</td>\n",
       "    </tr>\n",
       "    <tr>\n",
       "      <th>3</th>\n",
       "      <td>0</td>\n",
       "      <td>0</td>\n",
       "      <td>0</td>\n",
       "      <td>0</td>\n",
       "      <td>0</td>\n",
       "      <td>0</td>\n",
       "      <td>0</td>\n",
       "      <td>0</td>\n",
       "      <td>0</td>\n",
       "      <td>0</td>\n",
       "      <td>...</td>\n",
       "      <td>0</td>\n",
       "      <td>0</td>\n",
       "      <td>0</td>\n",
       "      <td>0</td>\n",
       "      <td>0</td>\n",
       "      <td>0</td>\n",
       "      <td>0</td>\n",
       "      <td>0</td>\n",
       "      <td>0</td>\n",
       "      <td>0</td>\n",
       "    </tr>\n",
       "    <tr>\n",
       "      <th>4</th>\n",
       "      <td>0</td>\n",
       "      <td>0</td>\n",
       "      <td>0</td>\n",
       "      <td>0</td>\n",
       "      <td>0</td>\n",
       "      <td>0</td>\n",
       "      <td>0</td>\n",
       "      <td>0</td>\n",
       "      <td>0</td>\n",
       "      <td>0</td>\n",
       "      <td>...</td>\n",
       "      <td>0</td>\n",
       "      <td>0</td>\n",
       "      <td>0</td>\n",
       "      <td>0</td>\n",
       "      <td>0</td>\n",
       "      <td>0</td>\n",
       "      <td>0</td>\n",
       "      <td>0</td>\n",
       "      <td>0</td>\n",
       "      <td>0</td>\n",
       "    </tr>\n",
       "    <tr>\n",
       "      <th>...</th>\n",
       "      <td>...</td>\n",
       "      <td>...</td>\n",
       "      <td>...</td>\n",
       "      <td>...</td>\n",
       "      <td>...</td>\n",
       "      <td>...</td>\n",
       "      <td>...</td>\n",
       "      <td>...</td>\n",
       "      <td>...</td>\n",
       "      <td>...</td>\n",
       "      <td>...</td>\n",
       "      <td>...</td>\n",
       "      <td>...</td>\n",
       "      <td>...</td>\n",
       "      <td>...</td>\n",
       "      <td>...</td>\n",
       "      <td>...</td>\n",
       "      <td>...</td>\n",
       "      <td>...</td>\n",
       "      <td>...</td>\n",
       "      <td>...</td>\n",
       "    </tr>\n",
       "    <tr>\n",
       "      <th>995</th>\n",
       "      <td>0</td>\n",
       "      <td>0</td>\n",
       "      <td>0</td>\n",
       "      <td>0</td>\n",
       "      <td>0</td>\n",
       "      <td>0</td>\n",
       "      <td>0</td>\n",
       "      <td>0</td>\n",
       "      <td>0</td>\n",
       "      <td>0</td>\n",
       "      <td>...</td>\n",
       "      <td>0</td>\n",
       "      <td>1</td>\n",
       "      <td>0</td>\n",
       "      <td>0</td>\n",
       "      <td>0</td>\n",
       "      <td>0</td>\n",
       "      <td>0</td>\n",
       "      <td>0</td>\n",
       "      <td>0</td>\n",
       "      <td>0</td>\n",
       "    </tr>\n",
       "    <tr>\n",
       "      <th>996</th>\n",
       "      <td>0</td>\n",
       "      <td>0</td>\n",
       "      <td>0</td>\n",
       "      <td>0</td>\n",
       "      <td>0</td>\n",
       "      <td>0</td>\n",
       "      <td>0</td>\n",
       "      <td>0</td>\n",
       "      <td>0</td>\n",
       "      <td>0</td>\n",
       "      <td>...</td>\n",
       "      <td>0</td>\n",
       "      <td>0</td>\n",
       "      <td>0</td>\n",
       "      <td>0</td>\n",
       "      <td>0</td>\n",
       "      <td>0</td>\n",
       "      <td>0</td>\n",
       "      <td>0</td>\n",
       "      <td>0</td>\n",
       "      <td>0</td>\n",
       "    </tr>\n",
       "    <tr>\n",
       "      <th>997</th>\n",
       "      <td>0</td>\n",
       "      <td>0</td>\n",
       "      <td>0</td>\n",
       "      <td>0</td>\n",
       "      <td>0</td>\n",
       "      <td>0</td>\n",
       "      <td>0</td>\n",
       "      <td>0</td>\n",
       "      <td>0</td>\n",
       "      <td>0</td>\n",
       "      <td>...</td>\n",
       "      <td>0</td>\n",
       "      <td>0</td>\n",
       "      <td>0</td>\n",
       "      <td>0</td>\n",
       "      <td>0</td>\n",
       "      <td>0</td>\n",
       "      <td>0</td>\n",
       "      <td>0</td>\n",
       "      <td>0</td>\n",
       "      <td>0</td>\n",
       "    </tr>\n",
       "    <tr>\n",
       "      <th>998</th>\n",
       "      <td>0</td>\n",
       "      <td>0</td>\n",
       "      <td>0</td>\n",
       "      <td>0</td>\n",
       "      <td>0</td>\n",
       "      <td>0</td>\n",
       "      <td>0</td>\n",
       "      <td>0</td>\n",
       "      <td>0</td>\n",
       "      <td>0</td>\n",
       "      <td>...</td>\n",
       "      <td>0</td>\n",
       "      <td>0</td>\n",
       "      <td>0</td>\n",
       "      <td>0</td>\n",
       "      <td>0</td>\n",
       "      <td>0</td>\n",
       "      <td>0</td>\n",
       "      <td>0</td>\n",
       "      <td>0</td>\n",
       "      <td>0</td>\n",
       "    </tr>\n",
       "    <tr>\n",
       "      <th>999</th>\n",
       "      <td>0</td>\n",
       "      <td>0</td>\n",
       "      <td>0</td>\n",
       "      <td>0</td>\n",
       "      <td>0</td>\n",
       "      <td>0</td>\n",
       "      <td>0</td>\n",
       "      <td>0</td>\n",
       "      <td>0</td>\n",
       "      <td>0</td>\n",
       "      <td>...</td>\n",
       "      <td>0</td>\n",
       "      <td>0</td>\n",
       "      <td>0</td>\n",
       "      <td>0</td>\n",
       "      <td>0</td>\n",
       "      <td>0</td>\n",
       "      <td>0</td>\n",
       "      <td>0</td>\n",
       "      <td>1</td>\n",
       "      <td>1</td>\n",
       "    </tr>\n",
       "  </tbody>\n",
       "</table>\n",
       "<p>1000 rows × 3027 columns</p>\n",
       "</div>"
      ],
      "text/plain": [
       "     aiguillageetiquette_raffin.getimprimantedest com.mycompany.superviseur.client.modules.postpreparation.prepprep.console.etiqcolis.hashfnautomate.getautomatetouseprogaiguillage  \\\n",
       "0                                                    0                                                                                                                                \n",
       "1                                                    0                                                                                                                                \n",
       "2                                                    0                                                                                                                                \n",
       "3                                                    0                                                                                                                                \n",
       "4                                                    0                                                                                                                                \n",
       "..                                                 ...                                                                                                                                \n",
       "995                                                  0                                                                                                                                \n",
       "996                                                  0                                                                                                                                \n",
       "997                                                  0                                                                                                                                \n",
       "998                                                  0                                                                                                                                \n",
       "999                                                  0                                                                                                                                \n",
       "\n",
       "     aiguillageetiquettecasier.findimpr aiguillageetiquettecasier.getimprimantedest  \\\n",
       "0                                                    0                                \n",
       "1                                                    0                                \n",
       "2                                                    0                                \n",
       "3                                                    0                                \n",
       "4                                                    0                                \n",
       "..                                                 ...                                \n",
       "995                                                  0                                \n",
       "996                                                  0                                \n",
       "997                                                  0                                \n",
       "998                                                  0                                \n",
       "999                                                  0                                \n",
       "\n",
       "     aiguillageetiquettecasier.getimprimantedest com.mycompany.superviseur.client.modules.postpreparation.prepprep.console.etiqcolis.hashfnautomate.getautomatetouseprogaiguillage  \\\n",
       "0                                                    0                                                                                                                               \n",
       "1                                                    0                                                                                                                               \n",
       "2                                                    0                                                                                                                               \n",
       "3                                                    0                                                                                                                               \n",
       "4                                                    0                                                                                                                               \n",
       "..                                                 ...                                                                                                                               \n",
       "995                                                  0                                                                                                                               \n",
       "996                                                  0                                                                                                                               \n",
       "997                                                  0                                                                                                                               \n",
       "998                                                  0                                                                                                                               \n",
       "999                                                  0                                                                                                                               \n",
       "\n",
       "     avrilfnspenbembal.closecurrentpalette avrilfnspenbembal.quitprepprep  \\\n",
       "0                                                    0                      \n",
       "1                                                    0                      \n",
       "2                                                    0                      \n",
       "3                                                    0                      \n",
       "4                                                    0                      \n",
       "..                                                 ...                      \n",
       "995                                                  0                      \n",
       "996                                                  0                      \n",
       "997                                                  0                      \n",
       "998                                                  0                      \n",
       "999                                                  0                      \n",
       "\n",
       "     avrilfnspenbembal.quitprepprep com.mycompany.superviseur.client.modules.postpreparation.prepprep.console.fnmanager.quitprepprep  \\\n",
       "0                                                    0                                                                                 \n",
       "1                                                    0                                                                                 \n",
       "2                                                    0                                                                                 \n",
       "3                                                    0                                                                                 \n",
       "4                                                    0                                                                                 \n",
       "..                                                 ...                                                                                 \n",
       "995                                                  0                                                                                 \n",
       "996                                                  0                                                                                 \n",
       "997                                                  0                                                                                 \n",
       "998                                                  0                                                                                 \n",
       "999                                                  0                                                                                 \n",
       "\n",
       "     com.mycompany.achats.edi.modele.regleenvoicde__jvst5b2_1a6a.getrenvoimodif com.mycompany.achats.services.commande.impl.commandeserviceimpl.load  \\\n",
       "0                                                    0                                                                                                 \n",
       "1                                                    0                                                                                                 \n",
       "2                                                    0                                                                                                 \n",
       "3                                                    0                                                                                                 \n",
       "4                                                    0                                                                                                 \n",
       "..                                                 ...                                                                                                 \n",
       "995                                                  0                                                                                                 \n",
       "996                                                  0                                                                                                 \n",
       "997                                                  0                                                                                                 \n",
       "998                                                  0                                                                                                 \n",
       "999                                                  0                                                                                                 \n",
       "\n",
       "     com.mycompany.achats.services.commande.impl.commandeserviceimpl.load com.mycompany.achats.services.commande.impl.commandeserviceimplenhancerbycglib69294e2f.cglibload047  \\\n",
       "0                                                    0                                                                                                                          \n",
       "1                                                    0                                                                                                                          \n",
       "2                                                    0                                                                                                                          \n",
       "3                                                    0                                                                                                                          \n",
       "4                                                    0                                                                                                                          \n",
       "..                                                 ...                                                                                                                          \n",
       "995                                                  0                                                                                                                          \n",
       "996                                                  0                                                                                                                          \n",
       "997                                                  0                                                                                                                          \n",
       "998                                                  0                                                                                                                          \n",
       "999                                                  0                                                                                                                          \n",
       "\n",
       "     com.mycompany.achats.services.commande.impl.commandeserviceimpl.load com.mycompany.achats.services.commande.impl.commandeserviceimplenhancerbycglib69294e2f.cglibload048  \\\n",
       "0                                                    0                                                                                                                          \n",
       "1                                                    0                                                                                                                          \n",
       "2                                                    0                                                                                                                          \n",
       "3                                                    0                                                                                                                          \n",
       "4                                                    0                                                                                                                          \n",
       "..                                                 ...                                                                                                                          \n",
       "995                                                  0                                                                                                                          \n",
       "996                                                  0                                                                                                                          \n",
       "997                                                  0                                                                                                                          \n",
       "998                                                  0                                                                                                                          \n",
       "999                                                  0                                                                                                                          \n",
       "\n",
       "     com.mycompany.achats.services.commande.impl.commandeserviceimplenhancerbycglib69294e2f.cglibload047 com.mycompany.achats.services.commande.impl.commandeserviceimplenhancerbycglib69294e2ffastclassbycglib86c9e3d0.invoke  \\\n",
       "0                                                    0                                                                                                                                                                           \n",
       "1                                                    0                                                                                                                                                                           \n",
       "2                                                    0                                                                                                                                                                           \n",
       "3                                                    0                                                                                                                                                                           \n",
       "4                                                    0                                                                                                                                                                           \n",
       "..                                                 ...                                                                                                                                                                           \n",
       "995                                                  0                                                                                                                                                                           \n",
       "996                                                  0                                                                                                                                                                           \n",
       "997                                                  0                                                                                                                                                                           \n",
       "998                                                  0                                                                                                                                                                           \n",
       "999                                                  0                                                                                                                                                                           \n",
       "\n",
       "     com.mycompany.achats.services.commande.impl.commandeserviceimplenhancerbycglib69294e2f.cglibload048 com.mycompany.achats.services.commande.impl.commandeserviceimplenhancerbycglib69294e2ffastclassbycglib86c9e3d0.invoke  \\\n",
       "0                                                    0                                                                                                                                                                           \n",
       "1                                                    0                                                                                                                                                                           \n",
       "2                                                    0                                                                                                                                                                           \n",
       "3                                                    0                                                                                                                                                                           \n",
       "4                                                    0                                                                                                                                                                           \n",
       "..                                                 ...                                                                                                                                                                           \n",
       "995                                                  0                                                                                                                                                                           \n",
       "996                                                  0                                                                                                                                                                           \n",
       "997                                                  0                                                                                                                                                                           \n",
       "998                                                  0                                                                                                                                                                           \n",
       "999                                                  0                                                                                                                                                                           \n",
       "\n",
       "     ...  \\\n",
       "0    ...   \n",
       "1    ...   \n",
       "2    ...   \n",
       "3    ...   \n",
       "4    ...   \n",
       "..   ...   \n",
       "995  ...   \n",
       "996  ...   \n",
       "997  ...   \n",
       "998  ...   \n",
       "999  ...   \n",
       "\n",
       "     sun.reflect.generatedmethodaccessor5281.invoke sun.reflect.delegatingmethodaccessorimpl.invoke  \\\n",
       "0                                                    0                                                \n",
       "1                                                    0                                                \n",
       "2                                                    0                                                \n",
       "3                                                    0                                                \n",
       "4                                                    0                                                \n",
       "..                                                 ...                                                \n",
       "995                                                  0                                                \n",
       "996                                                  0                                                \n",
       "997                                                  0                                                \n",
       "998                                                  0                                                \n",
       "999                                                  0                                                \n",
       "\n",
       "     sun.reflect.generatedmethodaccessor575096.invoke sun.reflect.delegatingmethodaccessorimpl.invoke  \\\n",
       "0                                                    0                                                  \n",
       "1                                                    0                                                  \n",
       "2                                                    0                                                  \n",
       "3                                                    0                                                  \n",
       "4                                                    0                                                  \n",
       "..                                                 ...                                                  \n",
       "995                                                  1                                                  \n",
       "996                                                  0                                                  \n",
       "997                                                  0                                                  \n",
       "998                                                  0                                                  \n",
       "999                                                  0                                                  \n",
       "\n",
       "     sun.reflect.generatedmethodaccessor6410.invoke sun.reflect.delegatingmethodaccessorimpl.invoke  \\\n",
       "0                                                    0                                                \n",
       "1                                                    0                                                \n",
       "2                                                    0                                                \n",
       "3                                                    0                                                \n",
       "4                                                    0                                                \n",
       "..                                                 ...                                                \n",
       "995                                                  0                                                \n",
       "996                                                  0                                                \n",
       "997                                                  0                                                \n",
       "998                                                  0                                                \n",
       "999                                                  0                                                \n",
       "\n",
       "     sun.reflect.generatedmethodaccessor80608.invoke sun.reflect.delegatingmethodaccessorimpl.invoke  \\\n",
       "0                                                    0                                                 \n",
       "1                                                    0                                                 \n",
       "2                                                    0                                                 \n",
       "3                                                    0                                                 \n",
       "4                                                    0                                                 \n",
       "..                                                 ...                                                 \n",
       "995                                                  0                                                 \n",
       "996                                                  0                                                 \n",
       "997                                                  0                                                 \n",
       "998                                                  0                                                 \n",
       "999                                                  0                                                 \n",
       "\n",
       "     sun.reflect.generatedmethodaccessor80619.invoke sun.reflect.delegatingmethodaccessorimpl.invoke  \\\n",
       "0                                                    0                                                 \n",
       "1                                                    0                                                 \n",
       "2                                                    0                                                 \n",
       "3                                                    0                                                 \n",
       "4                                                    0                                                 \n",
       "..                                                 ...                                                 \n",
       "995                                                  0                                                 \n",
       "996                                                  0                                                 \n",
       "997                                                  0                                                 \n",
       "998                                                  0                                                 \n",
       "999                                                  0                                                 \n",
       "\n",
       "     sun.reflect.generatedmethodaccessor844599.invoke sun.reflect.delegatingmethodaccessorimpl.invoke  \\\n",
       "0                                                    0                                                  \n",
       "1                                                    0                                                  \n",
       "2                                                    0                                                  \n",
       "3                                                    0                                                  \n",
       "4                                                    0                                                  \n",
       "..                                                 ...                                                  \n",
       "995                                                  0                                                  \n",
       "996                                                  0                                                  \n",
       "997                                                  0                                                  \n",
       "998                                                  0                                                  \n",
       "999                                                  0                                                  \n",
       "\n",
       "     sun.reflect.generatedmethodaccessor853912.invoke sun.reflect.delegatingmethodaccessorimpl.invoke  \\\n",
       "0                                                    0                                                  \n",
       "1                                                    0                                                  \n",
       "2                                                    0                                                  \n",
       "3                                                    0                                                  \n",
       "4                                                    0                                                  \n",
       "..                                                 ...                                                  \n",
       "995                                                  0                                                  \n",
       "996                                                  0                                                  \n",
       "997                                                  0                                                  \n",
       "998                                                  0                                                  \n",
       "999                                                  0                                                  \n",
       "\n",
       "     sun.reflect.generatedmethodaccessor93404.invoke sun.reflect.delegatingmethodaccessorimpl.invoke  \\\n",
       "0                                                    0                                                 \n",
       "1                                                    0                                                 \n",
       "2                                                    0                                                 \n",
       "3                                                    0                                                 \n",
       "4                                                    0                                                 \n",
       "..                                                 ...                                                 \n",
       "995                                                  0                                                 \n",
       "996                                                  0                                                 \n",
       "997                                                  0                                                 \n",
       "998                                                  0                                                 \n",
       "999                                                  0                                                 \n",
       "\n",
       "     sun.reflect.nativemethodaccessorimpl.invoke sun.reflect.delegatingmethodaccessorimpl.invoke  \\\n",
       "0                                                    0                                             \n",
       "1                                                    0                                             \n",
       "2                                                    0                                             \n",
       "3                                                    0                                             \n",
       "4                                                    0                                             \n",
       "..                                                 ...                                             \n",
       "995                                                  0                                             \n",
       "996                                                  0                                             \n",
       "997                                                  0                                             \n",
       "998                                                  0                                             \n",
       "999                                                  1                                             \n",
       "\n",
       "     sun.reflect.nativemethodaccessorimpl.invoke0 sun.reflect.nativemethodaccessorimpl.invoke  \n",
       "0                                                    0                                         \n",
       "1                                                    0                                         \n",
       "2                                                    0                                         \n",
       "3                                                    0                                         \n",
       "4                                                    0                                         \n",
       "..                                                 ...                                         \n",
       "995                                                  0                                         \n",
       "996                                                  0                                         \n",
       "997                                                  0                                         \n",
       "998                                                  0                                         \n",
       "999                                                  1                                         \n",
       "\n",
       "[1000 rows x 3027 columns]"
      ]
     },
     "execution_count": 5,
     "metadata": {},
     "output_type": "execute_result"
    }
   ],
   "source": [
    "df_bigram"
   ]
  },
  {
   "cell_type": "markdown",
   "id": "9b48dab8-4494-4535-955b-022d893af914",
   "metadata": {},
   "source": [
    "# 2. MinHash"
   ]
  },
  {
   "cell_type": "code",
   "execution_count": 6,
   "id": "7a8804e3-873f-4a5c-9dd1-4d9f85a3ba41",
   "metadata": {},
   "outputs": [],
   "source": [
    "nb_permutations = 64\n",
    "size_vector = 16\n",
    "embeddings = min_hash (nb_permutations, size_vector, df_bigram)"
   ]
  },
  {
   "cell_type": "markdown",
   "id": "4c555eec-ea99-4261-aa88-6e93dee00a4f",
   "metadata": {},
   "source": [
    "# 3. Locality Sensitive Hashing"
   ]
  },
  {
   "cell_type": "code",
   "execution_count": 7,
   "id": "e65f2ca5-6278-4c58-a282-c64275c9c4e8",
   "metadata": {},
   "outputs": [
    {
     "data": {
      "text/plain": [
       "[(1, 64), (2, 32), (4, 16), (8, 8), (16, 4), (32, 2), (64, 1)]"
      ]
     },
     "execution_count": 7,
     "metadata": {},
     "output_type": "execute_result"
    }
   ],
   "source": [
    "params = lsh_hyperparams(nb_permutations)\n",
    "'(K,L)'\n",
    "params "
   ]
  },
  {
   "cell_type": "code",
   "execution_count": 8,
   "id": "1516d483-0468-4bdb-8082-4727162eaf8e",
   "metadata": {},
   "outputs": [
    {
     "data": {
      "text/plain": [
       "<matplotlib.legend.Legend at 0x7f82c420a5d0>"
      ]
     },
     "execution_count": 8,
     "metadata": {},
     "output_type": "execute_result"
    },
    {
     "data": {
      "image/png": "[encoded data removed]",
      "text/plain": [
       "<Figure size 648x360 with 1 Axes>"
      ]
     },
     "metadata": {
      "needs_background": "light"
     },
     "output_type": "display_data"
    }
   ],
   "source": [
    "plt.rcParams[\"figure.figsize\"] = [9, 5]\n",
    "x = np.linspace(0, 1, 100)\n",
    "for param in params:\n",
    "    y = 1 - (1 - (x)**param[1])**param[0]\n",
    "    plt.plot(x, y, label = 'L = %d, r = %d' %param)\n",
    "plt.xlabel(\"similarity values\", fontsize = 12)\n",
    "plt.ylabel(\"hash probability in at least 1 bucket\", fontsize = 12)\n",
    "plt.title('Probability-similarity relation', fontsize = 18)\n",
    "plt.legend()"
   ]
  },
  {
   "cell_type": "code",
   "execution_count": 9,
   "id": "be139894-42da-4684-b2f7-7a921a98fda6",
   "metadata": {},
   "outputs": [],
   "source": [
    "df_probLSH = mean_prob_hashing_smallest_elt(n_stacks, params, embeddings, size_vector, df_measures, 'Jaccard-bigram', trace = False)"
   ]
  },
  {
   "cell_type": "code",
   "execution_count": 10,
   "id": "51056b88-f2f9-49c7-9193-57d57c07f657",
   "metadata": {},
   "outputs": [
    {
     "data": {
      "image/png": "[encoded data removed]",
      "text/plain": [
       "<Figure size 432x288 with 1 Axes>"
      ]
     },
     "metadata": {
      "needs_background": "light"
     },
     "output_type": "display_data"
    }
   ],
   "source": [
    "f, ax = plt.subplots(figsize=(6, 4))\n",
    "ax = sns.boxplot(data = df_probLSH, palette=\"Set3\")\n",
    "plt.xlabel(\"Hyperparameters of LSH (L,K)\", fontsize = 12)\n",
    "plt.ylabel(\"Prob hashing smallest elt in buckets\", fontsize = 12)\n",
    "plt.title('Jaccard-bigram (MinHash) [Relation Prob-Sim]', fontsize = 16)\n",
    "plt.show()"
   ]
  },
  {
   "cell_type": "code",
   "execution_count": 11,
   "id": "fd37d8db-a045-411f-a727-7118f3b822df",
   "metadata": {},
   "outputs": [
    {
     "data": {
      "text/plain": [
       "(8, 8)"
      ]
     },
     "execution_count": 11,
     "metadata": {},
     "output_type": "execute_result"
    }
   ],
   "source": [
    "'L = K = 8'\n",
    "L, K = params[3]\n",
    "L, K"
   ]
  },
  {
   "cell_type": "code",
   "execution_count": 12,
   "id": "73f3fcf4-e350-493b-803a-bd1155955d35",
   "metadata": {},
   "outputs": [],
   "source": [
    "hash_tables = create_hash_tables(L, K, size_vector, embeddings)"
   ]
  },
  {
   "cell_type": "code",
   "execution_count": 13,
   "id": "12da0e94-b2d9-4752-b195-45e668987793",
   "metadata": {},
   "outputs": [],
   "source": [
    "'pointer to the stack trace'\n",
    "index = random.randint(0,n_stacks)\n",
    "index = 1"
   ]
  },
  {
   "cell_type": "code",
   "execution_count": 14,
   "id": "286f549a-7c50-4439-9a0f-12e7cd94c4d8",
   "metadata": {
    "tags": []
   },
   "outputs": [
    {
     "data": {
      "text/plain": [
       "{0, 1, 9, 34, 58, 71, 157, 304, 323, 413, 441, 619, 831}"
      ]
     },
     "execution_count": 14,
     "metadata": {},
     "output_type": "execute_result"
    }
   ],
   "source": [
    "set_near_duplicates = near_duplicates(L, K, size_vector, index, embeddings, hash_tables)\n",
    "set_near_duplicates"
   ]
  },
  {
   "cell_type": "code",
   "execution_count": 15,
   "id": "7b36f949-d916-4efb-bd12-f348c36ad1f4",
   "metadata": {},
   "outputs": [],
   "source": [
    "list_near_duplicate_pairs = near_duplicate_pairs(index, set_near_duplicates, n_stacks)\n",
    "n_duplicate_pairs = len(list_near_duplicate_pairs)"
   ]
  },
  {
   "cell_type": "code",
   "execution_count": 16,
   "id": "70c939e8-5e7d-4106-aab9-3c942eddc6ca",
   "metadata": {},
   "outputs": [
    {
     "data": {
      "text/plain": [
       "0       0.818182\n",
       "1006    0.818182\n",
       "1055    0.769231\n",
       "1410    0.769231\n",
       "1616    0.642857\n",
       "1031    0.583333\n",
       "1828    0.562500\n",
       "1320    0.538462\n",
       "1154    0.500000\n",
       "1068    0.461538\n",
       "1438    0.421053\n",
       "1301    0.250000\n",
       "Name: Jaccard-bigram, dtype: float64"
      ]
     },
     "execution_count": 16,
     "metadata": {},
     "output_type": "execute_result"
    }
   ],
   "source": [
    "near_duplicates_sim = df_measures['Jaccard-bigram'][list_near_duplicate_pairs].sort_values(ascending = False)\n",
    "near_duplicates_sim"
   ]
  },
  {
   "cell_type": "code",
   "execution_count": 17,
   "id": "72f9c315-b5f6-4b5a-813b-1b60b3e6518a",
   "metadata": {},
   "outputs": [
    {
     "data": {
      "text/plain": [
       "{0, 9, 34, 41, 58, 152, 155, 413, 431, 619, 780, 928}"
      ]
     },
     "execution_count": 17,
     "metadata": {},
     "output_type": "execute_result"
    }
   ],
   "source": [
    "set_real_nns, real_nns_sim = real_nns(index, df_measures, 'Jaccard-bigram', n_stacks, n_duplicate_pairs)\n",
    "set_real_nns"
   ]
  },
  {
   "cell_type": "code",
   "execution_count": 18,
   "id": "8aaf00cb-a7ad-49b3-b8bf-ffedab63a5bf",
   "metadata": {},
   "outputs": [
    {
     "data": {
      "text/plain": [
       "0       0.818182\n",
       "1006    0.818182\n",
       "1055    0.769231\n",
       "1149    0.769231\n",
       "1410    0.769231\n",
       "1428    0.714286\n",
       "1925    0.666667\n",
       "1616    0.642857\n",
       "1152    0.642857\n",
       "1038    0.625000\n",
       "1777    0.600000\n",
       "1031    0.583333\n",
       "dtype: float64"
      ]
     },
     "execution_count": 18,
     "metadata": {},
     "output_type": "execute_result"
    }
   ],
   "source": [
    "real_nns_sim[:n_duplicate_pairs]"
   ]
  },
  {
   "cell_type": "markdown",
   "id": "8bf79627-cbaa-4576-8284-e656ab607daf",
   "metadata": {},
   "source": [
    "# 4. Metrics (MinHash)"
   ]
  },
  {
   "cell_type": "markdown",
   "id": "e9c70226-58ad-4cd7-9ba4-ac5872d5d641",
   "metadata": {},
   "source": [
    "## 4.1. Ratio of finding the $k$ real nearest neighbor with the Least $L$ (Recal rate at $k$ first positions)"
   ]
  },
  {
   "cell_type": "code",
   "execution_count": 19,
   "id": "02da718f-bcf8-4d6e-9f64-61b4d2589267",
   "metadata": {},
   "outputs": [
    {
     "data": {
      "text/plain": [
       "0.897"
      ]
     },
     "execution_count": 19,
     "metadata": {},
     "output_type": "execute_result"
    }
   ],
   "source": [
    "'All params'\n",
    "k_first_positions = 1\n",
    "recal_rate(n_stacks, params, embeddings, size_vector, df_measures, k_first_positions, 'Jaccard-bigram')"
   ]
  },
  {
   "cell_type": "code",
   "execution_count": 20,
   "id": "64f67bf1-49f7-4469-b6df-f482a717eb94",
   "metadata": {},
   "outputs": [
    {
     "data": {
      "text/plain": [
       "0.9659574468085106"
      ]
     },
     "execution_count": 20,
     "metadata": {},
     "output_type": "execute_result"
    }
   ],
   "source": [
    "'Best param'\n",
    "k_first_positions = 1\n",
    "recal_rate_one_param(n_stacks, params[3], embeddings, size_vector, df_measures, k_first_positions, 'Jaccard-bigram')"
   ]
  },
  {
   "cell_type": "markdown",
   "id": "994c5669-d433-45e7-a2cc-ec468535e016",
   "metadata": {},
   "source": [
    "-----------------------------------------------------------------"
   ]
  },
  {
   "cell_type": "code",
   "execution_count": 21,
   "id": "1964b4ec-a296-4b9c-b865-c9a63197ac4b",
   "metadata": {},
   "outputs": [
    {
     "data": {
      "text/plain": [
       "0.9146666666666659"
      ]
     },
     "execution_count": 21,
     "metadata": {},
     "output_type": "execute_result"
    }
   ],
   "source": [
    "'All params'\n",
    "k_first_positions = 3\n",
    "recal_rate(n_stacks, params, embeddings, size_vector, df_measures, k_first_positions, 'Jaccard-bigram')"
   ]
  },
  {
   "cell_type": "code",
   "execution_count": 22,
   "id": "40632ceb-3bfa-48c2-a001-88a01466c4b4",
   "metadata": {},
   "outputs": [
    {
     "data": {
      "text/plain": [
       "0.9293394777265745"
      ]
     },
     "execution_count": 22,
     "metadata": {},
     "output_type": "execute_result"
    }
   ],
   "source": [
    "'Best param'\n",
    "k_first_positions = 3\n",
    "recal_rate_one_param(n_stacks, params[3], embeddings, size_vector, df_measures, k_first_positions, 'Jaccard-bigram')"
   ]
  },
  {
   "cell_type": "markdown",
   "id": "b46cee13-4836-4ac3-aee8-722584a563b0",
   "metadata": {},
   "source": [
    "-----------------------------------------------------------------"
   ]
  },
  {
   "cell_type": "code",
   "execution_count": 23,
   "id": "68a63491-2bf0-4bad-b6d5-f8d5f2675d0d",
   "metadata": {},
   "outputs": [
    {
     "data": {
      "text/plain": [
       "0.9167999999999995"
      ]
     },
     "execution_count": 23,
     "metadata": {},
     "output_type": "execute_result"
    }
   ],
   "source": [
    "'All params'\n",
    "k_first_positions = 5\n",
    "recal_rate(n_stacks, params, embeddings, size_vector, df_measures, k_first_positions, 'Jaccard-bigram')"
   ]
  },
  {
   "cell_type": "code",
   "execution_count": 24,
   "id": "d13a711f-fd18-44c7-8fd4-3e9705f8eceb",
   "metadata": {},
   "outputs": [
    {
     "data": {
      "text/plain": [
       "0.9108974358974362"
      ]
     },
     "execution_count": 24,
     "metadata": {},
     "output_type": "execute_result"
    }
   ],
   "source": [
    "'Best param'\n",
    "k_first_positions = 5\n",
    "recal_rate_one_param(n_stacks, params[3], embeddings, size_vector, df_measures, k_first_positions, 'Jaccard-bigram')"
   ]
  },
  {
   "cell_type": "markdown",
   "id": "4da28cdb-31b3-426b-b6f5-c6a7527964e4",
   "metadata": {},
   "source": [
    "## 4.2. Generalized MRR"
   ]
  },
  {
   "cell_type": "code",
   "execution_count": 25,
   "id": "33b1fe19-71c4-4e32-a422-6da1459b7fbb",
   "metadata": {
    "tags": []
   },
   "outputs": [
    {
     "name": "stdout",
     "output_type": "stream",
     "text": [
      "(1, 64)\n",
      "0\n",
      "100\n",
      "200\n",
      "300\n",
      "400\n",
      "500\n",
      "600\n",
      "700\n",
      "800\n",
      "900\n",
      "-----------------------------\n",
      "(2, 32)\n",
      "0\n",
      "100\n",
      "200\n",
      "300\n",
      "400\n",
      "500\n",
      "600\n",
      "700\n",
      "800\n",
      "900\n",
      "-----------------------------\n",
      "(4, 16)\n",
      "0\n",
      "100\n",
      "200\n",
      "300\n",
      "400\n",
      "500\n",
      "600\n",
      "700\n",
      "800\n",
      "900\n",
      "-----------------------------\n",
      "(8, 8)\n",
      "0\n",
      "100\n",
      "200\n",
      "300\n",
      "400\n",
      "500\n",
      "600\n",
      "700\n",
      "800\n",
      "900\n",
      "-----------------------------\n",
      "(16, 4)\n",
      "0\n",
      "100\n",
      "200\n",
      "300\n",
      "400\n",
      "500\n",
      "600\n",
      "700\n",
      "800\n",
      "900\n",
      "-----------------------------\n",
      "(32, 2)\n",
      "0\n",
      "100\n",
      "200\n",
      "300\n",
      "400\n",
      "500\n",
      "600\n",
      "700\n",
      "800\n",
      "900\n",
      "-----------------------------\n",
      "(64, 1)\n",
      "0\n",
      "100\n",
      "200\n",
      "300\n",
      "400\n",
      "500\n",
      "600\n",
      "700\n",
      "800\n",
      "900\n",
      "-----------------------------\n"
     ]
    },
    {
     "data": {
      "text/plain": [
       "(1, 64)    0.980392\n",
       "(2, 32)    0.936206\n",
       "(4, 16)    0.965072\n",
       "(8, 8)     0.936132\n",
       "(16, 4)    0.872925\n",
       "(32, 2)    0.930513\n",
       "(64, 1)    0.998311\n",
       "dtype: float64"
      ]
     },
     "execution_count": 25,
     "metadata": {},
     "output_type": "execute_result"
    }
   ],
   "source": [
    "df_knns = mean_generalized_mrr(n_stacks, params, embeddings, size_vector, df_measures ,'Jaccard-bigram', trace = True)\n",
    "df_knns.mean(skipna = True, axis = 0)"
   ]
  },
  {
   "cell_type": "code",
   "execution_count": 26,
   "id": "b4ed65fa-385c-4e26-80a2-c8c599f8230f",
   "metadata": {},
   "outputs": [
    {
     "data": {
      "text/plain": [
       "0.9456500709205525"
      ]
     },
     "execution_count": 26,
     "metadata": {},
     "output_type": "execute_result"
    }
   ],
   "source": [
    "df_knns.mean(skipna = True, axis = 0).mean()"
   ]
  },
  {
   "cell_type": "markdown",
   "id": "12abc88d-e3ef-4ad9-9a07-64d9d65afc01",
   "metadata": {},
   "source": [
    "## 4.3. Recall w.r.t. LSH"
   ]
  },
  {
   "cell_type": "code",
   "execution_count": 27,
   "id": "85a650bc-ac3b-4734-81e2-08e80ff6da02",
   "metadata": {
    "collapsed": true,
    "jupyter": {
     "outputs_hidden": true
    },
    "tags": []
   },
   "outputs": [
    {
     "name": "stdout",
     "output_type": "stream",
     "text": [
      "(1, 64)\n",
      "0\n",
      "100\n",
      "200\n",
      "300\n",
      "400\n",
      "500\n",
      "600\n",
      "700\n",
      "800\n",
      "900\n",
      "-----------------------------\n",
      "(2, 32)\n",
      "0\n",
      "100\n",
      "200\n",
      "300\n",
      "400\n",
      "500\n",
      "600\n",
      "700\n",
      "800\n",
      "900\n",
      "-----------------------------\n",
      "(4, 16)\n",
      "0\n",
      "100\n",
      "200\n",
      "300\n",
      "400\n",
      "500\n",
      "600\n",
      "700\n",
      "800\n",
      "900\n",
      "-----------------------------\n",
      "(8, 8)\n",
      "0\n",
      "100\n",
      "200\n",
      "300\n",
      "400\n",
      "500\n",
      "600\n",
      "700\n",
      "800\n",
      "900\n",
      "-----------------------------\n",
      "(16, 4)\n",
      "0\n",
      "100\n",
      "200\n",
      "300\n",
      "400\n",
      "500\n",
      "600\n",
      "700\n",
      "800\n",
      "900\n",
      "-----------------------------\n",
      "(32, 2)\n",
      "0\n",
      "100\n",
      "200\n",
      "300\n",
      "400\n",
      "500\n",
      "600\n",
      "700\n",
      "800\n",
      "900\n",
      "-----------------------------\n",
      "(64, 1)\n",
      "0\n",
      "100\n",
      "200\n",
      "300\n",
      "400\n",
      "500\n",
      "600\n",
      "700\n",
      "800\n",
      "900\n",
      "-----------------------------\n"
     ]
    },
    {
     "data": {
      "text/plain": [
       "(1, 64)    1.000000\n",
       "(2, 32)    1.000000\n",
       "(4, 16)    0.786957\n",
       "(8, 8)     0.829349\n",
       "(16, 4)    0.861792\n",
       "(32, 2)    0.887785\n",
       "(64, 1)    0.982652\n",
       "dtype: float64"
      ]
     },
     "execution_count": 27,
     "metadata": {},
     "output_type": "execute_result"
    }
   ],
   "source": [
    "df_recall = recall_all(n_stacks, params, embeddings, size_vector, df_measures ,'Jaccard-bigram', trace = True)\n",
    "df_recall.mean(skipna = True)"
   ]
  },
  {
   "cell_type": "code",
   "execution_count": 28,
   "id": "237a4508-33df-4159-b521-3a0fc5e73305",
   "metadata": {},
   "outputs": [
    {
     "data": {
      "text/plain": [
       "(1, 64)    1.000000\n",
       "(2, 32)    1.000000\n",
       "(4, 16)    0.786957\n",
       "(8, 8)     0.829349\n",
       "(16, 4)    0.861792\n",
       "(32, 2)    0.887785\n",
       "(64, 1)    0.982652\n",
       "dtype: float64"
      ]
     },
     "execution_count": 28,
     "metadata": {},
     "output_type": "execute_result"
    }
   ],
   "source": [
    "df_recall.mean(skipna = True)"
   ]
  },
  {
   "cell_type": "code",
   "execution_count": 29,
   "id": "b1a06927-9661-4866-8d24-9b96fb16cd6c",
   "metadata": {},
   "outputs": [
    {
     "data": {
      "image/png": "[encoded data removed]",
      "text/plain": [
       "<Figure size 324x288 with 1 Axes>"
      ]
     },
     "metadata": {
      "needs_background": "light"
     },
     "output_type": "display_data"
    }
   ],
   "source": [
    "f, ax = plt.subplots(figsize=(4.5, 4))\n",
    "ax = sns.boxplot(data = df_recall, palette=\"Set3\")\n",
    "plt.xlabel(\"Hyperparameters of LSH (L,K)\", fontsize = 13)\n",
    "plt.ylabel(\"Recall w.r.t. LSH guaranteess\", fontsize = 13)\n",
    "plt.title('Jaccard-Bigram (MinHash)', fontsize = 16)\n",
    "plt.savefig('Results/MinHash/Recall-LSH', bbox_inches='tight')\n",
    "plt.show()"
   ]
  },
  {
   "cell_type": "markdown",
   "id": "b4761336-bb21-4f9d-97e0-1456b8411fe6",
   "metadata": {},
   "source": [
    "## 4.4. Precision w.r.t. LSH"
   ]
  },
  {
   "cell_type": "code",
   "execution_count": 30,
   "id": "be585985-ac78-482e-97e0-11dec7aee7ce",
   "metadata": {
    "collapsed": true,
    "jupyter": {
     "outputs_hidden": true
    },
    "tags": []
   },
   "outputs": [
    {
     "name": "stdout",
     "output_type": "stream",
     "text": [
      "(1, 64)\n",
      "0\n",
      "100\n",
      "200\n",
      "300\n",
      "400\n",
      "500\n",
      "600\n",
      "700\n",
      "800\n",
      "900\n",
      "-----------------------------\n",
      "(2, 32)\n",
      "0\n",
      "100\n",
      "200\n",
      "300\n",
      "400\n",
      "500\n",
      "600\n",
      "700\n",
      "800\n",
      "900\n",
      "-----------------------------\n",
      "(4, 16)\n",
      "0\n",
      "100\n",
      "200\n",
      "300\n",
      "400\n",
      "500\n",
      "600\n",
      "700\n",
      "800\n",
      "900\n",
      "-----------------------------\n",
      "(8, 8)\n",
      "0\n",
      "100\n",
      "200\n",
      "300\n",
      "400\n",
      "500\n",
      "600\n",
      "700\n",
      "800\n",
      "900\n",
      "-----------------------------\n",
      "(16, 4)\n",
      "0\n",
      "100\n",
      "200\n",
      "300\n",
      "400\n",
      "500\n",
      "600\n",
      "700\n",
      "800\n",
      "900\n",
      "-----------------------------\n",
      "(32, 2)\n",
      "0\n",
      "100\n",
      "200\n",
      "300\n",
      "400\n",
      "500\n",
      "600\n",
      "700\n",
      "800\n",
      "900\n",
      "-----------------------------\n",
      "(64, 1)\n",
      "0\n",
      "100\n",
      "200\n",
      "300\n",
      "400\n",
      "500\n",
      "600\n",
      "700\n",
      "800\n",
      "900\n",
      "-----------------------------\n"
     ]
    },
    {
     "data": {
      "text/plain": [
       "(1, 64)    0.411765\n",
       "(2, 32)    0.159091\n",
       "(4, 16)    0.456671\n",
       "(8, 8)     0.700454\n",
       "(16, 4)    0.596156\n",
       "(32, 2)    0.721392\n",
       "(64, 1)    1.000000\n",
       "dtype: float64"
      ]
     },
     "execution_count": 30,
     "metadata": {},
     "output_type": "execute_result"
    }
   ],
   "source": [
    "df_precision = precision_all(n_stacks, params, embeddings, size_vector, df_measures ,'Jaccard-bigram', trace = True)\n",
    "df_precision.mean(skipna = True, axis = 0)"
   ]
  },
  {
   "cell_type": "code",
   "execution_count": 31,
   "id": "7f33144e-3b1c-402f-8b87-1c5b5ddc1cda",
   "metadata": {},
   "outputs": [
    {
     "data": {
      "text/plain": [
       "(1, 64)    0.411765\n",
       "(2, 32)    0.159091\n",
       "(4, 16)    0.456671\n",
       "(8, 8)     0.700454\n",
       "(16, 4)    0.596156\n",
       "(32, 2)    0.721392\n",
       "(64, 1)    1.000000\n",
       "dtype: float64"
      ]
     },
     "execution_count": 31,
     "metadata": {},
     "output_type": "execute_result"
    }
   ],
   "source": [
    "df_precision.mean(skipna = True, axis = 0)"
   ]
  },
  {
   "cell_type": "code",
   "execution_count": 32,
   "id": "36ef9e7b-151d-4474-b1de-03a92de64c14",
   "metadata": {},
   "outputs": [
    {
     "data": {
      "image/png": "[encoded data removed]",
      "text/plain": [
       "<Figure size 324x288 with 1 Axes>"
      ]
     },
     "metadata": {
      "needs_background": "light"
     },
     "output_type": "display_data"
    }
   ],
   "source": [
    "f, ax = plt.subplots(figsize=(4.5, 4))\n",
    "ax = sns.boxplot(data = df_precision, palette=\"Set3\")\n",
    "plt.xlabel(\"Hyperparameters of LSH (L,K)\", fontsize = 13)\n",
    "plt.ylabel(\"Precision w.r.t. LSH guarantees\", fontsize = 13)\n",
    "plt.title('Jaccard-Bigram (MinHash)', fontsize = 16)\n",
    "plt.savefig('Results/MinHash/precision-LSH', bbox_inches='tight')\n",
    "plt.show()"
   ]
  },
  {
   "cell_type": "code",
   "execution_count": 33,
   "id": "6d7fd0ac-4dda-4b88-9844-4af31950afc8",
   "metadata": {},
   "outputs": [
    {
     "data": {
      "text/plain": [
       "(1, 64)    0.411765\n",
       "(2, 32)    0.159091\n",
       "(4, 16)    0.421705\n",
       "(8, 8)     0.673571\n",
       "(16, 4)    0.623058\n",
       "(32, 2)    0.760257\n",
       "(64, 1)    0.990375\n",
       "dtype: float64"
      ]
     },
     "execution_count": 33,
     "metadata": {},
     "output_type": "execute_result"
    }
   ],
   "source": [
    "df_score_all = fscore_all(df_precision, df_recall)\n",
    "df_score_all.mean(skipna = True)"
   ]
  },
  {
   "cell_type": "markdown",
   "id": "24eacf34-9838-4cc7-a8a2-7f80140bd8e9",
   "metadata": {},
   "source": [
    "## 4.5. Fscore w.r.t. LSH"
   ]
  },
  {
   "cell_type": "code",
   "execution_count": 34,
   "id": "3699d125-ceff-4334-bbac-dc77e65ae9ea",
   "metadata": {},
   "outputs": [
    {
     "data": {
      "image/png": "[encoded data removed]",
      "text/plain": [
       "<Figure size 324x288 with 1 Axes>"
      ]
     },
     "metadata": {
      "needs_background": "light"
     },
     "output_type": "display_data"
    }
   ],
   "source": [
    "f, ax = plt.subplots(figsize=(4.5, 4))\n",
    "ax = sns.boxplot(data = df_score_all, palette=\"Set3\")\n",
    "plt.xlabel(\"Hyperparameters of LSH (L,K)\", fontsize = 12)\n",
    "plt.ylabel(\"F1-score w.r.t. LSH guarantees\", fontsize = 12)\n",
    "plt.title('Jaccard-Bigram (MinHash)', fontsize = 16)\n",
    "plt.savefig('Results/MinHash/fscore-LSH', bbox_inches='tight')\n",
    "plt.show()"
   ]
  }
 ],
 "metadata": {
  "kernelspec": {
   "display_name": "split-sd4x",
   "language": "python",
   "name": "split-sd4x"
  },
  "language_info": {
   "codemirror_mode": {
    "name": "ipython",
    "version": 3
   },
   "file_extension": ".py",
   "mimetype": "text/x-python",
   "name": "python",
   "nbconvert_exporter": "python",
   "pygments_lexer": "ipython3",
   "version": "3.7.10"
  }
 },
 "nbformat": 4,
 "nbformat_minor": 5
}
