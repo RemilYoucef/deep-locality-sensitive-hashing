{
 "cells": [
  {
   "cell_type": "code",
   "execution_count": 1,
   "id": "bb7e69c2-b065-46fa-b6eb-7ea56ae43f35",
   "metadata": {},
   "outputs": [],
   "source": [
    "import os\n",
    "import sys\n",
    "import numpy as np\n",
    "import pandas as pd\n",
    "import random\n",
    "import matplotlib.pyplot as plt\n",
    "import seaborn as sns\n",
    "import warnings\n",
    "import pickle\n",
    "from tensorflow import keras \n",
    "warnings.filterwarnings(\"ignore\")\n",
    "from sklearn.model_selection import train_test_split\n",
    "from tensorflow.python.keras.layers import Conv1D"
   ]
  },
  {
   "cell_type": "code",
   "execution_count": 2,
   "id": "1014d33e-c803-41ce-be12-ab1c3f929253",
   "metadata": {},
   "outputs": [],
   "source": [
    "sys.path.append(os.path.join(os.path.dirname(os.path.dirname(os.getcwd())),'python-packages/'))\n",
    "from deep_hashing_models import *\n",
    "from similarities import *\n",
    "from lsh_search import *"
   ]
  },
  {
   "cell_type": "markdown",
   "id": "627c738c-cd1f-4e1b-ae93-1aa3d25882aa",
   "metadata": {},
   "source": [
    "# 1. Data Preparation"
   ]
  },
  {
   "cell_type": "code",
   "execution_count": 3,
   "id": "e96659a4-eea0-48d9-8977-fecba559b78d",
   "metadata": {},
   "outputs": [],
   "source": [
    "data_repo = os.path.join(os.path.dirname(os.path.dirname(os.path.dirname(os.getcwd()))),'data/')"
   ]
  },
  {
   "cell_type": "code",
   "execution_count": 4,
   "id": "d2874701-b390-405b-9001-822faf31ade5",
   "metadata": {},
   "outputs": [],
   "source": [
    "df_distinct_stacks = pd.read_csv(data_repo + 'frequent_stack_traces.csv', index_col = [0])\n",
    "df_measures = pd.read_csv(data_repo + 'similarity-measures-pairs.csv', index_col = [0])"
   ]
  },
  {
   "cell_type": "code",
   "execution_count": 5,
   "id": "7b4772e1-6603-4344-a277-70d9728c61ea",
   "metadata": {},
   "outputs": [
    {
     "data": {
      "text/plain": [
       "1000"
      ]
     },
     "execution_count": 5,
     "metadata": {},
     "output_type": "execute_result"
    }
   ],
   "source": [
    "n_stacks = df_distinct_stacks.shape[0]\n",
    "n_stacks"
   ]
  },
  {
   "cell_type": "code",
   "execution_count": 6,
   "id": "e515f018-4609-4487-8d87-d707ca6347da",
   "metadata": {},
   "outputs": [],
   "source": [
    "df_distinct_stacks['listStackTrace'] = df_distinct_stacks['stackTraceCusto'].apply(lambda x : x.split('\\n'))\n",
    "corpus = df_distinct_stacks['listStackTrace'].tolist()\n",
    "frames = pd.Series(list(set([elt for l in corpus for elt in l])))\n",
    "df_frames = pd.DataFrame()\n",
    "df_frames['frame'] = pd.get_dummies(frames).T.reset_index().rename(columns={'index': 'frame'})['frame']\n",
    "df_frames['embedding'] = pd.get_dummies(frames).T.reset_index().apply(lambda x : x[1:].values, axis = 1)\n",
    "df_distinct_stacks['rankFrames'] = df_distinct_stacks['listStackTrace'].apply(lambda x : index_frame(x, df_frames))"
   ]
  },
  {
   "cell_type": "code",
   "execution_count": 7,
   "id": "fc39da3f-7cf6-4c24-8ace-ae8334edd110",
   "metadata": {},
   "outputs": [],
   "source": [
    "df_trace_sim = pd.DataFrame()\n",
    "df_trace_sim['TraceSim'] = df_measures['TraceSim']\n",
    "df_trace_sim['stack1'] = df_trace_sim.apply(lambda x : assign_stacks(rowIndex(x), df_distinct_stacks)[0], axis = 1)\n",
    "df_trace_sim['stack2'] = df_trace_sim.apply(lambda x : assign_stacks(rowIndex(x), df_distinct_stacks)[1], axis = 1)"
   ]
  },
  {
   "cell_type": "code",
   "execution_count": 8,
   "id": "130b1d35-edd8-4f6f-a135-a5cea5d74f64",
   "metadata": {},
   "outputs": [
    {
     "data": {
      "text/plain": [
       "(2246, 2245)"
      ]
     },
     "execution_count": 8,
     "metadata": {},
     "output_type": "execute_result"
    }
   ],
   "source": [
    "embeddings = 1 * np.random.randn(df_frames.shape[0] + 1, df_frames['embedding'][0].shape[0])\n",
    "embeddings[0] = 0\n",
    "embeddings[1:] = np.vstack(df_frames['embedding'].tolist())\n",
    "embeddings.shape"
   ]
  },
  {
   "cell_type": "code",
   "execution_count": 9,
   "id": "9b5ac005-aa8f-47fe-a5cf-ece206be1621",
   "metadata": {},
   "outputs": [],
   "source": [
    "X = df_trace_sim[['stack1','stack2']]\n",
    "Y = df_trace_sim['TraceSim']\n",
    "X_train, X_validation, Y_train, Y_validation = train_test_split(X, Y, test_size = 0.2)\n",
    "\n",
    "max_length = df_distinct_stacks['listStackTrace'].apply(lambda x : len(x)).max()\n",
    "X_train = padding(X_train, max_length)\n",
    "X_validation = padding(X_validation, max_length)"
   ]
  },
  {
   "cell_type": "code",
   "execution_count": 10,
   "id": "7a79ade3-db36-4098-9c5a-109ec33a37eb",
   "metadata": {},
   "outputs": [],
   "source": [
    "Y_train = Y_train.values\n",
    "Y_validation = Y_validation.values"
   ]
  },
  {
   "cell_type": "code",
   "execution_count": 11,
   "id": "5f8cc839-bd54-4630-8f35-2a89bb19c00d",
   "metadata": {},
   "outputs": [],
   "source": [
    "assert X_train['stack_1'].shape == X_train['stack_2'].shape\n",
    "assert len(X_train['stack_1']) == len(Y_train)"
   ]
  },
  {
   "cell_type": "markdown",
   "id": "753999cd-6682-4263-b38e-1865140e6708",
   "metadata": {},
   "source": [
    "### Distribution of training data"
   ]
  },
  {
   "cell_type": "code",
   "execution_count": 12,
   "id": "3db6e7b6-ff7f-4089-be9b-af02e34646ed",
   "metadata": {},
   "outputs": [
    {
     "data": {
      "image/png": "[encoded data removed]",
      "text/plain": [
       "<Figure size 720x360 with 1 Axes>"
      ]
     },
     "metadata": {
      "needs_background": "light"
     },
     "output_type": "display_data"
    }
   ],
   "source": [
    "plt.rcParams[\"figure.figsize\"] = [10, 5]\n",
    "plt.hist(Y_train, 20, alpha = 1, density = False)\n",
    "plt.show()"
   ]
  },
  {
   "cell_type": "markdown",
   "id": "3a910820-e364-426d-9cbd-411794637bc8",
   "metadata": {},
   "source": [
    "### Distribution of test data"
   ]
  },
  {
   "cell_type": "code",
   "execution_count": 13,
   "id": "c242807e-a11b-43e2-82a0-aed22cbdefbc",
   "metadata": {},
   "outputs": [
    {
     "data": {
      "image/png": "[encoded data removed]",
      "text/plain": [
       "<Figure size 720x360 with 1 Axes>"
      ]
     },
     "metadata": {
      "needs_background": "light"
     },
     "output_type": "display_data"
    }
   ],
   "source": [
    "plt.rcParams[\"figure.figsize\"] = [10, 5]\n",
    "plt.hist(Y_validation, 20, alpha = 1, density = False)\n",
    "plt.show()"
   ]
  },
  {
   "cell_type": "markdown",
   "id": "19aa15e5-aee6-46ea-9c52-d1fa077b05dc",
   "metadata": {},
   "source": [
    "# 2. Model Design"
   ]
  },
  {
   "cell_type": "code",
   "execution_count": 14,
   "id": "02a2362d-059a-44b7-94f7-24e03680eef0",
   "metadata": {},
   "outputs": [],
   "source": [
    "'Number of hash tables functions' \n",
    "m = 64"
   ]
  },
  {
   "cell_type": "code",
   "execution_count": 15,
   "id": "6ea1ca10-c9ff-4735-ae80-e03691eb16ba",
   "metadata": {},
   "outputs": [],
   "source": [
    "'Number of bits per hash function' \n",
    "b = 16"
   ]
  },
  {
   "cell_type": "code",
   "execution_count": 16,
   "id": "06478197-071f-4395-804f-cbc171aadbd5",
   "metadata": {},
   "outputs": [
    {
     "data": {
      "text/plain": [
       "1024"
      ]
     },
     "execution_count": 16,
     "metadata": {},
     "output_type": "execute_result"
    }
   ],
   "source": [
    "'Size hash vector'\n",
    "size_hash_vector = m * b\n",
    "size_hash_vector"
   ]
  },
  {
   "cell_type": "markdown",
   "id": "0d60851f-b05f-4bc6-80f0-ce736180afe0",
   "metadata": {},
   "source": [
    "## 2.1. Feature learning phase"
   ]
  },
  {
   "cell_type": "code",
   "execution_count": 17,
   "id": "d9893ed6-5d0b-41b2-816b-b410e1c07910",
   "metadata": {},
   "outputs": [],
   "source": [
    "input_tensor = Input(shape = (max_length,))\n",
    "input_layer = (Embedding(len(embeddings), df_frames.shape[0], weights=[embeddings], input_shape=(max_length,), trainable=False))(input_tensor)\n",
    "submodels = []\n",
    "for kw in (3,4) :\n",
    "    conv_layer = Conv1D(1024, kw, activation='tanh')(input_layer)\n",
    "    maxpool_layer = GlobalMaxPooling1D()(conv_layer)\n",
    "    submodels.append(maxpool_layer)\n",
    "conc_layer = concatenate(submodels, axis=1)\n",
    "dense_layer = Dense(size_hash_vector, activation = 'tanh')(conc_layer)\n",
    "x = Sequential()\n",
    "x.add(Model(inputs = input_tensor, outputs = dense_layer))\n",
    "shared_model = x"
   ]
  },
  {
   "cell_type": "markdown",
   "id": "279ba874-5ea0-4a94-83a1-f7f7c9ca8e0e",
   "metadata": {},
   "source": [
    "## 2.2. Siamese Model "
   ]
  },
  {
   "cell_type": "code",
   "execution_count": 18,
   "id": "d1d8a570-b1a8-489c-8312-e78dca471a63",
   "metadata": {
    "tags": []
   },
   "outputs": [],
   "source": [
    "input_shape = (max_length,)\n",
    "model = siamese_model(shared_model, input_shape, b, m, is_sparse = False, print_summary = False)"
   ]
  },
  {
   "cell_type": "markdown",
   "id": "0bb438cf-7efb-4603-aab4-1364b187938f",
   "metadata": {},
   "source": [
    "## 2.3. Model training "
   ]
  },
  {
   "cell_type": "code",
   "execution_count": 19,
   "id": "3c6beca4-2caa-4c8c-8ca9-c3dfaedffbdc",
   "metadata": {},
   "outputs": [
    {
     "name": "stdout",
     "output_type": "stream",
     "text": [
      "Epoch 1/20\n",
      "781/781 [==============================] - 444s 555ms/step - loss: 0.0200 - ham_dist_loss: 0.0202 - prod_vec_loss: 0.0354 - prod_vec_1_loss: 0.0351 - sum_vec_loss: 2.3583e-04 - sum_vec_1_loss: 2.3864e-04 - ham_dist_rmse: 0.1420 - ham_dist_mae: 0.0552 - val_loss: 0.0017 - val_ham_dist_loss: 0.0017 - val_prod_vec_loss: 0.0045 - val_prod_vec_1_loss: 0.0043 - val_sum_vec_loss: 1.6198e-04 - val_sum_vec_1_loss: 1.7888e-04 - val_ham_dist_rmse: 0.0412 - val_ham_dist_mae: 0.0194\n",
      "Epoch 2/20\n",
      "781/781 [==============================] - 433s 555ms/step - loss: 0.0011 - ham_dist_loss: 0.0011 - prod_vec_loss: 0.0032 - prod_vec_1_loss: 0.0031 - sum_vec_loss: 1.0942e-04 - sum_vec_1_loss: 1.2514e-04 - ham_dist_rmse: 0.0327 - ham_dist_mae: 0.0152 - val_loss: 8.5155e-04 - val_ham_dist_loss: 8.2916e-04 - val_prod_vec_loss: 0.0023 - val_prod_vec_1_loss: 0.0022 - val_sum_vec_loss: 8.0258e-05 - val_sum_vec_1_loss: 9.9699e-05 - val_ham_dist_rmse: 0.0288 - val_ham_dist_mae: 0.0128\n",
      "Epoch 3/20\n",
      "781/781 [==============================] - 434s 556ms/step - loss: 6.0279e-04 - ham_dist_loss: 5.7919e-04 - prod_vec_loss: 0.0019 - prod_vec_1_loss: 0.0018 - sum_vec_loss: 7.8365e-05 - sum_vec_1_loss: 9.6063e-05 - ham_dist_rmse: 0.0241 - ham_dist_mae: 0.0111 - val_loss: 5.7994e-04 - val_ham_dist_loss: 5.6677e-04 - val_prod_vec_loss: 0.0015 - val_prod_vec_1_loss: 0.0015 - val_sum_vec_loss: 7.1327e-05 - val_sum_vec_1_loss: 8.7997e-05 - val_ham_dist_rmse: 0.0238 - val_ham_dist_mae: 0.0104\n",
      "Epoch 4/20\n",
      "781/781 [==============================] - 432s 554ms/step - loss: 4.1336e-04 - ham_dist_loss: 3.9737e-04 - prod_vec_loss: 0.0013 - prod_vec_1_loss: 0.0012 - sum_vec_loss: 6.4627e-05 - sum_vec_1_loss: 7.7666e-05 - ham_dist_rmse: 0.0199 - ham_dist_mae: 0.0091 - val_loss: 4.4115e-04 - val_ham_dist_loss: 4.3397e-04 - val_prod_vec_loss: 0.0010 - val_prod_vec_1_loss: 0.0010 - val_sum_vec_loss: 5.9183e-05 - val_sum_vec_1_loss: 7.1201e-05 - val_ham_dist_rmse: 0.0208 - val_ham_dist_mae: 0.0088\n",
      "Epoch 5/20\n",
      "781/781 [==============================] - 433s 554ms/step - loss: 3.1596e-04 - ham_dist_loss: 3.0583e-04 - prod_vec_loss: 8.9022e-04 - prod_vec_1_loss: 8.6183e-04 - sum_vec_loss: 5.4682e-05 - sum_vec_1_loss: 6.4859e-05 - ham_dist_rmse: 0.0175 - ham_dist_mae: 0.0079 - val_loss: 3.7128e-04 - val_ham_dist_loss: 3.6924e-04 - val_prod_vec_loss: 7.6583e-04 - val_prod_vec_1_loss: 7.3645e-04 - val_sum_vec_loss: 4.7715e-05 - val_sum_vec_1_loss: 5.7427e-05 - val_ham_dist_rmse: 0.0192 - val_ham_dist_mae: 0.0080\n",
      "Epoch 6/20\n",
      "781/781 [==============================] - 436s 558ms/step - loss: 2.5888e-04 - ham_dist_loss: 2.5255e-04 - prod_vec_loss: 6.6603e-04 - prod_vec_1_loss: 6.4403e-04 - sum_vec_loss: 4.8578e-05 - sum_vec_1_loss: 5.6731e-05 - ham_dist_rmse: 0.0159 - ham_dist_mae: 0.0072 - val_loss: 3.2103e-04 - val_ham_dist_loss: 3.2186e-04 - val_prod_vec_loss: 5.7919e-04 - val_prod_vec_1_loss: 5.5591e-04 - val_sum_vec_loss: 4.6485e-05 - val_sum_vec_1_loss: 5.3245e-05 - val_ham_dist_rmse: 0.0179 - val_ham_dist_mae: 0.0074\n",
      "Epoch 7/20\n",
      "781/781 [==============================] - 433s 555ms/step - loss: 2.2297e-04 - ham_dist_loss: 2.1949e-04 - prod_vec_loss: 5.1206e-04 - prod_vec_1_loss: 4.9547e-04 - sum_vec_loss: 4.4072e-05 - sum_vec_1_loss: 4.9147e-05 - ham_dist_rmse: 0.0148 - ham_dist_mae: 0.0067 - val_loss: 2.8835e-04 - val_ham_dist_loss: 2.9103e-04 - val_prod_vec_loss: 4.5643e-04 - val_prod_vec_1_loss: 4.4480e-04 - val_sum_vec_loss: 4.3219e-05 - val_sum_vec_1_loss: 4.7821e-05 - val_ham_dist_rmse: 0.0171 - val_ham_dist_mae: 0.0069\n",
      "Epoch 8/20\n",
      "781/781 [==============================] - 433s 554ms/step - loss: 1.9681e-04 - ham_dist_loss: 1.9511e-04 - prod_vec_loss: 4.0640e-04 - prod_vec_1_loss: 3.9551e-04 - sum_vec_loss: 4.2336e-05 - sum_vec_1_loss: 4.5043e-05 - ham_dist_rmse: 0.0140 - ham_dist_mae: 0.0063 - val_loss: 2.6644e-04 - val_ham_dist_loss: 2.7067e-04 - val_prod_vec_loss: 3.7099e-04 - val_prod_vec_1_loss: 3.5828e-04 - val_sum_vec_loss: 4.0615e-05 - val_sum_vec_1_loss: 4.2354e-05 - val_ham_dist_rmse: 0.0165 - val_ham_dist_mae: 0.0067\n",
      "Epoch 9/20\n",
      "781/781 [==============================] - 432s 553ms/step - loss: 1.7807e-04 - ham_dist_loss: 1.7765e-04 - prod_vec_loss: 3.3287e-04 - prod_vec_1_loss: 3.2195e-04 - sum_vec_loss: 4.0965e-05 - sum_vec_1_loss: 4.1791e-05 - ham_dist_rmse: 0.0133 - ham_dist_mae: 0.0060 - val_loss: 2.4495e-04 - val_ham_dist_loss: 2.4995e-04 - val_prod_vec_loss: 3.0269e-04 - val_prod_vec_1_loss: 2.9260e-04 - val_sum_vec_loss: 4.2186e-05 - val_sum_vec_1_loss: 4.2372e-05 - val_ham_dist_rmse: 0.0158 - val_ham_dist_mae: 0.0064\n",
      "Epoch 10/20\n",
      "781/781 [==============================] - 436s 558ms/step - loss: 1.6438e-04 - ham_dist_loss: 1.6497e-04 - prod_vec_loss: 2.7500e-04 - prod_vec_1_loss: 2.6732e-04 - sum_vec_loss: 4.0311e-05 - sum_vec_1_loss: 3.9719e-05 - ham_dist_rmse: 0.0128 - ham_dist_mae: 0.0058 - val_loss: 2.3212e-04 - val_ham_dist_loss: 2.3796e-04 - val_prod_vec_loss: 2.5337e-04 - val_prod_vec_1_loss: 2.4689e-04 - val_sum_vec_loss: 4.0041e-05 - val_sum_vec_1_loss: 3.7485e-05 - val_ham_dist_rmse: 0.0154 - val_ham_dist_mae: 0.0061\n",
      "Epoch 11/20\n",
      "781/781 [==============================] - 434s 556ms/step - loss: 1.5428e-04 - ham_dist_loss: 1.5566e-04 - prod_vec_loss: 2.3421e-04 - prod_vec_1_loss: 2.2604e-04 - sum_vec_loss: 3.8548e-05 - sum_vec_1_loss: 3.5941e-05 - ham_dist_rmse: 0.0125 - ham_dist_mae: 0.0056 - val_loss: 2.2192e-04 - val_ham_dist_loss: 2.2833e-04 - val_prod_vec_loss: 2.1858e-04 - val_prod_vec_1_loss: 2.1071e-04 - val_sum_vec_loss: 3.8318e-05 - val_sum_vec_1_loss: 3.5229e-05 - val_ham_dist_rmse: 0.0151 - val_ham_dist_mae: 0.0061\n",
      "Epoch 12/20\n",
      "781/781 [==============================] - 432s 554ms/step - loss: 1.4515e-04 - ham_dist_loss: 1.4702e-04 - prod_vec_loss: 2.0263e-04 - prod_vec_1_loss: 1.9451e-04 - sum_vec_loss: 3.7310e-05 - sum_vec_1_loss: 3.3937e-05 - ham_dist_rmse: 0.0121 - ham_dist_mae: 0.0055 - val_loss: 2.1354e-04 - val_ham_dist_loss: 2.2043e-04 - val_prod_vec_loss: 1.8913e-04 - val_prod_vec_1_loss: 1.8167e-04 - val_sum_vec_loss: 3.6425e-05 - val_sum_vec_1_loss: 3.3813e-05 - val_ham_dist_rmse: 0.0148 - val_ham_dist_mae: 0.0059\n",
      "Epoch 13/20\n",
      "781/781 [==============================] - 432s 554ms/step - loss: 1.3763e-04 - ham_dist_loss: 1.3990e-04 - prod_vec_loss: 1.7819e-04 - prod_vec_1_loss: 1.6941e-04 - sum_vec_loss: 3.4684e-05 - sum_vec_1_loss: 3.2204e-05 - ham_dist_rmse: 0.0118 - ham_dist_mae: 0.0053 - val_loss: 2.0665e-04 - val_ham_dist_loss: 2.1364e-04 - val_prod_vec_loss: 1.7412e-04 - val_prod_vec_1_loss: 1.6602e-04 - val_sum_vec_loss: 3.4453e-05 - val_sum_vec_1_loss: 3.2629e-05 - val_ham_dist_rmse: 0.0146 - val_ham_dist_mae: 0.0058\n",
      "Epoch 14/20\n",
      "781/781 [==============================] - 434s 555ms/step - loss: 1.3189e-04 - ham_dist_loss: 1.3435e-04 - prod_vec_loss: 1.6141e-04 - prod_vec_1_loss: 1.5190e-04 - sum_vec_loss: 3.4728e-05 - sum_vec_1_loss: 3.1587e-05 - ham_dist_rmse: 0.0116 - ham_dist_mae: 0.0052 - val_loss: 1.9758e-04 - val_ham_dist_loss: 2.0464e-04 - val_prod_vec_loss: 1.5586e-04 - val_prod_vec_1_loss: 1.4570e-04 - val_sum_vec_loss: 3.3972e-05 - val_sum_vec_1_loss: 3.1478e-05 - val_ham_dist_rmse: 0.0143 - val_ham_dist_mae: 0.0057\n",
      "Epoch 15/20\n",
      "781/781 [==============================] - 432s 554ms/step - loss: 1.2678e-04 - ham_dist_loss: 1.2936e-04 - prod_vec_loss: 1.4846e-04 - prod_vec_1_loss: 1.3790e-04 - sum_vec_loss: 3.4404e-05 - sum_vec_1_loss: 3.1282e-05 - ham_dist_rmse: 0.0114 - ham_dist_mae: 0.0051 - val_loss: 1.9406e-04 - val_ham_dist_loss: 2.0135e-04 - val_prod_vec_loss: 1.4209e-04 - val_prod_vec_1_loss: 1.3177e-04 - val_sum_vec_loss: 3.3587e-05 - val_sum_vec_1_loss: 3.1406e-05 - val_ham_dist_rmse: 0.0142 - val_ham_dist_mae: 0.0056\n",
      "Epoch 16/20\n",
      "781/781 [==============================] - 431s 552ms/step - loss: 1.2328e-04 - ham_dist_loss: 1.2601e-04 - prod_vec_loss: 1.3827e-04 - prod_vec_1_loss: 1.2759e-04 - sum_vec_loss: 3.3134e-05 - sum_vec_1_loss: 3.0177e-05 - ham_dist_rmse: 0.0112 - ham_dist_mae: 0.0050 - val_loss: 1.8914e-04 - val_ham_dist_loss: 1.9648e-04 - val_prod_vec_loss: 1.3347e-04 - val_prod_vec_1_loss: 1.2138e-04 - val_sum_vec_loss: 3.1964e-05 - val_sum_vec_1_loss: 2.9216e-05 - val_ham_dist_rmse: 0.0140 - val_ham_dist_mae: 0.0055\n",
      "Epoch 17/20\n",
      "781/781 [==============================] - 467s 598ms/step - loss: 1.1934e-04 - ham_dist_loss: 1.2210e-04 - prod_vec_loss: 1.3161e-04 - prod_vec_1_loss: 1.1985e-04 - sum_vec_loss: 3.1712e-05 - sum_vec_1_loss: 2.8553e-05 - ham_dist_rmse: 0.0111 - ham_dist_mae: 0.0050 - val_loss: 1.8361e-04 - val_ham_dist_loss: 1.9086e-04 - val_prod_vec_loss: 1.2649e-04 - val_prod_vec_1_loss: 1.1441e-04 - val_sum_vec_loss: 3.1117e-05 - val_sum_vec_1_loss: 2.7819e-05 - val_ham_dist_rmse: 0.0138 - val_ham_dist_mae: 0.0054\n",
      "Epoch 18/20\n",
      "781/781 [==============================] - 433s 554ms/step - loss: 1.1565e-04 - ham_dist_loss: 1.1843e-04 - prod_vec_loss: 1.2436e-04 - prod_vec_1_loss: 1.1242e-04 - sum_vec_loss: 3.1043e-05 - sum_vec_1_loss: 2.8062e-05 - ham_dist_rmse: 0.0109 - ham_dist_mae: 0.0049 - val_loss: 1.8074e-04 - val_ham_dist_loss: 1.8812e-04 - val_prod_vec_loss: 1.1728e-04 - val_prod_vec_1_loss: 1.0633e-04 - val_sum_vec_loss: 2.9677e-05 - val_sum_vec_1_loss: 2.6835e-05 - val_ham_dist_rmse: 0.0137 - val_ham_dist_mae: 0.0055\n",
      "Epoch 19/20\n",
      "781/781 [==============================] - 435s 558ms/step - loss: 1.1244e-04 - ham_dist_loss: 1.1522e-04 - prod_vec_loss: 1.1891e-04 - prod_vec_1_loss: 1.0708e-04 - sum_vec_loss: 3.0053e-05 - sum_vec_1_loss: 2.6894e-05 - ham_dist_rmse: 0.0107 - ham_dist_mae: 0.0048 - val_loss: 1.7772e-04 - val_ham_dist_loss: 1.8499e-04 - val_prod_vec_loss: 1.1458e-04 - val_prod_vec_1_loss: 1.0271e-04 - val_sum_vec_loss: 3.0256e-05 - val_sum_vec_1_loss: 2.7114e-05 - val_ham_dist_rmse: 0.0136 - val_ham_dist_mae: 0.0054\n",
      "Epoch 20/20\n",
      "781/781 [==============================] - 430s 551ms/step - loss: 1.1020e-04 - ham_dist_loss: 1.1298e-04 - prod_vec_loss: 1.1447e-04 - prod_vec_1_loss: 1.0273e-04 - sum_vec_loss: 2.9750e-05 - sum_vec_1_loss: 2.6534e-05 - ham_dist_rmse: 0.0106 - ham_dist_mae: 0.0048 - val_loss: 1.7548e-04 - val_ham_dist_loss: 1.8270e-04 - val_prod_vec_loss: 1.1215e-04 - val_prod_vec_1_loss: 1.0052e-04 - val_sum_vec_loss: 2.9258e-05 - val_sum_vec_1_loss: 2.7069e-05 - val_ham_dist_rmse: 0.0135 - val_ham_dist_mae: 0.0053\n"
     ]
    }
   ],
   "source": [
    "siamese_model = train_siamese_model(model, X_train, X_validation, Y_train, Y_validation, batch_size = 512, epochs = 20)"
   ]
  },
  {
   "cell_type": "markdown",
   "id": "8de2153c-d75d-41be-848b-d503f6c36239",
   "metadata": {},
   "source": [
    "# 3. Model Evaluation"
   ]
  },
  {
   "cell_type": "code",
   "execution_count": 20,
   "id": "70c8adc8-2869-4868-b036-a328d003da67",
   "metadata": {},
   "outputs": [
    {
     "data": {
      "text/plain": [
       "[<tensorflow.python.keras.engine.input_layer.InputLayer at 0x7f14ee397f10>,\n",
       " <tensorflow.python.keras.engine.input_layer.InputLayer at 0x7f14ee3aa410>,\n",
       " <tensorflow.python.keras.engine.sequential.Sequential at 0x7f14ee331d10>,\n",
       " <deep_hashing_models.HamDist at 0x7f14ee3aa9d0>,\n",
       " <deep_hashing_models.ProdVec at 0x7f14ee3aaad0>,\n",
       " <deep_hashing_models.ProdVec at 0x7f14eddb6550>,\n",
       " <deep_hashing_models.SumVec at 0x7f14eae5e050>,\n",
       " <deep_hashing_models.SumVec at 0x7f14eae46810>]"
      ]
     },
     "execution_count": 20,
     "metadata": {},
     "output_type": "execute_result"
    }
   ],
   "source": [
    "model.layers"
   ]
  },
  {
   "cell_type": "markdown",
   "id": "6e08e438-f7db-4ffd-a703-c050649eed80",
   "metadata": {},
   "source": [
    "## 3.1. Loss functions"
   ]
  },
  {
   "cell_type": "markdown",
   "id": "2ba523e6-4b29-4979-9739-3840a9d279e5",
   "metadata": {},
   "source": [
    "#### 3.1.1. MSE of $\\mathcal{L}_{DeepLSH}$"
   ]
  },
  {
   "cell_type": "code",
   "execution_count": 21,
   "id": "78fa1d12-53e0-4b18-bd6d-b49e0ac5a173",
   "metadata": {},
   "outputs": [
    {
     "data": {
      "text/plain": [
       "<matplotlib.legend.Legend at 0x7f14ee385c50>"
      ]
     },
     "execution_count": 21,
     "metadata": {},
     "output_type": "execute_result"
    },
    {
     "data": {
      "image/png": "[encoded data removed]",
      "text/plain": [
       "<Figure size 324x288 with 1 Axes>"
      ]
     },
     "metadata": {
      "needs_background": "light"
     },
     "output_type": "display_data"
    }
   ],
   "source": [
    "plt.rcParams[\"figure.figsize\"] = (4.5,4)\n",
    "plt.plot(siamese_model.history['loss'], linewidth = 2.5)\n",
    "plt.plot(siamese_model.history['val_loss'], linewidth = 2.5)\n",
    "plt.title('TraceSim (DeepLSH)', fontsize = 18)\n",
    "plt.ylabel('Mean Squared Error', fontsize = 13)\n",
    "plt.xlabel('Epochs', fontsize = 13)\n",
    "plt.xticks(fontsize= 12)\n",
    "plt.yticks(fontsize= 12)\n",
    "plt.ticklabel_format(axis = 'y', style='', scilimits=(0,0))\n",
    "plt.savefig('Results/DeepLSH/loss-MSE.png', bbox_inches='tight')\n",
    "plt.legend(['Train', 'Validation'], loc='upper right', fontsize=15)"
   ]
  },
  {
   "cell_type": "markdown",
   "id": "05afb4e6-9037-456a-9663-060eb611c0b8",
   "metadata": {},
   "source": [
    "#### 3.1.2. RMSE of LSH preserving loss"
   ]
  },
  {
   "cell_type": "code",
   "execution_count": 22,
   "id": "9cd1cda5-36b1-41ab-8dc3-2ebfe56fd4d9",
   "metadata": {},
   "outputs": [
    {
     "data": {
      "text/plain": [
       "<matplotlib.legend.Legend at 0x7f14c044e210>"
      ]
     },
     "execution_count": 22,
     "metadata": {},
     "output_type": "execute_result"
    },
    {
     "data": {
      "image/png": "[encoded data removed]",
      "text/plain": [
       "<Figure size 576x360 with 1 Axes>"
      ]
     },
     "metadata": {
      "needs_background": "light"
     },
     "output_type": "display_data"
    }
   ],
   "source": [
    "plt.rcParams[\"figure.figsize\"] = (8,5)\n",
    "plt.plot(siamese_model.history[model.layers[3].name + '_rmse'], linewidth = 2)\n",
    "plt.plot(siamese_model.history['val_' + model.layers[3].name + '_rmse'], linewidth = 2)\n",
    "plt.title('TraceSim (DeepLSH)', fontsize = 20)\n",
    "plt.ylabel('RMSE (LSH-preserving)', fontsize = 12)\n",
    "plt.xlabel('Epochs', fontsize = 12)\n",
    "plt.ticklabel_format(style='', scilimits=(0,0))\n",
    "plt.legend(['Train', 'Validation'], loc='upper right', fontsize=15)"
   ]
  },
  {
   "cell_type": "markdown",
   "id": "ac94472b-7465-4ab0-99dd-c042b4a32572",
   "metadata": {},
   "source": [
    "#### 3.1.3. MAE of LSH preserving loss"
   ]
  },
  {
   "cell_type": "code",
   "execution_count": 23,
   "id": "c4c8e448-e36f-4a8d-8d5f-a5da5c4d5019",
   "metadata": {},
   "outputs": [
    {
     "data": {
      "text/plain": [
       "<matplotlib.legend.Legend at 0x7f14c03eb450>"
      ]
     },
     "execution_count": 23,
     "metadata": {},
     "output_type": "execute_result"
    },
    {
     "data": {
      "image/png": "[encoded data removed]",
      "text/plain": [
       "<Figure size 576x360 with 1 Axes>"
      ]
     },
     "metadata": {
      "needs_background": "light"
     },
     "output_type": "display_data"
    }
   ],
   "source": [
    "plt.rcParams[\"figure.figsize\"] = (8,5)\n",
    "plt.plot(siamese_model.history[model.layers[3].name + '_mae'], linewidth = 2)\n",
    "plt.plot(siamese_model.history['val_' + model.layers[3].name + '_mae'], linewidth = 2)\n",
    "plt.title('TraceSim (DeepLSH)', fontsize = 20)\n",
    "plt.ylabel('MAE (LSH-preserving)', fontsize = 12)\n",
    "plt.xlabel('Epochs', fontsize = 12)\n",
    "plt.ticklabel_format(style='', scilimits=(0,0))\n",
    "plt.legend(['Train', 'Validation'], loc='upper right', fontsize=15)"
   ]
  },
  {
   "cell_type": "markdown",
   "id": "f8f7f1d0-62b0-4612-ab39-9c38fad06a4c",
   "metadata": {},
   "source": [
    "## 3.2. Model Predictions"
   ]
  },
  {
   "cell_type": "code",
   "execution_count": 24,
   "id": "1f089e9c-7bbd-40fb-90f3-3e4c7a2798d2",
   "metadata": {},
   "outputs": [],
   "source": [
    "predictions = predict(model, X_validation)"
   ]
  },
  {
   "cell_type": "markdown",
   "id": "19834dba-ff8b-45fa-aead-ac2e6d099273",
   "metadata": {},
   "source": [
    "### 3.2.1. Examples"
   ]
  },
  {
   "cell_type": "code",
   "execution_count": 25,
   "id": "eade347d-6ee3-4fa3-ba1a-c5298f94c96e",
   "metadata": {},
   "outputs": [
    {
     "data": {
      "text/plain": [
       "array([0.   , 0.137, 0.   , 0.103, 0.572, 0.134, 0.098, 0.   , 0.   ,\n",
       "       0.281, 0.   , 0.   , 0.   , 0.188, 0.048, 0.076, 0.122, 0.407,\n",
       "       0.   , 0.022, 0.   , 0.063, 0.   , 0.124, 0.   , 0.   , 0.474,\n",
       "       0.139, 0.   , 0.146, 0.   , 0.395, 0.074, 0.   , 0.   , 0.262,\n",
       "       0.   , 0.173, 0.   , 0.349, 0.   , 0.   , 0.538, 0.17 , 0.   ,\n",
       "       0.135, 0.   , 0.167, 0.171, 0.   ], dtype=float32)"
      ]
     },
     "execution_count": 25,
     "metadata": {},
     "output_type": "execute_result"
    }
   ],
   "source": [
    "np.around(predictions[0][:50],3) "
   ]
  },
  {
   "cell_type": "code",
   "execution_count": 26,
   "id": "8f18d2a7-c115-4a7c-9492-facb302c578b",
   "metadata": {},
   "outputs": [
    {
     "data": {
      "text/plain": [
       "array([0.   , 0.124, 0.   , 0.099, 0.578, 0.162, 0.098, 0.   , 0.   ,\n",
       "       0.279, 0.   , 0.   , 0.   , 0.184, 0.058, 0.077, 0.117, 0.402,\n",
       "       0.   , 0.   , 0.   , 0.031, 0.   , 0.118, 0.   , 0.   , 0.473,\n",
       "       0.151, 0.   , 0.158, 0.   , 0.4  , 0.072, 0.   , 0.   , 0.266,\n",
       "       0.   , 0.151, 0.   , 0.345, 0.   , 0.   , 0.59 , 0.166, 0.   ,\n",
       "       0.125, 0.   , 0.169, 0.157, 0.   ])"
      ]
     },
     "execution_count": 26,
     "metadata": {},
     "output_type": "execute_result"
    }
   ],
   "source": [
    "np.around(Y_validation[:50],3) "
   ]
  },
  {
   "cell_type": "markdown",
   "id": "98409488-ca93-4cd3-b71c-547fa4baa6ef",
   "metadata": {},
   "source": [
    "### 3.2.2. Spearman $\\rho$ and Kendall $\\tau$ correlation"
   ]
  },
  {
   "cell_type": "code",
   "execution_count": 27,
   "id": "01573553-5d50-49eb-aa52-c480c0de67f0",
   "metadata": {},
   "outputs": [
    {
     "data": {
      "image/png": "[encoded data removed]",
      "text/plain": [
       "<Figure size 288x288 with 1 Axes>"
      ]
     },
     "metadata": {
      "needs_background": "light"
     },
     "output_type": "display_data"
    }
   ],
   "source": [
    "plt.rcParams[\"figure.figsize\"] = (4,4)\n",
    "plt.scatter(Y_validation, predictions[0], alpha = 0.5, marker = 'x', c = '#227093')\n",
    "plt.title('TraceSim (DeepLSH)', fontsize = 16)\n",
    "plt.xlabel(\"TraceSim similarity values\", fontsize = 12)\n",
    "plt.ylabel(\"Collision probability\", fontsize = 12)\n",
    "plt.savefig('Results/DeepLSH/TraceSim-correlation', bbox_inches='tight')\n",
    "plt.show()"
   ]
  },
  {
   "cell_type": "code",
   "execution_count": 28,
   "id": "f80a43e7-b4b5-4956-9b3d-6a1457a6ee92",
   "metadata": {},
   "outputs": [
    {
     "data": {
      "text/plain": [
       "0.8528191899425379"
      ]
     },
     "execution_count": 28,
     "metadata": {},
     "output_type": "execute_result"
    }
   ],
   "source": [
    "rho, p_value = spearman_rho(predictions, Y_validation)\n",
    "rho"
   ]
  },
  {
   "cell_type": "code",
   "execution_count": 29,
   "id": "33fc1f59-7dc1-46b4-9d29-73b87b11c5a5",
   "metadata": {},
   "outputs": [
    {
     "data": {
      "text/plain": [
       "0.724324490968714"
      ]
     },
     "execution_count": 29,
     "metadata": {},
     "output_type": "execute_result"
    }
   ],
   "source": [
    "tau, p_value = kendall_tau(predictions, Y_validation)\n",
    "tau"
   ]
  },
  {
   "cell_type": "markdown",
   "id": "895fc952-6e22-451a-abd2-86de43e87328",
   "metadata": {},
   "source": [
    "## 3.3. Approximate Hamming Evaluation"
   ]
  },
  {
   "cell_type": "code",
   "execution_count": 30,
   "id": "6b9edd91-5e15-4aa8-8a05-4985b8623897",
   "metadata": {},
   "outputs": [
    {
     "data": {
      "text/plain": [
       "<tensorflow.python.keras.engine.input_layer.InputLayer at 0x7f14ee397f10>"
      ]
     },
     "execution_count": 30,
     "metadata": {},
     "output_type": "execute_result"
    }
   ],
   "source": [
    "output_layer = 0\n",
    "model.layers[output_layer]"
   ]
  },
  {
   "cell_type": "code",
   "execution_count": 31,
   "id": "acaf1823-ca3b-4d6c-9a71-a6c9acf5e1f5",
   "metadata": {},
   "outputs": [],
   "source": [
    "intermediate_model = intermediate_model_trained(shared_model, output_layer, True, input_tensor)"
   ]
  },
  {
   "cell_type": "code",
   "execution_count": 32,
   "id": "65d36caa-a208-4095-93eb-9522c8f72717",
   "metadata": {},
   "outputs": [
    {
     "name": "stdout",
     "output_type": "stream",
     "text": [
      "WARNING:tensorflow:Compiled the loaded model, but the compiled metrics have yet to be built. `model.compile_metrics` will be empty until you train or evaluate the model.\n",
      "INFO:tensorflow:Assets written to: Models/model-deep-lsh.model/assets\n"
     ]
    }
   ],
   "source": [
    "intermediate_model.save('Models/model-deep-lsh.model')"
   ]
  },
  {
   "cell_type": "code",
   "execution_count": 33,
   "id": "69700249-f347-4949-be04-d9ff8f058288",
   "metadata": {},
   "outputs": [],
   "source": [
    "#intermediate_model = keras.models.load_model('Models/model-deep-lsh.model')"
   ]
  },
  {
   "cell_type": "markdown",
   "id": "b4d1758f-ff99-49fc-b85c-4fe66560da40",
   "metadata": {},
   "source": [
    "### 3.3.1. Example of a hash vector provided by the model (in the last epoch)"
   ]
  },
  {
   "cell_type": "code",
   "execution_count": 34,
   "id": "ec686420-c52a-4925-852f-939cfe007904",
   "metadata": {},
   "outputs": [
    {
     "data": {
      "text/plain": [
       "array([ 0.99994063,  0.99999803,  0.99836457, -1.        ,  0.99997956,\n",
       "       -0.9982454 , -0.9989085 , -0.99995494,  0.99989676,  1.        ,\n",
       "       -0.99856156,  1.        ,  0.9999986 , -0.99881375,  0.998228  ,\n",
       "       -0.9999984 , -1.        ,  0.9993697 ,  0.9991417 , -0.9991067 ,\n",
       "        0.9991531 ,  1.        , -0.9998456 , -0.9997384 , -1.        ,\n",
       "        0.99999934, -0.9991079 ,  0.9999931 ,  0.99915695,  0.9992018 ,\n",
       "       -0.9998429 ,  0.9999314 ], dtype=float32)"
      ]
     },
     "execution_count": 34,
     "metadata": {},
     "output_type": "execute_result"
    }
   ],
   "source": [
    "intermediate_model.predict(padding(X.iloc[[11]], max_length)['stack_1'])[0][:32]"
   ]
  },
  {
   "cell_type": "markdown",
   "id": "4ec939b1-4814-49cd-80ff-ee2bad747358",
   "metadata": {},
   "source": [
    "### 3.3.2. Average value of the absolute hash values"
   ]
  },
  {
   "cell_type": "code",
   "execution_count": 35,
   "id": "f54a9180-f4a4-4e0c-94ed-e36df291b072",
   "metadata": {},
   "outputs": [],
   "source": [
    "hash_vectors = intermediate_model.predict(pad_sequences(df_distinct_stacks['rankFrames'], padding = 'post', truncating = 'post', maxlen = 29)) "
   ]
  },
  {
   "cell_type": "code",
   "execution_count": 36,
   "id": "0fd308c0-f913-4d55-b45b-01f976a62e0b",
   "metadata": {},
   "outputs": [
    {
     "data": {
      "text/plain": [
       "0.99345887"
      ]
     },
     "execution_count": 36,
     "metadata": {},
     "output_type": "execute_result"
    }
   ],
   "source": [
    "np.mean(np.abs(hash_vectors))"
   ]
  },
  {
   "cell_type": "markdown",
   "id": "2ca2d6a3-75da-472a-99bb-b25ece9df8a7",
   "metadata": {},
   "source": [
    "### 3.3.3. Ratio of binary values from hash vectors provided by the model"
   ]
  },
  {
   "cell_type": "code",
   "execution_count": 37,
   "id": "5bb9bdd7-c931-4db2-8a89-b20c7fb92d9e",
   "metadata": {},
   "outputs": [
    {
     "data": {
      "text/plain": [
       "0.2981357421875"
      ]
     },
     "execution_count": 37,
     "metadata": {},
     "output_type": "execute_result"
    }
   ],
   "source": [
    "hash_vectors[(hash_vectors == 1) | (hash_vectors == -1)].size / hash_vectors.size"
   ]
  },
  {
   "cell_type": "markdown",
   "id": "5a606dc1-dd06-4376-9f33-1254286c701d",
   "metadata": {},
   "source": [
    "### 3.3.4. Comparison between approximate hamming and real hamming"
   ]
  },
  {
   "cell_type": "code",
   "execution_count": 38,
   "id": "03dd89e8-82d7-47c2-8c33-a0652d3ec536",
   "metadata": {},
   "outputs": [],
   "source": [
    "df_hamming = compare_hamming(X_validation, intermediate_model, b, size_hash_vector)"
   ]
  },
  {
   "cell_type": "code",
   "execution_count": 39,
   "id": "3fdc0913-64e8-4b05-a1fd-75f20c1a418a",
   "metadata": {},
   "outputs": [
    {
     "data": {
      "image/png": "[encoded data removed]",
      "text/plain": [
       "<Figure size 288x288 with 1 Axes>"
      ]
     },
     "metadata": {
      "needs_background": "light"
     },
     "output_type": "display_data"
    }
   ],
   "source": [
    "plt.rcParams[\"figure.figsize\"] = (4,4)\n",
    "plt.scatter(predictions[0], df_hamming['hamming'], alpha = 0.5, marker = 'x', c = '#b33939')\n",
    "plt.xlabel(\"Approximate Hamming Similariy\", fontsize = 12)\n",
    "plt.ylabel(\"Hamming Similarity\", fontsize = 12)\n",
    "plt.title('TraceSim (DeepLSH)', fontsize = 16)\n",
    "plt.savefig('Results/DeepLSH/TraceSim-hamming-comparison', bbox_inches='tight')\n",
    "plt.show()"
   ]
  },
  {
   "cell_type": "markdown",
   "id": "b030832c-7872-45da-8698-a0bbf16fe3cb",
   "metadata": {},
   "source": [
    "# 4. Locality Sensitive Hashing"
   ]
  },
  {
   "cell_type": "code",
   "execution_count": 40,
   "id": "2aacdd9c-73d0-4257-af38-1768e9f4aa05",
   "metadata": {},
   "outputs": [],
   "source": [
    "hash_vectors_hamming = convert_to_hamming(hash_vectors)"
   ]
  },
  {
   "cell_type": "code",
   "execution_count": 41,
   "id": "f3bb826f-5e0d-4d6e-8356-d1f3315d6ebd",
   "metadata": {},
   "outputs": [
    {
     "data": {
      "text/plain": [
       "[(1, 64), (2, 32), (4, 16), (8, 8), (16, 4), (32, 2), (64, 1)]"
      ]
     },
     "execution_count": 41,
     "metadata": {},
     "output_type": "execute_result"
    }
   ],
   "source": [
    "params = lsh_hyperparams(m)\n",
    "'(K,L)'\n",
    "params "
   ]
  },
  {
   "cell_type": "markdown",
   "id": "b2cb60ba-44ee-4fee-854d-b2bcd66a0be4",
   "metadata": {},
   "source": [
    "## 4.1. Choose the best combination (L, K)\n"
   ]
  },
  {
   "cell_type": "code",
   "execution_count": 42,
   "id": "1aeac3ba-cb08-4e8a-913b-1dbd0529c782",
   "metadata": {},
   "outputs": [
    {
     "data": {
      "text/plain": [
       "<matplotlib.legend.Legend at 0x7f14c0752c50>"
      ]
     },
     "execution_count": 42,
     "metadata": {},
     "output_type": "execute_result"
    },
    {
     "data": {
      "image/png": "[encoded data removed]",
      "text/plain": [
       "<Figure size 648x360 with 1 Axes>"
      ]
     },
     "metadata": {
      "needs_background": "light"
     },
     "output_type": "display_data"
    }
   ],
   "source": [
    "plt.rcParams[\"figure.figsize\"] = [9, 5]\n",
    "x = np.linspace(0, 1, 100)\n",
    "for param in params:\n",
    "    y = 1 - (1 - (x)**param[1])**param[0]\n",
    "    plt.plot(x, y, label = 'L = %d, r = %d' %param)\n",
    "plt.xlabel(\"similarity values\", fontsize = 12)\n",
    "plt.ylabel(\"hash probability in at least 1 bucket\", fontsize = 12)\n",
    "plt.title('Probability-similarity relation', fontsize = 18)\n",
    "plt.legend()"
   ]
  },
  {
   "cell_type": "code",
   "execution_count": 43,
   "id": "06b7f958-6f44-44dd-9a8b-2cf92d2c8c62",
   "metadata": {},
   "outputs": [],
   "source": [
    "df_probLSH = mean_prob_hashing_smallest_elt(n_stacks, params, hash_vectors_hamming, b, df_measures, 'TraceSim', trace = False)"
   ]
  },
  {
   "cell_type": "code",
   "execution_count": 44,
   "id": "f5942f20-20c8-4df4-9b65-7a62cf73558f",
   "metadata": {},
   "outputs": [
    {
     "data": {
      "image/png": "[encoded data removed]",
      "text/plain": [
       "<Figure size 432x288 with 1 Axes>"
      ]
     },
     "metadata": {
      "needs_background": "light"
     },
     "output_type": "display_data"
    }
   ],
   "source": [
    "f, ax = plt.subplots(figsize=(6, 4))\n",
    "ax = sns.boxplot(data = df_probLSH, palette=\"Set3\")\n",
    "plt.xlabel(\"Hyperparameters of LSH (L,K)\", fontsize = 12)\n",
    "plt.ylabel(\"Prob hashing smallest elt in buckets\", fontsize = 12)\n",
    "plt.title('TraceSim (DeepLSH) [Relation Prob-Sim]', fontsize = 16)\n",
    "plt.savefig('Results/DeepLSH/TraceSim-Relation-Prob-Sim', bbox_inches='tight')\n",
    "plt.show()"
   ]
  },
  {
   "cell_type": "code",
   "execution_count": 45,
   "id": "2a7ec7db-5e03-44f5-a6f5-e404fd3948a1",
   "metadata": {},
   "outputs": [
    {
     "data": {
      "text/plain": [
       "(4, 16)"
      ]
     },
     "execution_count": 45,
     "metadata": {},
     "output_type": "execute_result"
    }
   ],
   "source": [
    "'Exemple, L = K = 8'\n",
    "L, K = params[2]\n",
    "L, K"
   ]
  },
  {
   "cell_type": "code",
   "execution_count": 46,
   "id": "907cec1c-86df-4db5-b5c0-627379841a4d",
   "metadata": {},
   "outputs": [
    {
     "data": {
      "text/plain": [
       "0.6009497036273486"
      ]
     },
     "execution_count": 46,
     "metadata": {},
     "output_type": "execute_result"
    }
   ],
   "source": [
    "df_probLSH.mean()['(4, 16)']"
   ]
  },
  {
   "cell_type": "code",
   "execution_count": 47,
   "id": "944eda14-5c69-4d49-b682-3c57ad9fe47f",
   "metadata": {},
   "outputs": [
    {
     "data": {
      "text/plain": [
       "0.7029094603235033"
      ]
     },
     "execution_count": 47,
     "metadata": {},
     "output_type": "execute_result"
    }
   ],
   "source": [
    "df_probLSH.median()['(4, 16)']"
   ]
  },
  {
   "cell_type": "markdown",
   "id": "6ebdb37a-a88b-46f1-8a22-1c0f872f6cd6",
   "metadata": {},
   "source": [
    "## 4.2. Build hash tables with binary hash vectors w.r.t $K$ and $L$"
   ]
  },
  {
   "cell_type": "code",
   "execution_count": 48,
   "id": "fb84b5ab-519b-4dd1-bb5e-5ced695bf3a4",
   "metadata": {},
   "outputs": [],
   "source": [
    "hash_tables = create_hash_tables(L, K, b, hash_vectors_hamming)"
   ]
  },
  {
   "cell_type": "code",
   "execution_count": 49,
   "id": "b8ed4c9f-cf0f-4137-8a32-3d839f64c86e",
   "metadata": {},
   "outputs": [],
   "source": [
    "with open('Hash-Tables/hash_tables_deeplsh.pkl', 'wb') as f:\n",
    "    pickle.dump(hash_tables, f)"
   ]
  },
  {
   "cell_type": "markdown",
   "id": "70f264b8-e59e-4995-b416-f8966cfc4d8f",
   "metadata": {},
   "source": [
    "## 4.3. Search for approximate nearest neighbors (this procedure need to be explained in the paper) "
   ]
  },
  {
   "cell_type": "code",
   "execution_count": 50,
   "id": "46bdb33d-c680-4242-919e-cd2dfd73e353",
   "metadata": {},
   "outputs": [
    {
     "data": {
      "text/plain": [
       "924"
      ]
     },
     "execution_count": 50,
     "metadata": {},
     "output_type": "execute_result"
    }
   ],
   "source": [
    "'pointer to the stack trace'\n",
    "index = random.randint(0,n_stacks)\n",
    "index"
   ]
  },
  {
   "cell_type": "code",
   "execution_count": 51,
   "id": "ce6258ad-9458-4e9b-867a-d3b4fc675966",
   "metadata": {},
   "outputs": [
    {
     "data": {
      "text/plain": [
       "set()"
      ]
     },
     "execution_count": 51,
     "metadata": {},
     "output_type": "execute_result"
    }
   ],
   "source": [
    "set_near_duplicates = near_duplicates(L, K, b, index, hash_vectors_hamming, hash_tables)\n",
    "set_near_duplicates"
   ]
  },
  {
   "cell_type": "code",
   "execution_count": 52,
   "id": "d3c836e7-fc34-47cd-9889-f76db2bc71a2",
   "metadata": {},
   "outputs": [],
   "source": [
    "list_near_duplicate_pairs = near_duplicate_pairs(index, set_near_duplicates, n_stacks)\n",
    "n_duplicate_pairs = len(list_near_duplicate_pairs)"
   ]
  },
  {
   "cell_type": "code",
   "execution_count": 53,
   "id": "561cd65b-4aa5-4f8c-b4a2-423baa352721",
   "metadata": {},
   "outputs": [
    {
     "data": {
      "text/plain": [
       "Series([], Name: TraceSim, dtype: float64)"
      ]
     },
     "execution_count": 53,
     "metadata": {},
     "output_type": "execute_result"
    }
   ],
   "source": [
    "near_duplicates_sim = df_measures['TraceSim'][list_near_duplicate_pairs].sort_values(ascending = False)\n",
    "near_duplicates_sim"
   ]
  },
  {
   "cell_type": "code",
   "execution_count": 54,
   "id": "6510bce7-6663-4db3-8455-0b846720c6f1",
   "metadata": {
    "tags": []
   },
   "outputs": [
    {
     "data": {
      "text/plain": [
       "set()"
      ]
     },
     "execution_count": 54,
     "metadata": {},
     "output_type": "execute_result"
    }
   ],
   "source": [
    "set_real_nns, real_nns_sim = real_nns(index, df_measures, 'TraceSim', n_stacks, n_duplicate_pairs)\n",
    "set_real_nns"
   ]
  },
  {
   "cell_type": "code",
   "execution_count": 55,
   "id": "0c2d9881-6df4-463f-9dd1-7d02a9fd1347",
   "metadata": {},
   "outputs": [
    {
     "data": {
      "text/plain": [
       "Series([], dtype: float64)"
      ]
     },
     "execution_count": 55,
     "metadata": {},
     "output_type": "execute_result"
    }
   ],
   "source": [
    "real_nns_sim[:n_duplicate_pairs]"
   ]
  },
  {
   "cell_type": "markdown",
   "id": "78b9f9fc-d7c0-46a0-afc0-9d6295866fbf",
   "metadata": {},
   "source": [
    "## 4.4. Metrics"
   ]
  },
  {
   "cell_type": "markdown",
   "id": "afd58871-f8ad-400a-bcc4-335221388b4c",
   "metadata": {},
   "source": [
    "### 4.4.1. Ratio of finding the $k$ real nearest neighbor with the Least $L$ (Recal rate at $k$ first positions)"
   ]
  },
  {
   "cell_type": "code",
   "execution_count": 56,
   "id": "11514265-e84c-4f88-bd7a-b41e9f4ce8ed",
   "metadata": {},
   "outputs": [
    {
     "data": {
      "text/plain": [
       "0.791"
      ]
     },
     "execution_count": 56,
     "metadata": {},
     "output_type": "execute_result"
    }
   ],
   "source": [
    "'All params'\n",
    "k_first_positions = 1\n",
    "recal_rate(n_stacks, params, hash_vectors_hamming, b, df_measures, k_first_positions, 'TraceSim')"
   ]
  },
  {
   "cell_type": "code",
   "execution_count": 57,
   "id": "92bc121e-7e28-48ba-b9a4-c66ebc610bf5",
   "metadata": {},
   "outputs": [
    {
     "data": {
      "text/plain": [
       "0.9438990182328191"
      ]
     },
     "execution_count": 57,
     "metadata": {},
     "output_type": "execute_result"
    }
   ],
   "source": [
    "'Best param'\n",
    "k_first_positions = 1\n",
    "recal_rate_one_param(n_stacks, params[2], hash_vectors_hamming, b, df_measures, k_first_positions, 'TraceSim')"
   ]
  },
  {
   "cell_type": "markdown",
   "id": "5a3cd969-cb8f-4c45-bbb1-13717ce0f321",
   "metadata": {},
   "source": [
    "-----------------------------------------------------------------"
   ]
  },
  {
   "cell_type": "code",
   "execution_count": 58,
   "id": "36dc56b0-9354-43c9-b42d-c77c878291d7",
   "metadata": {},
   "outputs": [
    {
     "data": {
      "text/plain": [
       "0.868666666666666"
      ]
     },
     "execution_count": 58,
     "metadata": {},
     "output_type": "execute_result"
    }
   ],
   "source": [
    "'All params'\n",
    "k_first_positions = 3\n",
    "recal_rate(n_stacks, params, hash_vectors_hamming, b, df_measures, k_first_positions, 'TraceSim')"
   ]
  },
  {
   "cell_type": "code",
   "execution_count": 59,
   "id": "e8fef90e-3dcf-42fe-ad7f-e33f73eff4fe",
   "metadata": {},
   "outputs": [
    {
     "data": {
      "text/plain": [
       "0.9186228482003136"
      ]
     },
     "execution_count": 59,
     "metadata": {},
     "output_type": "execute_result"
    }
   ],
   "source": [
    "'Best param'\n",
    "k_first_positions = 3\n",
    "recal_rate_one_param(n_stacks, params[2], hash_vectors_hamming, b, df_measures, k_first_positions, 'TraceSim')"
   ]
  },
  {
   "cell_type": "markdown",
   "id": "936a4e3c-3d4e-457d-bc8f-3488076a55c6",
   "metadata": {},
   "source": [
    "-----------------------------------------------------------------"
   ]
  },
  {
   "cell_type": "code",
   "execution_count": 60,
   "id": "03343cce-b8fa-4353-80d4-bd56fa2ec809",
   "metadata": {},
   "outputs": [
    {
     "data": {
      "text/plain": [
       "0.9000000000000001"
      ]
     },
     "execution_count": 60,
     "metadata": {},
     "output_type": "execute_result"
    }
   ],
   "source": [
    "'All params'\n",
    "k_first_positions = 5\n",
    "recal_rate(n_stacks, params, hash_vectors_hamming, b, df_measures, k_first_positions, 'TraceSim')"
   ]
  },
  {
   "cell_type": "code",
   "execution_count": 61,
   "id": "5cff951e-a903-4729-ab28-3e232f554fb3",
   "metadata": {},
   "outputs": [
    {
     "data": {
      "text/plain": [
       "0.927598566308244"
      ]
     },
     "execution_count": 61,
     "metadata": {},
     "output_type": "execute_result"
    }
   ],
   "source": [
    "'Best param'\n",
    "k_first_positions = 5\n",
    "recal_rate_one_param(n_stacks, params[2], hash_vectors_hamming, b, df_measures, k_first_positions, 'TraceSim')"
   ]
  },
  {
   "cell_type": "markdown",
   "id": "fdc20355-d0fa-40ff-b7b0-63b70fa0c691",
   "metadata": {},
   "source": [
    "### 4.4.2. Accuracy of finding the real nearest neighbors (Generalized MRR)"
   ]
  },
  {
   "cell_type": "markdown",
   "id": "331b8c3a-a410-4389-bce9-69d0583b6f8a",
   "metadata": {},
   "source": [
    "$ \\frac{1}{|\\mathcal{R}_i|} \\sum_{s' \\in \\mathcal{R}_i} \\frac{\\text{rank}(s',\\mathcal{R}_i)}{\\text{rank}(s',NNs(s_i))} $"
   ]
  },
  {
   "cell_type": "code",
   "execution_count": 62,
   "id": "665d3af5-6e98-4bc5-901c-11d2cc918e97",
   "metadata": {
    "collapsed": true,
    "jupyter": {
     "outputs_hidden": true
    },
    "tags": []
   },
   "outputs": [
    {
     "ename": "ZeroDivisionError",
     "evalue": "division by zero",
     "output_type": "error",
     "traceback": [
      "\u001b[0;31m---------------------------------------------------------------------------\u001b[0m",
      "\u001b[0;31mZeroDivisionError\u001b[0m                         Traceback (most recent call last)",
      "\u001b[0;32m<ipython-input-62-7d67d9cc29bb>\u001b[0m in \u001b[0;36m<module>\u001b[0;34m\u001b[0m\n\u001b[0;32m----> 1\u001b[0;31m \u001b[0mgeneralized_mrr\u001b[0m\u001b[0;34m(\u001b[0m\u001b[0mnear_duplicates_sim\u001b[0m\u001b[0;34m,\u001b[0m \u001b[0mreal_nns_sim\u001b[0m\u001b[0;34m)\u001b[0m\u001b[0;34m\u001b[0m\u001b[0;34m\u001b[0m\u001b[0m\n\u001b[0m",
      "\u001b[0;32m~/notebooks-ia/stack-traces-sim/deep-lsh/code/python-packages/lsh_search.py\u001b[0m in \u001b[0;36mgeneralized_mrr\u001b[0;34m(approximate_nns_sim, real_nns_sim)\u001b[0m\n\u001b[1;32m     87\u001b[0m             \u001b[0;31m#precision += math.log((i+1)+1,2) / math.log((np.where(real_nns_sim == approximate_nns_sim[i])[0][0] + 1) + 1,2)\u001b[0m\u001b[0;34m\u001b[0m\u001b[0;34m\u001b[0m\u001b[0;34m\u001b[0m\u001b[0m\n\u001b[1;32m     88\u001b[0m             \u001b[0mprecision\u001b[0m \u001b[0;34m+=\u001b[0m \u001b[0;34m(\u001b[0m\u001b[0;34m(\u001b[0m\u001b[0mi\u001b[0m\u001b[0;34m+\u001b[0m\u001b[0;36m1\u001b[0m\u001b[0;34m)\u001b[0m\u001b[0;34m+\u001b[0m\u001b[0;36m1\u001b[0m\u001b[0;34m)\u001b[0m \u001b[0;34m/\u001b[0m \u001b[0;34m(\u001b[0m\u001b[0;34m(\u001b[0m\u001b[0mnp\u001b[0m\u001b[0;34m.\u001b[0m\u001b[0mwhere\u001b[0m\u001b[0;34m(\u001b[0m\u001b[0mreal_nns_sim\u001b[0m \u001b[0;34m==\u001b[0m \u001b[0mapproximate_nns_sim\u001b[0m\u001b[0;34m[\u001b[0m\u001b[0mi\u001b[0m\u001b[0;34m]\u001b[0m\u001b[0;34m)\u001b[0m\u001b[0;34m[\u001b[0m\u001b[0;36m0\u001b[0m\u001b[0;34m]\u001b[0m\u001b[0;34m[\u001b[0m\u001b[0;36m0\u001b[0m\u001b[0;34m]\u001b[0m \u001b[0;34m+\u001b[0m \u001b[0;36m1\u001b[0m\u001b[0;34m)\u001b[0m \u001b[0;34m+\u001b[0m \u001b[0;36m1\u001b[0m\u001b[0;34m)\u001b[0m\u001b[0;34m\u001b[0m\u001b[0;34m\u001b[0m\u001b[0m\n\u001b[0;32m---> 89\u001b[0;31m     \u001b[0;32mreturn\u001b[0m \u001b[0mprecision\u001b[0m \u001b[0;34m/\u001b[0m \u001b[0mapproximate_nns_sim\u001b[0m\u001b[0;34m.\u001b[0m\u001b[0msize\u001b[0m\u001b[0;34m\u001b[0m\u001b[0;34m\u001b[0m\u001b[0m\n\u001b[0m\u001b[1;32m     90\u001b[0m \u001b[0;34m\u001b[0m\u001b[0m\n\u001b[1;32m     91\u001b[0m \u001b[0;34m\u001b[0m\u001b[0m\n",
      "\u001b[0;31mZeroDivisionError\u001b[0m: division by zero"
     ]
    }
   ],
   "source": [
    "generalized_mrr(near_duplicates_sim, real_nns_sim)"
   ]
  },
  {
   "cell_type": "code",
   "execution_count": 63,
   "id": "cf196055-9efb-4c91-852e-fe4544a2d43d",
   "metadata": {},
   "outputs": [
    {
     "data": {
      "text/plain": [
       "(4, 16)    0.938684\n",
       "(8, 8)     0.923933\n",
       "dtype: float64"
      ]
     },
     "execution_count": 63,
     "metadata": {},
     "output_type": "execute_result"
    }
   ],
   "source": [
    "df_knns = mean_generalized_mrr(n_stacks, params[2:4], hash_vectors_hamming, b, df_measures ,'TraceSim', trace = False)\n",
    "df_knns.mean(skipna = True, axis = 0)"
   ]
  },
  {
   "cell_type": "code",
   "execution_count": 64,
   "id": "428fccf1-182e-4a58-86e4-7c2cfc269c21",
   "metadata": {},
   "outputs": [
    {
     "data": {
      "text/plain": [
       "0.9386836530822742"
      ]
     },
     "execution_count": 64,
     "metadata": {},
     "output_type": "execute_result"
    }
   ],
   "source": [
    "df_knns.mean(skipna = True, axis = 0)['(4, 16)']"
   ]
  },
  {
   "cell_type": "markdown",
   "id": "6ae4d4b7-61e0-4420-8070-498371892a8f",
   "metadata": {},
   "source": [
    "### 4.4.3. Recall w.r.t. LSH"
   ]
  },
  {
   "cell_type": "code",
   "execution_count": 65,
   "id": "8e4cb35d-88bd-4fb4-a427-719e56f85830",
   "metadata": {},
   "outputs": [
    {
     "data": {
      "text/plain": [
       "(1, 64)    0.500000\n",
       "(2, 32)    0.551397\n",
       "(4, 16)    0.836138\n",
       "(8, 8)     0.875959\n",
       "(16, 4)    0.810998\n",
       "(32, 2)    0.905022\n",
       "(64, 1)    0.986590\n",
       "dtype: float64"
      ]
     },
     "execution_count": 65,
     "metadata": {},
     "output_type": "execute_result"
    }
   ],
   "source": [
    "df_recall = recall_all(n_stacks, params, hash_vectors_hamming, b, df_measures ,'TraceSim', trace = False)\n",
    "df_recall.mean(skipna = True)"
   ]
  },
  {
   "cell_type": "code",
   "execution_count": 66,
   "id": "50644fd8-d2f5-4a3d-a4fd-126eaa4631a5",
   "metadata": {},
   "outputs": [
    {
     "data": {
      "image/png": "[encoded data removed]",
      "text/plain": [
       "<Figure size 324x288 with 1 Axes>"
      ]
     },
     "metadata": {
      "needs_background": "light"
     },
     "output_type": "display_data"
    }
   ],
   "source": [
    "f, ax = plt.subplots(figsize=(4.5, 4))\n",
    "ax = sns.boxplot(data = df_recall, palette=\"Set3\")\n",
    "plt.xlabel(\"Hyperparameters of LSH (L,K)\", fontsize = 13)\n",
    "plt.ylabel(\"Recall w.r.t. LSH guarantees\", fontsize = 13)\n",
    "plt.title('TraceSim (DeepLSH)', fontsize = 16)\n",
    "plt.savefig('Results/DeepLSH/Recall-LSH', bbox_inches='tight')\n",
    "plt.show()"
   ]
  },
  {
   "cell_type": "markdown",
   "id": "3ba70349-5026-492e-a7b9-faa9969821c5",
   "metadata": {},
   "source": [
    "### 4.4.4. Precison w.r.t. LSH"
   ]
  },
  {
   "cell_type": "code",
   "execution_count": 67,
   "id": "4a4c4999-10c3-4f41-9144-b1bfbf058f76",
   "metadata": {},
   "outputs": [
    {
     "data": {
      "text/plain": [
       "(1, 64)    0.032864\n",
       "(2, 32)    0.259131\n",
       "(4, 16)    0.794796\n",
       "(8, 8)     0.797907\n",
       "(16, 4)    0.736619\n",
       "(32, 2)    0.719825\n",
       "(64, 1)    0.938426\n",
       "dtype: float64"
      ]
     },
     "execution_count": 67,
     "metadata": {},
     "output_type": "execute_result"
    }
   ],
   "source": [
    "df_precision = precision_all(n_stacks, params, hash_vectors_hamming, b, df_measures ,'TraceSim', trace = False)\n",
    "df_precision.mean(skipna = True, axis = 0)"
   ]
  },
  {
   "cell_type": "code",
   "execution_count": 68,
   "id": "46350795-392a-4d47-a7a5-6014c3898df2",
   "metadata": {},
   "outputs": [
    {
     "data": {
      "image/png": "[encoded data removed]",
      "text/plain": [
       "<Figure size 324x288 with 1 Axes>"
      ]
     },
     "metadata": {
      "needs_background": "light"
     },
     "output_type": "display_data"
    }
   ],
   "source": [
    "f, ax = plt.subplots(figsize=(4.5, 4))\n",
    "ax = sns.boxplot(data = df_precision, palette=\"Set3\")\n",
    "plt.xlabel(\"Hyperparameters of LSH (L,K)\", fontsize = 13)\n",
    "plt.ylabel(\"Precision w.r.t. LSH guarantees\", fontsize = 13)\n",
    "plt.title('TraceSim (DeepLSH)', fontsize = 16)\n",
    "plt.savefig('Results/DeepLSH/precision-LSH', bbox_inches='tight')\n",
    "plt.show()"
   ]
  },
  {
   "cell_type": "markdown",
   "id": "e4e49920-813e-44ef-9474-21f1a27f35a5",
   "metadata": {},
   "source": [
    "### 4.4.5. Fscore w.r.t. LSH"
   ]
  },
  {
   "cell_type": "code",
   "execution_count": 69,
   "id": "2128eff8-9e7c-455e-967d-b3955b06dc43",
   "metadata": {},
   "outputs": [
    {
     "data": {
      "text/plain": [
       "(1, 64)    0.033183\n",
       "(2, 32)    0.230548\n",
       "(4, 16)    0.746723\n",
       "(8, 8)     0.783372\n",
       "(16, 4)    0.722898\n",
       "(32, 2)    0.769893\n",
       "(64, 1)    0.955891\n",
       "dtype: float64"
      ]
     },
     "execution_count": 69,
     "metadata": {},
     "output_type": "execute_result"
    }
   ],
   "source": [
    "df_score_all = fscore_all(df_precision, df_recall)\n",
    "df_score_all.mean(skipna = True)"
   ]
  },
  {
   "cell_type": "code",
   "execution_count": 70,
   "id": "773ec99c-88c6-40f7-979e-30b5b9d379d9",
   "metadata": {},
   "outputs": [
    {
     "data": {
      "image/png": "[encoded data removed]",
      "text/plain": [
       "<Figure size 324x288 with 1 Axes>"
      ]
     },
     "metadata": {
      "needs_background": "light"
     },
     "output_type": "display_data"
    }
   ],
   "source": [
    "f, ax = plt.subplots(figsize=(4.5, 4))\n",
    "ax = sns.boxplot(data = df_score_all, palette=\"Set3\")\n",
    "plt.xlabel(\"Hyperparameters of LSH (L,K)\", fontsize = 13)\n",
    "plt.ylabel(\"F1-score w.r.t. LSH guarantees\", fontsize = 13)\n",
    "plt.title('TraceSim (DeepLSH)', fontsize = 16)\n",
    "plt.savefig('Results/DeepLSH/fscore-LSH', bbox_inches='tight')\n",
    "plt.show()"
   ]
  }
 ],
 "metadata": {
  "kernelspec": {
   "display_name": "split-sd4x",
   "language": "python",
   "name": "split-sd4x"
  },
  "language_info": {
   "codemirror_mode": {
    "name": "ipython",
    "version": 3
   },
   "file_extension": ".py",
   "mimetype": "text/x-python",
   "name": "python",
   "nbconvert_exporter": "python",
   "pygments_lexer": "ipython3",
   "version": "3.7.10"
  }
 },
 "nbformat": 4,
 "nbformat_minor": 5
}
