{
 "cells": [
  {
   "cell_type": "code",
   "execution_count": 1,
   "id": "bb7e69c2-b065-46fa-b6eb-7ea56ae43f35",
   "metadata": {},
   "outputs": [],
   "source": [
    "import os\n",
    "import sys\n",
    "import numpy as np\n",
    "import pandas as pd\n",
    "import random\n",
    "import matplotlib.pyplot as plt\n",
    "import seaborn as sns\n",
    "import warnings\n",
    "import pickle\n",
    "from tensorflow import keras \n",
    "warnings.filterwarnings(\"ignore\")\n",
    "from sklearn.feature_extraction.text import CountVectorizer\n",
    "from sklearn.model_selection import train_test_split"
   ]
  },
  {
   "cell_type": "code",
   "execution_count": 2,
   "id": "1014d33e-c803-41ce-be12-ab1c3f929253",
   "metadata": {},
   "outputs": [],
   "source": [
    "sys.path.append(os.path.join(os.path.dirname(os.path.dirname(os.getcwd())),'python-packages/'))\n",
    "from deep_hashing_models import *\n",
    "from similarities import *\n",
    "from lsh_search import *"
   ]
  },
  {
   "cell_type": "markdown",
   "id": "627c738c-cd1f-4e1b-ae93-1aa3d25882aa",
   "metadata": {},
   "source": [
    "# 1. Data Preparation"
   ]
  },
  {
   "cell_type": "code",
   "execution_count": 3,
   "id": "e96659a4-eea0-48d9-8977-fecba559b78d",
   "metadata": {},
   "outputs": [],
   "source": [
    "data_repo = os.path.join(os.path.dirname(os.path.dirname(os.path.dirname(os.getcwd()))),'data/')"
   ]
  },
  {
   "cell_type": "code",
   "execution_count": 4,
   "id": "d2874701-b390-405b-9001-822faf31ade5",
   "metadata": {},
   "outputs": [],
   "source": [
    "df_distinct_stacks = pd.read_csv(data_repo + 'frequent_stack_traces.csv', index_col = [0])\n",
    "df_measures = pd.read_csv(data_repo + 'similarity-measures-pairs.csv', index_col = [0])"
   ]
  },
  {
   "cell_type": "code",
   "execution_count": 5,
   "id": "7b4772e1-6603-4344-a277-70d9728c61ea",
   "metadata": {},
   "outputs": [
    {
     "data": {
      "text/plain": [
       "1000"
      ]
     },
     "execution_count": 5,
     "metadata": {},
     "output_type": "execute_result"
    }
   ],
   "source": [
    "n_stacks = df_distinct_stacks.shape[0]\n",
    "n_stacks"
   ]
  },
  {
   "cell_type": "code",
   "execution_count": 6,
   "id": "e515f018-4609-4487-8d87-d707ca6347da",
   "metadata": {},
   "outputs": [],
   "source": [
    "vectorizer_bag_of_frames = CountVectorizer(token_pattern = r\"(?u)\\b[a-zA-Z0-9_.]{2,}\\b\")\n",
    "s = df_distinct_stacks['stackTraceCusto'].apply(lambda x : x.replace('\\n',' '))\n",
    "s = s.apply(lambda x : x.replace('$',''))\n",
    "s = s.apply(lambda x : x.replace('/',''))\n",
    "s = s.apply(lambda x : x.replace('<',''))\n",
    "s = s.apply(lambda x : x.replace('>',''))\n",
    "X_bag_of_frames = vectorizer_bag_of_frames.fit_transform(list(s)).toarray()\n",
    "df_bag_of_frames = pd.DataFrame(data = X_bag_of_frames, columns = vectorizer_bag_of_frames.get_feature_names())"
   ]
  },
  {
   "cell_type": "code",
   "execution_count": 7,
   "id": "50aa90c2-205c-4f47-8230-4da0ea7d618f",
   "metadata": {},
   "outputs": [],
   "source": [
    "X_train, X_validation, Y_train, Y_validation = train_test_split(df_measures.index, df_measures['Dufrex'], test_size = 0.2) "
   ]
  },
  {
   "cell_type": "code",
   "execution_count": 8,
   "id": "9b5ac005-aa8f-47fe-a5cf-ece206be1621",
   "metadata": {},
   "outputs": [],
   "source": [
    "indexes_train_1 = X_train.to_series().apply(lambda x : get_two_indexes(x, df_distinct_stacks.shape[0])[0]).to_list()\n",
    "indexes_train_2 = X_train.to_series().apply(lambda x : get_two_indexes(x, df_distinct_stacks.shape[0])[1]).to_list()\n",
    "indexes_validation_1 = X_validation.to_series().apply(lambda x : get_two_indexes(x, df_distinct_stacks.shape[0])[0]).to_list()\n",
    "indexes_validation_2 = X_validation.to_series().apply(lambda x : get_two_indexes(x, df_distinct_stacks.shape[0])[1]).to_list()"
   ]
  },
  {
   "cell_type": "code",
   "execution_count": 9,
   "id": "ed7fad07-aacc-453c-beba-7b0123b67c82",
   "metadata": {},
   "outputs": [],
   "source": [
    "X_train = dict()\n",
    "X_train['stack_1'] = df_bag_of_frames.loc[indexes_train_1].values\n",
    "X_train['stack_2'] = df_bag_of_frames.loc[indexes_train_2].values\n",
    "\n",
    "X_validation = dict()\n",
    "X_validation['stack_1'] = df_bag_of_frames.loc[indexes_validation_1].values\n",
    "X_validation['stack_2'] = df_bag_of_frames.loc[indexes_validation_2].values"
   ]
  },
  {
   "cell_type": "code",
   "execution_count": 10,
   "id": "7a79ade3-db36-4098-9c5a-109ec33a37eb",
   "metadata": {},
   "outputs": [],
   "source": [
    "Y_train = Y_train.values\n",
    "Y_validation = Y_validation.values"
   ]
  },
  {
   "cell_type": "code",
   "execution_count": 11,
   "id": "5f8cc839-bd54-4630-8f35-2a89bb19c00d",
   "metadata": {},
   "outputs": [],
   "source": [
    "assert X_train['stack_1'].shape == X_train['stack_2'].shape\n",
    "assert len(X_train['stack_1']) == len(Y_train)"
   ]
  },
  {
   "cell_type": "markdown",
   "id": "753999cd-6682-4263-b38e-1865140e6708",
   "metadata": {},
   "source": [
    "### Distribution of training data"
   ]
  },
  {
   "cell_type": "code",
   "execution_count": 12,
   "id": "3db6e7b6-ff7f-4089-be9b-af02e34646ed",
   "metadata": {},
   "outputs": [
    {
     "data": {
      "image/png": "[encoded data removed]",
      "text/plain": [
       "<Figure size 720x360 with 1 Axes>"
      ]
     },
     "metadata": {
      "needs_background": "light"
     },
     "output_type": "display_data"
    }
   ],
   "source": [
    "plt.rcParams[\"figure.figsize\"] = [10, 5]\n",
    "plt.hist(Y_train, 20, alpha = 1, density = False)\n",
    "plt.show()"
   ]
  },
  {
   "cell_type": "markdown",
   "id": "3a910820-e364-426d-9cbd-411794637bc8",
   "metadata": {},
   "source": [
    "### Distribution of test data"
   ]
  },
  {
   "cell_type": "code",
   "execution_count": 13,
   "id": "c242807e-a11b-43e2-82a0-aed22cbdefbc",
   "metadata": {},
   "outputs": [
    {
     "data": {
      "image/png": "[encoded data removed]",
      "text/plain": [
       "<Figure size 720x360 with 1 Axes>"
      ]
     },
     "metadata": {
      "needs_background": "light"
     },
     "output_type": "display_data"
    }
   ],
   "source": [
    "plt.rcParams[\"figure.figsize\"] = [10, 5]\n",
    "plt.hist(Y_validation, 20, alpha = 1, density = False)\n",
    "plt.show()"
   ]
  },
  {
   "cell_type": "markdown",
   "id": "19aa15e5-aee6-46ea-9c52-d1fa077b05dc",
   "metadata": {},
   "source": [
    "# 2. Model Design"
   ]
  },
  {
   "cell_type": "code",
   "execution_count": 14,
   "id": "02a2362d-059a-44b7-94f7-24e03680eef0",
   "metadata": {},
   "outputs": [],
   "source": [
    "'Number of hash tables functions' \n",
    "m = 64"
   ]
  },
  {
   "cell_type": "code",
   "execution_count": 15,
   "id": "6ea1ca10-c9ff-4735-ae80-e03691eb16ba",
   "metadata": {},
   "outputs": [],
   "source": [
    "'Number of bits per hash function' \n",
    "b = 16"
   ]
  },
  {
   "cell_type": "code",
   "execution_count": 16,
   "id": "06478197-071f-4395-804f-cbc171aadbd5",
   "metadata": {},
   "outputs": [
    {
     "data": {
      "text/plain": [
       "1024"
      ]
     },
     "execution_count": 16,
     "metadata": {},
     "output_type": "execute_result"
    }
   ],
   "source": [
    "'Size hash vector'\n",
    "size_hash_vector = m * b\n",
    "size_hash_vector"
   ]
  },
  {
   "cell_type": "markdown",
   "id": "0d60851f-b05f-4bc6-80f0-ce736180afe0",
   "metadata": {},
   "source": [
    "## 2.1. Feature learning phase"
   ]
  },
  {
   "cell_type": "code",
   "execution_count": 17,
   "id": "d9893ed6-5d0b-41b2-816b-b410e1c07910",
   "metadata": {},
   "outputs": [],
   "source": [
    "x = Sequential()\n",
    "x.add(Dense(2048, input_dim = X_train['stack_1'].shape[1], activation = 'tanh'))\n",
    "x.add(Dense(1024, activation = 'tanh'))\n",
    "x.add(Dense(size_hash_vector, activation = 'tanh'))\n",
    "shared_model = x"
   ]
  },
  {
   "cell_type": "markdown",
   "id": "279ba874-5ea0-4a94-83a1-f7f7c9ca8e0e",
   "metadata": {},
   "source": [
    "## 2.2. Siamese Model "
   ]
  },
  {
   "cell_type": "code",
   "execution_count": 18,
   "id": "d1d8a570-b1a8-489c-8312-e78dca471a63",
   "metadata": {
    "tags": []
   },
   "outputs": [],
   "source": [
    "input_shape = (X_train['stack_1'].shape[1],)\n",
    "model = siamese_model(shared_model, input_shape, b, m, is_sparse = True, print_summary = False)"
   ]
  },
  {
   "cell_type": "markdown",
   "id": "0bb438cf-7efb-4603-aab4-1364b187938f",
   "metadata": {},
   "source": [
    "## 2.3. Model training "
   ]
  },
  {
   "cell_type": "code",
   "execution_count": 19,
   "id": "3c6beca4-2caa-4c8c-8ca9-c3dfaedffbdc",
   "metadata": {},
   "outputs": [
    {
     "name": "stdout",
     "output_type": "stream",
     "text": [
      "Epoch 1/20\n",
      "781/781 [==============================] - 34s 35ms/step - loss: 0.0040 - ham_dist_loss: 0.0039 - prod_vec_loss: 0.0107 - prod_vec_1_loss: 0.0107 - sum_vec_loss: 1.0506e-04 - sum_vec_1_loss: 1.0137e-04 - ham_dist_rmse: 0.0621 - ham_dist_mae: 0.0241 - val_loss: 8.4022e-04 - val_ham_dist_loss: 8.3716e-04 - val_prod_vec_loss: 0.0017 - val_prod_vec_1_loss: 0.0017 - val_sum_vec_loss: 9.5826e-05 - val_sum_vec_1_loss: 9.8341e-05 - val_ham_dist_rmse: 0.0289 - val_ham_dist_mae: 0.0141\n",
      "Epoch 2/20\n",
      "781/781 [==============================] - 24s 31ms/step - loss: 6.5285e-04 - ham_dist_loss: 6.5527e-04 - prod_vec_loss: 0.0012 - prod_vec_1_loss: 0.0012 - sum_vec_loss: 8.0081e-05 - sum_vec_1_loss: 7.6053e-05 - ham_dist_rmse: 0.0256 - ham_dist_mae: 0.0126 - val_loss: 5.7879e-04 - val_ham_dist_loss: 5.8932e-04 - val_prod_vec_loss: 7.8050e-04 - val_prod_vec_1_loss: 7.7457e-04 - val_sum_vec_loss: 6.5900e-05 - val_sum_vec_1_loss: 6.2310e-05 - val_ham_dist_rmse: 0.0243 - val_ham_dist_mae: 0.0117\n",
      "Epoch 3/20\n",
      "781/781 [==============================] - 25s 32ms/step - loss: 4.8293e-04 - ham_dist_loss: 4.9262e-04 - prod_vec_loss: 6.0236e-04 - prod_vec_1_loss: 6.2649e-04 - sum_vec_loss: 6.5208e-05 - sum_vec_1_loss: 5.6228e-05 - ham_dist_rmse: 0.0222 - ham_dist_mae: 0.0109 - val_loss: 4.8494e-04 - val_ham_dist_loss: 4.9908e-04 - val_prod_vec_loss: 4.7625e-04 - val_prod_vec_1_loss: 4.9736e-04 - val_sum_vec_loss: 6.2902e-05 - val_sum_vec_1_loss: 5.4652e-05 - val_ham_dist_rmse: 0.0223 - val_ham_dist_mae: 0.0108\n",
      "Epoch 4/20\n",
      "781/781 [==============================] - 25s 32ms/step - loss: 4.1257e-04 - ham_dist_loss: 4.2492e-04 - prod_vec_loss: 3.8483e-04 - prod_vec_1_loss: 4.1442e-04 - sum_vec_loss: 5.8915e-05 - sum_vec_1_loss: 5.1056e-05 - ham_dist_rmse: 0.0206 - ham_dist_mae: 0.0101 - val_loss: 4.4834e-04 - val_ham_dist_loss: 4.6548e-04 - val_prod_vec_loss: 3.1622e-04 - val_prod_vec_1_loss: 3.3781e-04 - val_sum_vec_loss: 5.8339e-05 - val_sum_vec_1_loss: 5.2434e-05 - val_ham_dist_rmse: 0.0216 - val_ham_dist_mae: 0.0102\n",
      "Epoch 5/20\n",
      "781/781 [==============================] - 27s 34ms/step - loss: 3.7308e-04 - ham_dist_loss: 3.8696e-04 - prod_vec_loss: 2.6194e-04 - prod_vec_1_loss: 2.9219e-04 - sum_vec_loss: 5.6396e-05 - sum_vec_1_loss: 4.9215e-05 - ham_dist_rmse: 0.0197 - ham_dist_mae: 0.0096 - val_loss: 4.1462e-04 - val_ham_dist_loss: 4.3237e-04 - val_prod_vec_loss: 2.3256e-04 - val_prod_vec_1_loss: 2.5626e-04 - val_sum_vec_loss: 5.4964e-05 - val_sum_vec_1_loss: 4.9861e-05 - val_ham_dist_rmse: 0.0208 - val_ham_dist_mae: 0.0099\n",
      "Epoch 6/20\n",
      "781/781 [==============================] - 25s 32ms/step - loss: 3.4311e-04 - ham_dist_loss: 3.5778e-04 - prod_vec_loss: 1.8505e-04 - prod_vec_1_loss: 2.0706e-04 - sum_vec_loss: 5.3941e-05 - sum_vec_1_loss: 4.6468e-05 - ham_dist_rmse: 0.0189 - ham_dist_mae: 0.0092 - val_loss: 3.8806e-04 - val_ham_dist_loss: 4.0627e-04 - val_prod_vec_loss: 1.6974e-04 - val_prod_vec_1_loss: 1.9088e-04 - val_sum_vec_loss: 5.3071e-05 - val_sum_vec_1_loss: 4.5624e-05 - val_ham_dist_rmse: 0.0202 - val_ham_dist_mae: 0.0094\n",
      "Epoch 7/20\n",
      "781/781 [==============================] - 24s 31ms/step - loss: 3.2545e-04 - ham_dist_loss: 3.4041e-04 - prod_vec_loss: 1.4315e-04 - prod_vec_1_loss: 1.6214e-04 - sum_vec_loss: 5.2903e-05 - sum_vec_1_loss: 4.5967e-05 - ham_dist_rmse: 0.0185 - ham_dist_mae: 0.0089 - val_loss: 3.7243e-04 - val_ham_dist_loss: 3.9127e-04 - val_prod_vec_loss: 1.2255e-04 - val_prod_vec_1_loss: 1.3768e-04 - val_sum_vec_loss: 5.1236e-05 - val_sum_vec_1_loss: 4.7913e-05 - val_ham_dist_rmse: 0.0198 - val_ham_dist_mae: 0.0092\n",
      "Epoch 8/20\n",
      "781/781 [==============================] - 24s 31ms/step - loss: 3.1749e-04 - ham_dist_loss: 3.3280e-04 - prod_vec_loss: 1.2023e-04 - prod_vec_1_loss: 1.3888e-04 - sum_vec_loss: 4.7770e-05 - sum_vec_1_loss: 4.4345e-05 - ham_dist_rmse: 0.0182 - ham_dist_mae: 0.0088 - val_loss: 3.6304e-04 - val_ham_dist_loss: 3.8208e-04 - val_prod_vec_loss: 1.0098e-04 - val_prod_vec_1_loss: 1.1796e-04 - val_sum_vec_loss: 4.8228e-05 - val_sum_vec_1_loss: 4.2986e-05 - val_ham_dist_rmse: 0.0195 - val_ham_dist_mae: 0.0091\n",
      "Epoch 9/20\n",
      "781/781 [==============================] - 25s 31ms/step - loss: 3.0679e-04 - ham_dist_loss: 3.2249e-04 - prod_vec_loss: 8.8594e-05 - prod_vec_1_loss: 1.0570e-04 - sum_vec_loss: 4.7030e-05 - sum_vec_1_loss: 4.3878e-05 - ham_dist_rmse: 0.0180 - ham_dist_mae: 0.0086 - val_loss: 3.4456e-04 - val_ham_dist_loss: 3.6339e-04 - val_prod_vec_loss: 7.5368e-05 - val_prod_vec_1_loss: 9.0764e-05 - val_sum_vec_loss: 4.4335e-05 - val_sum_vec_1_loss: 3.8012e-05 - val_ham_dist_rmse: 0.0191 - val_ham_dist_mae: 0.0088\n",
      "Epoch 10/20\n",
      "781/781 [==============================] - 24s 31ms/step - loss: 2.9016e-04 - ham_dist_loss: 3.0556e-04 - prod_vec_loss: 6.8102e-05 - prod_vec_1_loss: 8.4307e-05 - sum_vec_loss: 4.3497e-05 - sum_vec_1_loss: 4.0844e-05 - ham_dist_rmse: 0.0175 - ham_dist_mae: 0.0084 - val_loss: 3.3703e-04 - val_ham_dist_loss: 3.5558e-04 - val_prod_vec_loss: 6.6991e-05 - val_prod_vec_1_loss: 8.3072e-05 - val_sum_vec_loss: 4.3478e-05 - val_sum_vec_1_loss: 4.1766e-05 - val_ham_dist_rmse: 0.0189 - val_ham_dist_mae: 0.0086\n",
      "Epoch 11/20\n",
      "781/781 [==============================] - 24s 31ms/step - loss: 2.8411e-04 - ham_dist_loss: 2.9951e-04 - prod_vec_loss: 5.8995e-05 - prod_vec_1_loss: 7.4952e-05 - sum_vec_loss: 4.0913e-05 - sum_vec_1_loss: 3.7744e-05 - ham_dist_rmse: 0.0173 - ham_dist_mae: 0.0083 - val_loss: 3.3557e-04 - val_ham_dist_loss: 3.5462e-04 - val_prod_vec_loss: 5.0753e-05 - val_prod_vec_1_loss: 6.4997e-05 - val_sum_vec_loss: 4.4293e-05 - val_sum_vec_1_loss: 3.9283e-05 - val_ham_dist_rmse: 0.0188 - val_ham_dist_mae: 0.0086\n",
      "Epoch 12/20\n",
      "781/781 [==============================] - 24s 30ms/step - loss: 2.7496e-04 - ham_dist_loss: 2.9016e-04 - prod_vec_loss: 4.7877e-05 - prod_vec_1_loss: 6.0617e-05 - sum_vec_loss: 4.2061e-05 - sum_vec_1_loss: 3.7763e-05 - ham_dist_rmse: 0.0170 - ham_dist_mae: 0.0081 - val_loss: 3.2604e-04 - val_ham_dist_loss: 3.4476e-04 - val_prod_vec_loss: 4.6001e-05 - val_prod_vec_1_loss: 5.8185e-05 - val_sum_vec_loss: 3.9798e-05 - val_sum_vec_1_loss: 3.6827e-05 - val_ham_dist_rmse: 0.0186 - val_ham_dist_mae: 0.0084\n",
      "Epoch 13/20\n",
      "781/781 [==============================] - 24s 31ms/step - loss: 2.6617e-04 - ham_dist_loss: 2.8108e-04 - prod_vec_loss: 4.0472e-05 - prod_vec_1_loss: 5.1907e-05 - sum_vec_loss: 4.0708e-05 - sum_vec_1_loss: 3.6576e-05 - ham_dist_rmse: 0.0168 - ham_dist_mae: 0.0080 - val_loss: 3.1452e-04 - val_ham_dist_loss: 3.3278e-04 - val_prod_vec_loss: 3.7751e-05 - val_prod_vec_1_loss: 4.8604e-05 - val_sum_vec_loss: 3.9669e-05 - val_sum_vec_1_loss: 3.6799e-05 - val_ham_dist_rmse: 0.0182 - val_ham_dist_mae: 0.0084\n",
      "Epoch 14/20\n",
      "781/781 [==============================] - 23s 30ms/step - loss: 2.6649e-04 - ham_dist_loss: 2.8160e-04 - prod_vec_loss: 3.5772e-05 - prod_vec_1_loss: 4.6937e-05 - sum_vec_loss: 3.9758e-05 - sum_vec_1_loss: 3.6639e-05 - ham_dist_rmse: 0.0168 - ham_dist_mae: 0.0081 - val_loss: 3.1742e-04 - val_ham_dist_loss: 3.3582e-04 - val_prod_vec_loss: 3.5805e-05 - val_prod_vec_1_loss: 4.6242e-05 - val_sum_vec_loss: 4.5190e-05 - val_sum_vec_1_loss: 3.8184e-05 - val_ham_dist_rmse: 0.0183 - val_ham_dist_mae: 0.0084\n",
      "Epoch 15/20\n",
      "781/781 [==============================] - 25s 31ms/step - loss: 2.5897e-04 - ham_dist_loss: 2.7358e-04 - prod_vec_loss: 3.2079e-05 - prod_vec_1_loss: 4.2372e-05 - sum_vec_loss: 4.5043e-05 - sum_vec_1_loss: 3.9672e-05 - ham_dist_rmse: 0.0165 - ham_dist_mae: 0.0079 - val_loss: 3.0688e-04 - val_ham_dist_loss: 3.2489e-04 - val_prod_vec_loss: 2.8431e-05 - val_prod_vec_1_loss: 3.7697e-05 - val_sum_vec_loss: 4.4566e-05 - val_sum_vec_1_loss: 3.6247e-05 - val_ham_dist_rmse: 0.0180 - val_ham_dist_mae: 0.0082\n",
      "Epoch 16/20\n",
      "781/781 [==============================] - 28s 36ms/step - loss: 2.5132e-04 - ham_dist_loss: 2.6571e-04 - prod_vec_loss: 2.6735e-05 - prod_vec_1_loss: 3.6157e-05 - sum_vec_loss: 4.2048e-05 - sum_vec_1_loss: 3.7048e-05 - ham_dist_rmse: 0.0163 - ham_dist_mae: 0.0078 - val_loss: 2.9613e-04 - val_ham_dist_loss: 3.1354e-04 - val_prod_vec_loss: 2.4871e-05 - val_prod_vec_1_loss: 3.5988e-05 - val_sum_vec_loss: 4.2322e-05 - val_sum_vec_1_loss: 3.6971e-05 - val_ham_dist_rmse: 0.0177 - val_ham_dist_mae: 0.0080\n",
      "Epoch 17/20\n",
      "781/781 [==============================] - 26s 33ms/step - loss: 2.4838e-04 - ham_dist_loss: 2.6274e-04 - prod_vec_loss: 2.3023e-05 - prod_vec_1_loss: 3.2689e-05 - sum_vec_loss: 4.0528e-05 - sum_vec_1_loss: 3.5596e-05 - ham_dist_rmse: 0.0162 - ham_dist_mae: 0.0077 - val_loss: 3.0356e-04 - val_ham_dist_loss: 3.2158e-04 - val_prod_vec_loss: 2.4695e-05 - val_prod_vec_1_loss: 3.4191e-05 - val_sum_vec_loss: 4.0022e-05 - val_sum_vec_1_loss: 3.4215e-05 - val_ham_dist_rmse: 0.0179 - val_ham_dist_mae: 0.0082\n",
      "Epoch 18/20\n",
      "781/781 [==============================] - 24s 31ms/step - loss: 2.4826e-04 - ham_dist_loss: 2.6277e-04 - prod_vec_loss: 2.1329e-05 - prod_vec_1_loss: 2.9708e-05 - sum_vec_loss: 3.8258e-05 - sum_vec_1_loss: 3.3039e-05 - ham_dist_rmse: 0.0162 - ham_dist_mae: 0.0078 - val_loss: 2.9722e-04 - val_ham_dist_loss: 3.1501e-04 - val_prod_vec_loss: 2.0446e-05 - val_prod_vec_1_loss: 2.8537e-05 - val_sum_vec_loss: 3.8474e-05 - val_sum_vec_1_loss: 3.4446e-05 - val_ham_dist_rmse: 0.0177 - val_ham_dist_mae: 0.0081\n",
      "Epoch 19/20\n",
      "781/781 [==============================] - 25s 32ms/step - loss: 2.4480e-04 - ham_dist_loss: 2.5922e-04 - prod_vec_loss: 1.9452e-05 - prod_vec_1_loss: 2.6336e-05 - sum_vec_loss: 3.6405e-05 - sum_vec_1_loss: 3.1812e-05 - ham_dist_rmse: 0.0161 - ham_dist_mae: 0.0077 - val_loss: 2.9676e-04 - val_ham_dist_loss: 3.1454e-04 - val_prod_vec_loss: 2.0050e-05 - val_prod_vec_1_loss: 2.7604e-05 - val_sum_vec_loss: 3.8109e-05 - val_sum_vec_1_loss: 3.4317e-05 - val_ham_dist_rmse: 0.0177 - val_ham_dist_mae: 0.0082\n",
      "Epoch 20/20\n",
      "781/781 [==============================] - 25s 32ms/step - loss: 2.4200e-04 - ham_dist_loss: 2.5619e-04 - prod_vec_loss: 1.8316e-05 - prod_vec_1_loss: 2.4661e-05 - sum_vec_loss: 3.9225e-05 - sum_vec_1_loss: 3.4047e-05 - ham_dist_rmse: 0.0160 - ham_dist_mae: 0.0076 - val_loss: 2.9617e-04 - val_ham_dist_loss: 3.1384e-04 - val_prod_vec_loss: 1.7719e-05 - val_prod_vec_1_loss: 2.3187e-05 - val_sum_vec_loss: 4.4361e-05 - val_sum_vec_1_loss: 3.8664e-05 - val_ham_dist_rmse: 0.0177 - val_ham_dist_mae: 0.0081\n"
     ]
    }
   ],
   "source": [
    "siamese_model = train_siamese_model(model, X_train, X_validation, Y_train, Y_validation, batch_size = 512, epochs = 20)"
   ]
  },
  {
   "cell_type": "markdown",
   "id": "8de2153c-d75d-41be-848b-d503f6c36239",
   "metadata": {},
   "source": [
    "# 3. Model Evaluation"
   ]
  },
  {
   "cell_type": "code",
   "execution_count": 20,
   "id": "70c8adc8-2869-4868-b036-a328d003da67",
   "metadata": {},
   "outputs": [
    {
     "data": {
      "text/plain": [
       "[<tensorflow.python.keras.engine.input_layer.InputLayer at 0x7f492da05090>,\n",
       " <tensorflow.python.keras.engine.input_layer.InputLayer at 0x7f492db13dd0>,\n",
       " <tensorflow.python.keras.engine.sequential.Sequential at 0x7f492dafb110>,\n",
       " <deep_hashing_models.HamDist at 0x7f492db6bc50>,\n",
       " <deep_hashing_models.ProdVec at 0x7f492d45bb10>,\n",
       " <deep_hashing_models.ProdVec at 0x7f492d55cc10>,\n",
       " <deep_hashing_models.SumVec at 0x7f492d57fdd0>,\n",
       " <deep_hashing_models.SumVec at 0x7f492d53c690>]"
      ]
     },
     "execution_count": 20,
     "metadata": {},
     "output_type": "execute_result"
    }
   ],
   "source": [
    "model.layers"
   ]
  },
  {
   "cell_type": "markdown",
   "id": "6e08e438-f7db-4ffd-a703-c050649eed80",
   "metadata": {},
   "source": [
    "## 3.1. Loss functions"
   ]
  },
  {
   "cell_type": "markdown",
   "id": "2ba523e6-4b29-4979-9739-3840a9d279e5",
   "metadata": {},
   "source": [
    "#### 3.1.1. MSE of $\\mathcal{L}_{DeepLSH}$"
   ]
  },
  {
   "cell_type": "code",
   "execution_count": 21,
   "id": "78fa1d12-53e0-4b18-bd6d-b49e0ac5a173",
   "metadata": {},
   "outputs": [
    {
     "data": {
      "text/plain": [
       "<matplotlib.legend.Legend at 0x7f492db31390>"
      ]
     },
     "execution_count": 21,
     "metadata": {},
     "output_type": "execute_result"
    },
    {
     "data": {
      "image/png": "[encoded data removed]",
      "text/plain": [
       "<Figure size 324x288 with 1 Axes>"
      ]
     },
     "metadata": {
      "needs_background": "light"
     },
     "output_type": "display_data"
    }
   ],
   "source": [
    "plt.rcParams[\"figure.figsize\"] = (4.5,4)\n",
    "plt.plot(siamese_model.history['loss'], linewidth = 2.5)\n",
    "plt.plot(siamese_model.history['val_loss'], linewidth = 2.5)\n",
    "plt.title('Durfex (DeepLSH)', fontsize = 18)\n",
    "plt.ylabel('Mean Squared Error', fontsize = 13)\n",
    "plt.xlabel('Epochs', fontsize = 13)\n",
    "plt.xticks(fontsize= 12)\n",
    "plt.yticks(fontsize= 12)\n",
    "plt.ticklabel_format(axis = 'y', style='', scilimits=(0,0))\n",
    "plt.savefig('Results/DeepLSH/loss-MSE.png', bbox_inches='tight')\n",
    "plt.legend(['Train', 'Validation'], loc='upper right', fontsize=15)"
   ]
  },
  {
   "cell_type": "markdown",
   "id": "05afb4e6-9037-456a-9663-060eb611c0b8",
   "metadata": {},
   "source": [
    "#### 3.1.2. RMSE of LSH preserving loss"
   ]
  },
  {
   "cell_type": "code",
   "execution_count": 22,
   "id": "9cd1cda5-36b1-41ab-8dc3-2ebfe56fd4d9",
   "metadata": {},
   "outputs": [
    {
     "data": {
      "text/plain": [
       "<matplotlib.legend.Legend at 0x7f448c173350>"
      ]
     },
     "execution_count": 22,
     "metadata": {},
     "output_type": "execute_result"
    },
    {
     "data": {
      "image/png": "[encoded data removed]",
      "text/plain": [
       "<Figure size 576x360 with 1 Axes>"
      ]
     },
     "metadata": {
      "needs_background": "light"
     },
     "output_type": "display_data"
    }
   ],
   "source": [
    "plt.rcParams[\"figure.figsize\"] = (8,5)\n",
    "plt.plot(siamese_model.history[model.layers[3].name + '_rmse'], linewidth = 2)\n",
    "plt.plot(siamese_model.history['val_' + model.layers[3].name + '_rmse'], linewidth = 2)\n",
    "plt.title('Dufrex (DeepLSH)', fontsize = 20)\n",
    "plt.ylabel('RMSE (LSH-preserving)', fontsize = 12)\n",
    "plt.xlabel('Epochs', fontsize = 12)\n",
    "plt.ticklabel_format(style='', scilimits=(0,0))\n",
    "plt.legend(['Train', 'Validation'], loc='upper right', fontsize=15)"
   ]
  },
  {
   "cell_type": "markdown",
   "id": "ac94472b-7465-4ab0-99dd-c042b4a32572",
   "metadata": {},
   "source": [
    "#### 3.1.3. MAE of LSH preserving loss"
   ]
  },
  {
   "cell_type": "code",
   "execution_count": 23,
   "id": "c4c8e448-e36f-4a8d-8d5f-a5da5c4d5019",
   "metadata": {},
   "outputs": [
    {
     "data": {
      "text/plain": [
       "<matplotlib.legend.Legend at 0x7f448c115090>"
      ]
     },
     "execution_count": 23,
     "metadata": {},
     "output_type": "execute_result"
    },
    {
     "data": {
      "image/png": "[encoded data removed]",
      "text/plain": [
       "<Figure size 576x360 with 1 Axes>"
      ]
     },
     "metadata": {
      "needs_background": "light"
     },
     "output_type": "display_data"
    }
   ],
   "source": [
    "plt.rcParams[\"figure.figsize\"] = (8,5)\n",
    "plt.plot(siamese_model.history[model.layers[3].name + '_mae'], linewidth = 2)\n",
    "plt.plot(siamese_model.history['val_' + model.layers[3].name + '_mae'], linewidth = 2)\n",
    "plt.title('Dufrex (DeepLSH)', fontsize = 20)\n",
    "plt.ylabel('MAE (LSH-preserving)', fontsize = 12)\n",
    "plt.xlabel('Epochs', fontsize = 12)\n",
    "plt.ticklabel_format(style='', scilimits=(0,0))\n",
    "plt.legend(['Train', 'Validation'], loc='upper right', fontsize=15)"
   ]
  },
  {
   "cell_type": "markdown",
   "id": "f8f7f1d0-62b0-4612-ab39-9c38fad06a4c",
   "metadata": {},
   "source": [
    "## 3.2. Model Predictions"
   ]
  },
  {
   "cell_type": "code",
   "execution_count": 24,
   "id": "1f089e9c-7bbd-40fb-90f3-3e4c7a2798d2",
   "metadata": {},
   "outputs": [],
   "source": [
    "predictions = predict(model, X_validation)"
   ]
  },
  {
   "cell_type": "markdown",
   "id": "19834dba-ff8b-45fa-aead-ac2e6d099273",
   "metadata": {},
   "source": [
    "### 3.2.1. Examples"
   ]
  },
  {
   "cell_type": "code",
   "execution_count": 25,
   "id": "eade347d-6ee3-4fa3-ba1a-c5298f94c96e",
   "metadata": {},
   "outputs": [
    {
     "data": {
      "text/plain": [
       "array([0.   , 0.   , 0.234, 0.078, 0.   , 0.   , 0.128, 0.426, 0.098,\n",
       "       0.186, 0.13 , 0.11 , 0.   , 0.047, 0.506, 0.073, 0.545, 0.156,\n",
       "       0.047, 0.   , 0.109, 0.297, 0.   , 0.079, 0.016, 0.047, 0.   ,\n",
       "       0.   , 0.   , 0.453, 0.   , 0.031, 0.   , 0.   , 0.203, 0.   ,\n",
       "       0.253, 0.094, 0.233, 0.   , 0.   , 0.   , 0.   , 0.   , 0.   ,\n",
       "       0.   , 0.328, 0.093, 0.156, 0.   ], dtype=float32)"
      ]
     },
     "execution_count": 25,
     "metadata": {},
     "output_type": "execute_result"
    }
   ],
   "source": [
    "np.around(predictions[0][:50],3) "
   ]
  },
  {
   "cell_type": "code",
   "execution_count": 26,
   "id": "8f18d2a7-c115-4a7c-9492-facb302c578b",
   "metadata": {},
   "outputs": [
    {
     "data": {
      "text/plain": [
       "array([0.   , 0.   , 0.237, 0.089, 0.   , 0.   , 0.117, 0.439, 0.109,\n",
       "       0.204, 0.137, 0.083, 0.   , 0.02 , 0.527, 0.119, 0.58 , 0.154,\n",
       "       0.066, 0.   , 0.094, 0.293, 0.   , 0.073, 0.   , 0.069, 0.   ,\n",
       "       0.   , 0.   , 0.436, 0.   , 0.   , 0.   , 0.   , 0.203, 0.   ,\n",
       "       0.232, 0.094, 0.246, 0.   , 0.   , 0.   , 0.   , 0.   , 0.   ,\n",
       "       0.   , 0.327, 0.097, 0.153, 0.   ])"
      ]
     },
     "execution_count": 26,
     "metadata": {},
     "output_type": "execute_result"
    }
   ],
   "source": [
    "np.around(Y_validation[:50],3) "
   ]
  },
  {
   "cell_type": "markdown",
   "id": "98409488-ca93-4cd3-b71c-547fa4baa6ef",
   "metadata": {},
   "source": [
    "### 3.2.2. Spearman $\\rho$ and Kendall $\\tau$ correlation"
   ]
  },
  {
   "cell_type": "code",
   "execution_count": 27,
   "id": "01573553-5d50-49eb-aa52-c480c0de67f0",
   "metadata": {},
   "outputs": [
    {
     "data": {
      "image/png": "[encoded data removed]",
      "text/plain": [
       "<Figure size 288x288 with 1 Axes>"
      ]
     },
     "metadata": {
      "needs_background": "light"
     },
     "output_type": "display_data"
    }
   ],
   "source": [
    "plt.rcParams[\"figure.figsize\"] = (4,4)\n",
    "plt.scatter(Y_validation, predictions[0], alpha = 0.5, marker = 'x', c = '#227093')\n",
    "plt.title('Dufrex (DeepLSH)', fontsize = 16)\n",
    "plt.xlabel(\"Dufrex similarity values\", fontsize = 12)\n",
    "plt.ylabel(\"Collision probability\", fontsize = 12)\n",
    "plt.savefig('Results/DeepLSH/Dufrex-correlation', bbox_inches='tight')\n",
    "plt.show()"
   ]
  },
  {
   "cell_type": "code",
   "execution_count": 28,
   "id": "f80a43e7-b4b5-4956-9b3d-6a1457a6ee92",
   "metadata": {},
   "outputs": [
    {
     "data": {
      "text/plain": [
       "0.9559687415296373"
      ]
     },
     "execution_count": 28,
     "metadata": {},
     "output_type": "execute_result"
    }
   ],
   "source": [
    "rho, p_value = spearman_rho(predictions, Y_validation)\n",
    "rho"
   ]
  },
  {
   "cell_type": "code",
   "execution_count": 29,
   "id": "7f6dc861-28aa-4f3d-b0fb-7f5caf453280",
   "metadata": {},
   "outputs": [
    {
     "data": {
      "text/plain": [
       "0.9072014848106231"
      ]
     },
     "execution_count": 29,
     "metadata": {},
     "output_type": "execute_result"
    }
   ],
   "source": [
    "tau, p_value = kendall_tau(predictions, Y_validation)\n",
    "tau"
   ]
  },
  {
   "cell_type": "markdown",
   "id": "895fc952-6e22-451a-abd2-86de43e87328",
   "metadata": {},
   "source": [
    "## 3.3. Approximate Hamming Evaluation"
   ]
  },
  {
   "cell_type": "code",
   "execution_count": 20,
   "id": "6b9edd91-5e15-4aa8-8a05-4985b8623897",
   "metadata": {},
   "outputs": [
    {
     "data": {
      "text/plain": [
       "<tensorflow.python.keras.engine.sequential.Sequential at 0x7f1f0cd5ea10>"
      ]
     },
     "execution_count": 20,
     "metadata": {},
     "output_type": "execute_result"
    }
   ],
   "source": [
    "output_layer = 2\n",
    "model.layers[output_layer]"
   ]
  },
  {
   "cell_type": "code",
   "execution_count": 21,
   "id": "acaf1823-ca3b-4d6c-9a71-a6c9acf5e1f5",
   "metadata": {},
   "outputs": [],
   "source": [
    "intermediate_model = intermediate_model_trained(shared_model, output_layer)"
   ]
  },
  {
   "cell_type": "code",
   "execution_count": 22,
   "id": "af463035-c96a-4c73-b86b-88d4008062f4",
   "metadata": {},
   "outputs": [
    {
     "name": "stdout",
     "output_type": "stream",
     "text": [
      "WARNING:tensorflow:Compiled the loaded model, but the compiled metrics have yet to be built. `model.compile_metrics` will be empty until you train or evaluate the model.\n",
      "INFO:tensorflow:Assets written to: Models/model-deep-lsh.model/assets\n"
     ]
    }
   ],
   "source": [
    "intermediate_model.save('Models/model-deep-lsh.model')"
   ]
  },
  {
   "cell_type": "code",
   "execution_count": 33,
   "id": "e1d76839-294e-46e9-9318-89ef7ee93f72",
   "metadata": {},
   "outputs": [],
   "source": [
    "#intermediate_model = keras.models.load_model('Models/model-deep-lsh.model')"
   ]
  },
  {
   "cell_type": "markdown",
   "id": "b4d1758f-ff99-49fc-b85c-4fe66560da40",
   "metadata": {},
   "source": [
    "### 3.3.1. Example of a hash vector provided by the model (in the last epoch)"
   ]
  },
  {
   "cell_type": "code",
   "execution_count": 34,
   "id": "ec686420-c52a-4925-852f-939cfe007904",
   "metadata": {
    "tags": []
   },
   "outputs": [
    {
     "data": {
      "text/plain": [
       "array([ 1.       ,  1.       , -1.       , -1.       ,  1.       ,\n",
       "        1.       ,  1.       , -1.       ,  1.       , -1.       ,\n",
       "        1.       ,  1.       , -1.       ,  1.       ,  1.       ,\n",
       "       -1.       , -1.       ,  1.       ,  1.       , -1.       ,\n",
       "        1.       ,  1.       ,  1.       , -1.       , -1.       ,\n",
       "       -1.       , -1.       ,  1.       , -1.       , -1.       ,\n",
       "       -1.       , -1.       , -0.9998746,  1.       ,  1.       ,\n",
       "       -1.       , -1.       , -1.       , -1.       , -1.       ,\n",
       "        1.       ,  1.       ,  1.       , -1.       , -1.       ,\n",
       "       -1.       , -1.       ,  1.       ,  1.       ,  1.       ,\n",
       "       -1.       ,  1.       , -1.       ,  1.       , -1.       ,\n",
       "        1.       ,  1.       ,  1.       , -1.       ,  1.       ,\n",
       "       -1.       ,  1.       ,  1.       , -1.       ], dtype=float32)"
      ]
     },
     "execution_count": 34,
     "metadata": {},
     "output_type": "execute_result"
    }
   ],
   "source": [
    "'First 64 bits'\n",
    "intermediate_model.predict(df_bag_of_frames.iloc[[10]])[0][:64]"
   ]
  },
  {
   "cell_type": "markdown",
   "id": "4ec939b1-4814-49cd-80ff-ee2bad747358",
   "metadata": {},
   "source": [
    "### 3.3.2. Average value of the absolute hash values"
   ]
  },
  {
   "cell_type": "code",
   "execution_count": 23,
   "id": "f54a9180-f4a4-4e0c-94ed-e36df291b072",
   "metadata": {},
   "outputs": [],
   "source": [
    "hash_vectors = intermediate_model.predict(df_bag_of_frames)"
   ]
  },
  {
   "cell_type": "code",
   "execution_count": 36,
   "id": "b5607102-bb85-46a9-9551-045f437edfcf",
   "metadata": {
    "tags": []
   },
   "outputs": [
    {
     "data": {
      "text/plain": [
       "array([[ 1.        ,  1.        , -1.        , ...,  1.        ,\n",
       "        -1.        ,  1.        ],\n",
       "       [ 1.        ,  1.        , -1.        , ...,  1.        ,\n",
       "        -1.        ,  1.        ],\n",
       "       [ 1.        ,  1.        , -1.        , ...,  1.        ,\n",
       "         1.        ,  1.        ],\n",
       "       ...,\n",
       "       [-1.        , -1.        ,  1.        , ..., -1.        ,\n",
       "         1.        , -1.        ],\n",
       "       [ 1.        ,  0.99999726, -1.        , ..., -1.        ,\n",
       "         1.        ,  1.        ],\n",
       "       [-1.        , -1.        ,  1.        , ..., -1.        ,\n",
       "         1.        , -1.        ]], dtype=float32)"
      ]
     },
     "execution_count": 36,
     "metadata": {},
     "output_type": "execute_result"
    }
   ],
   "source": [
    "hash_vectors"
   ]
  },
  {
   "cell_type": "code",
   "execution_count": 37,
   "id": "0fd308c0-f913-4d55-b45b-01f976a62e0b",
   "metadata": {},
   "outputs": [
    {
     "data": {
      "text/plain": [
       "0.9972201"
      ]
     },
     "execution_count": 37,
     "metadata": {},
     "output_type": "execute_result"
    }
   ],
   "source": [
    "np.mean(np.abs(hash_vectors))"
   ]
  },
  {
   "cell_type": "markdown",
   "id": "2ca2d6a3-75da-472a-99bb-b25ece9df8a7",
   "metadata": {},
   "source": [
    "### 3.3.3. Ratio of binary values from hash vectors provided by the model"
   ]
  },
  {
   "cell_type": "code",
   "execution_count": 38,
   "id": "5bb9bdd7-c931-4db2-8a89-b20c7fb92d9e",
   "metadata": {},
   "outputs": [
    {
     "data": {
      "text/plain": [
       "0.866546875"
      ]
     },
     "execution_count": 38,
     "metadata": {},
     "output_type": "execute_result"
    }
   ],
   "source": [
    "hash_vectors[(hash_vectors == 1) | (hash_vectors == -1)].size / hash_vectors.size"
   ]
  },
  {
   "cell_type": "markdown",
   "id": "5a606dc1-dd06-4376-9f33-1254286c701d",
   "metadata": {},
   "source": [
    "### 3.3.4. Comparison between approximate hamming and real hamming"
   ]
  },
  {
   "cell_type": "code",
   "execution_count": 39,
   "id": "03dd89e8-82d7-47c2-8c33-a0652d3ec536",
   "metadata": {},
   "outputs": [],
   "source": [
    "df_hamming = compare_hamming(X_validation, intermediate_model, b, size_hash_vector)"
   ]
  },
  {
   "cell_type": "code",
   "execution_count": 40,
   "id": "3fdc0913-64e8-4b05-a1fd-75f20c1a418a",
   "metadata": {},
   "outputs": [
    {
     "data": {
      "image/png": "[encoded data removed]",
      "text/plain": [
       "<Figure size 288x288 with 1 Axes>"
      ]
     },
     "metadata": {
      "needs_background": "light"
     },
     "output_type": "display_data"
    }
   ],
   "source": [
    "plt.rcParams[\"figure.figsize\"] = (4,4)\n",
    "plt.scatter(predictions[0], df_hamming['hamming'], alpha = 0.5, marker = 'x', c = '#b33939')\n",
    "plt.xlabel(\"Approximate Hamming Similariy\", fontsize = 12)\n",
    "plt.ylabel(\"Hamming Similarity\", fontsize = 12)\n",
    "plt.title('Dufrex (DeepLSH)', fontsize = 16)\n",
    "plt.savefig('Results/DeepLSH/Dufrex-hamming-comparison', bbox_inches='tight')\n",
    "plt.show()"
   ]
  },
  {
   "cell_type": "markdown",
   "id": "b030832c-7872-45da-8698-a0bbf16fe3cb",
   "metadata": {},
   "source": [
    "# 4. Locality Sensitive Hashing"
   ]
  },
  {
   "cell_type": "code",
   "execution_count": 24,
   "id": "2aacdd9c-73d0-4257-af38-1768e9f4aa05",
   "metadata": {},
   "outputs": [],
   "source": [
    "hash_vectors_hamming = convert_to_hamming(hash_vectors)"
   ]
  },
  {
   "cell_type": "code",
   "execution_count": 25,
   "id": "f3bb826f-5e0d-4d6e-8356-d1f3315d6ebd",
   "metadata": {},
   "outputs": [
    {
     "data": {
      "text/plain": [
       "[(1, 64), (2, 32), (4, 16), (8, 8), (16, 4), (32, 2), (64, 1)]"
      ]
     },
     "execution_count": 25,
     "metadata": {},
     "output_type": "execute_result"
    }
   ],
   "source": [
    "params = lsh_hyperparams(m)\n",
    "'(K,L)'\n",
    "params "
   ]
  },
  {
   "cell_type": "markdown",
   "id": "cabab99d-9820-4b91-a6ed-6f2b3b38b0b9",
   "metadata": {},
   "source": [
    "## 4.1. Choose the best combination (L, K)"
   ]
  },
  {
   "cell_type": "code",
   "execution_count": 43,
   "id": "1aeac3ba-cb08-4e8a-913b-1dbd0529c782",
   "metadata": {},
   "outputs": [
    {
     "data": {
      "text/plain": [
       "<matplotlib.legend.Legend at 0x7f410c06e850>"
      ]
     },
     "execution_count": 43,
     "metadata": {},
     "output_type": "execute_result"
    },
    {
     "data": {
      "image/png": "[encoded data removed]",
      "text/plain": [
       "<Figure size 648x360 with 1 Axes>"
      ]
     },
     "metadata": {
      "needs_background": "light"
     },
     "output_type": "display_data"
    }
   ],
   "source": [
    "plt.rcParams[\"figure.figsize\"] = [9, 5]\n",
    "x = np.linspace(0, 1, 100)\n",
    "for param in params:\n",
    "    y = 1 - (1 - (x)**param[1])**param[0]\n",
    "    plt.plot(x, y, label = 'L = %d, r = %d' %param)\n",
    "plt.xlabel(\"similarity values\", fontsize = 12)\n",
    "plt.ylabel(\"hash probability in at least 1 bucket\", fontsize = 12)\n",
    "plt.title('Probability-similarity relation', fontsize = 18)\n",
    "plt.legend()"
   ]
  },
  {
   "cell_type": "code",
   "execution_count": 44,
   "id": "b931100a-06bb-4748-80a8-e09f31905b2a",
   "metadata": {},
   "outputs": [],
   "source": [
    "df_probLSH = mean_prob_hashing_smallest_elt(n_stacks, params, hash_vectors_hamming, b, df_measures, 'Dufrex', trace = False)"
   ]
  },
  {
   "cell_type": "code",
   "execution_count": 45,
   "id": "98685548-ab7a-4bb4-a39c-61f448d1c42b",
   "metadata": {},
   "outputs": [
    {
     "data": {
      "image/png": "[encoded data removed]",
      "text/plain": [
       "<Figure size 432x288 with 1 Axes>"
      ]
     },
     "metadata": {
      "needs_background": "light"
     },
     "output_type": "display_data"
    }
   ],
   "source": [
    "f, ax = plt.subplots(figsize=(6, 4))\n",
    "ax = sns.boxplot(data = df_probLSH, palette=\"Set3\")\n",
    "plt.xlabel(\"Hyperparameters of LSH (L,K)\", fontsize = 12)\n",
    "plt.ylabel(\"Prob hashing smallest elt in buckets\", fontsize = 12)\n",
    "plt.title('Dufrex (DeepLSH) [Relation Prob-Sim]', fontsize = 16)\n",
    "plt.savefig('Results/DeepLSH/Dufrex-Relation-Prob-Sim', bbox_inches='tight')\n",
    "plt.show()"
   ]
  },
  {
   "cell_type": "code",
   "execution_count": 46,
   "id": "0e85f833-8a8c-4fe7-803d-52c4a8d78194",
   "metadata": {},
   "outputs": [
    {
     "data": {
      "text/plain": [
       "(4, 16)"
      ]
     },
     "execution_count": 46,
     "metadata": {},
     "output_type": "execute_result"
    }
   ],
   "source": [
    "'L = K = 8'\n",
    "L, K = params[2]\n",
    "L, K"
   ]
  },
  {
   "cell_type": "markdown",
   "id": "dc0d84af-ec41-43dc-b1cd-73e92cd96894",
   "metadata": {},
   "source": [
    "### 4.1.1. Mean and Median probability for all stack traces for a the best combination of $K$ and $L$"
   ]
  },
  {
   "cell_type": "code",
   "execution_count": 47,
   "id": "3a414e49-3f64-4aa0-b2aa-c7d12490eb15",
   "metadata": {},
   "outputs": [
    {
     "data": {
      "text/plain": [
       "0.5625069783856474"
      ]
     },
     "execution_count": 47,
     "metadata": {},
     "output_type": "execute_result"
    }
   ],
   "source": [
    "df_probLSH.mean()['(4, 16)']"
   ]
  },
  {
   "cell_type": "code",
   "execution_count": 48,
   "id": "4381a53d-2b3b-438b-afb7-b91389db8a45",
   "metadata": {},
   "outputs": [
    {
     "data": {
      "text/plain": [
       "0.5937221443732834"
      ]
     },
     "execution_count": 48,
     "metadata": {},
     "output_type": "execute_result"
    }
   ],
   "source": [
    "df_probLSH.median()['(4, 16)']"
   ]
  },
  {
   "cell_type": "markdown",
   "id": "6ebdb37a-a88b-46f1-8a22-1c0f872f6cd6",
   "metadata": {},
   "source": [
    "## 4.2. Build hash tables with binary hash vectors w.r.t $K$ and $L$"
   ]
  },
  {
   "cell_type": "code",
   "execution_count": 49,
   "id": "fb84b5ab-519b-4dd1-bb5e-5ced695bf3a4",
   "metadata": {},
   "outputs": [],
   "source": [
    "hash_tables = create_hash_tables(L, K, b, hash_vectors_hamming)"
   ]
  },
  {
   "cell_type": "code",
   "execution_count": 50,
   "id": "990e3198-6b1b-44a3-bac0-a5f66a91e4eb",
   "metadata": {},
   "outputs": [],
   "source": [
    "with open('Hash-Tables/hash_tables_deeplsh.pkl', 'wb') as f:\n",
    "    pickle.dump(hash_tables, f)"
   ]
  },
  {
   "cell_type": "markdown",
   "id": "70f264b8-e59e-4995-b416-f8966cfc4d8f",
   "metadata": {},
   "source": [
    "## 4.3. Search for approximate nearest neighbors (this procedure need to be explained in the paper) "
   ]
  },
  {
   "cell_type": "code",
   "execution_count": 51,
   "id": "46bdb33d-c680-4242-919e-cd2dfd73e353",
   "metadata": {},
   "outputs": [
    {
     "data": {
      "text/plain": [
       "135"
      ]
     },
     "execution_count": 51,
     "metadata": {},
     "output_type": "execute_result"
    }
   ],
   "source": [
    "'pointer to the stack trace'\n",
    "index = random.randint(0,n_stacks)\n",
    "index"
   ]
  },
  {
   "cell_type": "code",
   "execution_count": 52,
   "id": "ce6258ad-9458-4e9b-867a-d3b4fc675966",
   "metadata": {},
   "outputs": [
    {
     "data": {
      "text/plain": [
       "{135, 299, 316, 338, 340, 415, 588, 907, 985}"
      ]
     },
     "execution_count": 52,
     "metadata": {},
     "output_type": "execute_result"
    }
   ],
   "source": [
    "set_near_duplicates = near_duplicates(L, K, b, index, hash_vectors_hamming, hash_tables)\n",
    "set_near_duplicates"
   ]
  },
  {
   "cell_type": "code",
   "execution_count": 53,
   "id": "d3c836e7-fc34-47cd-9889-f76db2bc71a2",
   "metadata": {},
   "outputs": [],
   "source": [
    "list_near_duplicate_pairs = near_duplicate_pairs(index, set_near_duplicates, n_stacks)\n",
    "n_duplicate_pairs = len(list_near_duplicate_pairs)"
   ]
  },
  {
   "cell_type": "code",
   "execution_count": 54,
   "id": "561cd65b-4aa5-4f8c-b4a2-423baa352721",
   "metadata": {},
   "outputs": [
    {
     "data": {
      "text/plain": [
       "125983    1.0\n",
       "126272    1.0\n",
       "126591    1.0\n",
       "126022    1.0\n",
       "126024    1.0\n",
       "126669    1.0\n",
       "126000    1.0\n",
       "126099    1.0\n",
       "Name: Dufrex, dtype: float64"
      ]
     },
     "execution_count": 54,
     "metadata": {},
     "output_type": "execute_result"
    }
   ],
   "source": [
    "near_duplicates_sim = df_measures['Dufrex'][list_near_duplicate_pairs].sort_values(ascending = False)\n",
    "near_duplicates_sim"
   ]
  },
  {
   "cell_type": "code",
   "execution_count": 55,
   "id": "6510bce7-6663-4db3-8455-0b846720c6f1",
   "metadata": {
    "tags": []
   },
   "outputs": [
    {
     "data": {
      "text/plain": [
       "{299, 316, 338, 340, 415, 588, 907, 985}"
      ]
     },
     "execution_count": 55,
     "metadata": {},
     "output_type": "execute_result"
    }
   ],
   "source": [
    "set_real_nns, real_nns_sim = real_nns(index, df_measures, 'Dufrex', n_stacks, n_duplicate_pairs)\n",
    "set_real_nns"
   ]
  },
  {
   "cell_type": "code",
   "execution_count": 56,
   "id": "0c2d9881-6df4-463f-9dd1-7d02a9fd1347",
   "metadata": {},
   "outputs": [
    {
     "data": {
      "text/plain": [
       "126000    1.0\n",
       "126669    1.0\n",
       "126272    1.0\n",
       "126591    1.0\n",
       "125983    1.0\n",
       "126099    1.0\n",
       "126022    1.0\n",
       "126024    1.0\n",
       "dtype: float64"
      ]
     },
     "execution_count": 56,
     "metadata": {},
     "output_type": "execute_result"
    }
   ],
   "source": [
    "real_nns_sim[:n_duplicate_pairs]"
   ]
  },
  {
   "cell_type": "markdown",
   "id": "47aa72d7-020e-4a46-9f1c-f95ea57c3a2b",
   "metadata": {},
   "source": [
    "## 4.4. Metrics"
   ]
  },
  {
   "cell_type": "markdown",
   "id": "108a4d18-597e-4a51-9f51-940a80fd0be8",
   "metadata": {},
   "source": [
    "### 4.4.1. Ratio of finding the $k$ real nearest neighbor with the Least $L$ (Recal rate at $k$ first positions)"
   ]
  },
  {
   "cell_type": "code",
   "execution_count": 57,
   "id": "55ad1f38-83e2-4e55-8483-c7971ede8ec2",
   "metadata": {},
   "outputs": [
    {
     "data": {
      "text/plain": [
       "0.834"
      ]
     },
     "execution_count": 57,
     "metadata": {},
     "output_type": "execute_result"
    }
   ],
   "source": [
    "'All params'\n",
    "k_first_positions = 1\n",
    "recal_rate(n_stacks, params, hash_vectors_hamming, b, df_measures, k_first_positions, 'Dufrex')"
   ]
  },
  {
   "cell_type": "code",
   "execution_count": null,
   "id": "7424b84d-1066-4e2c-a6ec-4c67d448440c",
   "metadata": {},
   "outputs": [],
   "source": [
    "'Best param'\n",
    "k_first_positions = 1\n",
    "recal_rate_one_param(n_stacks, params[3], hash_vectors_hamming, b, df_measures, k_first_positions, 'Dufrex')"
   ]
  },
  {
   "cell_type": "markdown",
   "id": "b20f2315-986c-4bc2-89dc-9dd1757a8c78",
   "metadata": {},
   "source": [
    "-----------------------------------------------------------------"
   ]
  },
  {
   "cell_type": "code",
   "execution_count": 58,
   "id": "aa6e30e1-37f9-45cc-8356-2df3ce14f4c1",
   "metadata": {},
   "outputs": [
    {
     "data": {
      "text/plain": [
       "0.8876666666666656"
      ]
     },
     "execution_count": 58,
     "metadata": {},
     "output_type": "execute_result"
    }
   ],
   "source": [
    "'All params'\n",
    "k_first_positions = 3\n",
    "recal_rate(n_stacks, params, hash_vectors_hamming, b, df_measures, k_first_positions, 'Dufrex')"
   ]
  },
  {
   "cell_type": "code",
   "execution_count": null,
   "id": "d85c52a9-2948-44cd-94d8-62c40b7b8b8c",
   "metadata": {},
   "outputs": [],
   "source": [
    "'Best param'\n",
    "k_first_positions = 3\n",
    "recal_rate_one_param(n_stacks, params[3], hash_vectors_hamming, b, df_measures, k_first_positions, 'Dufrex')"
   ]
  },
  {
   "cell_type": "markdown",
   "id": "de7a74bc-5737-406e-b30e-d09834d1d6c5",
   "metadata": {},
   "source": [
    "-----------------------------------------------------------------"
   ]
  },
  {
   "cell_type": "code",
   "execution_count": 59,
   "id": "f3c6cd88-f248-41f1-8eac-74f36dcbd2cc",
   "metadata": {},
   "outputs": [
    {
     "data": {
      "text/plain": [
       "0.9117999999999991"
      ]
     },
     "execution_count": 59,
     "metadata": {},
     "output_type": "execute_result"
    }
   ],
   "source": [
    "'All params'\n",
    "k_first_positions = 5\n",
    "recal_rate(n_stacks, params, hash_vectors_hamming, b, df_measures, k_first_positions, 'Dufrex')"
   ]
  },
  {
   "cell_type": "code",
   "execution_count": null,
   "id": "cd421b6d-9527-41f4-80c4-bd20572a75b9",
   "metadata": {},
   "outputs": [],
   "source": [
    "'Best param'\n",
    "k_first_positions = 5\n",
    "recal_rate_one_param(n_stacks, params[3], hash_vectors_hamming, b, df_measures, k_first_positions, 'Dufrex')"
   ]
  },
  {
   "cell_type": "markdown",
   "id": "78b9f9fc-d7c0-46a0-afc0-9d6295866fbf",
   "metadata": {},
   "source": [
    "### 4.4.2. Generalized MRR"
   ]
  },
  {
   "cell_type": "markdown",
   "id": "81af2e1e-b878-4f18-95b7-4b4d35b5cb3f",
   "metadata": {},
   "source": [
    "$ \\frac{1}{|\\mathcal{R}_i|} \\sum_{s' \\in \\mathcal{R}_i} \\frac{\\text{rank}(s',\\mathcal{R}_i)}{\\text{rank}(s',NNs(s_i))}$"
   ]
  },
  {
   "cell_type": "code",
   "execution_count": 75,
   "id": "8d572df0-2963-4794-b603-a642a1c3422f",
   "metadata": {
    "tags": []
   },
   "outputs": [
    {
     "data": {
      "text/plain": [
       "1.0"
      ]
     },
     "execution_count": 75,
     "metadata": {},
     "output_type": "execute_result"
    }
   ],
   "source": [
    "generalized_mrr(near_duplicates_sim, real_nns_sim)"
   ]
  },
  {
   "cell_type": "code",
   "execution_count": 76,
   "id": "20822989-304f-4ebf-b661-355b72deb819",
   "metadata": {
    "tags": []
   },
   "outputs": [
    {
     "name": "stdout",
     "output_type": "stream",
     "text": [
      "(1, 64)\n",
      "0\n",
      "100\n",
      "200\n",
      "300\n",
      "400\n",
      "500\n",
      "600\n",
      "700\n",
      "800\n",
      "900\n",
      "-----------------------------\n",
      "(2, 32)\n",
      "0\n",
      "100\n",
      "200\n",
      "300\n",
      "400\n",
      "500\n",
      "600\n",
      "700\n",
      "800\n",
      "900\n",
      "-----------------------------\n",
      "(4, 16)\n",
      "0\n",
      "100\n",
      "200\n",
      "300\n",
      "400\n",
      "500\n",
      "600\n",
      "700\n",
      "800\n",
      "900\n",
      "-----------------------------\n",
      "(8, 8)\n",
      "0\n",
      "100\n",
      "200\n",
      "300\n",
      "400\n",
      "500\n",
      "600\n",
      "700\n",
      "800\n",
      "900\n",
      "-----------------------------\n",
      "(16, 4)\n",
      "0\n",
      "100\n",
      "200\n",
      "300\n",
      "400\n",
      "500\n",
      "600\n",
      "700\n",
      "800\n",
      "900\n",
      "-----------------------------\n",
      "(32, 2)\n",
      "0\n",
      "100\n",
      "200\n",
      "300\n",
      "400\n",
      "500\n",
      "600\n",
      "700\n",
      "800\n",
      "900\n",
      "-----------------------------\n",
      "(64, 1)\n",
      "0\n",
      "100\n",
      "200\n",
      "300\n",
      "400\n",
      "500\n",
      "600\n",
      "700\n",
      "800\n",
      "900\n",
      "-----------------------------\n"
     ]
    },
    {
     "data": {
      "text/plain": [
       "(1, 64)    0.915417\n",
       "(2, 32)    0.950745\n",
       "(4, 16)    0.949281\n",
       "(8, 8)     0.912522\n",
       "(16, 4)    0.880092\n",
       "(32, 2)    0.964076\n",
       "(64, 1)    0.993785\n",
       "dtype: float64"
      ]
     },
     "execution_count": 76,
     "metadata": {},
     "output_type": "execute_result"
    }
   ],
   "source": [
    "df_knns = mean_generalized_mrr(n_stacks, params, hash_vectors_hamming, b, df_measures ,'Dufrex', trace = True)\n",
    "df_knns.mean(skipna = True, axis = 0)"
   ]
  },
  {
   "cell_type": "markdown",
   "id": "6333dd55-b0cb-4f31-a023-cdd4e76c62fb",
   "metadata": {},
   "source": [
    "### 4.4.3. Recall w.r.t. LSH"
   ]
  },
  {
   "cell_type": "code",
   "execution_count": 29,
   "id": "6d535789-1455-4457-a10b-742ab3bc2b58",
   "metadata": {},
   "outputs": [
    {
     "data": {
      "text/plain": [
       "(1, 64)    0.765363\n",
       "(2, 32)    0.609436\n",
       "(4, 16)    0.675885\n",
       "(8, 8)     0.812049\n",
       "(16, 4)    0.785546\n",
       "(32, 2)    0.829687\n",
       "(64, 1)    0.969468\n",
       "dtype: float64"
      ]
     },
     "execution_count": 29,
     "metadata": {},
     "output_type": "execute_result"
    }
   ],
   "source": [
    "df_recall = recall_all(n_stacks, params, hash_vectors_hamming, b, df_measures ,'Dufrex', trace = False)\n",
    "df_recall.mean(skipna = True)"
   ]
  },
  {
   "cell_type": "code",
   "execution_count": 30,
   "id": "dadf6ac9-6f51-446e-8932-901cf06aab97",
   "metadata": {},
   "outputs": [
    {
     "data": {
      "image/png": "[encoded data removed]",
      "text/plain": [
       "<Figure size 324x288 with 1 Axes>"
      ]
     },
     "metadata": {
      "needs_background": "light"
     },
     "output_type": "display_data"
    }
   ],
   "source": [
    "f, ax = plt.subplots(figsize=(4.5, 4))\n",
    "ax = sns.boxplot(data = df_recall, palette=\"Set3\")\n",
    "plt.xlabel(\"Hyperparameters of LSH (L,K)\", fontsize = 13)\n",
    "plt.ylabel(\"Recall w.r.t. LSH guarantees\", fontsize = 13)\n",
    "plt.title('Dufrex (DeepLSH)', fontsize = 16)\n",
    "plt.savefig('Results/DeepLSH/Recall-LSH', bbox_inches='tight')\n",
    "plt.show()"
   ]
  },
  {
   "cell_type": "markdown",
   "id": "abf55b52-96f8-430a-a54f-ed3c78360d2f",
   "metadata": {},
   "source": [
    "### 4.4.4. Precison w.r.t. LSH"
   ]
  },
  {
   "cell_type": "code",
   "execution_count": 26,
   "id": "27f310f6-e9fe-4ded-8e7c-0951aa6aba84",
   "metadata": {},
   "outputs": [
    {
     "data": {
      "text/plain": [
       "(1, 64)    0.553488\n",
       "(2, 32)    0.479694\n",
       "(4, 16)    0.824906\n",
       "(8, 8)     0.768380\n",
       "(16, 4)    0.789174\n",
       "(32, 2)    0.929532\n",
       "(64, 1)    0.943945\n",
       "dtype: float64"
      ]
     },
     "execution_count": 26,
     "metadata": {},
     "output_type": "execute_result"
    }
   ],
   "source": [
    "df_precision = precision_all(n_stacks, params, hash_vectors_hamming, b, df_measures ,'Dufrex', trace = False)\n",
    "df_precision.mean(skipna = True, axis = 0)"
   ]
  },
  {
   "cell_type": "code",
   "execution_count": 27,
   "id": "e6eaba70-2f1e-421f-9510-3b59f8b2f96d",
   "metadata": {},
   "outputs": [
    {
     "data": {
      "image/png": "[encoded data removed]",
      "text/plain": [
       "<Figure size 324x288 with 1 Axes>"
      ]
     },
     "metadata": {
      "needs_background": "light"
     },
     "output_type": "display_data"
    }
   ],
   "source": [
    "f, ax = plt.subplots(figsize=(4.5, 4))\n",
    "ax = sns.boxplot(data = df_precision, palette=\"Set3\")\n",
    "plt.xlabel(\"Hyperparameters of LSH (L,K)\", fontsize = 13)\n",
    "plt.ylabel(\"Precision w.r.t. LSH guarantees\", fontsize = 13)\n",
    "plt.title('Dufrex (DeepLSH)', fontsize = 16)\n",
    "plt.savefig('Results/DeepLSH/precision-LSH', bbox_inches='tight')\n",
    "plt.show()"
   ]
  },
  {
   "cell_type": "markdown",
   "id": "496d44e7-875c-44c2-93a3-7a53a565d60a",
   "metadata": {},
   "source": [
    "### 4.4.5. Fscore w.r.t. LSH"
   ]
  },
  {
   "cell_type": "code",
   "execution_count": 31,
   "id": "31050141-b483-4ecb-a1e4-32e8fead8592",
   "metadata": {},
   "outputs": [
    {
     "data": {
      "text/plain": [
       "(1, 64)    0.483746\n",
       "(2, 32)    0.382249\n",
       "(4, 16)    0.618124\n",
       "(8, 8)     0.720954\n",
       "(16, 4)    0.744012\n",
       "(32, 2)    0.853869\n",
       "(64, 1)    0.950861\n",
       "dtype: float64"
      ]
     },
     "execution_count": 31,
     "metadata": {},
     "output_type": "execute_result"
    }
   ],
   "source": [
    "df_score_all = fscore_all(df_precision, df_recall)\n",
    "df_score_all.mean(skipna = True)"
   ]
  },
  {
   "cell_type": "code",
   "execution_count": 32,
   "id": "663a8423-9e3d-454f-9ef3-6ac675b0c79c",
   "metadata": {},
   "outputs": [
    {
     "data": {
      "image/png": "[encoded data removed]",
      "text/plain": [
       "<Figure size 324x288 with 1 Axes>"
      ]
     },
     "metadata": {
      "needs_background": "light"
     },
     "output_type": "display_data"
    }
   ],
   "source": [
    "f, ax = plt.subplots(figsize=(4.5, 4))\n",
    "ax = sns.boxplot(data = df_score_all, palette=\"Set3\")\n",
    "plt.xlabel(\"Hyperparameters of LSH (L,K)\", fontsize = 13)\n",
    "plt.ylabel(\"F1-score w.r.t. LSH guarantees\", fontsize = 13)\n",
    "plt.title('Dufrex (DeepLSH)', fontsize = 16)\n",
    "plt.savefig('Results/DeepLSH/fscore-LSH', bbox_inches='tight')\n",
    "plt.show()"
   ]
  }
 ],
 "metadata": {
  "kernelspec": {
   "display_name": "split-sd4x",
   "language": "python",
   "name": "split-sd4x"
  },
  "language_info": {
   "codemirror_mode": {
    "name": "ipython",
    "version": 3
   },
   "file_extension": ".py",
   "mimetype": "text/x-python",
   "name": "python",
   "nbconvert_exporter": "python",
   "pygments_lexer": "ipython3",
   "version": "3.7.10"
  }
 },
 "nbformat": 4,
 "nbformat_minor": 5
}
