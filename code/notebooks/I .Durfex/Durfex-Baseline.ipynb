{
 "cells": [
  {
   "cell_type": "code",
   "execution_count": 1,
   "id": "bb7e69c2-b065-46fa-b6eb-7ea56ae43f35",
   "metadata": {},
   "outputs": [],
   "source": [
    "import os\n",
    "import sys\n",
    "import numpy as np\n",
    "import pandas as pd\n",
    "import random\n",
    "import matplotlib.pyplot as plt\n",
    "import seaborn as sns\n",
    "import warnings\n",
    "import pickle\n",
    "warnings.filterwarnings(\"ignore\")\n",
    "from sklearn.feature_extraction.text import CountVectorizer\n",
    "from sklearn.model_selection import train_test_split"
   ]
  },
  {
   "cell_type": "code",
   "execution_count": 2,
   "id": "1014d33e-c803-41ce-be12-ab1c3f929253",
   "metadata": {},
   "outputs": [],
   "source": [
    "sys.path.append(os.path.join(os.path.dirname(os.path.dirname(os.getcwd())),'python-packages/'))\n",
    "from deep_hashing_models import *\n",
    "from similarities import *\n",
    "from lsh_search import *"
   ]
  },
  {
   "cell_type": "markdown",
   "id": "627c738c-cd1f-4e1b-ae93-1aa3d25882aa",
   "metadata": {},
   "source": [
    "# 1. Data Preparation"
   ]
  },
  {
   "cell_type": "code",
   "execution_count": 3,
   "id": "e96659a4-eea0-48d9-8977-fecba559b78d",
   "metadata": {},
   "outputs": [],
   "source": [
    "data_repo = os.path.join(os.path.dirname(os.path.dirname(os.path.dirname(os.getcwd()))),'data/')"
   ]
  },
  {
   "cell_type": "code",
   "execution_count": 4,
   "id": "d2874701-b390-405b-9001-822faf31ade5",
   "metadata": {},
   "outputs": [],
   "source": [
    "df_distinct_stacks = pd.read_csv(data_repo + 'frequent_stack_traces.csv', index_col = [0])\n",
    "df_measures = pd.read_csv(data_repo + 'similarity-measures-pairs.csv', index_col = [0])"
   ]
  },
  {
   "cell_type": "code",
   "execution_count": 5,
   "id": "7b4772e1-6603-4344-a277-70d9728c61ea",
   "metadata": {},
   "outputs": [
    {
     "data": {
      "text/plain": [
       "1000"
      ]
     },
     "execution_count": 5,
     "metadata": {},
     "output_type": "execute_result"
    }
   ],
   "source": [
    "n_stacks = df_distinct_stacks.shape[0]\n",
    "n_stacks"
   ]
  },
  {
   "cell_type": "code",
   "execution_count": 6,
   "id": "e515f018-4609-4487-8d87-d707ca6347da",
   "metadata": {},
   "outputs": [],
   "source": [
    "vectorizer_bag_of_frames = CountVectorizer(token_pattern = r\"(?u)\\b[a-zA-Z0-9_.]{2,}\\b\")\n",
    "s = df_distinct_stacks['stackTraceCusto'].apply(lambda x : x.replace('\\n',' '))\n",
    "s = s.apply(lambda x : x.replace('$',''))\n",
    "s = s.apply(lambda x : x.replace('/',''))\n",
    "s = s.apply(lambda x : x.replace('<',''))\n",
    "s = s.apply(lambda x : x.replace('>',''))\n",
    "X_bag_of_frames = vectorizer_bag_of_frames.fit_transform(list(s)).toarray()\n",
    "df_bag_of_frames = pd.DataFrame(data = X_bag_of_frames, columns = vectorizer_bag_of_frames.get_feature_names())"
   ]
  },
  {
   "cell_type": "code",
   "execution_count": 7,
   "id": "50aa90c2-205c-4f47-8230-4da0ea7d618f",
   "metadata": {},
   "outputs": [],
   "source": [
    "X_train, X_validation, Y_train, Y_validation = train_test_split(df_measures.index, df_measures['Dufrex'], test_size = 0.2) "
   ]
  },
  {
   "cell_type": "code",
   "execution_count": 8,
   "id": "9b5ac005-aa8f-47fe-a5cf-ece206be1621",
   "metadata": {},
   "outputs": [],
   "source": [
    "indexes_train_1 = X_train.to_series().apply(lambda x : get_two_indexes(x, df_distinct_stacks.shape[0])[0]).to_list()\n",
    "indexes_train_2 = X_train.to_series().apply(lambda x : get_two_indexes(x, df_distinct_stacks.shape[0])[1]).to_list()\n",
    "indexes_validation_1 = X_validation.to_series().apply(lambda x : get_two_indexes(x, df_distinct_stacks.shape[0])[0]).to_list()\n",
    "indexes_validation_2 = X_validation.to_series().apply(lambda x : get_two_indexes(x, df_distinct_stacks.shape[0])[1]).to_list()"
   ]
  },
  {
   "cell_type": "code",
   "execution_count": 9,
   "id": "ed7fad07-aacc-453c-beba-7b0123b67c82",
   "metadata": {},
   "outputs": [],
   "source": [
    "X_train = dict()\n",
    "X_train['stack_1'] = df_bag_of_frames.loc[indexes_train_1].values\n",
    "X_train['stack_2'] = df_bag_of_frames.loc[indexes_train_2].values\n",
    "\n",
    "X_validation = dict()\n",
    "X_validation['stack_1'] = df_bag_of_frames.loc[indexes_validation_1].values\n",
    "X_validation['stack_2'] = df_bag_of_frames.loc[indexes_validation_2].values"
   ]
  },
  {
   "cell_type": "code",
   "execution_count": 10,
   "id": "7a79ade3-db36-4098-9c5a-109ec33a37eb",
   "metadata": {},
   "outputs": [],
   "source": [
    "Y_train = Y_train.values\n",
    "Y_validation = Y_validation.values"
   ]
  },
  {
   "cell_type": "code",
   "execution_count": 11,
   "id": "5f8cc839-bd54-4630-8f35-2a89bb19c00d",
   "metadata": {},
   "outputs": [],
   "source": [
    "assert X_train['stack_1'].shape == X_train['stack_2'].shape\n",
    "assert len(X_train['stack_1']) == len(Y_train)"
   ]
  },
  {
   "cell_type": "markdown",
   "id": "753999cd-6682-4263-b38e-1865140e6708",
   "metadata": {},
   "source": [
    "### Distribution of training data"
   ]
  },
  {
   "cell_type": "code",
   "execution_count": 12,
   "id": "3db6e7b6-ff7f-4089-be9b-af02e34646ed",
   "metadata": {},
   "outputs": [
    {
     "data": {
      "image/png": "[encoded data removed]",
      "text/plain": [
       "<Figure size 720x360 with 1 Axes>"
      ]
     },
     "metadata": {
      "needs_background": "light"
     },
     "output_type": "display_data"
    }
   ],
   "source": [
    "plt.rcParams[\"figure.figsize\"] = [10, 5]\n",
    "plt.hist(Y_train, 20, alpha = 1, density = False)\n",
    "plt.show()"
   ]
  },
  {
   "cell_type": "markdown",
   "id": "3a910820-e364-426d-9cbd-411794637bc8",
   "metadata": {},
   "source": [
    "### Distribution of test data"
   ]
  },
  {
   "cell_type": "code",
   "execution_count": 13,
   "id": "c242807e-a11b-43e2-82a0-aed22cbdefbc",
   "metadata": {},
   "outputs": [
    {
     "data": {
      "image/png": "[encoded data removed]",
      "text/plain": [
       "<Figure size 720x360 with 1 Axes>"
      ]
     },
     "metadata": {
      "needs_background": "light"
     },
     "output_type": "display_data"
    }
   ],
   "source": [
    "plt.rcParams[\"figure.figsize\"] = [10, 5]\n",
    "plt.hist(Y_validation, 20, alpha = 1, density = False)\n",
    "plt.show()"
   ]
  },
  {
   "cell_type": "markdown",
   "id": "19aa15e5-aee6-46ea-9c52-d1fa077b05dc",
   "metadata": {},
   "source": [
    "# 2. Model Design"
   ]
  },
  {
   "cell_type": "code",
   "execution_count": 14,
   "id": "02a2362d-059a-44b7-94f7-24e03680eef0",
   "metadata": {},
   "outputs": [],
   "source": [
    "'Number of hash tables functions' \n",
    "m = 64"
   ]
  },
  {
   "cell_type": "code",
   "execution_count": 15,
   "id": "6ea1ca10-c9ff-4735-ae80-e03691eb16ba",
   "metadata": {},
   "outputs": [],
   "source": [
    "'Number of bits per hash function' \n",
    "b = 16"
   ]
  },
  {
   "cell_type": "code",
   "execution_count": 16,
   "id": "06478197-071f-4395-804f-cbc171aadbd5",
   "metadata": {},
   "outputs": [
    {
     "data": {
      "text/plain": [
       "1024"
      ]
     },
     "execution_count": 16,
     "metadata": {},
     "output_type": "execute_result"
    }
   ],
   "source": [
    "'Size hash vector'\n",
    "size_hash_vector = m * b\n",
    "size_hash_vector"
   ]
  },
  {
   "cell_type": "markdown",
   "id": "0d60851f-b05f-4bc6-80f0-ce736180afe0",
   "metadata": {},
   "source": [
    "## 2.1. Feature learning phase"
   ]
  },
  {
   "cell_type": "code",
   "execution_count": 17,
   "id": "d9893ed6-5d0b-41b2-816b-b410e1c07910",
   "metadata": {},
   "outputs": [],
   "source": [
    "x = Sequential()\n",
    "x.add(Dense(2048, input_dim = X_train['stack_1'].shape[1], activation = 'sigmoid'))\n",
    "x.add(Dense(1024, activation = 'sigmoid'))\n",
    "x.add(Dense(size_hash_vector, activation = 'tanh'))\n",
    "shared_model = x"
   ]
  },
  {
   "cell_type": "markdown",
   "id": "279ba874-5ea0-4a94-83a1-f7f7c9ca8e0e",
   "metadata": {},
   "source": [
    "## 2.2. Siamese Model "
   ]
  },
  {
   "cell_type": "code",
   "execution_count": 18,
   "id": "d1d8a570-b1a8-489c-8312-e78dca471a63",
   "metadata": {
    "tags": []
   },
   "outputs": [
    {
     "name": "stdout",
     "output_type": "stream",
     "text": [
      "Model: \"model\"\n",
      "__________________________________________________________________________________________________\n",
      "Layer (type)                    Output Shape         Param #     Connected to                     \n",
      "==================================================================================================\n",
      "input_1 (InputLayer)            [(None, 2244)]       0                                            \n",
      "__________________________________________________________________________________________________\n",
      "input_2 (InputLayer)            [(None, 2244)]       0                                            \n",
      "__________________________________________________________________________________________________\n",
      "sequential (Sequential)         (None, 1024)         7745536     input_1[0][0]                    \n",
      "                                                                 input_2[0][0]                    \n",
      "                                                                 input_1[0][0]                    \n",
      "                                                                 input_2[0][0]                    \n",
      "__________________________________________________________________________________________________\n",
      "manh_dist (ManhDist)            (None, 1)            0           sequential[0][0]                 \n",
      "                                                                 sequential[1][0]                 \n",
      "__________________________________________________________________________________________________\n",
      "abs_vect (AbsVect)              (None, 1024)         0           sequential[2][0]                 \n",
      "__________________________________________________________________________________________________\n",
      "abs_vect_1 (AbsVect)            (None, 1024)         0           sequential[3][0]                 \n",
      "==================================================================================================\n",
      "Total params: 7,745,536\n",
      "Trainable params: 7,745,536\n",
      "Non-trainable params: 0\n",
      "__________________________________________________________________________________________________\n",
      "None\n",
      "Model: \"sequential\"\n",
      "_________________________________________________________________\n",
      "Layer (type)                 Output Shape              Param #   \n",
      "=================================================================\n",
      "dense (Dense)                (None, 2048)              4597760   \n",
      "_________________________________________________________________\n",
      "dense_1 (Dense)              (None, 1024)              2098176   \n",
      "_________________________________________________________________\n",
      "dense_2 (Dense)              (None, 1024)              1049600   \n",
      "=================================================================\n",
      "Total params: 7,745,536\n",
      "Trainable params: 7,745,536\n",
      "Non-trainable params: 0\n",
      "_________________________________________________________________\n",
      "None\n"
     ]
    }
   ],
   "source": [
    "input_shape = (X_train['stack_1'].shape[1],)\n",
    "model = siamese_model_baseline(shared_model, input_shape, is_sparse = True, print_summary = True)"
   ]
  },
  {
   "cell_type": "markdown",
   "id": "0bb438cf-7efb-4603-aab4-1364b187938f",
   "metadata": {},
   "source": [
    "## 2.3. Model training "
   ]
  },
  {
   "cell_type": "code",
   "execution_count": 19,
   "id": "3c6beca4-2caa-4c8c-8ca9-c3dfaedffbdc",
   "metadata": {},
   "outputs": [
    {
     "name": "stdout",
     "output_type": "stream",
     "text": [
      "Epoch 1/20\n",
      "781/781 [==============================] - 20s 23ms/step - loss: -0.2301 - manh_dist_loss: 0.0208 - abs_vect_loss: -0.9824 - abs_vect_1_loss: -0.9830 - manh_dist_rmse: 0.1443 - manh_dist_mae: 0.0801 - val_loss: -0.2398 - val_manh_dist_loss: 0.0110 - val_abs_vect_loss: -0.9916 - val_abs_vect_1_loss: -0.9923 - val_manh_dist_rmse: 0.1047 - val_manh_dist_mae: 0.0646\n",
      "Epoch 2/20\n",
      "781/781 [==============================] - 17s 22ms/step - loss: -0.2409 - manh_dist_loss: 0.0098 - abs_vect_loss: -0.9929 - abs_vect_1_loss: -0.9932 - manh_dist_rmse: 0.0988 - manh_dist_mae: 0.0604 - val_loss: -0.2417 - val_manh_dist_loss: 0.0093 - val_abs_vect_loss: -0.9948 - val_abs_vect_1_loss: -0.9950 - val_manh_dist_rmse: 0.0966 - val_manh_dist_mae: 0.0586\n",
      "Epoch 3/20\n",
      "781/781 [==============================] - 16s 20ms/step - loss: -0.2426 - manh_dist_loss: 0.0082 - abs_vect_loss: -0.9951 - abs_vect_1_loss: -0.9952 - manh_dist_rmse: 0.0906 - manh_dist_mae: 0.0553 - val_loss: -0.2433 - val_manh_dist_loss: 0.0076 - val_abs_vect_loss: -0.9956 - val_abs_vect_1_loss: -0.9958 - val_manh_dist_rmse: 0.0870 - val_manh_dist_mae: 0.0531\n",
      "Epoch 4/20\n",
      "781/781 [==============================] - 15s 19ms/step - loss: -0.2444 - manh_dist_loss: 0.0063 - abs_vect_loss: -0.9964 - abs_vect_1_loss: -0.9965 - manh_dist_rmse: 0.0793 - manh_dist_mae: 0.0492 - val_loss: -0.2450 - val_manh_dist_loss: 0.0057 - val_abs_vect_loss: -0.9971 - val_abs_vect_1_loss: -0.9971 - val_manh_dist_rmse: 0.0758 - val_manh_dist_mae: 0.0472\n",
      "Epoch 5/20\n",
      "781/781 [==============================] - 16s 20ms/step - loss: -0.2456 - manh_dist_loss: 0.0050 - abs_vect_loss: -0.9974 - abs_vect_1_loss: -0.9974 - manh_dist_rmse: 0.0708 - manh_dist_mae: 0.0447 - val_loss: -0.2457 - val_manh_dist_loss: 0.0049 - val_abs_vect_loss: -0.9975 - val_abs_vect_1_loss: -0.9976 - val_manh_dist_rmse: 0.0700 - val_manh_dist_mae: 0.0440\n",
      "Epoch 6/20\n",
      "781/781 [==============================] - 16s 20ms/step - loss: -0.2461 - manh_dist_loss: 0.0045 - abs_vect_loss: -0.9980 - abs_vect_1_loss: -0.9980 - manh_dist_rmse: 0.0670 - manh_dist_mae: 0.0426 - val_loss: -0.2461 - val_manh_dist_loss: 0.0046 - val_abs_vect_loss: -0.9982 - val_abs_vect_1_loss: -0.9982 - val_manh_dist_rmse: 0.0677 - val_manh_dist_mae: 0.0425\n",
      "Epoch 7/20\n",
      "781/781 [==============================] - 15s 20ms/step - loss: -0.2465 - manh_dist_loss: 0.0042 - abs_vect_loss: -0.9983 - abs_vect_1_loss: -0.9983 - manh_dist_rmse: 0.0646 - manh_dist_mae: 0.0413 - val_loss: -0.2464 - val_manh_dist_loss: 0.0043 - val_abs_vect_loss: -0.9983 - val_abs_vect_1_loss: -0.9983 - val_manh_dist_rmse: 0.0653 - val_manh_dist_mae: 0.0412\n",
      "Epoch 8/20\n",
      "781/781 [==============================] - 16s 20ms/step - loss: -0.2467 - manh_dist_loss: 0.0039 - abs_vect_loss: -0.9985 - abs_vect_1_loss: -0.9985 - manh_dist_rmse: 0.0623 - manh_dist_mae: 0.0400 - val_loss: -0.2466 - val_manh_dist_loss: 0.0040 - val_abs_vect_loss: -0.9985 - val_abs_vect_1_loss: -0.9985 - val_manh_dist_rmse: 0.0634 - val_manh_dist_mae: 0.0400\n",
      "Epoch 9/20\n",
      "781/781 [==============================] - 16s 20ms/step - loss: -0.2469 - manh_dist_loss: 0.0037 - abs_vect_loss: -0.9987 - abs_vect_1_loss: -0.9987 - manh_dist_rmse: 0.0605 - manh_dist_mae: 0.0390 - val_loss: -0.2468 - val_manh_dist_loss: 0.0039 - val_abs_vect_loss: -0.9989 - val_abs_vect_1_loss: -0.9989 - val_manh_dist_rmse: 0.0624 - val_manh_dist_mae: 0.0392\n",
      "Epoch 10/20\n",
      "781/781 [==============================] - 16s 20ms/step - loss: -0.2471 - manh_dist_loss: 0.0035 - abs_vect_loss: -0.9989 - abs_vect_1_loss: -0.9989 - manh_dist_rmse: 0.0593 - manh_dist_mae: 0.0383 - val_loss: -0.2469 - val_manh_dist_loss: 0.0038 - val_abs_vect_loss: -0.9989 - val_abs_vect_1_loss: -0.9989 - val_manh_dist_rmse: 0.0613 - val_manh_dist_mae: 0.0388\n",
      "Epoch 11/20\n",
      "781/781 [==============================] - 16s 20ms/step - loss: -0.2472 - manh_dist_loss: 0.0034 - abs_vect_loss: -0.9990 - abs_vect_1_loss: -0.9990 - manh_dist_rmse: 0.0583 - manh_dist_mae: 0.0377 - val_loss: -0.2470 - val_manh_dist_loss: 0.0036 - val_abs_vect_loss: -0.9989 - val_abs_vect_1_loss: -0.9988 - val_manh_dist_rmse: 0.0602 - val_manh_dist_mae: 0.0380\n",
      "Epoch 12/20\n",
      "781/781 [==============================] - 15s 20ms/step - loss: -0.2473 - manh_dist_loss: 0.0033 - abs_vect_loss: -0.9991 - abs_vect_1_loss: -0.9991 - manh_dist_rmse: 0.0577 - manh_dist_mae: 0.0374 - val_loss: -0.2471 - val_manh_dist_loss: 0.0036 - val_abs_vect_loss: -0.9991 - val_abs_vect_1_loss: -0.9991 - val_manh_dist_rmse: 0.0599 - val_manh_dist_mae: 0.0379\n",
      "Epoch 13/20\n",
      "781/781 [==============================] - 16s 20ms/step - loss: -0.2473 - manh_dist_loss: 0.0033 - abs_vect_loss: -0.9991 - abs_vect_1_loss: -0.9991 - manh_dist_rmse: 0.0572 - manh_dist_mae: 0.0371 - val_loss: -0.2471 - val_manh_dist_loss: 0.0035 - val_abs_vect_loss: -0.9990 - val_abs_vect_1_loss: -0.9990 - val_manh_dist_rmse: 0.0590 - val_manh_dist_mae: 0.0374\n",
      "Epoch 14/20\n",
      "781/781 [==============================] - 16s 21ms/step - loss: -0.2474 - manh_dist_loss: 0.0032 - abs_vect_loss: -0.9992 - abs_vect_1_loss: -0.9991 - manh_dist_rmse: 0.0567 - manh_dist_mae: 0.0369 - val_loss: -0.2472 - val_manh_dist_loss: 0.0034 - val_abs_vect_loss: -0.9990 - val_abs_vect_1_loss: -0.9990 - val_manh_dist_rmse: 0.0581 - val_manh_dist_mae: 0.0369\n",
      "Epoch 15/20\n",
      "781/781 [==============================] - 16s 21ms/step - loss: -0.2474 - manh_dist_loss: 0.0032 - abs_vect_loss: -0.9993 - abs_vect_1_loss: -0.9992 - manh_dist_rmse: 0.0562 - manh_dist_mae: 0.0366 - val_loss: -0.2473 - val_manh_dist_loss: 0.0034 - val_abs_vect_loss: -0.9992 - val_abs_vect_1_loss: -0.9991 - val_manh_dist_rmse: 0.0580 - val_manh_dist_mae: 0.0369\n",
      "Epoch 16/20\n",
      "781/781 [==============================] - 16s 20ms/step - loss: -0.2475 - manh_dist_loss: 0.0031 - abs_vect_loss: -0.9993 - abs_vect_1_loss: -0.9992 - manh_dist_rmse: 0.0558 - manh_dist_mae: 0.0364 - val_loss: -0.2473 - val_manh_dist_loss: 0.0034 - val_abs_vect_loss: -0.9994 - val_abs_vect_1_loss: -0.9993 - val_manh_dist_rmse: 0.0583 - val_manh_dist_mae: 0.0373\n",
      "Epoch 17/20\n",
      "781/781 [==============================] - 15s 20ms/step - loss: -0.2475 - manh_dist_loss: 0.0031 - abs_vect_loss: -0.9993 - abs_vect_1_loss: -0.9993 - manh_dist_rmse: 0.0554 - manh_dist_mae: 0.0362 - val_loss: -0.2473 - val_manh_dist_loss: 0.0033 - val_abs_vect_loss: -0.9992 - val_abs_vect_1_loss: -0.9992 - val_manh_dist_rmse: 0.0573 - val_manh_dist_mae: 0.0366\n",
      "Epoch 18/20\n",
      "781/781 [==============================] - 16s 20ms/step - loss: -0.2475 - manh_dist_loss: 0.0030 - abs_vect_loss: -0.9993 - abs_vect_1_loss: -0.9993 - manh_dist_rmse: 0.0551 - manh_dist_mae: 0.0360 - val_loss: -0.2474 - val_manh_dist_loss: 0.0032 - val_abs_vect_loss: -0.9992 - val_abs_vect_1_loss: -0.9991 - val_manh_dist_rmse: 0.0569 - val_manh_dist_mae: 0.0363\n",
      "Epoch 19/20\n",
      "781/781 [==============================] - 16s 20ms/step - loss: -0.2476 - manh_dist_loss: 0.0030 - abs_vect_loss: -0.9993 - abs_vect_1_loss: -0.9993 - manh_dist_rmse: 0.0548 - manh_dist_mae: 0.0359 - val_loss: -0.2474 - val_manh_dist_loss: 0.0032 - val_abs_vect_loss: -0.9992 - val_abs_vect_1_loss: -0.9991 - val_manh_dist_rmse: 0.0565 - val_manh_dist_mae: 0.0360\n",
      "Epoch 20/20\n",
      "781/781 [==============================] - 16s 20ms/step - loss: -0.2476 - manh_dist_loss: 0.0030 - abs_vect_loss: -0.9993 - abs_vect_1_loss: -0.9993 - manh_dist_rmse: 0.0545 - manh_dist_mae: 0.0357 - val_loss: -0.2474 - val_manh_dist_loss: 0.0032 - val_abs_vect_loss: -0.9993 - val_abs_vect_1_loss: -0.9992 - val_manh_dist_rmse: 0.0566 - val_manh_dist_mae: 0.0361\n"
     ]
    }
   ],
   "source": [
    "siamese_model = train_siamese_model_baseline(model, X_train, X_validation, Y_train, Y_validation, size_hash_vector, batch_size = 512, epochs = 20)"
   ]
  },
  {
   "cell_type": "markdown",
   "id": "8de2153c-d75d-41be-848b-d503f6c36239",
   "metadata": {},
   "source": [
    "# 3. Model Evaluation"
   ]
  },
  {
   "cell_type": "code",
   "execution_count": 20,
   "id": "a3c3519a-cf27-413e-b267-6504149deb2d",
   "metadata": {},
   "outputs": [
    {
     "data": {
      "text/plain": [
       "[<tensorflow.python.keras.engine.input_layer.InputLayer at 0x7f828e650d50>,\n",
       " <tensorflow.python.keras.engine.input_layer.InputLayer at 0x7f828ebf3c90>,\n",
       " <tensorflow.python.keras.engine.sequential.Sequential at 0x7f828ec2b390>,\n",
       " <deep_hashing_models.ManhDist at 0x7f828ebf3d10>,\n",
       " <deep_hashing_models.AbsVect at 0x7f828ec18310>,\n",
       " <deep_hashing_models.AbsVect at 0x7f828e569990>]"
      ]
     },
     "execution_count": 20,
     "metadata": {},
     "output_type": "execute_result"
    }
   ],
   "source": [
    "model.layers"
   ]
  },
  {
   "cell_type": "markdown",
   "id": "6e08e438-f7db-4ffd-a703-c050649eed80",
   "metadata": {},
   "source": [
    "## 3.1. Loss functions"
   ]
  },
  {
   "cell_type": "markdown",
   "id": "2ba523e6-4b29-4979-9739-3840a9d279e5",
   "metadata": {},
   "source": [
    "#### 3.1.1. MSE of $\\mathcal{L}_{Baseline}$"
   ]
  },
  {
   "cell_type": "code",
   "execution_count": 21,
   "id": "78fa1d12-53e0-4b18-bd6d-b49e0ac5a173",
   "metadata": {},
   "outputs": [
    {
     "data": {
      "text/plain": [
       "<matplotlib.legend.Legend at 0x7f828edefc10>"
      ]
     },
     "execution_count": 21,
     "metadata": {},
     "output_type": "execute_result"
    },
    {
     "data": {
      "image/png": "[encoded data removed]",
      "text/plain": [
       "<Figure size 576x360 with 1 Axes>"
      ]
     },
     "metadata": {
      "needs_background": "light"
     },
     "output_type": "display_data"
    }
   ],
   "source": [
    "plt.rcParams[\"figure.figsize\"] = (8,5)\n",
    "plt.plot(siamese_model.history['loss'], linewidth = 2)\n",
    "plt.plot(siamese_model.history['val_loss'], linewidth = 2)\n",
    "plt.title('Dufrex (CNNH+LSH)', fontsize = 20)\n",
    "plt.ylabel('MSE (Model)', fontsize = 12)\n",
    "plt.xlabel('Epochs', fontsize = 12)\n",
    "plt.ticklabel_format(style='', scilimits=(0,0))\n",
    "plt.legend(['Train', 'Validation'], loc='upper right', fontsize=15)"
   ]
  },
  {
   "cell_type": "markdown",
   "id": "05afb4e6-9037-456a-9663-060eb611c0b8",
   "metadata": {},
   "source": [
    "#### 3.1.2. RMSE of Similarity preserving loss"
   ]
  },
  {
   "cell_type": "code",
   "execution_count": 22,
   "id": "9cd1cda5-36b1-41ab-8dc3-2ebfe56fd4d9",
   "metadata": {},
   "outputs": [
    {
     "data": {
      "text/plain": [
       "<matplotlib.legend.Legend at 0x7f7e486b4f10>"
      ]
     },
     "execution_count": 22,
     "metadata": {},
     "output_type": "execute_result"
    },
    {
     "data": {
      "image/png": "[encoded data removed]",
      "text/plain": [
       "<Figure size 576x360 with 1 Axes>"
      ]
     },
     "metadata": {
      "needs_background": "light"
     },
     "output_type": "display_data"
    }
   ],
   "source": [
    "plt.rcParams[\"figure.figsize\"] = (8,5)\n",
    "plt.plot(siamese_model.history[model.layers[3].name + '_rmse'], linewidth = 2)\n",
    "plt.plot(siamese_model.history['val_' + model.layers[3].name + '_rmse'], linewidth = 2)\n",
    "plt.title('Dufrex (CNNH+LSH)', fontsize = 20)\n",
    "plt.ylabel('RMSE (Similarity-preserving)', fontsize = 12)\n",
    "plt.xlabel('Epochs', fontsize = 12)\n",
    "plt.ticklabel_format(style='', scilimits=(0,0))\n",
    "plt.legend(['Train', 'Validation'], loc='upper right', fontsize=15)"
   ]
  },
  {
   "cell_type": "markdown",
   "id": "ac94472b-7465-4ab0-99dd-c042b4a32572",
   "metadata": {},
   "source": [
    "#### 3.1.3. MAE of LSH preserving loss"
   ]
  },
  {
   "cell_type": "code",
   "execution_count": 23,
   "id": "c4c8e448-e36f-4a8d-8d5f-a5da5c4d5019",
   "metadata": {},
   "outputs": [
    {
     "data": {
      "text/plain": [
       "<matplotlib.legend.Legend at 0x7f7e485d9d90>"
      ]
     },
     "execution_count": 23,
     "metadata": {},
     "output_type": "execute_result"
    },
    {
     "data": {
      "image/png": "[encoded data removed]",
      "text/plain": [
       "<Figure size 576x360 with 1 Axes>"
      ]
     },
     "metadata": {
      "needs_background": "light"
     },
     "output_type": "display_data"
    }
   ],
   "source": [
    "plt.rcParams[\"figure.figsize\"] = (8,5)\n",
    "plt.plot(siamese_model.history[model.layers[3].name + '_mae'], linewidth = 2)\n",
    "plt.plot(siamese_model.history['val_' + model.layers[3].name + '_mae'], linewidth = 2)\n",
    "plt.title('Dufrex (CNNH+LSH)', fontsize = 20)\n",
    "plt.ylabel('MAE (Similarity-preserving)', fontsize = 12)\n",
    "plt.xlabel('Epochs', fontsize = 12)\n",
    "plt.ticklabel_format(style='', scilimits=(0,0))\n",
    "plt.legend(['Train', 'Validation'], loc='upper right', fontsize=15)"
   ]
  },
  {
   "cell_type": "markdown",
   "id": "f8f7f1d0-62b0-4612-ab39-9c38fad06a4c",
   "metadata": {},
   "source": [
    "## 3.2. Model Predictions"
   ]
  },
  {
   "cell_type": "code",
   "execution_count": 24,
   "id": "1f089e9c-7bbd-40fb-90f3-3e4c7a2798d2",
   "metadata": {},
   "outputs": [],
   "source": [
    "predictions = predict(model, X_validation)"
   ]
  },
  {
   "cell_type": "markdown",
   "id": "19834dba-ff8b-45fa-aead-ac2e6d099273",
   "metadata": {},
   "source": [
    "### 3.2.1. Examples"
   ]
  },
  {
   "cell_type": "code",
   "execution_count": 25,
   "id": "eade347d-6ee3-4fa3-ba1a-c5298f94c96e",
   "metadata": {},
   "outputs": [
    {
     "data": {
      "text/plain": [
       "array([0.005, 0.02 , 0.05 , 0.199, 0.287, 0.353, 0.025, 0.246, 0.057,\n",
       "       0.283, 0.146, 0.033, 0.192, 0.009, 0.284, 0.235, 0.144, 0.003,\n",
       "       0.352, 0.007, 0.01 , 0.159, 0.199, 0.059, 0.023, 0.386, 0.141,\n",
       "       0.01 , 0.005, 0.012, 0.04 , 0.004, 0.118, 0.275, 0.025, 0.013,\n",
       "       0.199, 0.012, 0.052, 0.054, 0.092, 0.096, 0.472, 0.328, 0.312,\n",
       "       0.003, 0.006, 0.181, 0.177, 0.133], dtype=float32)"
      ]
     },
     "execution_count": 25,
     "metadata": {},
     "output_type": "execute_result"
    }
   ],
   "source": [
    "np.around(predictions[0][:50],3) "
   ]
  },
  {
   "cell_type": "code",
   "execution_count": 26,
   "id": "8f18d2a7-c115-4a7c-9492-facb302c578b",
   "metadata": {},
   "outputs": [
    {
     "data": {
      "text/plain": [
       "array([0.   , 0.   , 0.032, 0.129, 0.358, 0.182, 0.   , 0.262, 0.   ,\n",
       "       0.315, 0.103, 0.   , 0.213, 0.   , 0.249, 0.302, 0.117, 0.   ,\n",
       "       0.385, 0.   , 0.   , 0.22 , 0.226, 0.085, 0.   , 0.4  , 0.267,\n",
       "       0.   , 0.   , 0.   , 0.   , 0.   , 0.18 , 0.294, 0.   , 0.   ,\n",
       "       0.388, 0.   , 0.   , 0.   , 0.166, 0.028, 0.411, 0.31 , 0.336,\n",
       "       0.   , 0.   , 0.207, 0.207, 0.081])"
      ]
     },
     "execution_count": 26,
     "metadata": {},
     "output_type": "execute_result"
    }
   ],
   "source": [
    "np.around(Y_validation[:50],3) "
   ]
  },
  {
   "cell_type": "markdown",
   "id": "98409488-ca93-4cd3-b71c-547fa4baa6ef",
   "metadata": {},
   "source": [
    "### 3.2.2. Spearman $\\rho$ and Kendall $\\tau$ correlation"
   ]
  },
  {
   "cell_type": "code",
   "execution_count": 27,
   "id": "01573553-5d50-49eb-aa52-c480c0de67f0",
   "metadata": {},
   "outputs": [
    {
     "data": {
      "image/png": "[encoded data removed]",
      "text/plain": [
       "<Figure size 288x288 with 1 Axes>"
      ]
     },
     "metadata": {
      "needs_background": "light"
     },
     "output_type": "display_data"
    }
   ],
   "source": [
    "plt.rcParams[\"figure.figsize\"] = (4,4)\n",
    "plt.scatter(Y_validation, predictions[0], alpha = 0.5, marker = 'x', c = '#227093')\n",
    "plt.title('Dufrex (CNNH+LSH)', fontsize = 16)\n",
    "plt.xlabel(\"Dufrex similarity values\", fontsize = 12)\n",
    "plt.ylabel(\"Collision probability\", fontsize = 12)\n",
    "plt.savefig('Results/Baseline/Dufrex-correlation', bbox_inches='tight')\n",
    "plt.show()"
   ]
  },
  {
   "cell_type": "code",
   "execution_count": 28,
   "id": "f80a43e7-b4b5-4956-9b3d-6a1457a6ee92",
   "metadata": {},
   "outputs": [
    {
     "data": {
      "text/plain": [
       "0.8964977562832389"
      ]
     },
     "execution_count": 28,
     "metadata": {},
     "output_type": "execute_result"
    }
   ],
   "source": [
    "rho, p_value = spearman_rho(predictions, Y_validation)\n",
    "rho"
   ]
  },
  {
   "cell_type": "code",
   "execution_count": 29,
   "id": "7f6dc861-28aa-4f3d-b0fb-7f5caf453280",
   "metadata": {},
   "outputs": [
    {
     "data": {
      "text/plain": [
       "0.7670408799253117"
      ]
     },
     "execution_count": 29,
     "metadata": {},
     "output_type": "execute_result"
    }
   ],
   "source": [
    "tau, p_value = kendall_tau(predictions, Y_validation)\n",
    "tau"
   ]
  },
  {
   "cell_type": "markdown",
   "id": "895fc952-6e22-451a-abd2-86de43e87328",
   "metadata": {},
   "source": [
    "## 3.3. Approximate Hamming Evaluation"
   ]
  },
  {
   "cell_type": "code",
   "execution_count": 30,
   "id": "6b9edd91-5e15-4aa8-8a05-4985b8623897",
   "metadata": {},
   "outputs": [
    {
     "data": {
      "text/plain": [
       "<tensorflow.python.keras.engine.sequential.Sequential at 0x7f828ec2b390>"
      ]
     },
     "execution_count": 30,
     "metadata": {},
     "output_type": "execute_result"
    }
   ],
   "source": [
    "output_layer = 2\n",
    "model.layers[output_layer]"
   ]
  },
  {
   "cell_type": "code",
   "execution_count": 31,
   "id": "acaf1823-ca3b-4d6c-9a71-a6c9acf5e1f5",
   "metadata": {},
   "outputs": [],
   "source": [
    "intermediate_model = intermediate_model_trained(shared_model, output_layer)"
   ]
  },
  {
   "cell_type": "code",
   "execution_count": 32,
   "id": "346ee1c3-5c1c-43b0-877f-7bb065ce5ac4",
   "metadata": {},
   "outputs": [
    {
     "name": "stdout",
     "output_type": "stream",
     "text": [
      "WARNING:tensorflow:Compiled the loaded model, but the compiled metrics have yet to be built. `model.compile_metrics` will be empty until you train or evaluate the model.\n",
      "INFO:tensorflow:Assets written to: Models/model-baseline.model/assets\n"
     ]
    }
   ],
   "source": [
    "intermediate_model.save('Models/model-baseline.model')"
   ]
  },
  {
   "cell_type": "code",
   "execution_count": 33,
   "id": "bc07ec86-2949-42b7-8fbc-6c331cc967a8",
   "metadata": {},
   "outputs": [],
   "source": [
    "#intermediate_model = keras.models.load_model('Models/model-baseline.model')"
   ]
  },
  {
   "cell_type": "markdown",
   "id": "b4d1758f-ff99-49fc-b85c-4fe66560da40",
   "metadata": {},
   "source": [
    "### 3.3.1. Example of a hash vector provided by the model (in the last epoch)"
   ]
  },
  {
   "cell_type": "code",
   "execution_count": 34,
   "id": "ec686420-c52a-4925-852f-939cfe007904",
   "metadata": {
    "tags": []
   },
   "outputs": [
    {
     "data": {
      "text/plain": [
       "array([-1.        , -1.        , -1.        ,  0.99519765, -0.98701507,\n",
       "        1.        , -1.        ,  1.        ,  1.        ,  1.        ,\n",
       "        0.99245185, -1.        ,  1.        ,  1.        , -1.        ,\n",
       "        1.        ,  1.        , -0.99969655, -0.95445156,  0.99728733,\n",
       "        1.        , -1.        ,  0.99856704,  0.9958366 , -1.        ,\n",
       "        1.        , -0.9985433 ,  1.        , -1.        , -1.        ,\n",
       "       -1.        ,  0.999717  ,  0.9550587 ,  1.        , -0.98489237,\n",
       "        1.        ,  1.        ,  0.99697274,  1.        ,  1.        ,\n",
       "       -0.99184316,  1.        ,  1.        , -0.9970937 ,  1.        ,\n",
       "       -1.        , -1.        ,  1.        ,  1.        ,  1.        ,\n",
       "        1.        , -0.9981621 ,  0.9984942 , -0.9975421 , -1.        ,\n",
       "       -1.        , -1.        ,  0.9999965 , -1.        , -1.        ,\n",
       "        1.        , -0.99999803,  1.        , -0.9928602 ], dtype=float32)"
      ]
     },
     "execution_count": 34,
     "metadata": {},
     "output_type": "execute_result"
    }
   ],
   "source": [
    "'First 64 bits'\n",
    "intermediate_model.predict(df_bag_of_frames.iloc[[10]])[0][:64]"
   ]
  },
  {
   "cell_type": "markdown",
   "id": "4ec939b1-4814-49cd-80ff-ee2bad747358",
   "metadata": {},
   "source": [
    "### 3.3.2. Average value of the absolute hash values"
   ]
  },
  {
   "cell_type": "code",
   "execution_count": 35,
   "id": "f54a9180-f4a4-4e0c-94ed-e36df291b072",
   "metadata": {},
   "outputs": [],
   "source": [
    "hash_vectors = intermediate_model.predict(df_bag_of_frames)"
   ]
  },
  {
   "cell_type": "code",
   "execution_count": 36,
   "id": "0fd308c0-f913-4d55-b45b-01f976a62e0b",
   "metadata": {},
   "outputs": [
    {
     "data": {
      "text/plain": [
       "0.98768353"
      ]
     },
     "execution_count": 36,
     "metadata": {},
     "output_type": "execute_result"
    }
   ],
   "source": [
    "np.mean(np.abs(hash_vectors))"
   ]
  },
  {
   "cell_type": "markdown",
   "id": "2ca2d6a3-75da-472a-99bb-b25ece9df8a7",
   "metadata": {},
   "source": [
    "### 3.3.3. Ratio of binary values from hash vectors provided by the model"
   ]
  },
  {
   "cell_type": "code",
   "execution_count": 37,
   "id": "5bb9bdd7-c931-4db2-8a89-b20c7fb92d9e",
   "metadata": {},
   "outputs": [
    {
     "data": {
      "text/plain": [
       "0.5676552734375"
      ]
     },
     "execution_count": 37,
     "metadata": {},
     "output_type": "execute_result"
    }
   ],
   "source": [
    "hash_vectors[(hash_vectors == 1) | (hash_vectors == -1)].size / hash_vectors.size"
   ]
  },
  {
   "cell_type": "markdown",
   "id": "5a606dc1-dd06-4376-9f33-1254286c701d",
   "metadata": {},
   "source": [
    "### 3.3.4. Comparison between approximate hamming and real hamming"
   ]
  },
  {
   "cell_type": "code",
   "execution_count": 38,
   "id": "03dd89e8-82d7-47c2-8c33-a0652d3ec536",
   "metadata": {},
   "outputs": [],
   "source": [
    "df_hamming = compare_hamming(X_validation, intermediate_model, b, size_hash_vector)"
   ]
  },
  {
   "cell_type": "code",
   "execution_count": 39,
   "id": "3ba16852-6f34-4400-b198-c8f631e82d6d",
   "metadata": {},
   "outputs": [
    {
     "data": {
      "text/html": [
       "<div>\n",
       "<style scoped>\n",
       "    .dataframe tbody tr th:only-of-type {\n",
       "        vertical-align: middle;\n",
       "    }\n",
       "\n",
       "    .dataframe tbody tr th {\n",
       "        vertical-align: top;\n",
       "    }\n",
       "\n",
       "    .dataframe thead th {\n",
       "        text-align: right;\n",
       "    }\n",
       "</style>\n",
       "<table border=\"1\" class=\"dataframe\">\n",
       "  <thead>\n",
       "    <tr style=\"text-align: right;\">\n",
       "      <th></th>\n",
       "      <th>embedding_stack_1</th>\n",
       "      <th>embedding_stack_2</th>\n",
       "      <th>hamming</th>\n",
       "    </tr>\n",
       "  </thead>\n",
       "  <tbody>\n",
       "    <tr>\n",
       "      <th>0</th>\n",
       "      <td>[-1, -1, -1, 1, -1, 1, -1, 1, 1, 1, 1, -1, 1, ...</td>\n",
       "      <td>[1, 1, 1, 1, -1, -1, 1, -1, 1, -1, 1, 1, -1, -...</td>\n",
       "      <td>0.000000</td>\n",
       "    </tr>\n",
       "    <tr>\n",
       "      <th>1</th>\n",
       "      <td>[1, 1, 1, 1, -1, -1, -1, 1, 1, -1, 1, -1, -1, ...</td>\n",
       "      <td>[-1, -1, -1, 1, -1, 1, -1, 1, -1, 1, 1, -1, 1,...</td>\n",
       "      <td>0.000000</td>\n",
       "    </tr>\n",
       "    <tr>\n",
       "      <th>2</th>\n",
       "      <td>[1, -1, -1, 1, -1, 1, -1, 1, 1, 1, 1, -1, 1, 1...</td>\n",
       "      <td>[-1, -1, -1, 1, -1, 1, -1, 1, -1, 1, 1, -1, 1,...</td>\n",
       "      <td>0.000000</td>\n",
       "    </tr>\n",
       "    <tr>\n",
       "      <th>3</th>\n",
       "      <td>[-1, -1, -1, 1, -1, 1, -1, 1, 1, 1, 1, -1, 1, ...</td>\n",
       "      <td>[-1, -1, -1, 1, -1, 1, -1, 1, 1, 1, 1, -1, 1, ...</td>\n",
       "      <td>0.093750</td>\n",
       "    </tr>\n",
       "    <tr>\n",
       "      <th>4</th>\n",
       "      <td>[-1, -1, -1, 1, -1, 1, -1, 1, 1, 1, 1, -1, 1, ...</td>\n",
       "      <td>[-1, -1, -1, 1, -1, 1, -1, 1, 1, 1, 1, -1, 1, ...</td>\n",
       "      <td>0.109375</td>\n",
       "    </tr>\n",
       "    <tr>\n",
       "      <th>...</th>\n",
       "      <td>...</td>\n",
       "      <td>...</td>\n",
       "      <td>...</td>\n",
       "    </tr>\n",
       "    <tr>\n",
       "      <th>99895</th>\n",
       "      <td>[-1, -1, -1, 1, -1, 1, -1, 1, 1, 1, 1, -1, 1, ...</td>\n",
       "      <td>[-1, -1, -1, 1, -1, 1, -1, 1, 1, 1, 1, -1, 1, ...</td>\n",
       "      <td>0.140625</td>\n",
       "    </tr>\n",
       "    <tr>\n",
       "      <th>99896</th>\n",
       "      <td>[1, -1, -1, 1, -1, 1, -1, 1, 1, 1, 1, -1, 1, 1...</td>\n",
       "      <td>[-1, -1, -1, 1, -1, 1, -1, 1, 1, 1, 1, -1, 1, ...</td>\n",
       "      <td>0.015625</td>\n",
       "    </tr>\n",
       "    <tr>\n",
       "      <th>99897</th>\n",
       "      <td>[1, -1, -1, 1, -1, 1, -1, -1, 1, -1, 1, 1, 1, ...</td>\n",
       "      <td>[-1, -1, -1, 1, -1, 1, -1, 1, 1, 1, 1, -1, 1, ...</td>\n",
       "      <td>0.000000</td>\n",
       "    </tr>\n",
       "    <tr>\n",
       "      <th>99898</th>\n",
       "      <td>[-1, -1, -1, 1, -1, 1, -1, 1, 1, 1, 1, -1, 1, ...</td>\n",
       "      <td>[1, 1, 1, 1, -1, -1, 1, 1, 1, -1, 1, 1, -1, 1,...</td>\n",
       "      <td>0.000000</td>\n",
       "    </tr>\n",
       "    <tr>\n",
       "      <th>99899</th>\n",
       "      <td>[1, 1, 1, 1, -1, -1, 1, -1, 1, -1, 1, 1, -1, 1...</td>\n",
       "      <td>[-1, -1, -1, 1, -1, 1, -1, 1, -1, 1, 1, -1, 1,...</td>\n",
       "      <td>0.000000</td>\n",
       "    </tr>\n",
       "  </tbody>\n",
       "</table>\n",
       "<p>99900 rows × 3 columns</p>\n",
       "</div>"
      ],
      "text/plain": [
       "                                       embedding_stack_1  \\\n",
       "0      [-1, -1, -1, 1, -1, 1, -1, 1, 1, 1, 1, -1, 1, ...   \n",
       "1      [1, 1, 1, 1, -1, -1, -1, 1, 1, -1, 1, -1, -1, ...   \n",
       "2      [1, -1, -1, 1, -1, 1, -1, 1, 1, 1, 1, -1, 1, 1...   \n",
       "3      [-1, -1, -1, 1, -1, 1, -1, 1, 1, 1, 1, -1, 1, ...   \n",
       "4      [-1, -1, -1, 1, -1, 1, -1, 1, 1, 1, 1, -1, 1, ...   \n",
       "...                                                  ...   \n",
       "99895  [-1, -1, -1, 1, -1, 1, -1, 1, 1, 1, 1, -1, 1, ...   \n",
       "99896  [1, -1, -1, 1, -1, 1, -1, 1, 1, 1, 1, -1, 1, 1...   \n",
       "99897  [1, -1, -1, 1, -1, 1, -1, -1, 1, -1, 1, 1, 1, ...   \n",
       "99898  [-1, -1, -1, 1, -1, 1, -1, 1, 1, 1, 1, -1, 1, ...   \n",
       "99899  [1, 1, 1, 1, -1, -1, 1, -1, 1, -1, 1, 1, -1, 1...   \n",
       "\n",
       "                                       embedding_stack_2   hamming  \n",
       "0      [1, 1, 1, 1, -1, -1, 1, -1, 1, -1, 1, 1, -1, -...  0.000000  \n",
       "1      [-1, -1, -1, 1, -1, 1, -1, 1, -1, 1, 1, -1, 1,...  0.000000  \n",
       "2      [-1, -1, -1, 1, -1, 1, -1, 1, -1, 1, 1, -1, 1,...  0.000000  \n",
       "3      [-1, -1, -1, 1, -1, 1, -1, 1, 1, 1, 1, -1, 1, ...  0.093750  \n",
       "4      [-1, -1, -1, 1, -1, 1, -1, 1, 1, 1, 1, -1, 1, ...  0.109375  \n",
       "...                                                  ...       ...  \n",
       "99895  [-1, -1, -1, 1, -1, 1, -1, 1, 1, 1, 1, -1, 1, ...  0.140625  \n",
       "99896  [-1, -1, -1, 1, -1, 1, -1, 1, 1, 1, 1, -1, 1, ...  0.015625  \n",
       "99897  [-1, -1, -1, 1, -1, 1, -1, 1, 1, 1, 1, -1, 1, ...  0.000000  \n",
       "99898  [1, 1, 1, 1, -1, -1, 1, 1, 1, -1, 1, 1, -1, 1,...  0.000000  \n",
       "99899  [-1, -1, -1, 1, -1, 1, -1, 1, -1, 1, 1, -1, 1,...  0.000000  \n",
       "\n",
       "[99900 rows x 3 columns]"
      ]
     },
     "execution_count": 39,
     "metadata": {},
     "output_type": "execute_result"
    }
   ],
   "source": [
    "df_hamming"
   ]
  },
  {
   "cell_type": "code",
   "execution_count": 40,
   "id": "3fdc0913-64e8-4b05-a1fd-75f20c1a418a",
   "metadata": {},
   "outputs": [
    {
     "data": {
      "image/png": "[encoded data removed]",
      "text/plain": [
       "<Figure size 288x288 with 1 Axes>"
      ]
     },
     "metadata": {
      "needs_background": "light"
     },
     "output_type": "display_data"
    }
   ],
   "source": [
    "plt.rcParams[\"figure.figsize\"] = (4,4)\n",
    "plt.scatter(predictions[0], df_hamming['hamming'], alpha = 0.5, marker = 'x', c = '#b33939')\n",
    "plt.xlabel(\"Distance between vectors\", fontsize = 12)\n",
    "plt.ylabel(\"Hamming Similarity\", fontsize = 12)\n",
    "plt.title('Dufrex (CNNH+LSH)', fontsize = 16)\n",
    "plt.savefig('Results/Baseline/Dufrex-hamming-comparison', bbox_inches='tight')\n",
    "plt.show()"
   ]
  },
  {
   "cell_type": "markdown",
   "id": "b030832c-7872-45da-8698-a0bbf16fe3cb",
   "metadata": {},
   "source": [
    "# 4. Locality Sensitive Hashing"
   ]
  },
  {
   "cell_type": "code",
   "execution_count": 41,
   "id": "2aacdd9c-73d0-4257-af38-1768e9f4aa05",
   "metadata": {},
   "outputs": [],
   "source": [
    "hash_vectors_hamming = convert_to_hamming(hash_vectors)"
   ]
  },
  {
   "cell_type": "code",
   "execution_count": 42,
   "id": "f3bb826f-5e0d-4d6e-8356-d1f3315d6ebd",
   "metadata": {},
   "outputs": [
    {
     "data": {
      "text/plain": [
       "[(1, 64), (2, 32), (4, 16), (8, 8), (16, 4), (32, 2), (64, 1)]"
      ]
     },
     "execution_count": 42,
     "metadata": {},
     "output_type": "execute_result"
    }
   ],
   "source": [
    "params = lsh_hyperparams(m)\n",
    "'(K,L)'\n",
    "params "
   ]
  },
  {
   "cell_type": "markdown",
   "id": "cabab99d-9820-4b91-a6ed-6f2b3b38b0b9",
   "metadata": {},
   "source": [
    "## 4.1. Choose the best combination (L, K)"
   ]
  },
  {
   "cell_type": "code",
   "execution_count": 43,
   "id": "1aeac3ba-cb08-4e8a-913b-1dbd0529c782",
   "metadata": {},
   "outputs": [
    {
     "data": {
      "text/plain": [
       "<matplotlib.legend.Legend at 0x7f828ed55990>"
      ]
     },
     "execution_count": 43,
     "metadata": {},
     "output_type": "execute_result"
    },
    {
     "data": {
      "image/png": "[encoded data removed]",
      "text/plain": [
       "<Figure size 648x360 with 1 Axes>"
      ]
     },
     "metadata": {
      "needs_background": "light"
     },
     "output_type": "display_data"
    }
   ],
   "source": [
    "plt.rcParams[\"figure.figsize\"] = [9, 5]\n",
    "x = np.linspace(0, 1, 100)\n",
    "for param in params:\n",
    "    y = 1 - (1 - (x)**param[1])**param[0]\n",
    "    plt.plot(x, y, label = 'L = %d, r = %d' %param)\n",
    "plt.xlabel(\"similarity values\", fontsize = 12)\n",
    "plt.ylabel(\"hash probability in at least 1 bucket\", fontsize = 12)\n",
    "plt.title('Probability-similarity relation', fontsize = 20)\n",
    "plt.legend()"
   ]
  },
  {
   "cell_type": "code",
   "execution_count": 44,
   "id": "b931100a-06bb-4748-80a8-e09f31905b2a",
   "metadata": {},
   "outputs": [],
   "source": [
    "df_probLSH = mean_prob_hashing_smallest_elt(n_stacks, params, hash_vectors_hamming, b, df_measures, 'Dufrex', trace = False)"
   ]
  },
  {
   "cell_type": "code",
   "execution_count": 45,
   "id": "98685548-ab7a-4bb4-a39c-61f448d1c42b",
   "metadata": {},
   "outputs": [
    {
     "data": {
      "image/png": "[encoded data removed]",
      "text/plain": [
       "<Figure size 432x288 with 1 Axes>"
      ]
     },
     "metadata": {
      "needs_background": "light"
     },
     "output_type": "display_data"
    }
   ],
   "source": [
    "f, ax = plt.subplots(figsize=(6, 4))\n",
    "ax = sns.boxplot(data = df_probLSH, palette=\"Set3\")\n",
    "plt.title('Dufrex(Relation Prob-Sim)', fontsize = 20)\n",
    "plt.savefig('Results/Baseline/Dufrex-Relation-Prob-Sim', bbox_inches='tight')\n",
    "plt.show()"
   ]
  },
  {
   "cell_type": "code",
   "execution_count": 46,
   "id": "0e85f833-8a8c-4fe7-803d-52c4a8d78194",
   "metadata": {},
   "outputs": [
    {
     "data": {
      "text/plain": [
       "(4, 16)"
      ]
     },
     "execution_count": 46,
     "metadata": {},
     "output_type": "execute_result"
    }
   ],
   "source": [
    "'L = K = 8'\n",
    "L, K = params[2]\n",
    "L, K"
   ]
  },
  {
   "cell_type": "markdown",
   "id": "dc0d84af-ec41-43dc-b1cd-73e92cd96894",
   "metadata": {},
   "source": [
    "### 4.1.1 Mean and Median probability for all stack traces for the best combination of $K$ and $L$"
   ]
  },
  {
   "cell_type": "code",
   "execution_count": 47,
   "id": "3a414e49-3f64-4aa0-b2aa-c7d12490eb15",
   "metadata": {},
   "outputs": [
    {
     "data": {
      "text/plain": [
       "0.419828701217406"
      ]
     },
     "execution_count": 47,
     "metadata": {},
     "output_type": "execute_result"
    }
   ],
   "source": [
    "df_probLSH.mean()['(4, 16)']"
   ]
  },
  {
   "cell_type": "code",
   "execution_count": 48,
   "id": "4381a53d-2b3b-438b-afb7-b91389db8a45",
   "metadata": {},
   "outputs": [
    {
     "data": {
      "text/plain": [
       "0.4219771850854286"
      ]
     },
     "execution_count": 48,
     "metadata": {},
     "output_type": "execute_result"
    }
   ],
   "source": [
    "df_probLSH.median()['(4, 16)']"
   ]
  },
  {
   "cell_type": "markdown",
   "id": "6ebdb37a-a88b-46f1-8a22-1c0f872f6cd6",
   "metadata": {},
   "source": [
    "## 4.2. Build hash tables with binary hash vectors w.r.t $K$ and $L$"
   ]
  },
  {
   "cell_type": "code",
   "execution_count": 49,
   "id": "fb84b5ab-519b-4dd1-bb5e-5ced695bf3a4",
   "metadata": {},
   "outputs": [],
   "source": [
    "hash_tables = create_hash_tables(L, K, b, hash_vectors_hamming)"
   ]
  },
  {
   "cell_type": "code",
   "execution_count": 50,
   "id": "89365da1-5823-4433-a0b1-1aacf8ba66ff",
   "metadata": {},
   "outputs": [],
   "source": [
    "with open('Hash-Tables/hash_tables_baseline.pkl', 'wb') as f:\n",
    "    pickle.dump(hash_tables, f)"
   ]
  },
  {
   "cell_type": "markdown",
   "id": "70f264b8-e59e-4995-b416-f8966cfc4d8f",
   "metadata": {},
   "source": [
    "## 4.3. Search for approximate nearest neighbors (this procedure need to be explained in the paper) "
   ]
  },
  {
   "cell_type": "code",
   "execution_count": 51,
   "id": "46bdb33d-c680-4242-919e-cd2dfd73e353",
   "metadata": {},
   "outputs": [
    {
     "data": {
      "text/plain": [
       "571"
      ]
     },
     "execution_count": 51,
     "metadata": {},
     "output_type": "execute_result"
    }
   ],
   "source": [
    "'pointer to the stack trace'\n",
    "index = random.randint(0,n_stacks)\n",
    "index"
   ]
  },
  {
   "cell_type": "code",
   "execution_count": 52,
   "id": "ce6258ad-9458-4e9b-867a-d3b4fc675966",
   "metadata": {
    "tags": []
   },
   "outputs": [
    {
     "data": {
      "text/plain": [
       "{47, 281, 352, 500, 571, 621, 623, 697}"
      ]
     },
     "execution_count": 52,
     "metadata": {},
     "output_type": "execute_result"
    }
   ],
   "source": [
    "set_near_duplicates = near_duplicates(L, K, b, index, hash_vectors_hamming, hash_tables)\n",
    "set_near_duplicates"
   ]
  },
  {
   "cell_type": "code",
   "execution_count": 53,
   "id": "d3c836e7-fc34-47cd-9889-f76db2bc71a2",
   "metadata": {},
   "outputs": [],
   "source": [
    "list_near_duplicate_pairs = near_duplicate_pairs(index, set_near_duplicates, n_stacks)\n",
    "n_duplicate_pairs = len(list_near_duplicate_pairs)"
   ]
  },
  {
   "cell_type": "code",
   "execution_count": 54,
   "id": "561cd65b-4aa5-4f8c-b4a2-423baa352721",
   "metadata": {
    "tags": []
   },
   "outputs": [
    {
     "data": {
      "text/plain": [
       "407745    0.838438\n",
       "407819    0.838438\n",
       "241668    0.838438\n",
       "46395     0.834358\n",
       "290090    0.826373\n",
       "374820    0.826373\n",
       "407743    0.805914\n",
       "Name: Dufrex, dtype: float64"
      ]
     },
     "execution_count": 54,
     "metadata": {},
     "output_type": "execute_result"
    }
   ],
   "source": [
    "near_duplicates_sim = df_measures['Dufrex'][list_near_duplicate_pairs].sort_values(ascending = False)\n",
    "near_duplicates_sim"
   ]
  },
  {
   "cell_type": "code",
   "execution_count": 55,
   "id": "6510bce7-6663-4db3-8455-0b846720c6f1",
   "metadata": {
    "tags": []
   },
   "outputs": [
    {
     "data": {
      "text/plain": [
       "{47, 281, 352, 500, 517, 623, 697}"
      ]
     },
     "execution_count": 55,
     "metadata": {},
     "output_type": "execute_result"
    }
   ],
   "source": [
    "set_real_nns, real_nns_sim = real_nns(index, df_measures, 'Dufrex', n_stacks, n_duplicate_pairs)\n",
    "set_real_nns"
   ]
  },
  {
   "cell_type": "code",
   "execution_count": 56,
   "id": "0c2d9881-6df4-463f-9dd1-7d02a9fd1347",
   "metadata": {
    "tags": []
   },
   "outputs": [
    {
     "data": {
      "text/plain": [
       "241668    0.838438\n",
       "407745    0.838438\n",
       "407819    0.838438\n",
       "46395     0.834358\n",
       "374820    0.826373\n",
       "290090    0.826373\n",
       "383150    0.817913\n",
       "dtype: float64"
      ]
     },
     "execution_count": 56,
     "metadata": {},
     "output_type": "execute_result"
    }
   ],
   "source": [
    "real_nns_sim[:n_duplicate_pairs]"
   ]
  },
  {
   "cell_type": "markdown",
   "id": "47aa72d7-020e-4a46-9f1c-f95ea57c3a2b",
   "metadata": {},
   "source": [
    "## 4.4. Metrics"
   ]
  },
  {
   "cell_type": "markdown",
   "id": "108a4d18-597e-4a51-9f51-940a80fd0be8",
   "metadata": {},
   "source": [
    "### 4.4.1. Ratio of finding the $k$ real nearest neighbor with the Least $L$ (Recal rate at $k$ first positions)"
   ]
  },
  {
   "cell_type": "code",
   "execution_count": 57,
   "id": "55ad1f38-83e2-4e55-8483-c7971ede8ec2",
   "metadata": {},
   "outputs": [
    {
     "data": {
      "text/plain": [
       "0.723"
      ]
     },
     "execution_count": 57,
     "metadata": {},
     "output_type": "execute_result"
    }
   ],
   "source": [
    "'All params'\n",
    "k_first_positions = 1\n",
    "recal_rate(n_stacks, params, hash_vectors_hamming, b, df_measures, k_first_positions, 'Dufrex')"
   ]
  },
  {
   "cell_type": "code",
   "execution_count": 58,
   "id": "7424b84d-1066-4e2c-a6ec-4c67d448440c",
   "metadata": {},
   "outputs": [
    {
     "data": {
      "text/plain": [
       "0.8670329670329671"
      ]
     },
     "execution_count": 58,
     "metadata": {},
     "output_type": "execute_result"
    }
   ],
   "source": [
    "'Best param'\n",
    "k_first_positions = 1\n",
    "recal_rate_one_param(n_stacks, params[3], hash_vectors_hamming, b, df_measures, k_first_positions, 'Dufrex')"
   ]
  },
  {
   "cell_type": "markdown",
   "id": "b20f2315-986c-4bc2-89dc-9dd1757a8c78",
   "metadata": {},
   "source": [
    "-----------------------------------------------------------------"
   ]
  },
  {
   "cell_type": "code",
   "execution_count": 59,
   "id": "aa6e30e1-37f9-45cc-8356-2df3ce14f4c1",
   "metadata": {},
   "outputs": [
    {
     "data": {
      "text/plain": [
       "0.7743333333333341"
      ]
     },
     "execution_count": 59,
     "metadata": {},
     "output_type": "execute_result"
    }
   ],
   "source": [
    "'All params'\n",
    "k_first_positions = 3\n",
    "recal_rate(n_stacks, params, hash_vectors_hamming, b, df_measures, k_first_positions, 'Dufrex')"
   ]
  },
  {
   "cell_type": "code",
   "execution_count": 60,
   "id": "d85c52a9-2948-44cd-94d8-62c40b7b8b8c",
   "metadata": {},
   "outputs": [
    {
     "data": {
      "text/plain": [
       "0.8927770300583222"
      ]
     },
     "execution_count": 60,
     "metadata": {},
     "output_type": "execute_result"
    }
   ],
   "source": [
    "'Best param'\n",
    "k_first_positions = 3\n",
    "recal_rate_one_param(n_stacks, params[3], hash_vectors_hamming, b, df_measures, k_first_positions, 'Dufrex')"
   ]
  },
  {
   "cell_type": "markdown",
   "id": "de7a74bc-5737-406e-b30e-d09834d1d6c5",
   "metadata": {},
   "source": [
    "-----------------------------------------------------------------"
   ]
  },
  {
   "cell_type": "code",
   "execution_count": 61,
   "id": "f3c6cd88-f248-41f1-8eac-74f36dcbd2cc",
   "metadata": {},
   "outputs": [
    {
     "data": {
      "text/plain": [
       "0.7887999999999992"
      ]
     },
     "execution_count": 61,
     "metadata": {},
     "output_type": "execute_result"
    }
   ],
   "source": [
    "'All params'\n",
    "k_first_positions = 5\n",
    "recal_rate(n_stacks, params, hash_vectors_hamming, b, df_measures, k_first_positions, 'Dufrex')"
   ]
  },
  {
   "cell_type": "code",
   "execution_count": 62,
   "id": "cd421b6d-9527-41f4-80c4-bd20572a75b9",
   "metadata": {},
   "outputs": [
    {
     "data": {
      "text/plain": [
       "0.8967238689547585"
      ]
     },
     "execution_count": 62,
     "metadata": {},
     "output_type": "execute_result"
    }
   ],
   "source": [
    "'Best param'\n",
    "k_first_positions = 5\n",
    "recal_rate_one_param(n_stacks, params[3], hash_vectors_hamming, b, df_measures, k_first_positions, 'Dufrex')"
   ]
  },
  {
   "cell_type": "markdown",
   "id": "78b9f9fc-d7c0-46a0-afc0-9d6295866fbf",
   "metadata": {},
   "source": [
    "### 4.4.2. Accuracy of finding the real nearest neighbors (Generalized MRR)"
   ]
  },
  {
   "cell_type": "markdown",
   "id": "81af2e1e-b878-4f18-95b7-4b4d35b5cb3f",
   "metadata": {},
   "source": [
    "$ \\frac{1}{|\\mathcal{R}_i|} \\sum_{s' \\in \\mathcal{R}_i} \\frac{\\text{rank}(s',\\mathcal{R}_i)}{\\text{rank}(s',NNs(s_i))} $"
   ]
  },
  {
   "cell_type": "code",
   "execution_count": 63,
   "id": "8d572df0-2963-4794-b603-a642a1c3422f",
   "metadata": {
    "tags": []
   },
   "outputs": [
    {
     "data": {
      "text/plain": [
       "0.9523809523809524"
      ]
     },
     "execution_count": 63,
     "metadata": {},
     "output_type": "execute_result"
    }
   ],
   "source": [
    "generalized_mrr(near_duplicates_sim, real_nns_sim)"
   ]
  },
  {
   "cell_type": "code",
   "execution_count": 64,
   "id": "20822989-304f-4ebf-b661-355b72deb819",
   "metadata": {
    "tags": []
   },
   "outputs": [
    {
     "data": {
      "text/plain": [
       "(1, 64)    0.910365\n",
       "(2, 32)    0.901524\n",
       "(4, 16)    0.882212\n",
       "(8, 8)     0.824517\n",
       "(16, 4)    0.759919\n",
       "(32, 2)    0.793053\n",
       "(64, 1)    0.949938\n",
       "dtype: float64"
      ]
     },
     "execution_count": 64,
     "metadata": {},
     "output_type": "execute_result"
    }
   ],
   "source": [
    "df_knns = mean_generalized_mrr(n_stacks, params, hash_vectors_hamming, b, df_measures ,'Dufrex', trace = False)\n",
    "df_knns.mean(skipna = True, axis = 0)"
   ]
  },
  {
   "cell_type": "code",
   "execution_count": 65,
   "id": "8cdd4039-1cc9-40d8-b096-84771b011940",
   "metadata": {},
   "outputs": [
    {
     "data": {
      "text/plain": [
       "0.8822124999916864"
      ]
     },
     "execution_count": 65,
     "metadata": {},
     "output_type": "execute_result"
    }
   ],
   "source": [
    "df_knns.mean()['(4, 16)']"
   ]
  },
  {
   "cell_type": "markdown",
   "id": "71402025-a6ff-4db1-8933-3756cc7217cd",
   "metadata": {},
   "source": [
    "### 4.4.3. Recall w.r.t. LSH"
   ]
  },
  {
   "cell_type": "code",
   "execution_count": 66,
   "id": "56e547e7-af20-460a-8e24-c2970d9c418d",
   "metadata": {},
   "outputs": [
    {
     "data": {
      "text/plain": [
       "(1, 64)    0.955307\n",
       "(2, 32)    0.797897\n",
       "(4, 16)    0.823052\n",
       "(8, 8)     0.696337\n",
       "(16, 4)    0.519442\n",
       "(32, 2)    0.475998\n",
       "(64, 1)    0.820849\n",
       "dtype: float64"
      ]
     },
     "execution_count": 66,
     "metadata": {},
     "output_type": "execute_result"
    }
   ],
   "source": [
    "df_recall = recall_all(n_stacks, params, hash_vectors_hamming, b, df_measures ,'Dufrex', trace = False)\n",
    "df_recall.mean(skipna = True)"
   ]
  },
  {
   "cell_type": "code",
   "execution_count": 67,
   "id": "53e673b7-e952-44f8-8980-871e14fd8e79",
   "metadata": {},
   "outputs": [
    {
     "data": {
      "image/png": "[encoded data removed]",
      "text/plain": [
       "<Figure size 324x288 with 1 Axes>"
      ]
     },
     "metadata": {
      "needs_background": "light"
     },
     "output_type": "display_data"
    }
   ],
   "source": [
    "f, ax = plt.subplots(figsize=(4.5, 4))\n",
    "ax = sns.boxplot(data = df_recall, palette=\"Set3\")\n",
    "plt.xlabel(\"Hyperparameters of LSH (L,K)\", fontsize = 13)\n",
    "plt.ylabel(\"Recall w.r.t. LSH guarantees\", fontsize = 13)\n",
    "plt.title('Dufrex (CNNH+LSH)', fontsize = 16)\n",
    "plt.savefig('Results/Baseline/Recall-LSH', bbox_inches='tight')\n",
    "plt.show()"
   ]
  },
  {
   "cell_type": "markdown",
   "id": "6dc2d5e4-5eb5-4938-85a7-a0e40b7b25fe",
   "metadata": {},
   "source": [
    "### 4.4.4. Precison w.r.t. LSH"
   ]
  },
  {
   "cell_type": "code",
   "execution_count": 68,
   "id": "c63a0fa7-b5f7-48f0-bc62-131263c00c09",
   "metadata": {},
   "outputs": [
    {
     "data": {
      "text/plain": [
       "(1, 64)    0.152787\n",
       "(2, 32)    0.260820\n",
       "(4, 16)    0.632831\n",
       "(8, 8)     0.737784\n",
       "(16, 4)    0.806697\n",
       "(32, 2)    0.875266\n",
       "(64, 1)    0.866548\n",
       "dtype: float64"
      ]
     },
     "execution_count": 68,
     "metadata": {},
     "output_type": "execute_result"
    }
   ],
   "source": [
    "df_precision = precision_all(n_stacks, params, hash_vectors_hamming, b, df_measures ,'Dufrex', trace = False)\n",
    "df_precision.mean(skipna = True, axis = 0)"
   ]
  },
  {
   "cell_type": "code",
   "execution_count": 69,
   "id": "41bb9770-90f6-4cbf-ab1c-f6aaa71862be",
   "metadata": {},
   "outputs": [
    {
     "data": {
      "image/png": "[encoded data removed]",
      "text/plain": [
       "<Figure size 324x288 with 1 Axes>"
      ]
     },
     "metadata": {
      "needs_background": "light"
     },
     "output_type": "display_data"
    }
   ],
   "source": [
    "f, ax = plt.subplots(figsize=(4.5, 4))\n",
    "ax = sns.boxplot(data = df_precision, palette=\"Set3\")\n",
    "plt.xlabel(\"Hyperparameters of LSH (L,K)\", fontsize = 13)\n",
    "plt.ylabel(\"Precision w.r.t. LSH guarantees\", fontsize = 13)\n",
    "plt.title('Dufrex (CNNH+LSH)', fontsize = 16)\n",
    "plt.savefig('Results/Baseline/precision-LSH', bbox_inches='tight')\n",
    "plt.show()"
   ]
  },
  {
   "cell_type": "markdown",
   "id": "57e9cd82-c4a6-4a09-8dd5-95929c09f6da",
   "metadata": {},
   "source": [
    "### 4.4.5. Fscore w.r.t. LSH"
   ]
  },
  {
   "cell_type": "code",
   "execution_count": 70,
   "id": "39b4cf8d-2e13-4b80-bbb8-0d6fb2d81941",
   "metadata": {},
   "outputs": [
    {
     "data": {
      "text/plain": [
       "(1, 64)    0.176291\n",
       "(2, 32)    0.273996\n",
       "(4, 16)    0.608631\n",
       "(8, 8)     0.633962\n",
       "(16, 4)    0.581895\n",
       "(32, 2)    0.588664\n",
       "(64, 1)    0.826393\n",
       "dtype: float64"
      ]
     },
     "execution_count": 70,
     "metadata": {},
     "output_type": "execute_result"
    }
   ],
   "source": [
    "df_score_all = fscore_all(df_precision, df_recall)\n",
    "df_score_all.mean(skipna = True)"
   ]
  },
  {
   "cell_type": "code",
   "execution_count": 71,
   "id": "fb8c0670-8d3f-4113-a077-63b0c41f806d",
   "metadata": {},
   "outputs": [
    {
     "data": {
      "image/png": "[encoded data removed]",
      "text/plain": [
       "<Figure size 324x288 with 1 Axes>"
      ]
     },
     "metadata": {
      "needs_background": "light"
     },
     "output_type": "display_data"
    }
   ],
   "source": [
    "f, ax = plt.subplots(figsize=(4.5, 4))\n",
    "ax = sns.boxplot(data = df_score_all, palette=\"Set3\")\n",
    "plt.xlabel(\"Hyperparameters of LSH (L,K)\", fontsize = 13)\n",
    "plt.ylabel(\"F1-score w.r.t. LSH guarantees\", fontsize = 13)\n",
    "plt.title('Dufrex (CNNH+LSH)', fontsize = 16)\n",
    "plt.savefig('Results/Baseline/fscore-LSH', bbox_inches='tight')\n",
    "plt.show()"
   ]
  }
 ],
 "metadata": {
  "kernelspec": {
   "display_name": "split-sd4x",
   "language": "python",
   "name": "split-sd4x"
  },
  "language_info": {
   "codemirror_mode": {
    "name": "ipython",
    "version": 3
   },
   "file_extension": ".py",
   "mimetype": "text/x-python",
   "name": "python",
   "nbconvert_exporter": "python",
   "pygments_lexer": "ipython3",
   "version": "3.7.10"
  }
 },
 "nbformat": 4,
 "nbformat_minor": 5
}
