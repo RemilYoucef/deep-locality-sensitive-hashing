{
 "cells": [
  {
   "cell_type": "code",
   "execution_count": 1,
   "id": "bb7e69c2-b065-46fa-b6eb-7ea56ae43f35",
   "metadata": {},
   "outputs": [],
   "source": [
    "import os\n",
    "import sys\n",
    "import numpy as np\n",
    "import pandas as pd\n",
    "import random\n",
    "import matplotlib.pyplot as plt\n",
    "import seaborn as sns\n",
    "import warnings\n",
    "import pickle\n",
    "from tensorflow import keras \n",
    "warnings.filterwarnings(\"ignore\")\n",
    "from sklearn.feature_extraction.text import CountVectorizer\n",
    "from sklearn.model_selection import train_test_split"
   ]
  },
  {
   "cell_type": "code",
   "execution_count": 2,
   "id": "1014d33e-c803-41ce-be12-ab1c3f929253",
   "metadata": {},
   "outputs": [],
   "source": [
    "sys.path.append(os.path.join(os.path.dirname(os.path.dirname(os.getcwd())),'python-packages/'))\n",
    "from deep_hashing_models import *\n",
    "from similarities import *\n",
    "from lsh_search import *"
   ]
  },
  {
   "cell_type": "markdown",
   "id": "627c738c-cd1f-4e1b-ae93-1aa3d25882aa",
   "metadata": {},
   "source": [
    "# 1. Data Preparation"
   ]
  },
  {
   "cell_type": "code",
   "execution_count": 3,
   "id": "e96659a4-eea0-48d9-8977-fecba559b78d",
   "metadata": {},
   "outputs": [],
   "source": [
    "data_repo = os.path.join(os.path.dirname(os.path.dirname(os.path.dirname(os.getcwd()))),'data/')"
   ]
  },
  {
   "cell_type": "code",
   "execution_count": 4,
   "id": "d2874701-b390-405b-9001-822faf31ade5",
   "metadata": {},
   "outputs": [],
   "source": [
    "df_distinct_stacks = pd.read_csv(data_repo + 'frequent_stack_traces.csv', index_col = [0])\n",
    "df_measures = pd.read_csv(data_repo + 'similarity-measures-pairs.csv', index_col = [0])"
   ]
  },
  {
   "cell_type": "code",
   "execution_count": 5,
   "id": "7b4772e1-6603-4344-a277-70d9728c61ea",
   "metadata": {},
   "outputs": [
    {
     "data": {
      "text/plain": [
       "1000"
      ]
     },
     "execution_count": 5,
     "metadata": {},
     "output_type": "execute_result"
    }
   ],
   "source": [
    "n_stacks = df_distinct_stacks.shape[0]\n",
    "n_stacks"
   ]
  },
  {
   "cell_type": "code",
   "execution_count": 6,
   "id": "e515f018-4609-4487-8d87-d707ca6347da",
   "metadata": {},
   "outputs": [],
   "source": [
    "vectorizer_bag_of_frames = CountVectorizer(token_pattern = r\"(?u)\\b[a-zA-Z0-9_.]{2,}\\b\")\n",
    "s = df_distinct_stacks['stackTraceCusto'].apply(lambda x : x.replace('\\n',' '))\n",
    "s = s.apply(lambda x : x.replace('$',''))\n",
    "s = s.apply(lambda x : x.replace('/',''))\n",
    "s = s.apply(lambda x : x.replace('<',''))\n",
    "s = s.apply(lambda x : x.replace('>',''))\n",
    "X_bag_of_frames = vectorizer_bag_of_frames.fit_transform(list(s)).toarray()\n",
    "df_bag_of_frames = pd.DataFrame(data = X_bag_of_frames, columns = vectorizer_bag_of_frames.get_feature_names())"
   ]
  },
  {
   "cell_type": "code",
   "execution_count": 7,
   "id": "50aa90c2-205c-4f47-8230-4da0ea7d618f",
   "metadata": {},
   "outputs": [],
   "source": [
    "X_train, X_validation, Y_train, Y_validation = train_test_split(df_measures.index, df_measures['Moroo'], test_size = 0.2) "
   ]
  },
  {
   "cell_type": "code",
   "execution_count": 8,
   "id": "9b5ac005-aa8f-47fe-a5cf-ece206be1621",
   "metadata": {},
   "outputs": [],
   "source": [
    "indexes_train_1 = X_train.to_series().apply(lambda x : get_two_indexes(x, df_distinct_stacks.shape[0])[0]).to_list()\n",
    "indexes_train_2 = X_train.to_series().apply(lambda x : get_two_indexes(x, df_distinct_stacks.shape[0])[1]).to_list()\n",
    "indexes_validation_1 = X_validation.to_series().apply(lambda x : get_two_indexes(x, df_distinct_stacks.shape[0])[0]).to_list()\n",
    "indexes_validation_2 = X_validation.to_series().apply(lambda x : get_two_indexes(x, df_distinct_stacks.shape[0])[1]).to_list()"
   ]
  },
  {
   "cell_type": "code",
   "execution_count": 9,
   "id": "ed7fad07-aacc-453c-beba-7b0123b67c82",
   "metadata": {},
   "outputs": [],
   "source": [
    "X_train = dict()\n",
    "X_train['stack_1'] = df_bag_of_frames.loc[indexes_train_1].values\n",
    "X_train['stack_2'] = df_bag_of_frames.loc[indexes_train_2].values\n",
    "\n",
    "X_validation = dict()\n",
    "X_validation['stack_1'] = df_bag_of_frames.loc[indexes_validation_1].values\n",
    "X_validation['stack_2'] = df_bag_of_frames.loc[indexes_validation_2].values"
   ]
  },
  {
   "cell_type": "code",
   "execution_count": 10,
   "id": "7a79ade3-db36-4098-9c5a-109ec33a37eb",
   "metadata": {},
   "outputs": [],
   "source": [
    "Y_train = Y_train.values\n",
    "Y_validation = Y_validation.values"
   ]
  },
  {
   "cell_type": "code",
   "execution_count": 11,
   "id": "5f8cc839-bd54-4630-8f35-2a89bb19c00d",
   "metadata": {},
   "outputs": [],
   "source": [
    "assert X_train['stack_1'].shape == X_train['stack_2'].shape\n",
    "assert len(X_train['stack_1']) == len(Y_train)"
   ]
  },
  {
   "cell_type": "markdown",
   "id": "753999cd-6682-4263-b38e-1865140e6708",
   "metadata": {},
   "source": [
    "### Distribution of training data"
   ]
  },
  {
   "cell_type": "code",
   "execution_count": 12,
   "id": "3db6e7b6-ff7f-4089-be9b-af02e34646ed",
   "metadata": {},
   "outputs": [
    {
     "data": {
      "image/png": "[encoded data removed]",
      "text/plain": [
       "<Figure size 720x360 with 1 Axes>"
      ]
     },
     "metadata": {
      "needs_background": "light"
     },
     "output_type": "display_data"
    }
   ],
   "source": [
    "plt.rcParams[\"figure.figsize\"] = [10, 5]\n",
    "plt.hist(Y_train, 20, alpha = 1, density = False)\n",
    "plt.show()"
   ]
  },
  {
   "cell_type": "markdown",
   "id": "3a910820-e364-426d-9cbd-411794637bc8",
   "metadata": {},
   "source": [
    "### Distribution of test data"
   ]
  },
  {
   "cell_type": "code",
   "execution_count": 13,
   "id": "c242807e-a11b-43e2-82a0-aed22cbdefbc",
   "metadata": {},
   "outputs": [
    {
     "data": {
      "image/png": "[encoded data removed]",
      "text/plain": [
       "<Figure size 720x360 with 1 Axes>"
      ]
     },
     "metadata": {
      "needs_background": "light"
     },
     "output_type": "display_data"
    }
   ],
   "source": [
    "plt.rcParams[\"figure.figsize\"] = [10, 5]\n",
    "plt.hist(Y_validation, 20, alpha = 1, density = False)\n",
    "plt.show()"
   ]
  },
  {
   "cell_type": "markdown",
   "id": "19aa15e5-aee6-46ea-9c52-d1fa077b05dc",
   "metadata": {},
   "source": [
    "# 2. Model Design"
   ]
  },
  {
   "cell_type": "code",
   "execution_count": 14,
   "id": "02a2362d-059a-44b7-94f7-24e03680eef0",
   "metadata": {},
   "outputs": [],
   "source": [
    "'Number of hash tables functions' \n",
    "m = 64"
   ]
  },
  {
   "cell_type": "code",
   "execution_count": 15,
   "id": "6ea1ca10-c9ff-4735-ae80-e03691eb16ba",
   "metadata": {},
   "outputs": [],
   "source": [
    "'Number of bits per hash function' \n",
    "b = 16"
   ]
  },
  {
   "cell_type": "code",
   "execution_count": 16,
   "id": "06478197-071f-4395-804f-cbc171aadbd5",
   "metadata": {},
   "outputs": [
    {
     "data": {
      "text/plain": [
       "1024"
      ]
     },
     "execution_count": 16,
     "metadata": {},
     "output_type": "execute_result"
    }
   ],
   "source": [
    "'Size hash vector'\n",
    "size_hash_vector = m * b\n",
    "size_hash_vector"
   ]
  },
  {
   "cell_type": "markdown",
   "id": "0d60851f-b05f-4bc6-80f0-ce736180afe0",
   "metadata": {},
   "source": [
    "## 2.1. Feature learning phase"
   ]
  },
  {
   "cell_type": "code",
   "execution_count": 17,
   "id": "d9893ed6-5d0b-41b2-816b-b410e1c07910",
   "metadata": {},
   "outputs": [],
   "source": [
    "x = Sequential()\n",
    "x.add(Dense(2048, input_dim = X_train['stack_1'].shape[1], activation = 'tanh'))\n",
    "x.add(Dense(1024, activation = 'tanh'))\n",
    "x.add(Dense(size_hash_vector, activation = 'tanh'))\n",
    "shared_model = x"
   ]
  },
  {
   "cell_type": "markdown",
   "id": "279ba874-5ea0-4a94-83a1-f7f7c9ca8e0e",
   "metadata": {},
   "source": [
    "## 2.2. Siamese Model "
   ]
  },
  {
   "cell_type": "code",
   "execution_count": 18,
   "id": "d1d8a570-b1a8-489c-8312-e78dca471a63",
   "metadata": {
    "tags": []
   },
   "outputs": [],
   "source": [
    "input_shape = (X_train['stack_1'].shape[1],)\n",
    "model = siamese_model(shared_model, input_shape, b, m, is_sparse = True, print_summary = False)"
   ]
  },
  {
   "cell_type": "markdown",
   "id": "0bb438cf-7efb-4603-aab4-1364b187938f",
   "metadata": {},
   "source": [
    "## 2.3. Model training "
   ]
  },
  {
   "cell_type": "code",
   "execution_count": 19,
   "id": "3c6beca4-2caa-4c8c-8ca9-c3dfaedffbdc",
   "metadata": {},
   "outputs": [
    {
     "name": "stdout",
     "output_type": "stream",
     "text": [
      "Epoch 1/20\n",
      "781/781 [==============================] - 35s 34ms/step - loss: 0.0050 - ham_dist_loss: 0.0049 - prod_vec_loss: 0.0123 - prod_vec_1_loss: 0.0123 - sum_vec_loss: 1.5057e-04 - sum_vec_1_loss: 1.2902e-04 - ham_dist_rmse: 0.0699 - ham_dist_mae: 0.0259 - val_loss: 0.0012 - val_ham_dist_loss: 0.0011 - val_prod_vec_loss: 0.0029 - val_prod_vec_1_loss: 0.0031 - val_sum_vec_loss: 1.0401e-04 - val_sum_vec_1_loss: 9.2665e-05 - val_ham_dist_rmse: 0.0339 - val_ham_dist_mae: 0.0154\n",
      "Epoch 2/20\n",
      "781/781 [==============================] - 25s 33ms/step - loss: 9.7380e-04 - ham_dist_loss: 9.6194e-04 - prod_vec_loss: 0.0021 - prod_vec_1_loss: 0.0023 - sum_vec_loss: 8.2452e-05 - sum_vec_1_loss: 7.7639e-05 - ham_dist_rmse: 0.0310 - ham_dist_mae: 0.0143 - val_loss: 9.2909e-04 - val_ham_dist_loss: 9.3222e-04 - val_prod_vec_loss: 0.0016 - val_prod_vec_1_loss: 0.0018 - val_sum_vec_loss: 7.9786e-05 - val_sum_vec_1_loss: 6.8309e-05 - val_ham_dist_rmse: 0.0305 - val_ham_dist_mae: 0.0137\n",
      "Epoch 3/20\n",
      "781/781 [==============================] - 28s 35ms/step - loss: 7.9275e-04 - ham_dist_loss: 7.9703e-04 - prod_vec_loss: 0.0013 - prod_vec_1_loss: 0.0015 - sum_vec_loss: 6.7158e-05 - sum_vec_1_loss: 6.3464e-05 - ham_dist_rmse: 0.0282 - ham_dist_mae: 0.0129 - val_loss: 8.2628e-04 - val_ham_dist_loss: 8.4048e-04 - val_prod_vec_loss: 0.0011 - val_prod_vec_1_loss: 0.0012 - val_sum_vec_loss: 6.3702e-05 - val_sum_vec_1_loss: 6.0269e-05 - val_ham_dist_rmse: 0.0290 - val_ham_dist_mae: 0.0130\n",
      "Epoch 4/20\n",
      "781/781 [==============================] - 27s 34ms/step - loss: 7.0089e-04 - ham_dist_loss: 7.1195e-04 - prod_vec_loss: 9.3158e-04 - prod_vec_1_loss: 0.0011 - sum_vec_loss: 6.9892e-05 - sum_vec_1_loss: 6.8200e-05 - ham_dist_rmse: 0.0267 - ham_dist_mae: 0.0121 - val_loss: 7.5543e-04 - val_ham_dist_loss: 7.7381e-04 - val_prod_vec_loss: 8.3863e-04 - val_prod_vec_1_loss: 9.4524e-04 - val_sum_vec_loss: 6.6308e-05 - val_sum_vec_1_loss: 6.8616e-05 - val_ham_dist_rmse: 0.0278 - val_ham_dist_mae: 0.0124\n",
      "Epoch 5/20\n",
      "781/781 [==============================] - 25s 33ms/step - loss: 6.6422e-04 - ham_dist_loss: 6.7985e-04 - prod_vec_loss: 7.2964e-04 - prod_vec_1_loss: 8.4414e-04 - sum_vec_loss: 7.3882e-05 - sum_vec_1_loss: 7.1291e-05 - ham_dist_rmse: 0.0261 - ham_dist_mae: 0.0118 - val_loss: 7.2444e-04 - val_ham_dist_loss: 7.4705e-04 - val_prod_vec_loss: 6.5056e-04 - val_prod_vec_1_loss: 7.4686e-04 - val_sum_vec_loss: 7.3144e-05 - val_sum_vec_1_loss: 7.0862e-05 - val_ham_dist_rmse: 0.0273 - val_ham_dist_mae: 0.0120\n",
      "Epoch 6/20\n",
      "781/781 [==============================] - 26s 34ms/step - loss: 6.2836e-04 - ham_dist_loss: 6.4661e-04 - prod_vec_loss: 5.8031e-04 - prod_vec_1_loss: 6.7681e-04 - sum_vec_loss: 8.4716e-05 - sum_vec_1_loss: 7.6537e-05 - ham_dist_rmse: 0.0254 - ham_dist_mae: 0.0115 - val_loss: 7.2556e-04 - val_ham_dist_loss: 7.5218e-04 - val_prod_vec_loss: 5.3867e-04 - val_prod_vec_1_loss: 6.1948e-04 - val_sum_vec_loss: 7.1473e-05 - val_sum_vec_1_loss: 7.5157e-05 - val_ham_dist_rmse: 0.0274 - val_ham_dist_mae: 0.0121\n",
      "Epoch 7/20\n",
      "781/781 [==============================] - 28s 35ms/step - loss: 6.0888e-04 - ham_dist_loss: 6.2941e-04 - prod_vec_loss: 4.7636e-04 - prod_vec_1_loss: 5.6857e-04 - sum_vec_loss: 7.9958e-05 - sum_vec_1_loss: 7.8374e-05 - ham_dist_rmse: 0.0251 - ham_dist_mae: 0.0113 - val_loss: 6.7435e-04 - val_ham_dist_loss: 6.9948e-04 - val_prod_vec_loss: 4.7532e-04 - val_prod_vec_1_loss: 5.5764e-04 - val_sum_vec_loss: 7.9577e-05 - val_sum_vec_1_loss: 7.7323e-05 - val_ham_dist_rmse: 0.0264 - val_ham_dist_mae: 0.0118\n",
      "Epoch 8/20\n",
      "781/781 [==============================] - 26s 33ms/step - loss: 5.5425e-04 - ham_dist_loss: 5.7321e-04 - prod_vec_loss: 4.1085e-04 - prod_vec_1_loss: 4.9291e-04 - sum_vec_loss: 8.9610e-05 - sum_vec_1_loss: 8.5908e-05 - ham_dist_rmse: 0.0239 - ham_dist_mae: 0.0109 - val_loss: 5.9535e-04 - val_ham_dist_loss: 6.1804e-04 - val_prod_vec_loss: 3.7773e-04 - val_prod_vec_1_loss: 4.6211e-04 - val_sum_vec_loss: 9.2893e-05 - val_sum_vec_1_loss: 8.7245e-05 - val_ham_dist_rmse: 0.0249 - val_ham_dist_mae: 0.0110\n",
      "Epoch 9/20\n",
      "781/781 [==============================] - 26s 34ms/step - loss: 5.2409e-04 - ham_dist_loss: 5.4305e-04 - prod_vec_loss: 3.5444e-04 - prod_vec_1_loss: 4.3216e-04 - sum_vec_loss: 8.9936e-05 - sum_vec_1_loss: 8.2260e-05 - ham_dist_rmse: 0.0233 - ham_dist_mae: 0.0106 - val_loss: 6.1013e-04 - val_ham_dist_loss: 6.3620e-04 - val_prod_vec_loss: 3.3378e-04 - val_prod_vec_1_loss: 3.9618e-04 - val_sum_vec_loss: 7.6503e-05 - val_sum_vec_1_loss: 6.9862e-05 - val_ham_dist_rmse: 0.0252 - val_ham_dist_mae: 0.0110\n",
      "Epoch 10/20\n",
      "781/781 [==============================] - 24s 31ms/step - loss: 5.0357e-04 - ham_dist_loss: 5.2299e-04 - prod_vec_loss: 3.1086e-04 - prod_vec_1_loss: 3.8230e-04 - sum_vec_loss: 7.9547e-05 - sum_vec_1_loss: 7.6327e-05 - ham_dist_rmse: 0.0229 - ham_dist_mae: 0.0103 - val_loss: 5.6754e-04 - val_ham_dist_loss: 5.9179e-04 - val_prod_vec_loss: 2.9878e-04 - val_prod_vec_1_loss: 3.6891e-04 - val_sum_vec_loss: 7.4907e-05 - val_sum_vec_1_loss: 7.2099e-05 - val_ham_dist_rmse: 0.0243 - val_ham_dist_mae: 0.0108\n",
      "Epoch 11/20\n",
      "781/781 [==============================] - 25s 32ms/step - loss: 4.9550e-04 - ham_dist_loss: 5.1561e-04 - prod_vec_loss: 2.7872e-04 - prod_vec_1_loss: 3.4494e-04 - sum_vec_loss: 7.8470e-05 - sum_vec_1_loss: 7.3374e-05 - ham_dist_rmse: 0.0227 - ham_dist_mae: 0.0102 - val_loss: 5.5486e-04 - val_ham_dist_loss: 5.7964e-04 - val_prod_vec_loss: 2.6444e-04 - val_prod_vec_1_loss: 3.2578e-04 - val_sum_vec_loss: 7.4235e-05 - val_sum_vec_1_loss: 6.7986e-05 - val_ham_dist_rmse: 0.0241 - val_ham_dist_mae: 0.0107\n",
      "Epoch 12/20\n",
      "781/781 [==============================] - 25s 32ms/step - loss: 4.8334e-04 - ham_dist_loss: 5.0386e-04 - prod_vec_loss: 2.4562e-04 - prod_vec_1_loss: 3.1088e-04 - sum_vec_loss: 7.6349e-05 - sum_vec_1_loss: 6.9282e-05 - ham_dist_rmse: 0.0224 - ham_dist_mae: 0.0101 - val_loss: 5.4617e-04 - val_ham_dist_loss: 5.7134e-04 - val_prod_vec_loss: 2.3498e-04 - val_prod_vec_1_loss: 2.9041e-04 - val_sum_vec_loss: 7.9634e-05 - val_sum_vec_1_loss: 6.9626e-05 - val_ham_dist_rmse: 0.0239 - val_ham_dist_mae: 0.0104\n",
      "Epoch 13/20\n",
      "781/781 [==============================] - 25s 32ms/step - loss: 4.7430e-04 - ham_dist_loss: 4.9487e-04 - prod_vec_loss: 2.2896e-04 - prod_vec_1_loss: 2.8824e-04 - sum_vec_loss: 7.3867e-05 - sum_vec_1_loss: 7.1717e-05 - ham_dist_rmse: 0.0222 - ham_dist_mae: 0.0100 - val_loss: 5.1986e-04 - val_ham_dist_loss: 5.4427e-04 - val_prod_vec_loss: 2.1586e-04 - val_prod_vec_1_loss: 2.6912e-04 - val_sum_vec_loss: 6.4097e-05 - val_sum_vec_1_loss: 6.5386e-05 - val_ham_dist_rmse: 0.0233 - val_ham_dist_mae: 0.0104\n",
      "Epoch 14/20\n",
      "781/781 [==============================] - 25s 32ms/step - loss: 4.5470e-04 - ham_dist_loss: 4.7524e-04 - prod_vec_loss: 2.0381e-04 - prod_vec_1_loss: 2.5766e-04 - sum_vec_loss: 6.2319e-05 - sum_vec_1_loss: 6.2822e-05 - ham_dist_rmse: 0.0218 - ham_dist_mae: 0.0098 - val_loss: 5.2603e-04 - val_ham_dist_loss: 5.5097e-04 - val_prod_vec_loss: 2.0884e-04 - val_prod_vec_1_loss: 2.7144e-04 - val_sum_vec_loss: 6.2016e-05 - val_sum_vec_1_loss: 6.5739e-05 - val_ham_dist_rmse: 0.0235 - val_ham_dist_mae: 0.0103\n",
      "Epoch 15/20\n",
      "781/781 [==============================] - 23s 30ms/step - loss: 4.4475e-04 - ham_dist_loss: 4.6516e-04 - prod_vec_loss: 1.8842e-04 - prod_vec_1_loss: 2.4367e-04 - sum_vec_loss: 6.2378e-05 - sum_vec_1_loss: 5.9567e-05 - ham_dist_rmse: 0.0216 - ham_dist_mae: 0.0097 - val_loss: 5.1744e-04 - val_ham_dist_loss: 5.4272e-04 - val_prod_vec_loss: 1.8037e-04 - val_prod_vec_1_loss: 2.3143e-04 - val_sum_vec_loss: 7.2421e-05 - val_sum_vec_1_loss: 6.8649e-05 - val_ham_dist_rmse: 0.0233 - val_ham_dist_mae: 0.0101\n",
      "Epoch 16/20\n",
      "781/781 [==============================] - 24s 31ms/step - loss: 4.3294e-04 - ham_dist_loss: 4.5315e-04 - prod_vec_loss: 1.7023e-04 - prod_vec_1_loss: 2.2129e-04 - sum_vec_loss: 6.5931e-05 - sum_vec_1_loss: 6.1376e-05 - ham_dist_rmse: 0.0213 - ham_dist_mae: 0.0096 - val_loss: 4.9502e-04 - val_ham_dist_loss: 5.1968e-04 - val_prod_vec_loss: 1.5925e-04 - val_prod_vec_1_loss: 2.0031e-04 - val_sum_vec_loss: 7.2239e-05 - val_sum_vec_1_loss: 6.8440e-05 - val_ham_dist_rmse: 0.0228 - val_ham_dist_mae: 0.0099\n",
      "Epoch 17/20\n",
      "781/781 [==============================] - 24s 31ms/step - loss: 4.2580e-04 - ham_dist_loss: 4.4610e-04 - prod_vec_loss: 1.5752e-04 - prod_vec_1_loss: 2.0201e-04 - sum_vec_loss: 6.4551e-05 - sum_vec_1_loss: 6.1151e-05 - ham_dist_rmse: 0.0211 - ham_dist_mae: 0.0095 - val_loss: 5.1070e-04 - val_ham_dist_loss: 5.3611e-04 - val_prod_vec_loss: 1.6527e-04 - val_prod_vec_1_loss: 2.1150e-04 - val_sum_vec_loss: 7.0708e-05 - val_sum_vec_1_loss: 7.0369e-05 - val_ham_dist_rmse: 0.0232 - val_ham_dist_mae: 0.0100\n",
      "Epoch 18/20\n",
      "781/781 [==============================] - 24s 31ms/step - loss: 4.2265e-04 - ham_dist_loss: 4.4314e-04 - prod_vec_loss: 1.5260e-04 - prod_vec_1_loss: 1.9672e-04 - sum_vec_loss: 5.6919e-05 - sum_vec_1_loss: 5.5120e-05 - ham_dist_rmse: 0.0211 - ham_dist_mae: 0.0094 - val_loss: 4.9702e-04 - val_ham_dist_loss: 5.2248e-04 - val_prod_vec_loss: 1.5596e-04 - val_prod_vec_1_loss: 1.9450e-04 - val_sum_vec_loss: 5.7105e-05 - val_sum_vec_1_loss: 5.3025e-05 - val_ham_dist_rmse: 0.0229 - val_ham_dist_mae: 0.0098\n",
      "Epoch 19/20\n",
      "781/781 [==============================] - 24s 30ms/step - loss: 4.1405e-04 - ham_dist_loss: 4.3441e-04 - prod_vec_loss: 1.4112e-04 - prod_vec_1_loss: 1.8415e-04 - sum_vec_loss: 5.5689e-05 - sum_vec_1_loss: 5.4132e-05 - ham_dist_rmse: 0.0208 - ham_dist_mae: 0.0094 - val_loss: 4.7712e-04 - val_ham_dist_loss: 5.0172e-04 - val_prod_vec_loss: 1.3880e-04 - val_prod_vec_1_loss: 1.8092e-04 - val_sum_vec_loss: 5.5095e-05 - val_sum_vec_1_loss: 5.7850e-05 - val_ham_dist_rmse: 0.0224 - val_ham_dist_mae: 0.0097\n",
      "Epoch 20/20\n",
      "781/781 [==============================] - 23s 30ms/step - loss: 4.0194e-04 - ham_dist_loss: 4.2189e-04 - prod_vec_loss: 1.2913e-04 - prod_vec_1_loss: 1.7021e-04 - sum_vec_loss: 5.6010e-05 - sum_vec_1_loss: 5.5558e-05 - ham_dist_rmse: 0.0205 - ham_dist_mae: 0.0092 - val_loss: 4.6738e-04 - val_ham_dist_loss: 4.9194e-04 - val_prod_vec_loss: 1.2483e-04 - val_prod_vec_1_loss: 1.6499e-04 - val_sum_vec_loss: 5.2481e-05 - val_sum_vec_1_loss: 5.3729e-05 - val_ham_dist_rmse: 0.0222 - val_ham_dist_mae: 0.0097\n"
     ]
    }
   ],
   "source": [
    "siamese_model = train_siamese_model(model, X_train, X_validation, Y_train, Y_validation, batch_size = 512, epochs = 20)"
   ]
  },
  {
   "cell_type": "markdown",
   "id": "8de2153c-d75d-41be-848b-d503f6c36239",
   "metadata": {},
   "source": [
    "# 3. Model Evaluation"
   ]
  },
  {
   "cell_type": "code",
   "execution_count": 20,
   "id": "70c8adc8-2869-4868-b036-a328d003da67",
   "metadata": {},
   "outputs": [
    {
     "data": {
      "text/plain": [
       "[<tensorflow.python.keras.engine.input_layer.InputLayer at 0x7fb2773d5050>,\n",
       " <tensorflow.python.keras.engine.input_layer.InputLayer at 0x7fb2773cef10>,\n",
       " <tensorflow.python.keras.engine.sequential.Sequential at 0x7fb2774cced0>,\n",
       " <deep_hashing_models.HamDist at 0x7fb2773ce490>,\n",
       " <deep_hashing_models.ProdVec at 0x7fb2773c8550>,\n",
       " <deep_hashing_models.ProdVec at 0x7fb276f02750>,\n",
       " <deep_hashing_models.SumVec at 0x7fb276efa850>,\n",
       " <deep_hashing_models.SumVec at 0x7fb276f18ed0>]"
      ]
     },
     "execution_count": 20,
     "metadata": {},
     "output_type": "execute_result"
    }
   ],
   "source": [
    "model.layers"
   ]
  },
  {
   "cell_type": "markdown",
   "id": "6e08e438-f7db-4ffd-a703-c050649eed80",
   "metadata": {},
   "source": [
    "## 3.1. Loss functions"
   ]
  },
  {
   "cell_type": "markdown",
   "id": "2ba523e6-4b29-4979-9739-3840a9d279e5",
   "metadata": {},
   "source": [
    "#### 3.1.1. MSE of $\\mathcal{L}_{DeepLSH}$"
   ]
  },
  {
   "cell_type": "code",
   "execution_count": 21,
   "id": "78fa1d12-53e0-4b18-bd6d-b49e0ac5a173",
   "metadata": {},
   "outputs": [
    {
     "data": {
      "text/plain": [
       "<matplotlib.legend.Legend at 0x7fb2775b4b10>"
      ]
     },
     "execution_count": 21,
     "metadata": {},
     "output_type": "execute_result"
    },
    {
     "data": {
      "image/png": "[encoded data removed]",
      "text/plain": [
       "<Figure size 324x288 with 1 Axes>"
      ]
     },
     "metadata": {
      "needs_background": "light"
     },
     "output_type": "display_data"
    }
   ],
   "source": [
    "plt.rcParams[\"figure.figsize\"] = (4.5,4)\n",
    "plt.plot(siamese_model.history['loss'], linewidth = 2.5)\n",
    "plt.plot(siamese_model.history['val_loss'], linewidth = 2.5)\n",
    "plt.title('Moroo (DeepLSH)', fontsize = 18)\n",
    "plt.ylabel('Mean Squared Error', fontsize = 13)\n",
    "plt.xlabel('Epochs', fontsize = 13)\n",
    "plt.xticks(fontsize= 12)\n",
    "plt.yticks(fontsize= 12)\n",
    "plt.ticklabel_format(axis = 'y', style='', scilimits=(0,0))\n",
    "plt.savefig('Results/DeepLSH/loss-MSE.png', bbox_inches='tight')\n",
    "plt.legend(['Train', 'Validation'], loc='upper right', fontsize=15)"
   ]
  },
  {
   "cell_type": "markdown",
   "id": "05afb4e6-9037-456a-9663-060eb611c0b8",
   "metadata": {},
   "source": [
    "#### 3.1.2. RMSE of LSH preserving loss"
   ]
  },
  {
   "cell_type": "code",
   "execution_count": 22,
   "id": "9cd1cda5-36b1-41ab-8dc3-2ebfe56fd4d9",
   "metadata": {},
   "outputs": [
    {
     "data": {
      "text/plain": [
       "<matplotlib.legend.Legend at 0x7faa556d4fd0>"
      ]
     },
     "execution_count": 22,
     "metadata": {},
     "output_type": "execute_result"
    },
    {
     "data": {
      "image/png": "[encoded data removed]",
      "text/plain": [
       "<Figure size 576x360 with 1 Axes>"
      ]
     },
     "metadata": {
      "needs_background": "light"
     },
     "output_type": "display_data"
    }
   ],
   "source": [
    "plt.rcParams[\"figure.figsize\"] = (8,5)\n",
    "plt.plot(siamese_model.history[model.layers[3].name + '_rmse'], linewidth = 2)\n",
    "plt.plot(siamese_model.history['val_' + model.layers[3].name + '_rmse'], linewidth = 2)\n",
    "plt.title('Moroo (DeepLSH)', fontsize = 20)\n",
    "plt.ylabel('RMSE (LSH-preserving)', fontsize = 12)\n",
    "plt.xlabel('Epochs', fontsize = 12)\n",
    "plt.ticklabel_format(style='', scilimits=(0,0))\n",
    "plt.legend(['Train', 'Validation'], loc='upper right', fontsize=15)"
   ]
  },
  {
   "cell_type": "markdown",
   "id": "ac94472b-7465-4ab0-99dd-c042b4a32572",
   "metadata": {},
   "source": [
    "#### 3.1.3. MAE of LSH preserving loss"
   ]
  },
  {
   "cell_type": "code",
   "execution_count": 23,
   "id": "c4c8e448-e36f-4a8d-8d5f-a5da5c4d5019",
   "metadata": {},
   "outputs": [
    {
     "data": {
      "text/plain": [
       "<matplotlib.legend.Legend at 0x7faa5566eb10>"
      ]
     },
     "execution_count": 23,
     "metadata": {},
     "output_type": "execute_result"
    },
    {
     "data": {
      "image/png": "[encoded data removed]",
      "text/plain": [
       "<Figure size 576x360 with 1 Axes>"
      ]
     },
     "metadata": {
      "needs_background": "light"
     },
     "output_type": "display_data"
    }
   ],
   "source": [
    "plt.rcParams[\"figure.figsize\"] = (8,5)\n",
    "plt.plot(siamese_model.history[model.layers[3].name + '_mae'], linewidth = 2)\n",
    "plt.plot(siamese_model.history['val_' + model.layers[3].name + '_mae'], linewidth = 2)\n",
    "plt.title('Moroo (DeepLSH)', fontsize = 20)\n",
    "plt.ylabel('MAE (LSH-preserving)', fontsize = 12)\n",
    "plt.xlabel('Epochs', fontsize = 12)\n",
    "plt.ticklabel_format(style='', scilimits=(0,0))\n",
    "plt.legend(['Train', 'Validation'], loc='upper right', fontsize=15)"
   ]
  },
  {
   "cell_type": "markdown",
   "id": "f8f7f1d0-62b0-4612-ab39-9c38fad06a4c",
   "metadata": {},
   "source": [
    "## 3.2. Model Predictions"
   ]
  },
  {
   "cell_type": "code",
   "execution_count": 24,
   "id": "1f089e9c-7bbd-40fb-90f3-3e4c7a2798d2",
   "metadata": {},
   "outputs": [],
   "source": [
    "predictions = predict(model, X_validation)"
   ]
  },
  {
   "cell_type": "markdown",
   "id": "19834dba-ff8b-45fa-aead-ac2e6d099273",
   "metadata": {},
   "source": [
    "### 3.2.1. Examples"
   ]
  },
  {
   "cell_type": "code",
   "execution_count": 25,
   "id": "eade347d-6ee3-4fa3-ba1a-c5298f94c96e",
   "metadata": {},
   "outputs": [
    {
     "data": {
      "text/plain": [
       "array([0.063, 0.121, 0.   , 0.   , 0.078, 0.   , 0.045, 0.   , 0.   ,\n",
       "       0.016, 0.   , 0.078, 0.   , 0.   , 0.   , 0.124, 0.   , 0.017,\n",
       "       0.   , 0.   , 0.031, 0.001, 0.   , 0.   , 0.   , 0.   , 0.103,\n",
       "       0.094, 0.047, 0.   , 0.   , 0.   , 0.   , 0.   , 0.   , 0.   ,\n",
       "       0.031, 0.094, 0.   , 0.016, 0.159, 0.   , 0.   , 0.   , 0.   ,\n",
       "       0.12 , 0.   , 0.   , 0.18 , 0.   ], dtype=float32)"
      ]
     },
     "execution_count": 25,
     "metadata": {},
     "output_type": "execute_result"
    }
   ],
   "source": [
    "np.around(predictions[0][:50],3) "
   ]
  },
  {
   "cell_type": "code",
   "execution_count": 26,
   "id": "8f18d2a7-c115-4a7c-9492-facb302c578b",
   "metadata": {},
   "outputs": [
    {
     "data": {
      "text/plain": [
       "array([0.068, 0.142, 0.   , 0.   , 0.083, 0.   , 0.05 , 0.   , 0.   ,\n",
       "       0.   , 0.   , 0.054, 0.   , 0.   , 0.   , 0.093, 0.   , 0.006,\n",
       "       0.   , 0.   , 0.044, 0.   , 0.   , 0.   , 0.   , 0.   , 0.083,\n",
       "       0.088, 0.042, 0.   , 0.   , 0.   , 0.   , 0.   , 0.   , 0.   ,\n",
       "       0.047, 0.079, 0.   , 0.   , 0.247, 0.   , 0.   , 0.   , 0.   ,\n",
       "       0.167, 0.   , 0.   , 0.109, 0.   ])"
      ]
     },
     "execution_count": 26,
     "metadata": {},
     "output_type": "execute_result"
    }
   ],
   "source": [
    "np.around(Y_validation[:50],3) "
   ]
  },
  {
   "cell_type": "markdown",
   "id": "98409488-ca93-4cd3-b71c-547fa4baa6ef",
   "metadata": {},
   "source": [
    "### 3.2.2. Spearman $\\rho$ and Kendall $\\tau$ correlation"
   ]
  },
  {
   "cell_type": "code",
   "execution_count": 27,
   "id": "01573553-5d50-49eb-aa52-c480c0de67f0",
   "metadata": {},
   "outputs": [
    {
     "data": {
      "image/png": "[encoded data removed]",
      "text/plain": [
       "<Figure size 288x288 with 1 Axes>"
      ]
     },
     "metadata": {
      "needs_background": "light"
     },
     "output_type": "display_data"
    }
   ],
   "source": [
    "plt.rcParams[\"figure.figsize\"] = (4,4)\n",
    "plt.scatter(Y_validation, predictions[0], alpha = 0.5, marker = 'x', c = '#227093')\n",
    "plt.title('Moroo (DeepLSH)', fontsize = 16)\n",
    "plt.xlabel(\"Moroo similarity values\", fontsize = 12)\n",
    "plt.ylabel(\"Collision probability\", fontsize = 12)\n",
    "plt.savefig('Results/DeepLSH/Moroo-correlation', bbox_inches='tight')\n",
    "plt.show()"
   ]
  },
  {
   "cell_type": "code",
   "execution_count": 28,
   "id": "f80a43e7-b4b5-4956-9b3d-6a1457a6ee92",
   "metadata": {},
   "outputs": [
    {
     "data": {
      "text/plain": [
       "0.9293566918546374"
      ]
     },
     "execution_count": 28,
     "metadata": {},
     "output_type": "execute_result"
    }
   ],
   "source": [
    "rho, p_value = spearman_rho(predictions, Y_validation)\n",
    "rho"
   ]
  },
  {
   "cell_type": "code",
   "execution_count": 29,
   "id": "7f6dc861-28aa-4f3d-b0fb-7f5caf453280",
   "metadata": {},
   "outputs": [
    {
     "data": {
      "text/plain": [
       "0.8468897123755879"
      ]
     },
     "execution_count": 29,
     "metadata": {},
     "output_type": "execute_result"
    }
   ],
   "source": [
    "tau, p_value = kendall_tau(predictions, Y_validation)\n",
    "tau"
   ]
  },
  {
   "cell_type": "markdown",
   "id": "895fc952-6e22-451a-abd2-86de43e87328",
   "metadata": {},
   "source": [
    "## 3.3. Approximate Hamming Evaluation"
   ]
  },
  {
   "cell_type": "code",
   "execution_count": 30,
   "id": "6b9edd91-5e15-4aa8-8a05-4985b8623897",
   "metadata": {},
   "outputs": [
    {
     "data": {
      "text/plain": [
       "<tensorflow.python.keras.engine.sequential.Sequential at 0x7fb2774cced0>"
      ]
     },
     "execution_count": 30,
     "metadata": {},
     "output_type": "execute_result"
    }
   ],
   "source": [
    "output_layer = 2\n",
    "model.layers[output_layer]"
   ]
  },
  {
   "cell_type": "code",
   "execution_count": 31,
   "id": "acaf1823-ca3b-4d6c-9a71-a6c9acf5e1f5",
   "metadata": {},
   "outputs": [],
   "source": [
    "intermediate_model = intermediate_model_trained(shared_model, output_layer)"
   ]
  },
  {
   "cell_type": "code",
   "execution_count": 32,
   "id": "af463035-c96a-4c73-b86b-88d4008062f4",
   "metadata": {},
   "outputs": [
    {
     "name": "stdout",
     "output_type": "stream",
     "text": [
      "WARNING:tensorflow:Compiled the loaded model, but the compiled metrics have yet to be built. `model.compile_metrics` will be empty until you train or evaluate the model.\n",
      "INFO:tensorflow:Assets written to: Models/model-deep-lsh.model/assets\n"
     ]
    }
   ],
   "source": [
    "intermediate_model.save('Models/model-deep-lsh.model')"
   ]
  },
  {
   "cell_type": "code",
   "execution_count": 33,
   "id": "e1d76839-294e-46e9-9318-89ef7ee93f72",
   "metadata": {},
   "outputs": [],
   "source": [
    "#intermediate_model = keras.models.load_model('Models/model-deep-lsh.model')"
   ]
  },
  {
   "cell_type": "markdown",
   "id": "b4d1758f-ff99-49fc-b85c-4fe66560da40",
   "metadata": {},
   "source": [
    "### 3.3.1. Example of a hash vector provided by the model (in the last epoch)"
   ]
  },
  {
   "cell_type": "code",
   "execution_count": 34,
   "id": "ec686420-c52a-4925-852f-939cfe007904",
   "metadata": {
    "tags": []
   },
   "outputs": [
    {
     "data": {
      "text/plain": [
       "array([-1.        , -1.        ,  1.        , -1.        ,  1.        ,\n",
       "        0.9999997 ,  1.        , -1.        ,  1.        , -1.        ,\n",
       "        1.        ,  1.        , -1.        ,  1.        ,  1.        ,\n",
       "        1.        , -1.        ,  1.        ,  1.        ,  1.        ,\n",
       "       -1.        ,  1.        ,  1.        ,  1.        ,  1.        ,\n",
       "       -1.        , -1.        , -1.        , -1.        ,  1.        ,\n",
       "        1.        , -1.        , -0.94735134, -1.        , -0.9999908 ,\n",
       "       -1.        ,  1.        ,  1.        , -1.        , -1.        ,\n",
       "       -1.        , -1.        , -1.        ,  1.        ,  1.        ,\n",
       "        1.        ,  1.        ,  0.9924159 , -1.        , -0.9618981 ,\n",
       "       -1.        , -1.        ,  1.        ,  0.99851125, -1.        ,\n",
       "       -1.        , -1.        ,  1.        , -1.        , -1.        ,\n",
       "       -1.        ,  1.        ,  1.        , -1.        ], dtype=float32)"
      ]
     },
     "execution_count": 34,
     "metadata": {},
     "output_type": "execute_result"
    }
   ],
   "source": [
    "'First 64 bits'\n",
    "intermediate_model.predict(df_bag_of_frames.iloc[[10]])[0][:64]"
   ]
  },
  {
   "cell_type": "markdown",
   "id": "4ec939b1-4814-49cd-80ff-ee2bad747358",
   "metadata": {},
   "source": [
    "### 3.3.2. Average value of the absolute hash values"
   ]
  },
  {
   "cell_type": "code",
   "execution_count": 35,
   "id": "f54a9180-f4a4-4e0c-94ed-e36df291b072",
   "metadata": {},
   "outputs": [],
   "source": [
    "hash_vectors = intermediate_model.predict(df_bag_of_frames)"
   ]
  },
  {
   "cell_type": "code",
   "execution_count": 36,
   "id": "b5607102-bb85-46a9-9551-045f437edfcf",
   "metadata": {
    "tags": []
   },
   "outputs": [
    {
     "data": {
      "text/plain": [
       "array([[-1.       ,  1.       , -1.       , ..., -1.       ,  1.       ,\n",
       "         1.       ],\n",
       "       [-1.       ,  1.       , -1.       , ..., -1.       ,  1.       ,\n",
       "         1.       ],\n",
       "       [-1.       , -1.       ,  1.       , ...,  1.       ,  1.       ,\n",
       "         1.       ],\n",
       "       ...,\n",
       "       [ 1.       ,  1.       , -1.       , ..., -1.       , -1.       ,\n",
       "        -1.       ],\n",
       "       [-1.       ,  0.983437 , -1.       , ...,  1.       ,  1.       ,\n",
       "        -1.       ],\n",
       "       [-1.       , -1.       ,  1.       , ...,  0.6132597, -1.       ,\n",
       "         1.       ]], dtype=float32)"
      ]
     },
     "execution_count": 36,
     "metadata": {},
     "output_type": "execute_result"
    }
   ],
   "source": [
    "hash_vectors"
   ]
  },
  {
   "cell_type": "code",
   "execution_count": 37,
   "id": "0fd308c0-f913-4d55-b45b-01f976a62e0b",
   "metadata": {},
   "outputs": [
    {
     "data": {
      "text/plain": [
       "0.9917922"
      ]
     },
     "execution_count": 37,
     "metadata": {},
     "output_type": "execute_result"
    }
   ],
   "source": [
    "np.mean(np.abs(hash_vectors))"
   ]
  },
  {
   "cell_type": "markdown",
   "id": "2ca2d6a3-75da-472a-99bb-b25ece9df8a7",
   "metadata": {},
   "source": [
    "### 3.3.3. Ratio of binary values from hash vectors provided by the model"
   ]
  },
  {
   "cell_type": "code",
   "execution_count": 38,
   "id": "5bb9bdd7-c931-4db2-8a89-b20c7fb92d9e",
   "metadata": {},
   "outputs": [
    {
     "data": {
      "text/plain": [
       "0.8540439453125"
      ]
     },
     "execution_count": 38,
     "metadata": {},
     "output_type": "execute_result"
    }
   ],
   "source": [
    "hash_vectors[(hash_vectors == 1) | (hash_vectors == -1)].size / hash_vectors.size"
   ]
  },
  {
   "cell_type": "markdown",
   "id": "5a606dc1-dd06-4376-9f33-1254286c701d",
   "metadata": {},
   "source": [
    "### 3.3.4. Comparison between approximate hamming and real hamming"
   ]
  },
  {
   "cell_type": "code",
   "execution_count": 39,
   "id": "03dd89e8-82d7-47c2-8c33-a0652d3ec536",
   "metadata": {},
   "outputs": [],
   "source": [
    "df_hamming = compare_hamming(X_validation, intermediate_model, b, size_hash_vector)"
   ]
  },
  {
   "cell_type": "code",
   "execution_count": 40,
   "id": "3fdc0913-64e8-4b05-a1fd-75f20c1a418a",
   "metadata": {},
   "outputs": [
    {
     "data": {
      "image/png": "[encoded data removed]",
      "text/plain": [
       "<Figure size 288x288 with 1 Axes>"
      ]
     },
     "metadata": {
      "needs_background": "light"
     },
     "output_type": "display_data"
    }
   ],
   "source": [
    "plt.rcParams[\"figure.figsize\"] = (4,4)\n",
    "plt.scatter(predictions[0], df_hamming['hamming'], alpha = 0.5, marker = 'x', c = '#b33939')\n",
    "plt.xlabel(\"Approximate Hamming Similariy\", fontsize = 12)\n",
    "plt.ylabel(\"Hamming Similarity\", fontsize = 12)\n",
    "plt.title('Moroo (DeepLSH)', fontsize = 16)\n",
    "plt.savefig('Results/DeepLSH/Moroo-hamming-comparison', bbox_inches='tight')\n",
    "plt.show()"
   ]
  },
  {
   "cell_type": "markdown",
   "id": "b030832c-7872-45da-8698-a0bbf16fe3cb",
   "metadata": {},
   "source": [
    "# 4. Locality Sensitive Hashing"
   ]
  },
  {
   "cell_type": "code",
   "execution_count": 41,
   "id": "2aacdd9c-73d0-4257-af38-1768e9f4aa05",
   "metadata": {},
   "outputs": [],
   "source": [
    "hash_vectors_hamming = convert_to_hamming(hash_vectors)"
   ]
  },
  {
   "cell_type": "code",
   "execution_count": 42,
   "id": "f3bb826f-5e0d-4d6e-8356-d1f3315d6ebd",
   "metadata": {},
   "outputs": [
    {
     "data": {
      "text/plain": [
       "[(1, 64), (2, 32), (4, 16), (8, 8), (16, 4), (32, 2), (64, 1)]"
      ]
     },
     "execution_count": 42,
     "metadata": {},
     "output_type": "execute_result"
    }
   ],
   "source": [
    "params = lsh_hyperparams(m)\n",
    "'(K,L)'\n",
    "params "
   ]
  },
  {
   "cell_type": "markdown",
   "id": "cabab99d-9820-4b91-a6ed-6f2b3b38b0b9",
   "metadata": {},
   "source": [
    "## 4.1. Choose the best combination (L, K)"
   ]
  },
  {
   "cell_type": "code",
   "execution_count": 43,
   "id": "1aeac3ba-cb08-4e8a-913b-1dbd0529c782",
   "metadata": {},
   "outputs": [
    {
     "data": {
      "text/plain": [
       "<matplotlib.legend.Legend at 0x7faa553bd210>"
      ]
     },
     "execution_count": 43,
     "metadata": {},
     "output_type": "execute_result"
    },
    {
     "data": {
      "image/png": "[encoded data removed]",
      "text/plain": [
       "<Figure size 648x360 with 1 Axes>"
      ]
     },
     "metadata": {
      "needs_background": "light"
     },
     "output_type": "display_data"
    }
   ],
   "source": [
    "plt.rcParams[\"figure.figsize\"] = [9, 5]\n",
    "x = np.linspace(0, 1, 100)\n",
    "for param in params:\n",
    "    y = 1 - (1 - (x)**param[1])**param[0]\n",
    "    plt.plot(x, y, label = 'L = %d, r = %d' %param)\n",
    "plt.xlabel(\"similarity values\", fontsize = 12)\n",
    "plt.ylabel(\"hash probability in at least 1 bucket\", fontsize = 12)\n",
    "plt.title('Probability-similarity relation', fontsize = 18)\n",
    "plt.legend()"
   ]
  },
  {
   "cell_type": "code",
   "execution_count": 44,
   "id": "b931100a-06bb-4748-80a8-e09f31905b2a",
   "metadata": {},
   "outputs": [],
   "source": [
    "df_probLSH = mean_prob_hashing_smallest_elt(n_stacks, params, hash_vectors_hamming, b, df_measures, 'Moroo', trace = False)"
   ]
  },
  {
   "cell_type": "code",
   "execution_count": 45,
   "id": "98685548-ab7a-4bb4-a39c-61f448d1c42b",
   "metadata": {},
   "outputs": [
    {
     "data": {
      "image/png": "[encoded data removed]",
      "text/plain": [
       "<Figure size 432x288 with 1 Axes>"
      ]
     },
     "metadata": {
      "needs_background": "light"
     },
     "output_type": "display_data"
    }
   ],
   "source": [
    "f, ax = plt.subplots(figsize=(6, 4))\n",
    "ax = sns.boxplot(data = df_probLSH, palette=\"Set3\")\n",
    "plt.xlabel(\"Hyperparameters of LSH (L,K)\", fontsize = 12)\n",
    "plt.ylabel(\"Prob hashing smallest elt in buckets\", fontsize = 12)\n",
    "plt.title('Moroo (DeepLSH) [Relation Prob-Sim]', fontsize = 16)\n",
    "plt.savefig('Results/DeepLSH/Moroo-Relation-Prob-Sim', bbox_inches='tight')\n",
    "plt.show()"
   ]
  },
  {
   "cell_type": "code",
   "execution_count": 46,
   "id": "0e85f833-8a8c-4fe7-803d-52c4a8d78194",
   "metadata": {},
   "outputs": [
    {
     "data": {
      "text/plain": [
       "(8, 8)"
      ]
     },
     "execution_count": 46,
     "metadata": {},
     "output_type": "execute_result"
    }
   ],
   "source": [
    "'L = K = 8'\n",
    "L, K = params[3]\n",
    "L, K"
   ]
  },
  {
   "cell_type": "markdown",
   "id": "dc0d84af-ec41-43dc-b1cd-73e92cd96894",
   "metadata": {},
   "source": [
    "### 4.1.1. Mean and Median probability for all stack traces for a the best combination of $K$ and $L$"
   ]
  },
  {
   "cell_type": "code",
   "execution_count": 49,
   "id": "3a414e49-3f64-4aa0-b2aa-c7d12490eb15",
   "metadata": {},
   "outputs": [
    {
     "data": {
      "text/plain": [
       "0.5582680512106771"
      ]
     },
     "execution_count": 49,
     "metadata": {},
     "output_type": "execute_result"
    }
   ],
   "source": [
    "df_probLSH.mean()['(8, 8)']"
   ]
  },
  {
   "cell_type": "markdown",
   "id": "6ebdb37a-a88b-46f1-8a22-1c0f872f6cd6",
   "metadata": {},
   "source": [
    "## 4.2. Build hash tables with binary hash vectors w.r.t $K$ and $L$"
   ]
  },
  {
   "cell_type": "code",
   "execution_count": 51,
   "id": "fb84b5ab-519b-4dd1-bb5e-5ced695bf3a4",
   "metadata": {},
   "outputs": [],
   "source": [
    "hash_tables = create_hash_tables(L, K, b, hash_vectors_hamming)"
   ]
  },
  {
   "cell_type": "code",
   "execution_count": 52,
   "id": "990e3198-6b1b-44a3-bac0-a5f66a91e4eb",
   "metadata": {},
   "outputs": [],
   "source": [
    "with open('Hash-Tables/hash_tables_deeplsh.pkl', 'wb') as f:\n",
    "    pickle.dump(hash_tables, f)"
   ]
  },
  {
   "cell_type": "markdown",
   "id": "70f264b8-e59e-4995-b416-f8966cfc4d8f",
   "metadata": {},
   "source": [
    "## 4.3. Search for approximate nearest neighbors (this procedure need to be explained in the paper) "
   ]
  },
  {
   "cell_type": "code",
   "execution_count": 53,
   "id": "46bdb33d-c680-4242-919e-cd2dfd73e353",
   "metadata": {},
   "outputs": [
    {
     "data": {
      "text/plain": [
       "856"
      ]
     },
     "execution_count": 53,
     "metadata": {},
     "output_type": "execute_result"
    }
   ],
   "source": [
    "'pointer to the stack trace'\n",
    "index = random.randint(0,n_stacks)\n",
    "index"
   ]
  },
  {
   "cell_type": "code",
   "execution_count": 54,
   "id": "ce6258ad-9458-4e9b-867a-d3b4fc675966",
   "metadata": {},
   "outputs": [
    {
     "data": {
      "text/plain": [
       "{31, 240, 396, 416, 706, 856}"
      ]
     },
     "execution_count": 54,
     "metadata": {},
     "output_type": "execute_result"
    }
   ],
   "source": [
    "set_near_duplicates = near_duplicates(L, K, b, index, hash_vectors_hamming, hash_tables)\n",
    "set_near_duplicates"
   ]
  },
  {
   "cell_type": "code",
   "execution_count": 55,
   "id": "d3c836e7-fc34-47cd-9889-f76db2bc71a2",
   "metadata": {},
   "outputs": [],
   "source": [
    "list_near_duplicate_pairs = near_duplicate_pairs(index, set_near_duplicates, n_stacks)\n",
    "n_duplicate_pairs = len(list_near_duplicate_pairs)"
   ]
  },
  {
   "cell_type": "code",
   "execution_count": 56,
   "id": "561cd65b-4aa5-4f8c-b4a2-423baa352721",
   "metadata": {},
   "outputs": [
    {
     "data": {
      "text/plain": [
       "317853    0.859419\n",
       "329703    0.762973\n",
       "456578    0.762973\n",
       "211695    0.762973\n",
       "31328     0.762973\n",
       "Name: Moroo, dtype: float64"
      ]
     },
     "execution_count": 56,
     "metadata": {},
     "output_type": "execute_result"
    }
   ],
   "source": [
    "near_duplicates_sim = df_measures['Moroo'][list_near_duplicate_pairs].sort_values(ascending = False)\n",
    "near_duplicates_sim"
   ]
  },
  {
   "cell_type": "code",
   "execution_count": 57,
   "id": "6510bce7-6663-4db3-8455-0b846720c6f1",
   "metadata": {
    "tags": []
   },
   "outputs": [
    {
     "data": {
      "text/plain": [
       "{31, 174, 396, 416, 706}"
      ]
     },
     "execution_count": 57,
     "metadata": {},
     "output_type": "execute_result"
    }
   ],
   "source": [
    "set_real_nns, real_nns_sim = real_nns(index, df_measures, 'Moroo', n_stacks, n_duplicate_pairs)\n",
    "set_real_nns"
   ]
  },
  {
   "cell_type": "code",
   "execution_count": 58,
   "id": "0c2d9881-6df4-463f-9dd1-7d02a9fd1347",
   "metadata": {},
   "outputs": [
    {
     "data": {
      "text/plain": [
       "317853    0.859419\n",
       "159456    0.762973\n",
       "456578    0.762973\n",
       "31328     0.762973\n",
       "329703    0.762973\n",
       "dtype: float64"
      ]
     },
     "execution_count": 58,
     "metadata": {},
     "output_type": "execute_result"
    }
   ],
   "source": [
    "real_nns_sim[:n_duplicate_pairs]"
   ]
  },
  {
   "cell_type": "markdown",
   "id": "47aa72d7-020e-4a46-9f1c-f95ea57c3a2b",
   "metadata": {},
   "source": [
    "## 4.4. Metrics"
   ]
  },
  {
   "cell_type": "markdown",
   "id": "108a4d18-597e-4a51-9f51-940a80fd0be8",
   "metadata": {},
   "source": [
    "### 4.4.1. Ratio of finding the $k$ real nearest neighbor with the Least $L$ (Recal rate at $k$ first positions)"
   ]
  },
  {
   "cell_type": "code",
   "execution_count": 59,
   "id": "55ad1f38-83e2-4e55-8483-c7971ede8ec2",
   "metadata": {},
   "outputs": [
    {
     "data": {
      "text/plain": [
       "0.806"
      ]
     },
     "execution_count": 59,
     "metadata": {},
     "output_type": "execute_result"
    }
   ],
   "source": [
    "'All params'\n",
    "k_first_positions = 1\n",
    "recal_rate(n_stacks, params, hash_vectors_hamming, b, df_measures, k_first_positions, 'Moroo')"
   ]
  },
  {
   "cell_type": "code",
   "execution_count": 60,
   "id": "7424b84d-1066-4e2c-a6ec-4c67d448440c",
   "metadata": {},
   "outputs": [
    {
     "data": {
      "text/plain": [
       "0.9515072083879423"
      ]
     },
     "execution_count": 60,
     "metadata": {},
     "output_type": "execute_result"
    }
   ],
   "source": [
    "'Best param'\n",
    "k_first_positions = 1\n",
    "recal_rate_one_param(n_stacks, params[3], hash_vectors_hamming, b, df_measures, k_first_positions, 'Moroo')"
   ]
  },
  {
   "cell_type": "markdown",
   "id": "b20f2315-986c-4bc2-89dc-9dd1757a8c78",
   "metadata": {},
   "source": [
    "-----------------------------------------------------------------"
   ]
  },
  {
   "cell_type": "code",
   "execution_count": 61,
   "id": "aa6e30e1-37f9-45cc-8356-2df3ce14f4c1",
   "metadata": {},
   "outputs": [
    {
     "data": {
      "text/plain": [
       "0.8626666666666658"
      ]
     },
     "execution_count": 61,
     "metadata": {},
     "output_type": "execute_result"
    }
   ],
   "source": [
    "'All params'\n",
    "k_first_positions = 3\n",
    "recal_rate(n_stacks, params, hash_vectors_hamming, b, df_measures, k_first_positions, 'Moroo')"
   ]
  },
  {
   "cell_type": "code",
   "execution_count": 62,
   "id": "d85c52a9-2948-44cd-94d8-62c40b7b8b8c",
   "metadata": {},
   "outputs": [
    {
     "data": {
      "text/plain": [
       "0.9432234432234439"
      ]
     },
     "execution_count": 62,
     "metadata": {},
     "output_type": "execute_result"
    }
   ],
   "source": [
    "'Best param'\n",
    "k_first_positions = 3\n",
    "recal_rate_one_param(n_stacks, params[3], hash_vectors_hamming, b, df_measures, k_first_positions, 'Moroo')"
   ]
  },
  {
   "cell_type": "markdown",
   "id": "de7a74bc-5737-406e-b30e-d09834d1d6c5",
   "metadata": {},
   "source": [
    "-----------------------------------------------------------------"
   ]
  },
  {
   "cell_type": "code",
   "execution_count": 63,
   "id": "f3c6cd88-f248-41f1-8eac-74f36dcbd2cc",
   "metadata": {},
   "outputs": [
    {
     "data": {
      "text/plain": [
       "0.8999999999999989"
      ]
     },
     "execution_count": 63,
     "metadata": {},
     "output_type": "execute_result"
    }
   ],
   "source": [
    "'All params'\n",
    "k_first_positions = 5\n",
    "recal_rate(n_stacks, params, hash_vectors_hamming, b, df_measures, k_first_positions, 'Moroo')"
   ]
  },
  {
   "cell_type": "code",
   "execution_count": 64,
   "id": "cd421b6d-9527-41f4-80c4-bd20572a75b9",
   "metadata": {},
   "outputs": [
    {
     "data": {
      "text/plain": [
       "0.930521091811415"
      ]
     },
     "execution_count": 64,
     "metadata": {},
     "output_type": "execute_result"
    }
   ],
   "source": [
    "'Best param'\n",
    "k_first_positions = 5\n",
    "recal_rate_one_param(n_stacks, params[3], hash_vectors_hamming, b, df_measures, k_first_positions, 'Moroo')"
   ]
  },
  {
   "cell_type": "markdown",
   "id": "78b9f9fc-d7c0-46a0-afc0-9d6295866fbf",
   "metadata": {},
   "source": [
    "### 4.4.2. Generalized MRR"
   ]
  },
  {
   "cell_type": "markdown",
   "id": "81af2e1e-b878-4f18-95b7-4b4d35b5cb3f",
   "metadata": {},
   "source": [
    "$ \\frac{1}{|\\mathcal{R}_i|} \\sum_{s' \\in \\mathcal{R}_i} \\frac{\\text{rank}(s',\\mathcal{R}_i)}{\\text{rank}(s',NNs(s_i))}$"
   ]
  },
  {
   "cell_type": "code",
   "execution_count": 65,
   "id": "8d572df0-2963-4794-b603-a642a1c3422f",
   "metadata": {
    "tags": []
   },
   "outputs": [
    {
     "data": {
      "text/plain": [
       "1.0"
      ]
     },
     "execution_count": 65,
     "metadata": {},
     "output_type": "execute_result"
    }
   ],
   "source": [
    "generalized_mrr(near_duplicates_sim, real_nns_sim)"
   ]
  },
  {
   "cell_type": "code",
   "execution_count": 66,
   "id": "20822989-304f-4ebf-b661-355b72deb819",
   "metadata": {
    "tags": []
   },
   "outputs": [
    {
     "name": "stdout",
     "output_type": "stream",
     "text": [
      "(8, 8)\n",
      "0\n",
      "100\n",
      "200\n",
      "300\n",
      "400\n",
      "500\n",
      "600\n",
      "700\n",
      "800\n",
      "900\n",
      "-----------------------------\n"
     ]
    },
    {
     "data": {
      "text/plain": [
       "(8, 8)    0.9327\n",
       "dtype: float64"
      ]
     },
     "execution_count": 66,
     "metadata": {},
     "output_type": "execute_result"
    }
   ],
   "source": [
    "df_knns = mean_generalized_mrr(n_stacks, params[3:4], hash_vectors_hamming, b, df_measures ,'Moroo', trace = True)\n",
    "df_knns.mean(skipna = True, axis = 0)"
   ]
  },
  {
   "cell_type": "code",
   "execution_count": 67,
   "id": "8cdd4039-1cc9-40d8-b096-84771b011940",
   "metadata": {},
   "outputs": [
    {
     "data": {
      "text/plain": [
       "0.9327004085375898"
      ]
     },
     "execution_count": 67,
     "metadata": {},
     "output_type": "execute_result"
    }
   ],
   "source": [
    "df_knns.mean()['(8, 8)']"
   ]
  },
  {
   "cell_type": "markdown",
   "id": "fc6c716f-648c-4e34-8278-4c09c11c3733",
   "metadata": {},
   "source": [
    "### 4.4.3. Recall w.r.t. LSH"
   ]
  },
  {
   "cell_type": "code",
   "execution_count": 68,
   "id": "a0ff2346-b2e6-4ff5-92ca-d47ded8bb7d3",
   "metadata": {},
   "outputs": [
    {
     "data": {
      "text/plain": [
       "(1, 64)    0.201389\n",
       "(2, 32)    0.405748\n",
       "(4, 16)    0.613325\n",
       "(8, 8)     0.690556\n",
       "(16, 4)    0.822415\n",
       "(32, 2)    0.820011\n",
       "(64, 1)    0.977172\n",
       "dtype: float64"
      ]
     },
     "execution_count": 68,
     "metadata": {},
     "output_type": "execute_result"
    }
   ],
   "source": [
    "df_recall = recall_all(n_stacks, params, hash_vectors_hamming, b, df_measures ,'Moroo', trace = False)\n",
    "df_recall.mean(skipna = True)"
   ]
  },
  {
   "cell_type": "code",
   "execution_count": 69,
   "id": "17381003-fdb1-40b0-9a39-b2477a8ace71",
   "metadata": {},
   "outputs": [
    {
     "data": {
      "image/png": "[encoded data removed]",
      "text/plain": [
       "<Figure size 324x288 with 1 Axes>"
      ]
     },
     "metadata": {
      "needs_background": "light"
     },
     "output_type": "display_data"
    }
   ],
   "source": [
    "f, ax = plt.subplots(figsize=(4.5, 4))\n",
    "ax = sns.boxplot(data = df_recall, palette=\"Set3\")\n",
    "plt.xlabel(\"Hyperparameters of LSH (L,K)\", fontsize = 13)\n",
    "plt.ylabel(\"Recall w.r.t. LSH guarantees\", fontsize = 13)\n",
    "plt.title('Moroo DeepLSH', fontsize = 16)\n",
    "plt.savefig('Results/DeepLSH/Recall-LSH', bbox_inches='tight')\n",
    "plt.show()"
   ]
  },
  {
   "cell_type": "markdown",
   "id": "c8254813-f285-437d-b1ae-00f26bea0461",
   "metadata": {},
   "source": [
    "### 4.4.4. Precison w.r.t. LSH"
   ]
  },
  {
   "cell_type": "code",
   "execution_count": 70,
   "id": "dd60a827-abe0-4eea-a913-c4cadffd6788",
   "metadata": {},
   "outputs": [
    {
     "data": {
      "text/plain": [
       "(1, 64)    0.236364\n",
       "(2, 32)    0.403017\n",
       "(4, 16)    0.564593\n",
       "(8, 8)     0.833643\n",
       "(16, 4)    0.766075\n",
       "(32, 2)    0.577164\n",
       "(64, 1)    0.924896\n",
       "dtype: float64"
      ]
     },
     "execution_count": 70,
     "metadata": {},
     "output_type": "execute_result"
    }
   ],
   "source": [
    "df_precision = precision_all(n_stacks, params, hash_vectors_hamming, b, df_measures ,'Moroo', trace = False)\n",
    "df_precision.mean(skipna = True, axis = 0)"
   ]
  },
  {
   "cell_type": "code",
   "execution_count": 71,
   "id": "649ae747-d3f6-4c9c-986c-dd354ed5b7fc",
   "metadata": {},
   "outputs": [
    {
     "data": {
      "image/png": "[encoded data removed]",
      "text/plain": [
       "<Figure size 324x288 with 1 Axes>"
      ]
     },
     "metadata": {
      "needs_background": "light"
     },
     "output_type": "display_data"
    }
   ],
   "source": [
    "f, ax = plt.subplots(figsize=(4.5, 4))\n",
    "ax = sns.boxplot(data = df_precision, palette=\"Set3\")\n",
    "plt.xlabel(\"Hyperparameters of LSH (L,K)\", fontsize = 13)\n",
    "plt.ylabel(\"Precision w.r.t. LSH guarantees\", fontsize = 13)\n",
    "plt.title('Moroo DeepLSH', fontsize = 16)\n",
    "plt.savefig('Results/DeepLSH/precision-LSH', bbox_inches='tight')\n",
    "plt.show()"
   ]
  },
  {
   "cell_type": "markdown",
   "id": "e2f093eb-9f1c-4465-be20-041461ae1088",
   "metadata": {},
   "source": [
    "### 4.4.5. Fscore w.r.t. LSH"
   ]
  },
  {
   "cell_type": "code",
   "execution_count": 72,
   "id": "45d23cd6-c9d5-4268-91da-8417231c9889",
   "metadata": {},
   "outputs": [
    {
     "data": {
      "text/plain": [
       "(1, 64)    0.120120\n",
       "(2, 32)    0.271577\n",
       "(4, 16)    0.449356\n",
       "(8, 8)     0.652772\n",
       "(16, 4)    0.736663\n",
       "(32, 2)    0.619318\n",
       "(64, 1)    0.942616\n",
       "dtype: float64"
      ]
     },
     "execution_count": 72,
     "metadata": {},
     "output_type": "execute_result"
    }
   ],
   "source": [
    "df_score_all = fscore_all(df_precision, df_recall)\n",
    "df_score_all.mean(skipna = True)"
   ]
  },
  {
   "cell_type": "code",
   "execution_count": 73,
   "id": "2f820556-f783-486b-80d7-f7f9c8dc8d4f",
   "metadata": {},
   "outputs": [
    {
     "data": {
      "image/png": "[encoded data removed]",
      "text/plain": [
       "<Figure size 324x288 with 1 Axes>"
      ]
     },
     "metadata": {
      "needs_background": "light"
     },
     "output_type": "display_data"
    }
   ],
   "source": [
    "f, ax = plt.subplots(figsize=(4.5, 4))\n",
    "ax = sns.boxplot(data = df_score_all, palette=\"Set3\")\n",
    "plt.xlabel(\"Hyperparameters of LSH (L,K)\", fontsize = 13)\n",
    "plt.ylabel(\"F1-score w.r.t. LSH guarantees\", fontsize = 13)\n",
    "plt.title('Moroo DeepLSH', fontsize = 16)\n",
    "plt.savefig('Results/DeepLSH/fscore-LSH', bbox_inches='tight')\n",
    "plt.show()"
   ]
  }
 ],
 "metadata": {
  "kernelspec": {
   "display_name": "split-sd4x",
   "language": "python",
   "name": "split-sd4x"
  },
  "language_info": {
   "codemirror_mode": {
    "name": "ipython",
    "version": 3
   },
   "file_extension": ".py",
   "mimetype": "text/x-python",
   "name": "python",
   "nbconvert_exporter": "python",
   "pygments_lexer": "ipython3",
   "version": "3.7.10"
  }
 },
 "nbformat": 4,
 "nbformat_minor": 5
}
